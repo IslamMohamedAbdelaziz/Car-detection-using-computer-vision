{
 "cells": [
  {
   "cell_type": "markdown",
   "id": "0ca9483f",
   "metadata": {},
   "source": [
    "# Read the dataset "
   ]
  },
  {
   "cell_type": "code",
   "execution_count": 2,
   "id": "86605bc2",
   "metadata": {},
   "outputs": [],
   "source": [
    "import numpy as np\n",
    "import os\n",
    "import cv2\n",
    "import PIL\n",
    "import PIL.Image\n",
    "import pathlib\n",
    "import tensorflow as tf\n",
    "import tensorflow_datasets as tfds\n",
    "import matplotlib.pyplot as plt\n",
    "from skimage.feature import hog\n",
    "\n",
    "cwd = os.getcwd()\n",
    "dataset_root_url = cwd + \"\\Data\"\n",
    "IMG_WIDTH=64  #**************************************hyperparameter\n",
    "IMG_HEIGHT=64\n",
    "img_data_array=[]\n",
    "class_name=[]\n",
    "\n",
    "# define parameters of HOG feature extraction\n",
    "orientations = 9\n",
    "pixels_per_cell = (8, 8)      #**************************************hyperparameter\n",
    "cells_per_block = (2, 2)\n",
    "\n",
    "\n",
    "\n",
    "def read_dataset(dataset_root_url):\n",
    "    for dir_level_1 in os.listdir(dataset_root_url):    #['vehicles', 'non-vehicles']\n",
    "        for dir_level_2 in os.listdir(os.path.join(dataset_root_url, dir_level_1)):   #['.DS_Store', 'GTI_Far', 'GTI_Left', 'GTI_MiddleClose', 'GTI_Right', 'KITTI_extracted']\n",
    "            if (dir_level_2 != '.DS_Store'):\n",
    "                for file in os.listdir(os.path.join(dataset_root_url, dir_level_1,dir_level_2)):\n",
    "                    if(file.lower().endswith(('.png', '.jpg', '.jpeg'))):\n",
    "                        image_path= os.path.join(dataset_root_url, dir_level_1,dir_level_2, file)\n",
    "                        image= cv2.imread( image_path, cv2.COLOR_BGR2RGB)\n",
    "                        image= cv2.cvtColor(image, cv2.COLOR_RGB2GRAY)\n",
    "                        image=cv2.resize(image, (IMG_HEIGHT, IMG_WIDTH),interpolation = cv2.INTER_AREA)\n",
    "                        \n",
    "                        image = hog(image, orientations, pixels_per_cell, cells_per_block, block_norm='L2', feature_vector=True)# fd= feature descriptor\n",
    "                        \n",
    "       \n",
    "                        image=np.array(image) \n",
    "                        image = image.astype('float32')   \n",
    "                        img_data_array.append(image)\n",
    "                        class_name.append(dir_level_1)\n",
    "    return img_data_array, class_name\n",
    " \n",
    "image_data, class_name = read_dataset(dataset_root_url)  \n",
    "#print(class_name[0])\n"
   ]
  },
  {
   "cell_type": "markdown",
   "id": "997b8156",
   "metadata": {},
   "source": [
    "# Create the model"
   ]
  },
  {
   "cell_type": "code",
   "execution_count": 3,
   "id": "a10ffeb8",
   "metadata": {},
   "outputs": [
    {
     "name": "stdout",
     "output_type": "stream",
     "text": [
      "True Positive(TP)  =  1702\n",
      "False Positive(FP) =  79\n",
      "True Negative(TN)  =  1675\n",
      "False Negative(FN) =  96\n",
      "Accuracy of the binary classification = 0.951\n"
     ]
    },
    {
     "name": "stderr",
     "output_type": "stream",
     "text": [
      "C:\\Users\\Islam\\anaconda3\\lib\\site-packages\\sklearn\\svm\\_base.py:985: ConvergenceWarning: Liblinear failed to converge, increase the number of iterations.\n",
      "  warnings.warn(\"Liblinear failed to converge, increase \"\n"
     ]
    },
    {
     "data": {
      "text/plain": [
       "['LinearSVC.npy']"
      ]
     },
     "execution_count": 3,
     "metadata": {},
     "output_type": "execute_result"
    }
   ],
   "source": [
    "from sklearn.model_selection import train_test_split\n",
    "from sklearn.linear_model import LogisticRegression \n",
    "from sklearn.svm  import LinearSVC \n",
    "from sklearn.preprocessing import StandardScaler\n",
    "import sklearn.externals as extjoblib\n",
    "import joblib\n",
    "\n",
    "image_data = StandardScaler(with_mean=0, with_std=1).fit_transform(image_data)\n",
    "img_data_train, img_data_test, class_name_train, class_name_test = train_test_split(image_data, class_name , test_size=0.2, random_state=0)\n",
    "\n",
    "#model = LogisticRegression() #********************************************\n",
    "model = LinearSVC()\n",
    "\n",
    "model.fit(img_data_train, class_name_train)\n",
    "\n",
    "predictions = model.predict(img_data_test)\n",
    "from sklearn.metrics import confusion_matrix\n",
    "\n",
    "\n",
    "\n",
    "TN, FP, FN, TP = confusion_matrix(class_name_test, predictions).ravel()\n",
    "\n",
    "print('True Positive(TP)  = ', TP)\n",
    "print('False Positive(FP) = ', FP)\n",
    "print('True Negative(TN)  = ', TN)\n",
    "print('False Negative(FN) = ', FN)\n",
    "\n",
    "accuracy =  (TP+TN) /(TP+FP+TN+FN)\n",
    "\n",
    "print('Accuracy of the binary classification = {:0.3f}'.format(accuracy))\n",
    "\n",
    "\n",
    "# Save the Model\n",
    "joblib.dump(model, 'LinearSVC.npy')\n"
   ]
  }
 ],
 "metadata": {
  "kernelspec": {
   "display_name": "Python 3",
   "language": "python",
   "name": "python3"
  },
  "language_info": {
   "codemirror_mode": {
    "name": "ipython",
    "version": 3
   },
   "file_extension": ".py",
   "mimetype": "text/x-python",
   "name": "python",
   "nbconvert_exporter": "python",
   "pygments_lexer": "ipython3",
   "version": "3.8.8"
  }
 },
 "nbformat": 4,
 "nbformat_minor": 5
}
