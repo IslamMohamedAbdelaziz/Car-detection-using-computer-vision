{
 "cells": [
  {
   "cell_type": "markdown",
   "id": "87fd53b5",
   "metadata": {},
   "source": [
    "# Load the model"
   ]
  },
  {
   "cell_type": "code",
   "execution_count": 57,
   "id": "81267ce8",
   "metadata": {},
   "outputs": [
    {
     "name": "stdout",
     "output_type": "stream",
     "text": [
      "LinearSVC()\n"
     ]
    }
   ],
   "source": [
    "import sklearn.externals as extjoblib\n",
    "import joblib\n",
    "\n",
    "# Upload the saved svm model:\n",
    "model = joblib.load('LinearSVC.npy')\n",
    "print(model)"
   ]
  },
  {
   "cell_type": "code",
   "execution_count": 58,
   "id": "b1911172",
   "metadata": {},
   "outputs": [],
   "source": [
    "\n",
    "def image_resize(image, width = None, height = None, inter = cv2.INTER_AREA):\n",
    "    # initialize the dimensions of the image to be resized and\n",
    "    # grab the image size\n",
    "    dim = None\n",
    "    (h, w) = image.shape[:2]\n",
    "\n",
    "    # if both the width and height are None, then return the\n",
    "    # original image\n",
    "    if width is None and height is None:\n",
    "        return image\n",
    "\n",
    "    # check to see if the width is None\n",
    "    if width is None:\n",
    "        # calculate the ratio of the height and construct the\n",
    "        # dimensions\n",
    "        r = height / float(h)\n",
    "        dim = (int(w * r), height)\n",
    "\n",
    "    # otherwise, the height is None\n",
    "    else:\n",
    "        # calculate the ratio of the width and construct the\n",
    "        # dimensions\n",
    "        r = width / float(w)\n",
    "        dim = (width, int(h * r))\n",
    "\n",
    "    # resize the image\n",
    "    resized = cv2.resize(image, dim, interpolation = inter)\n",
    "\n",
    "    # return the resized image\n",
    "    return resized"
   ]
  },
  {
   "cell_type": "code",
   "execution_count": 61,
   "id": "ebc4dd17",
   "metadata": {
    "scrolled": true
   },
   "outputs": [],
   "source": [
    "\n",
    "\n",
    "from skimage.feature import hog\n",
    "from skimage.transform import pyramid_gaussian\n",
    "from skimage import color\n",
    "import matplotlib.pyplot as plt\n",
    "from imutils.object_detection import non_max_suppression\n",
    "import imutils\n",
    "import numpy as np\n",
    "import cv2\n",
    "import os\n",
    "import glob\n",
    "from skimage import exposure\n",
    "from sklearn.preprocessing import StandardScaler\n",
    "\n",
    "\n",
    "#Define HOG Parameters\n",
    "# change them if necessary to orientations = 8, pixels per cell = (16,16), cells per block to (1,1) for weaker HOG\n",
    "orientations = 9 \n",
    "pixels_per_cell = (8, 8)\n",
    "cells_per_block =(2, 2)\n",
    "threshold = .3\n",
    "\n",
    "# define the sliding window:\n",
    "def sliding_window(image, stepSize, windowSize):# image is the input, step size is the no.of pixels needed to skip and windowSize is the size of the actual window\n",
    "    # slide a window across the image\n",
    "    for y in range(0, image.shape[0], stepSize):# this line and the line below actually defines the sliding part and loops over the x and y coordinates\n",
    "        for x in range(0, image.shape[1], stepSize):\n",
    "            # yield the current window\n",
    "            yield (x, y, image[y: y + windowSize[1], x:x + windowSize[0]])\n",
    "#%%\n",
    "# Upload the saved svm model:\n",
    "#model = joblib.load('Inser\\Path\\of_the_trained\\SVM-model\\here')\n",
    "\n",
    "# Test the trained classifier on an image below!\n",
    "def process_image(img):\n",
    "   # image = china[150:220, 130:250]\n",
    "#     img = StandardScaler(with_mean=0, with_std=1).fit_transform(img)\n",
    "    #img = img / 255.0\n",
    "    scale = 0\n",
    "    detections = []\n",
    "    # read the image you want to detect the object in:\n",
    "    #img= cv2.imread(\"image0068.png\")\n",
    "    #img= cv2.imread(\"car_.png\")\n",
    "    #img= cv2.imread(\"straight_lines1.jpg\")\n",
    "    #img= cv2.imread(\"test1.jpg\")\n",
    "    #img=image_resize(img, width = int(img.shape[1]*0.4), height = int(img.shape[0]*0.4))\n",
    "\n",
    "    # img= imutils.resize(img, width=int(img.shape[1]*0.15),height=int(img.shape[0]*0.15))\n",
    "    img= imutils.resize(img, width=600,height=600) \n",
    "    # Try it with image resized if the image is too big  #**************************(32,32)\n",
    "    #img= cv2.resize(64,64) # can change the size to default by commenting this code out our put in a random number\n",
    "\n",
    "    # defining the size of the sliding window (has to be, same as the size of the image in the training data)\n",
    "    (winW, winH)= (64,64)   #**************************(32,32)\n",
    "    windowSize=(winW,winH)\n",
    "    downscale=1.85\n",
    "    # Apply sliding window:\n",
    "    for resized in pyramid_gaussian(img, downscale=1.85): # loop over each layer of the image that you take!\n",
    "        # loop over the sliding window for each layer of the pyramid\n",
    "#         if(scale==0):\n",
    "#             scale +=1\n",
    "#             continue\n",
    "        for (x,y,window) in sliding_window(resized, stepSize=6, windowSize=(winW,winH)):\n",
    "            # if the window does not meet our desired window size, ignore it!\n",
    "\n",
    "            if window.shape[0] < winH or window.shape[1] < winW: # ensure the sliding window has met the minimum size requirement\n",
    "                continue\n",
    "                \n",
    "            if (y < resized.shape[0] / 1.9) or (x  < resized.shape[1] / 2) :\n",
    "                continue\n",
    "                \n",
    "            #window=color.rgb2gray(window)\n",
    "\n",
    "            fds = hog(window, orientations, pixels_per_cell, cells_per_block, block_norm='L2')  # extract HOG features from the window captured      \n",
    "            fds = fds.reshape(1, -1) # re shape the image to make a silouhette of hog\n",
    "\n",
    "            hog_image_rescaled = exposure.rescale_intensity(fds, in_range=(0, 0.02))\n",
    "            pred = model.predict(fds) # use the SVM model to make a prediction on the HOG features extracted from the window\n",
    "            \n",
    "           # window=color.gray2rgb(window)\n",
    "            if pred == 'vehicles':\n",
    "#                 print(pred)\n",
    "#                 print(model.decision_function(fds))\n",
    "                if model.decision_function(fds) > 0.5 :  # set a threshold value for the SVM prediction i.e. only firm the predictions above probability of 0.6\n",
    "#                     print(\"Detection:: Location -> ({}, {})\".format(x, y))\n",
    "                    print(\"Scale ->  {} | Confidence Score {} \\n\".format(scale,model.decision_function(fds)))\n",
    "\n",
    "                    detections.append((int(x * (downscale**scale)), int(y * (downscale**scale)), model.decision_function(fds),\n",
    "                                       int(windowSize[0]*(downscale**scale)), # create a list of all the predictions found\n",
    "                                          int(windowSize[1]*(downscale**scale))))\n",
    "        scale+=1\n",
    "        if(scale==1):\n",
    "            break\n",
    "\n",
    "    clone = resized.copy()\n",
    "#     for (x_tl, y_tl, _, w, h) in detections:\n",
    "#         print(\"edffffffffd\")\n",
    "#         cv2.rectangle(img, (x_tl, y_tl), (x_tl + w, y_tl + h), (0, 0, 255), thickness = 1)\n",
    "    rects = np.array([[x, y, x + w, y + h] for (x, y, _, w, h) in detections]) # do nms on the detected bounding boxes\n",
    "    sc = [score[0] for (x, y, score, w, h) in detections]\n",
    "#     print(\"detection confidence score: \", sc)\n",
    "    sc = np.array(sc)\n",
    "    pick = non_max_suppression(rects, probs = sc, overlapThresh = 0.3)\n",
    "\n",
    "    # the peice of code above creates a raw bounding box prior to using NMS\n",
    "    # the code below creates a bounding box after using nms on the detections\n",
    "    # you can choose which one you want to visualise, as you deem fit... simply use the following function:\n",
    "    # cv2.imshow in this right place (since python is procedural it will go through the code line by line).\n",
    "\n",
    "    for (xA, yA, xB, yB) in pick:\n",
    "        cv2.rectangle(img, (xA, yA), (xB, yB), (0,255,0), 2)\n",
    "    #cv2.imshow(\"Raw Detections after NMS\", img)\n",
    "   # img= cv2.cvtColor(img, cv2.COLOR_BGR2RGB)\n",
    "#     plt.imshow(img)\n",
    "#     plt.show()\n",
    "    print('okkkk')\n",
    "    return img\n",
    "\n",
    "    #### Save the images below\n",
    "    # k = cv2.waitKey(0) & 0xFF \n",
    "    # if k == 27:             #wait for ESC key to exit\n",
    "    #     cv2.destroyAllWindows()\n",
    "    # elif k == ord('s'):\n",
    "    #     cv2.imwrite('Path\\to_the_directory\\of_saved_image.png',img)\n",
    "    #     cv2.destroyAllWindows()\n",
    "    \n",
    "# img= cv2.imread(\"test1.jpg\")\n",
    "# process_image(img)    \n",
    "   "
   ]
  },
  {
   "cell_type": "code",
   "execution_count": 62,
   "id": "43fc10de",
   "metadata": {},
   "outputs": [
    {
     "name": "stdout",
     "output_type": "stream",
     "text": [
      "Scale ->  0 | Confidence Score [0.88114451] \n",
      "\n",
      "Scale ->  0 | Confidence Score [0.54267977] \n",
      "\n",
      "Scale ->  0 | Confidence Score [0.59652284] \n",
      "\n",
      "Scale ->  0 | Confidence Score [0.69572572] \n",
      "\n"
     ]
    },
    {
     "name": "stderr",
     "output_type": "stream",
     "text": [
      "                                                                                                                       \n",
      "\u001b[A                                                                                                                    \n",
      "\n",
      "\n",
      "t:   1%|▋                                                              | 13/1260 [2:55:41<6:12:39, 17.93s/it, now=None]\n",
      "t:   0%|▏                                                               | 4/1260 [2:39:58<1:43:03,  4.92s/it, now=None]\u001b[A\n",
      "\n",
      "\n",
      "                                                                                                                       \u001b[A\u001b[A\u001b[A\n",
      "\u001b[A                                                                                                                    \n",
      "\n",
      "\n",
      "t:   1%|▋                                                              | 13/1260 [2:55:41<6:12:39, 17.93s/it, now=None]\n",
      "t:   0%|▏                                                               | 4/1260 [2:39:58<1:43:03,  4.92s/it, now=None]\u001b[A\n",
      "\n",
      "\n",
      "t:  11%|██████▊                                                         | 134/1260 [1:54:36<41:07,  2.19s/it, now=None]\u001b[A\u001b[A\u001b[A\n",
      "\n",
      "t:   0%|                                                                             | 0/251 [00:00<?, ?it/s, now=None]\u001b[A\u001b[A"
     ]
    },
    {
     "name": "stdout",
     "output_type": "stream",
     "text": [
      "okkkk\n",
      "Moviepy - Building video result.mp4.\n",
      "Moviepy - Writing video result.mp4\n",
      "\n",
      "Scale ->  0 | Confidence Score [0.88114451] \n",
      "\n",
      "Scale ->  0 | Confidence Score [0.54267977] \n",
      "\n",
      "Scale ->  0 | Confidence Score [0.59652284] \n",
      "\n",
      "Scale ->  0 | Confidence Score [0.69572572] \n",
      "\n"
     ]
    },
    {
     "name": "stderr",
     "output_type": "stream",
     "text": [
      "\n",
      "\n",
      "t:   1%|▌                                                                    | 2/251 [00:02<05:32,  1.34s/it, now=None]\u001b[A\u001b[A"
     ]
    },
    {
     "name": "stdout",
     "output_type": "stream",
     "text": [
      "okkkk\n",
      "Scale ->  0 | Confidence Score [1.06843365] \n",
      "\n",
      "Scale ->  0 | Confidence Score [0.77490644] \n",
      "\n",
      "Scale ->  0 | Confidence Score [1.15640358] \n",
      "\n"
     ]
    },
    {
     "name": "stderr",
     "output_type": "stream",
     "text": [
      "\n",
      "\n",
      "t:   1%|▊                                                                    | 3/251 [00:05<08:24,  2.03s/it, now=None]\u001b[A\u001b[A"
     ]
    },
    {
     "name": "stdout",
     "output_type": "stream",
     "text": [
      "okkkk\n",
      "Scale ->  0 | Confidence Score [0.96113574] \n",
      "\n",
      "Scale ->  0 | Confidence Score [0.79721631] \n",
      "\n",
      "Scale ->  0 | Confidence Score [0.51237773] \n",
      "\n",
      "Scale ->  0 | Confidence Score [0.86356554] \n",
      "\n",
      "Scale ->  0 | Confidence Score [0.9275277] \n",
      "\n"
     ]
    },
    {
     "name": "stderr",
     "output_type": "stream",
     "text": [
      "\n",
      "\n",
      "t:   2%|█                                                                    | 4/251 [00:08<09:22,  2.28s/it, now=None]\u001b[A\u001b[A"
     ]
    },
    {
     "name": "stdout",
     "output_type": "stream",
     "text": [
      "okkkk\n",
      "Scale ->  0 | Confidence Score [0.98390414] \n",
      "\n",
      "Scale ->  0 | Confidence Score [0.57779518] \n",
      "\n",
      "Scale ->  0 | Confidence Score [0.92767857] \n",
      "\n",
      "Scale ->  0 | Confidence Score [0.92885677] \n",
      "\n"
     ]
    },
    {
     "name": "stderr",
     "output_type": "stream",
     "text": [
      "\n",
      "\n",
      "t:   2%|█▎                                                                   | 5/251 [00:11<09:57,  2.43s/it, now=None]\u001b[A\u001b[A"
     ]
    },
    {
     "name": "stdout",
     "output_type": "stream",
     "text": [
      "okkkk\n",
      "Scale ->  0 | Confidence Score [1.11892957] \n",
      "\n",
      "Scale ->  0 | Confidence Score [0.73129777] \n",
      "\n",
      "Scale ->  0 | Confidence Score [0.546223] \n",
      "\n",
      "Scale ->  0 | Confidence Score [1.17336502] \n",
      "\n",
      "Scale ->  0 | Confidence Score [0.94861225] \n",
      "\n",
      "Scale ->  0 | Confidence Score [0.52384732] \n",
      "\n"
     ]
    },
    {
     "name": "stderr",
     "output_type": "stream",
     "text": [
      "\n",
      "\n",
      "t:   2%|█▋                                                                   | 6/251 [00:13<10:16,  2.52s/it, now=None]\u001b[A\u001b[A"
     ]
    },
    {
     "name": "stdout",
     "output_type": "stream",
     "text": [
      "okkkk\n",
      "Scale ->  0 | Confidence Score [1.1560714] \n",
      "\n",
      "Scale ->  0 | Confidence Score [0.72709068] \n",
      "\n",
      "Scale ->  0 | Confidence Score [0.5264287] \n",
      "\n",
      "Scale ->  0 | Confidence Score [1.10085638] \n",
      "\n",
      "Scale ->  0 | Confidence Score [0.94903548] \n",
      "\n",
      "Scale ->  0 | Confidence Score [0.50358877] \n",
      "\n"
     ]
    },
    {
     "name": "stderr",
     "output_type": "stream",
     "text": [
      "\n",
      "\n",
      "t:   3%|█▉                                                                   | 7/251 [00:16<10:28,  2.58s/it, now=None]\u001b[A\u001b[A"
     ]
    },
    {
     "name": "stdout",
     "output_type": "stream",
     "text": [
      "okkkk\n",
      "Scale ->  0 | Confidence Score [0.88347839] \n",
      "\n",
      "Scale ->  0 | Confidence Score [0.74607035] \n",
      "\n",
      "Scale ->  0 | Confidence Score [1.01669662] \n",
      "\n",
      "Scale ->  0 | Confidence Score [0.78369532] \n",
      "\n"
     ]
    },
    {
     "name": "stderr",
     "output_type": "stream",
     "text": [
      "\n",
      "\n",
      "t:   3%|██▏                                                                  | 8/251 [00:19<10:35,  2.62s/it, now=None]\u001b[A\u001b[A"
     ]
    },
    {
     "name": "stdout",
     "output_type": "stream",
     "text": [
      "okkkk\n",
      "Scale ->  0 | Confidence Score [0.86446995] \n",
      "\n",
      "Scale ->  0 | Confidence Score [0.56433309] \n",
      "\n",
      "Scale ->  0 | Confidence Score [0.82209655] \n",
      "\n",
      "Scale ->  0 | Confidence Score [0.69264715] \n",
      "\n"
     ]
    },
    {
     "name": "stderr",
     "output_type": "stream",
     "text": [
      "\n",
      "\n",
      "t:   4%|██▍                                                                  | 9/251 [00:21<10:32,  2.61s/it, now=None]\u001b[A\u001b[A"
     ]
    },
    {
     "name": "stdout",
     "output_type": "stream",
     "text": [
      "okkkk\n",
      "Scale ->  0 | Confidence Score [0.87953668] \n",
      "\n",
      "Scale ->  0 | Confidence Score [0.7201054] \n",
      "\n",
      "Scale ->  0 | Confidence Score [1.06387421] \n",
      "\n",
      "Scale ->  0 | Confidence Score [0.93244003] \n",
      "\n"
     ]
    },
    {
     "name": "stderr",
     "output_type": "stream",
     "text": [
      "\n",
      "\n",
      "t:   4%|██▋                                                                 | 10/251 [00:24<10:24,  2.59s/it, now=None]\u001b[A\u001b[A"
     ]
    },
    {
     "name": "stdout",
     "output_type": "stream",
     "text": [
      "okkkk\n",
      "Scale ->  0 | Confidence Score [0.80905646] \n",
      "\n",
      "Scale ->  0 | Confidence Score [0.59860756] \n",
      "\n",
      "Scale ->  0 | Confidence Score [0.92435058] \n",
      "\n",
      "Scale ->  0 | Confidence Score [0.70457561] \n",
      "\n"
     ]
    },
    {
     "name": "stderr",
     "output_type": "stream",
     "text": [
      "\n",
      "\n",
      "t:   4%|██▉                                                                 | 11/251 [00:26<10:24,  2.60s/it, now=None]\u001b[A\u001b[A"
     ]
    },
    {
     "name": "stdout",
     "output_type": "stream",
     "text": [
      "okkkk\n",
      "Scale ->  0 | Confidence Score [0.75635137] \n",
      "\n",
      "Scale ->  0 | Confidence Score [0.97847839] \n",
      "\n",
      "Scale ->  0 | Confidence Score [0.54628167] \n",
      "\n"
     ]
    },
    {
     "name": "stderr",
     "output_type": "stream",
     "text": [
      "\n",
      "\n",
      "t:   5%|███▎                                                                | 12/251 [00:29<10:29,  2.63s/it, now=None]\u001b[A\u001b[A"
     ]
    },
    {
     "name": "stdout",
     "output_type": "stream",
     "text": [
      "okkkk\n",
      "Scale ->  0 | Confidence Score [0.65923033] \n",
      "\n",
      "Scale ->  0 | Confidence Score [1.1414131] \n",
      "\n",
      "Scale ->  0 | Confidence Score [0.70168372] \n",
      "\n"
     ]
    },
    {
     "name": "stderr",
     "output_type": "stream",
     "text": [
      "\n",
      "\n",
      "t:   5%|███▌                                                                | 13/251 [00:32<10:17,  2.59s/it, now=None]\u001b[A\u001b[A"
     ]
    },
    {
     "name": "stdout",
     "output_type": "stream",
     "text": [
      "okkkk\n",
      "Scale ->  0 | Confidence Score [0.78438547] \n",
      "\n",
      "Scale ->  0 | Confidence Score [1.30614136] \n",
      "\n",
      "Scale ->  0 | Confidence Score [0.82341224] \n",
      "\n"
     ]
    },
    {
     "name": "stderr",
     "output_type": "stream",
     "text": [
      "\n",
      "\n",
      "t:   6%|███▊                                                                | 14/251 [00:34<10:22,  2.63s/it, now=None]\u001b[A\u001b[A"
     ]
    },
    {
     "name": "stdout",
     "output_type": "stream",
     "text": [
      "okkkk\n",
      "Scale ->  0 | Confidence Score [0.70971847] \n",
      "\n",
      "Scale ->  0 | Confidence Score [1.25862896] \n",
      "\n",
      "Scale ->  0 | Confidence Score [0.6553387] \n",
      "\n"
     ]
    },
    {
     "name": "stderr",
     "output_type": "stream",
     "text": [
      "\n",
      "\n",
      "t:   6%|████                                                                | 15/251 [00:37<10:24,  2.65s/it, now=None]\u001b[A\u001b[A"
     ]
    },
    {
     "name": "stdout",
     "output_type": "stream",
     "text": [
      "okkkk\n",
      "Scale ->  0 | Confidence Score [0.71374597] \n",
      "\n",
      "Scale ->  0 | Confidence Score [1.36782623] \n",
      "\n",
      "Scale ->  0 | Confidence Score [0.79868807] \n",
      "\n"
     ]
    },
    {
     "name": "stderr",
     "output_type": "stream",
     "text": [
      "\n",
      "\n",
      "t:   6%|████▎                                                               | 16/251 [00:40<10:40,  2.73s/it, now=None]\u001b[A\u001b[A"
     ]
    },
    {
     "name": "stdout",
     "output_type": "stream",
     "text": [
      "okkkk\n",
      "Scale ->  0 | Confidence Score [0.63969593] \n",
      "\n",
      "Scale ->  0 | Confidence Score [1.2844506] \n",
      "\n",
      "Scale ->  0 | Confidence Score [0.99823822] \n",
      "\n"
     ]
    },
    {
     "name": "stderr",
     "output_type": "stream",
     "text": [
      "\n",
      "\n",
      "t:   7%|████▌                                                               | 17/251 [00:43<10:31,  2.70s/it, now=None]\u001b[A\u001b[A"
     ]
    },
    {
     "name": "stdout",
     "output_type": "stream",
     "text": [
      "okkkk\n",
      "Scale ->  0 | Confidence Score [0.73715521] \n",
      "\n",
      "Scale ->  0 | Confidence Score [1.40365874] \n",
      "\n",
      "Scale ->  0 | Confidence Score [0.8855326] \n",
      "\n"
     ]
    },
    {
     "name": "stderr",
     "output_type": "stream",
     "text": [
      "\n",
      "\n",
      "t:   7%|████▉                                                               | 18/251 [00:45<10:21,  2.67s/it, now=None]\u001b[A\u001b[A"
     ]
    },
    {
     "name": "stdout",
     "output_type": "stream",
     "text": [
      "okkkk\n",
      "Scale ->  0 | Confidence Score [1.02202722] \n",
      "\n",
      "Scale ->  0 | Confidence Score [0.71350792] \n",
      "\n"
     ]
    },
    {
     "name": "stderr",
     "output_type": "stream",
     "text": [
      "\n",
      "\n",
      "t:   8%|█████▏                                                              | 19/251 [00:48<10:12,  2.64s/it, now=None]\u001b[A\u001b[A"
     ]
    },
    {
     "name": "stdout",
     "output_type": "stream",
     "text": [
      "okkkk\n",
      "Scale ->  0 | Confidence Score [1.18458455] \n",
      "\n",
      "Scale ->  0 | Confidence Score [0.664586] \n",
      "\n"
     ]
    },
    {
     "name": "stderr",
     "output_type": "stream",
     "text": [
      "\n",
      "\n",
      "t:   8%|█████▍                                                              | 20/251 [00:50<10:11,  2.65s/it, now=None]\u001b[A\u001b[A"
     ]
    },
    {
     "name": "stdout",
     "output_type": "stream",
     "text": [
      "okkkk\n",
      "Scale ->  0 | Confidence Score [0.61772843] \n",
      "\n",
      "Scale ->  0 | Confidence Score [1.3320744] \n",
      "\n",
      "Scale ->  0 | Confidence Score [0.63534984] \n",
      "\n"
     ]
    },
    {
     "name": "stderr",
     "output_type": "stream",
     "text": [
      "\n",
      "\n",
      "t:   8%|█████▋                                                              | 21/251 [00:53<10:09,  2.65s/it, now=None]\u001b[A\u001b[A"
     ]
    },
    {
     "name": "stdout",
     "output_type": "stream",
     "text": [
      "okkkk\n",
      "Scale ->  0 | Confidence Score [0.52585526] \n",
      "\n",
      "Scale ->  0 | Confidence Score [0.54866515] \n",
      "\n",
      "Scale ->  0 | Confidence Score [0.81017995] \n",
      "\n",
      "Scale ->  0 | Confidence Score [1.33930411] \n",
      "\n",
      "Scale ->  0 | Confidence Score [0.62161728] \n",
      "\n"
     ]
    },
    {
     "name": "stderr",
     "output_type": "stream",
     "text": [
      "\n",
      "\n",
      "t:   9%|█████▉                                                              | 22/251 [00:56<10:10,  2.67s/it, now=None]\u001b[A\u001b[A"
     ]
    },
    {
     "name": "stdout",
     "output_type": "stream",
     "text": [
      "okkkk\n",
      "Scale ->  0 | Confidence Score [0.52468606] \n",
      "\n",
      "Scale ->  0 | Confidence Score [0.56347858] \n",
      "\n",
      "Scale ->  0 | Confidence Score [1.34924344] \n",
      "\n",
      "Scale ->  0 | Confidence Score [0.71890107] \n",
      "\n"
     ]
    },
    {
     "name": "stderr",
     "output_type": "stream",
     "text": [
      "\n",
      "\n",
      "t:   9%|██████▏                                                             | 23/251 [00:59<10:10,  2.68s/it, now=None]\u001b[A\u001b[A"
     ]
    },
    {
     "name": "stdout",
     "output_type": "stream",
     "text": [
      "okkkk\n",
      "Scale ->  0 | Confidence Score [0.53115394] \n",
      "\n",
      "Scale ->  0 | Confidence Score [1.26024947] \n",
      "\n"
     ]
    },
    {
     "name": "stderr",
     "output_type": "stream",
     "text": [
      "\n",
      "\n",
      "t:  10%|██████▌                                                             | 24/251 [01:01<10:00,  2.64s/it, now=None]\u001b[A\u001b[A"
     ]
    },
    {
     "name": "stdout",
     "output_type": "stream",
     "text": [
      "okkkk\n",
      "Scale ->  0 | Confidence Score [0.51496751] \n",
      "\n",
      "Scale ->  0 | Confidence Score [1.30861027] \n",
      "\n"
     ]
    },
    {
     "name": "stderr",
     "output_type": "stream",
     "text": [
      "\n",
      "\n",
      "t:  10%|██████▊                                                             | 25/251 [01:04<09:58,  2.65s/it, now=None]\u001b[A\u001b[A"
     ]
    },
    {
     "name": "stdout",
     "output_type": "stream",
     "text": [
      "okkkk\n",
      "Scale ->  0 | Confidence Score [0.50909309] \n",
      "\n",
      "Scale ->  0 | Confidence Score [1.39886753] \n",
      "\n",
      "Scale ->  0 | Confidence Score [0.53123843] \n",
      "\n"
     ]
    },
    {
     "name": "stderr",
     "output_type": "stream",
     "text": [
      "\n",
      "\n",
      "t:  10%|███████                                                             | 26/251 [01:06<09:53,  2.64s/it, now=None]\u001b[A\u001b[A"
     ]
    },
    {
     "name": "stdout",
     "output_type": "stream",
     "text": [
      "okkkk\n",
      "Scale ->  0 | Confidence Score [0.66636442] \n",
      "\n",
      "Scale ->  0 | Confidence Score [0.58453657] \n",
      "\n",
      "Scale ->  0 | Confidence Score [0.66718575] \n",
      "\n",
      "Scale ->  0 | Confidence Score [1.33483645] \n",
      "\n",
      "Scale ->  0 | Confidence Score [0.5652613] \n",
      "\n",
      "Scale ->  0 | Confidence Score [0.52211489] \n",
      "\n"
     ]
    },
    {
     "name": "stderr",
     "output_type": "stream",
     "text": [
      "\n",
      "\n",
      "t:  11%|███████▎                                                            | 27/251 [01:09<09:56,  2.66s/it, now=None]\u001b[A\u001b[A"
     ]
    },
    {
     "name": "stdout",
     "output_type": "stream",
     "text": [
      "okkkk\n",
      "Scale ->  0 | Confidence Score [0.54124617] \n",
      "\n",
      "Scale ->  0 | Confidence Score [0.56993055] \n",
      "\n",
      "Scale ->  0 | Confidence Score [0.54334285] \n",
      "\n",
      "Scale ->  0 | Confidence Score [1.43244058] \n",
      "\n",
      "Scale ->  0 | Confidence Score [0.82493425] \n",
      "\n"
     ]
    },
    {
     "name": "stderr",
     "output_type": "stream",
     "text": [
      "\n",
      "\n",
      "t:  11%|███████▌                                                            | 28/251 [01:12<09:56,  2.67s/it, now=None]\u001b[A\u001b[A"
     ]
    },
    {
     "name": "stdout",
     "output_type": "stream",
     "text": [
      "okkkk\n",
      "Scale ->  0 | Confidence Score [0.52043255] \n",
      "\n",
      "Scale ->  0 | Confidence Score [0.56041605] \n",
      "\n",
      "Scale ->  0 | Confidence Score [0.65185036] \n",
      "\n",
      "Scale ->  0 | Confidence Score [0.60029438] \n",
      "\n",
      "Scale ->  0 | Confidence Score [1.37520385] \n",
      "\n",
      "Scale ->  0 | Confidence Score [0.7249147] \n",
      "\n"
     ]
    },
    {
     "name": "stderr",
     "output_type": "stream",
     "text": [
      "\n",
      "\n",
      "t:  12%|███████▊                                                            | 29/251 [01:14<09:56,  2.69s/it, now=None]\u001b[A\u001b[A"
     ]
    },
    {
     "name": "stdout",
     "output_type": "stream",
     "text": [
      "okkkk\n",
      "Scale ->  0 | Confidence Score [0.62562726] \n",
      "\n",
      "Scale ->  0 | Confidence Score [0.7080462] \n",
      "\n",
      "Scale ->  0 | Confidence Score [0.5356276] \n",
      "\n",
      "Scale ->  0 | Confidence Score [0.63800562] \n",
      "\n",
      "Scale ->  0 | Confidence Score [0.66502931] \n",
      "\n",
      "Scale ->  0 | Confidence Score [1.51089277] \n",
      "\n",
      "Scale ->  0 | Confidence Score [0.81914542] \n",
      "\n"
     ]
    },
    {
     "name": "stderr",
     "output_type": "stream",
     "text": [
      "\n",
      "\n",
      "t:  12%|████████▏                                                           | 30/251 [01:17<09:59,  2.71s/it, now=None]\u001b[A\u001b[A"
     ]
    },
    {
     "name": "stdout",
     "output_type": "stream",
     "text": [
      "okkkk\n",
      "Scale ->  0 | Confidence Score [0.53664] \n",
      "\n",
      "Scale ->  0 | Confidence Score [0.50334801] \n",
      "\n",
      "Scale ->  0 | Confidence Score [0.54100247] \n",
      "\n",
      "Scale ->  0 | Confidence Score [1.01396957] \n",
      "\n",
      "Scale ->  0 | Confidence Score [0.53920395] \n",
      "\n"
     ]
    },
    {
     "name": "stderr",
     "output_type": "stream",
     "text": [
      "\n",
      "\n",
      "t:  12%|████████▍                                                           | 31/251 [01:20<10:07,  2.76s/it, now=None]\u001b[A\u001b[A"
     ]
    },
    {
     "name": "stdout",
     "output_type": "stream",
     "text": [
      "okkkk\n",
      "Scale ->  0 | Confidence Score [0.57067822] \n",
      "\n",
      "Scale ->  0 | Confidence Score [0.58477317] \n",
      "\n",
      "Scale ->  0 | Confidence Score [1.13028916] \n",
      "\n",
      "Scale ->  0 | Confidence Score [0.50337375] \n",
      "\n"
     ]
    },
    {
     "name": "stderr",
     "output_type": "stream",
     "text": [
      "\n",
      "\n",
      "t:  13%|████████▋                                                           | 32/251 [01:23<10:03,  2.75s/it, now=None]\u001b[A\u001b[A"
     ]
    },
    {
     "name": "stdout",
     "output_type": "stream",
     "text": [
      "okkkk\n",
      "Scale ->  0 | Confidence Score [0.51962503] \n",
      "\n",
      "Scale ->  0 | Confidence Score [0.67410076] \n",
      "\n",
      "Scale ->  0 | Confidence Score [1.53104372] \n",
      "\n"
     ]
    },
    {
     "name": "stderr",
     "output_type": "stream",
     "text": [
      "\n",
      "\n",
      "t:  13%|████████▉                                                           | 33/251 [01:26<10:00,  2.75s/it, now=None]\u001b[A\u001b[A"
     ]
    },
    {
     "name": "stdout",
     "output_type": "stream",
     "text": [
      "okkkk\n",
      "Scale ->  0 | Confidence Score [0.55219668] \n",
      "\n",
      "Scale ->  0 | Confidence Score [0.7185698] \n",
      "\n",
      "Scale ->  0 | Confidence Score [0.55479457] \n",
      "\n",
      "Scale ->  0 | Confidence Score [0.51732413] \n",
      "\n",
      "Scale ->  0 | Confidence Score [1.05277353] \n",
      "\n"
     ]
    },
    {
     "name": "stderr",
     "output_type": "stream",
     "text": [
      "\n",
      "\n",
      "t:  14%|█████████▏                                                          | 34/251 [01:28<10:05,  2.79s/it, now=None]\u001b[A\u001b[A"
     ]
    },
    {
     "name": "stdout",
     "output_type": "stream",
     "text": [
      "okkkk\n",
      "Scale ->  0 | Confidence Score [0.54667091] \n",
      "\n",
      "Scale ->  0 | Confidence Score [0.70284501] \n",
      "\n",
      "Scale ->  0 | Confidence Score [0.60895547] \n",
      "\n",
      "Scale ->  0 | Confidence Score [0.90736762] \n",
      "\n"
     ]
    },
    {
     "name": "stderr",
     "output_type": "stream",
     "text": [
      "\n",
      "\n",
      "t:  14%|█████████▍                                                          | 35/251 [01:31<10:01,  2.78s/it, now=None]\u001b[A\u001b[A"
     ]
    },
    {
     "name": "stdout",
     "output_type": "stream",
     "text": [
      "okkkk\n",
      "Scale ->  0 | Confidence Score [0.55371763] \n",
      "\n",
      "Scale ->  0 | Confidence Score [0.53469478] \n",
      "\n",
      "Scale ->  0 | Confidence Score [0.85887552] \n",
      "\n",
      "Scale ->  0 | Confidence Score [0.75888562] \n",
      "\n"
     ]
    },
    {
     "name": "stderr",
     "output_type": "stream",
     "text": [
      "\n",
      "\n",
      "t:  14%|█████████▊                                                          | 36/251 [01:34<09:53,  2.76s/it, now=None]\u001b[A\u001b[A"
     ]
    },
    {
     "name": "stdout",
     "output_type": "stream",
     "text": [
      "okkkk\n",
      "Scale ->  0 | Confidence Score [0.63010966] \n",
      "\n",
      "Scale ->  0 | Confidence Score [0.89763084] \n",
      "\n",
      "Scale ->  0 | Confidence Score [0.87991052] \n",
      "\n"
     ]
    },
    {
     "name": "stderr",
     "output_type": "stream",
     "text": [
      "\n",
      "\n",
      "t:  15%|██████████                                                          | 37/251 [01:37<09:47,  2.75s/it, now=None]\u001b[A\u001b[A"
     ]
    },
    {
     "name": "stdout",
     "output_type": "stream",
     "text": [
      "okkkk\n",
      "Scale ->  0 | Confidence Score [0.56202735] \n",
      "\n",
      "Scale ->  0 | Confidence Score [1.00689445] \n",
      "\n",
      "Scale ->  0 | Confidence Score [0.57161947] \n",
      "\n"
     ]
    },
    {
     "name": "stderr",
     "output_type": "stream",
     "text": [
      "\n",
      "\n",
      "t:  15%|██████████▎                                                         | 38/251 [01:39<09:45,  2.75s/it, now=None]\u001b[A\u001b[A"
     ]
    },
    {
     "name": "stdout",
     "output_type": "stream",
     "text": [
      "okkkk\n",
      "Scale ->  0 | Confidence Score [0.53993265] \n",
      "\n",
      "Scale ->  0 | Confidence Score [0.50167403] \n",
      "\n",
      "Scale ->  0 | Confidence Score [0.54055249] \n",
      "\n",
      "Scale ->  0 | Confidence Score [1.08959146] \n",
      "\n",
      "Scale ->  0 | Confidence Score [0.57492793] \n",
      "\n"
     ]
    },
    {
     "name": "stderr",
     "output_type": "stream",
     "text": [
      "\n",
      "\n",
      "t:  16%|██████████▌                                                         | 39/251 [01:42<09:26,  2.67s/it, now=None]\u001b[A\u001b[A"
     ]
    },
    {
     "name": "stdout",
     "output_type": "stream",
     "text": [
      "okkkk\n",
      "Scale ->  0 | Confidence Score [0.66568352] \n",
      "\n",
      "Scale ->  0 | Confidence Score [0.55637556] \n",
      "\n",
      "Scale ->  0 | Confidence Score [1.16415159] \n",
      "\n",
      "Scale ->  0 | Confidence Score [0.69037559] \n",
      "\n",
      "Scale ->  0 | Confidence Score [0.68050693] \n",
      "\n",
      "Scale ->  0 | Confidence Score [0.50804361] \n",
      "\n"
     ]
    },
    {
     "name": "stderr",
     "output_type": "stream",
     "text": [
      "\n",
      "\n",
      "t:  16%|██████████▊                                                         | 40/251 [01:45<09:26,  2.68s/it, now=None]\u001b[A\u001b[A"
     ]
    },
    {
     "name": "stdout",
     "output_type": "stream",
     "text": [
      "okkkk\n",
      "Scale ->  0 | Confidence Score [0.59847609] \n",
      "\n",
      "Scale ->  0 | Confidence Score [1.12768309] \n",
      "\n",
      "Scale ->  0 | Confidence Score [0.60595925] \n",
      "\n"
     ]
    },
    {
     "name": "stderr",
     "output_type": "stream",
     "text": [
      "\n",
      "\n",
      "t:  16%|███████████                                                         | 41/251 [01:47<09:21,  2.68s/it, now=None]\u001b[A\u001b[A"
     ]
    },
    {
     "name": "stdout",
     "output_type": "stream",
     "text": [
      "okkkk\n",
      "Scale ->  0 | Confidence Score [0.59725402] \n",
      "\n",
      "Scale ->  0 | Confidence Score [0.53966387] \n",
      "\n",
      "Scale ->  0 | Confidence Score [0.72063985] \n",
      "\n",
      "Scale ->  0 | Confidence Score [1.2506682] \n",
      "\n",
      "Scale ->  0 | Confidence Score [0.55761121] \n",
      "\n"
     ]
    },
    {
     "name": "stderr",
     "output_type": "stream",
     "text": [
      "\n",
      "\n",
      "t:  17%|███████████▍                                                        | 42/251 [01:50<09:13,  2.65s/it, now=None]\u001b[A\u001b[A"
     ]
    },
    {
     "name": "stdout",
     "output_type": "stream",
     "text": [
      "okkkk\n",
      "Scale ->  0 | Confidence Score [0.54684232] \n",
      "\n",
      "Scale ->  0 | Confidence Score [0.62454772] \n",
      "\n",
      "Scale ->  0 | Confidence Score [0.64090121] \n",
      "\n",
      "Scale ->  0 | Confidence Score [1.39184492] \n",
      "\n",
      "Scale ->  0 | Confidence Score [0.61942275] \n",
      "\n"
     ]
    },
    {
     "name": "stderr",
     "output_type": "stream",
     "text": [
      "\n",
      "\n",
      "t:  17%|███████████▋                                                        | 43/251 [01:53<09:12,  2.65s/it, now=None]\u001b[A\u001b[A"
     ]
    },
    {
     "name": "stdout",
     "output_type": "stream",
     "text": [
      "okkkk\n",
      "Scale ->  0 | Confidence Score [0.53986462] \n",
      "\n",
      "Scale ->  0 | Confidence Score [0.59542832] \n",
      "\n",
      "Scale ->  0 | Confidence Score [1.49727987] \n",
      "\n",
      "Scale ->  0 | Confidence Score [0.87343386] \n",
      "\n"
     ]
    },
    {
     "name": "stderr",
     "output_type": "stream",
     "text": [
      "\n",
      "\n",
      "t:  18%|███████████▉                                                        | 44/251 [01:55<09:13,  2.67s/it, now=None]\u001b[A\u001b[A"
     ]
    },
    {
     "name": "stdout",
     "output_type": "stream",
     "text": [
      "okkkk\n",
      "Scale ->  0 | Confidence Score [0.54130243] \n",
      "\n",
      "Scale ->  0 | Confidence Score [0.54811067] \n",
      "\n",
      "Scale ->  0 | Confidence Score [1.2860412] \n",
      "\n",
      "Scale ->  0 | Confidence Score [0.84009671] \n",
      "\n"
     ]
    },
    {
     "name": "stderr",
     "output_type": "stream",
     "text": [
      "\n",
      "\n",
      "t:  18%|████████████▏                                                       | 45/251 [01:58<09:07,  2.66s/it, now=None]\u001b[A\u001b[A"
     ]
    },
    {
     "name": "stdout",
     "output_type": "stream",
     "text": [
      "okkkk\n",
      "Scale ->  0 | Confidence Score [0.58779417] \n",
      "\n",
      "Scale ->  0 | Confidence Score [0.53881605] \n",
      "\n",
      "Scale ->  0 | Confidence Score [1.06453594] \n",
      "\n",
      "Scale ->  0 | Confidence Score [0.57519997] \n",
      "\n"
     ]
    },
    {
     "name": "stderr",
     "output_type": "stream",
     "text": [
      "\n",
      "\n",
      "t:  18%|████████████▍                                                       | 46/251 [02:01<09:08,  2.67s/it, now=None]\u001b[A\u001b[A"
     ]
    },
    {
     "name": "stdout",
     "output_type": "stream",
     "text": [
      "okkkk\n",
      "Scale ->  0 | Confidence Score [0.65975871] \n",
      "\n",
      "Scale ->  0 | Confidence Score [0.52465198] \n",
      "\n",
      "Scale ->  0 | Confidence Score [0.57203958] \n",
      "\n",
      "Scale ->  0 | Confidence Score [1.1356779] \n",
      "\n"
     ]
    },
    {
     "name": "stderr",
     "output_type": "stream",
     "text": [
      "\n",
      "\n",
      "t:  19%|████████████▋                                                       | 47/251 [02:03<09:03,  2.67s/it, now=None]\u001b[A\u001b[A"
     ]
    },
    {
     "name": "stdout",
     "output_type": "stream",
     "text": [
      "okkkk\n",
      "Scale ->  0 | Confidence Score [0.60442587] \n",
      "\n",
      "Scale ->  0 | Confidence Score [0.51352816] \n",
      "\n",
      "Scale ->  0 | Confidence Score [1.21490641] \n",
      "\n",
      "Scale ->  0 | Confidence Score [0.68852629] \n",
      "\n"
     ]
    },
    {
     "name": "stderr",
     "output_type": "stream",
     "text": [
      "\n",
      "\n",
      "t:  19%|█████████████                                                       | 48/251 [02:06<08:57,  2.65s/it, now=None]\u001b[A\u001b[A"
     ]
    },
    {
     "name": "stdout",
     "output_type": "stream",
     "text": [
      "okkkk\n",
      "Scale ->  0 | Confidence Score [0.65879072] \n",
      "\n",
      "Scale ->  0 | Confidence Score [0.60380395] \n",
      "\n",
      "Scale ->  0 | Confidence Score [1.43863034] \n",
      "\n",
      "Scale ->  0 | Confidence Score [0.62300732] \n",
      "\n"
     ]
    },
    {
     "name": "stderr",
     "output_type": "stream",
     "text": [
      "\n",
      "\n",
      "t:  20%|█████████████▎                                                      | 49/251 [02:09<09:00,  2.68s/it, now=None]\u001b[A\u001b[A"
     ]
    },
    {
     "name": "stdout",
     "output_type": "stream",
     "text": [
      "okkkk\n",
      "Scale ->  0 | Confidence Score [0.74946896] \n",
      "\n",
      "Scale ->  0 | Confidence Score [0.50087915] \n",
      "\n",
      "Scale ->  0 | Confidence Score [1.36161059] \n",
      "\n",
      "Scale ->  0 | Confidence Score [0.5645704] \n",
      "\n"
     ]
    },
    {
     "name": "stderr",
     "output_type": "stream",
     "text": [
      "\n",
      "\n",
      "t:  20%|█████████████▌                                                      | 50/251 [02:11<08:51,  2.64s/it, now=None]\u001b[A\u001b[A"
     ]
    },
    {
     "name": "stdout",
     "output_type": "stream",
     "text": [
      "okkkk\n",
      "Scale ->  0 | Confidence Score [0.75985487] \n",
      "\n",
      "Scale ->  0 | Confidence Score [0.54115322] \n",
      "\n",
      "Scale ->  0 | Confidence Score [0.59798906] \n",
      "\n",
      "Scale ->  0 | Confidence Score [1.37868628] \n",
      "\n",
      "Scale ->  0 | Confidence Score [0.50873532] \n",
      "\n"
     ]
    },
    {
     "name": "stderr",
     "output_type": "stream",
     "text": [
      "\n",
      "\n",
      "t:  20%|█████████████▊                                                      | 51/251 [02:14<08:50,  2.65s/it, now=None]\u001b[A\u001b[A"
     ]
    },
    {
     "name": "stdout",
     "output_type": "stream",
     "text": [
      "okkkk\n",
      "Scale ->  0 | Confidence Score [0.86573544] \n",
      "\n",
      "Scale ->  0 | Confidence Score [0.5918533] \n",
      "\n",
      "Scale ->  0 | Confidence Score [0.55909917] \n",
      "\n",
      "Scale ->  0 | Confidence Score [0.64965509] \n",
      "\n",
      "Scale ->  0 | Confidence Score [1.44345563] \n",
      "\n",
      "Scale ->  0 | Confidence Score [0.63067278] \n",
      "\n"
     ]
    },
    {
     "name": "stderr",
     "output_type": "stream",
     "text": [
      "\n",
      "\n",
      "t:  21%|██████████████                                                      | 52/251 [02:16<08:44,  2.64s/it, now=None]\u001b[A\u001b[A"
     ]
    },
    {
     "name": "stdout",
     "output_type": "stream",
     "text": [
      "okkkk\n",
      "Scale ->  0 | Confidence Score [0.72922535] \n",
      "\n",
      "Scale ->  0 | Confidence Score [0.72867591] \n",
      "\n",
      "Scale ->  0 | Confidence Score [0.5869556] \n",
      "\n",
      "Scale ->  0 | Confidence Score [1.39585547] \n",
      "\n",
      "Scale ->  0 | Confidence Score [0.67876227] \n",
      "\n"
     ]
    },
    {
     "name": "stderr",
     "output_type": "stream",
     "text": [
      "\n",
      "\n",
      "t:  21%|██████████████▎                                                     | 53/251 [02:19<08:33,  2.59s/it, now=None]\u001b[A\u001b[A"
     ]
    },
    {
     "name": "stdout",
     "output_type": "stream",
     "text": [
      "okkkk\n",
      "Scale ->  0 | Confidence Score [0.75526399] \n",
      "\n",
      "Scale ->  0 | Confidence Score [0.61154773] \n",
      "\n",
      "Scale ->  0 | Confidence Score [0.83753723] \n",
      "\n",
      "Scale ->  0 | Confidence Score [0.52071482] \n",
      "\n",
      "Scale ->  0 | Confidence Score [1.79871341] \n",
      "\n",
      "Scale ->  0 | Confidence Score [0.59719618] \n",
      "\n"
     ]
    },
    {
     "name": "stderr",
     "output_type": "stream",
     "text": [
      "\n",
      "\n",
      "t:  22%|██████████████▋                                                     | 54/251 [02:22<08:36,  2.62s/it, now=None]\u001b[A\u001b[A"
     ]
    },
    {
     "name": "stdout",
     "output_type": "stream",
     "text": [
      "okkkk\n",
      "Scale ->  0 | Confidence Score [0.78860147] \n",
      "\n",
      "Scale ->  0 | Confidence Score [0.66536146] \n",
      "\n",
      "Scale ->  0 | Confidence Score [0.65350966] \n",
      "\n",
      "Scale ->  0 | Confidence Score [1.64685891] \n",
      "\n",
      "Scale ->  0 | Confidence Score [0.56650029] \n",
      "\n"
     ]
    },
    {
     "name": "stderr",
     "output_type": "stream",
     "text": [
      "\n",
      "\n",
      "t:  22%|██████████████▉                                                     | 55/251 [02:24<08:29,  2.60s/it, now=None]\u001b[A\u001b[A"
     ]
    },
    {
     "name": "stdout",
     "output_type": "stream",
     "text": [
      "okkkk\n",
      "Scale ->  0 | Confidence Score [0.67928576] \n",
      "\n",
      "Scale ->  0 | Confidence Score [0.52648486] \n",
      "\n",
      "Scale ->  0 | Confidence Score [1.5911094] \n",
      "\n",
      "Scale ->  0 | Confidence Score [0.63037925] \n",
      "\n"
     ]
    },
    {
     "name": "stderr",
     "output_type": "stream",
     "text": [
      "\n",
      "\n",
      "t:  22%|███████████████▏                                                    | 56/251 [02:27<08:34,  2.64s/it, now=None]\u001b[A\u001b[A"
     ]
    },
    {
     "name": "stdout",
     "output_type": "stream",
     "text": [
      "okkkk\n",
      "Scale ->  0 | Confidence Score [0.87444627] \n",
      "\n",
      "Scale ->  0 | Confidence Score [0.57159948] \n",
      "\n",
      "Scale ->  0 | Confidence Score [0.60153948] \n",
      "\n",
      "Scale ->  0 | Confidence Score [0.7473282] \n",
      "\n",
      "Scale ->  0 | Confidence Score [1.52416489] \n",
      "\n",
      "Scale ->  0 | Confidence Score [0.60795942] \n",
      "\n"
     ]
    },
    {
     "name": "stderr",
     "output_type": "stream",
     "text": [
      "\n",
      "\n",
      "t:  23%|███████████████▍                                                    | 57/251 [02:30<08:40,  2.68s/it, now=None]\u001b[A\u001b[A"
     ]
    },
    {
     "name": "stdout",
     "output_type": "stream",
     "text": [
      "okkkk\n",
      "Scale ->  0 | Confidence Score [1.09674687] \n",
      "\n",
      "Scale ->  0 | Confidence Score [0.50071967] \n",
      "\n",
      "Scale ->  0 | Confidence Score [0.97376362] \n",
      "\n",
      "Scale ->  0 | Confidence Score [1.65501912] \n",
      "\n"
     ]
    },
    {
     "name": "stderr",
     "output_type": "stream",
     "text": [
      "\n",
      "\n",
      "t:  23%|███████████████▋                                                    | 58/251 [02:32<08:41,  2.70s/it, now=None]\u001b[A\u001b[A"
     ]
    },
    {
     "name": "stdout",
     "output_type": "stream",
     "text": [
      "okkkk\n",
      "Scale ->  0 | Confidence Score [0.96919765] \n",
      "\n",
      "Scale ->  0 | Confidence Score [0.67832716] \n",
      "\n",
      "Scale ->  0 | Confidence Score [1.13966956] \n",
      "\n",
      "Scale ->  0 | Confidence Score [1.60989893] \n",
      "\n",
      "Scale ->  0 | Confidence Score [0.56738152] \n",
      "\n"
     ]
    },
    {
     "name": "stderr",
     "output_type": "stream",
     "text": [
      "\n",
      "\n",
      "t:  24%|███████████████▉                                                    | 59/251 [02:35<08:39,  2.71s/it, now=None]\u001b[A\u001b[A"
     ]
    },
    {
     "name": "stdout",
     "output_type": "stream",
     "text": [
      "okkkk\n",
      "Scale ->  0 | Confidence Score [0.89209089] \n",
      "\n",
      "Scale ->  0 | Confidence Score [0.52831835] \n",
      "\n",
      "Scale ->  0 | Confidence Score [0.52352737] \n",
      "\n",
      "Scale ->  0 | Confidence Score [0.95988653] \n",
      "\n",
      "Scale ->  0 | Confidence Score [1.84963867] \n",
      "\n"
     ]
    },
    {
     "name": "stderr",
     "output_type": "stream",
     "text": [
      "\n",
      "\n",
      "t:  24%|████████████████▎                                                   | 60/251 [02:38<08:39,  2.72s/it, now=None]\u001b[A\u001b[A"
     ]
    },
    {
     "name": "stdout",
     "output_type": "stream",
     "text": [
      "okkkk\n",
      "Scale ->  0 | Confidence Score [0.98294311] \n",
      "\n",
      "Scale ->  0 | Confidence Score [0.59263232] \n",
      "\n",
      "Scale ->  0 | Confidence Score [0.99970302] \n",
      "\n",
      "Scale ->  0 | Confidence Score [1.59280544] \n",
      "\n"
     ]
    },
    {
     "name": "stderr",
     "output_type": "stream",
     "text": [
      "\n",
      "\n",
      "t:  24%|████████████████▌                                                   | 61/251 [02:41<08:42,  2.75s/it, now=None]\u001b[A\u001b[A"
     ]
    },
    {
     "name": "stdout",
     "output_type": "stream",
     "text": [
      "okkkk\n",
      "Scale ->  0 | Confidence Score [1.04619509] \n",
      "\n",
      "Scale ->  0 | Confidence Score [0.57711516] \n",
      "\n",
      "Scale ->  0 | Confidence Score [0.63317968] \n",
      "\n",
      "Scale ->  0 | Confidence Score [0.82692799] \n",
      "\n",
      "Scale ->  0 | Confidence Score [1.45265967] \n",
      "\n"
     ]
    },
    {
     "name": "stderr",
     "output_type": "stream",
     "text": [
      "\n",
      "\n",
      "t:  25%|████████████████▊                                                   | 62/251 [02:43<08:39,  2.75s/it, now=None]\u001b[A\u001b[A"
     ]
    },
    {
     "name": "stdout",
     "output_type": "stream",
     "text": [
      "okkkk\n",
      "Scale ->  0 | Confidence Score [0.99988725] \n",
      "\n",
      "Scale ->  0 | Confidence Score [0.57290756] \n",
      "\n",
      "Scale ->  0 | Confidence Score [0.64565614] \n",
      "\n",
      "Scale ->  0 | Confidence Score [0.55732779] \n",
      "\n",
      "Scale ->  0 | Confidence Score [1.24219093] \n",
      "\n",
      "Scale ->  0 | Confidence Score [0.53590509] \n",
      "\n"
     ]
    },
    {
     "name": "stderr",
     "output_type": "stream",
     "text": [
      "\n",
      "\n",
      "t:  25%|█████████████████                                                   | 63/251 [02:46<08:39,  2.76s/it, now=None]\u001b[A\u001b[A"
     ]
    },
    {
     "name": "stdout",
     "output_type": "stream",
     "text": [
      "okkkk\n",
      "Scale ->  0 | Confidence Score [0.92916791] \n",
      "\n",
      "Scale ->  0 | Confidence Score [0.65220036] \n",
      "\n",
      "Scale ->  0 | Confidence Score [0.60481685] \n",
      "\n",
      "Scale ->  0 | Confidence Score [0.86783895] \n",
      "\n",
      "Scale ->  0 | Confidence Score [1.32284179] \n",
      "\n",
      "Scale ->  0 | Confidence Score [0.54817175] \n",
      "\n"
     ]
    },
    {
     "name": "stderr",
     "output_type": "stream",
     "text": [
      "\n",
      "\n",
      "t:  25%|█████████████████▎                                                  | 64/251 [02:49<08:33,  2.74s/it, now=None]\u001b[A\u001b[A"
     ]
    },
    {
     "name": "stdout",
     "output_type": "stream",
     "text": [
      "okkkk\n",
      "Scale ->  0 | Confidence Score [1.17466329] \n",
      "\n",
      "Scale ->  0 | Confidence Score [0.67271272] \n",
      "\n",
      "Scale ->  0 | Confidence Score [0.93477203] \n",
      "\n"
     ]
    },
    {
     "name": "stderr",
     "output_type": "stream",
     "text": [
      "\n",
      "\n",
      "t:  26%|█████████████████▌                                                  | 65/251 [02:52<08:30,  2.74s/it, now=None]\u001b[A\u001b[A"
     ]
    },
    {
     "name": "stdout",
     "output_type": "stream",
     "text": [
      "okkkk\n",
      "Scale ->  0 | Confidence Score [0.91294269] \n",
      "\n",
      "Scale ->  0 | Confidence Score [0.72267149] \n",
      "\n",
      "Scale ->  0 | Confidence Score [0.55504766] \n",
      "\n",
      "Scale ->  0 | Confidence Score [1.24502927] \n",
      "\n"
     ]
    },
    {
     "name": "stderr",
     "output_type": "stream",
     "text": [
      "\n",
      "\n",
      "t:  26%|█████████████████▉                                                  | 66/251 [02:54<08:29,  2.75s/it, now=None]\u001b[A\u001b[A"
     ]
    },
    {
     "name": "stdout",
     "output_type": "stream",
     "text": [
      "okkkk\n",
      "Scale ->  0 | Confidence Score [0.92408182] \n",
      "\n",
      "Scale ->  0 | Confidence Score [0.56805135] \n",
      "\n",
      "Scale ->  0 | Confidence Score [0.58554191] \n",
      "\n",
      "Scale ->  0 | Confidence Score [0.55015275] \n",
      "\n",
      "Scale ->  0 | Confidence Score [1.01669098] \n",
      "\n",
      "Scale ->  0 | Confidence Score [0.73192056] \n",
      "\n"
     ]
    },
    {
     "name": "stderr",
     "output_type": "stream",
     "text": [
      "\n",
      "\n",
      "t:  27%|██████████████████▏                                                 | 67/251 [02:57<08:26,  2.75s/it, now=None]\u001b[A\u001b[A"
     ]
    },
    {
     "name": "stdout",
     "output_type": "stream",
     "text": [
      "okkkk\n",
      "Scale ->  0 | Confidence Score [0.83070258] \n",
      "\n",
      "Scale ->  0 | Confidence Score [0.61125945] \n",
      "\n",
      "Scale ->  0 | Confidence Score [0.64068843] \n",
      "\n",
      "Scale ->  0 | Confidence Score [0.61786197] \n",
      "\n",
      "Scale ->  0 | Confidence Score [0.88482148] \n",
      "\n"
     ]
    },
    {
     "name": "stderr",
     "output_type": "stream",
     "text": [
      "\n",
      "\n",
      "t:  27%|██████████████████▍                                                 | 68/251 [03:00<08:21,  2.74s/it, now=None]\u001b[A\u001b[A"
     ]
    },
    {
     "name": "stdout",
     "output_type": "stream",
     "text": [
      "okkkk\n",
      "Scale ->  0 | Confidence Score [1.03918521] \n",
      "\n",
      "Scale ->  0 | Confidence Score [0.53371] \n",
      "\n",
      "Scale ->  0 | Confidence Score [1.02881358] \n",
      "\n",
      "Scale ->  0 | Confidence Score [0.61595966] \n",
      "\n"
     ]
    },
    {
     "name": "stderr",
     "output_type": "stream",
     "text": [
      "\n",
      "\n",
      "t:  27%|██████████████████▋                                                 | 69/251 [03:03<08:18,  2.74s/it, now=None]\u001b[A\u001b[A"
     ]
    },
    {
     "name": "stdout",
     "output_type": "stream",
     "text": [
      "okkkk\n",
      "Scale ->  0 | Confidence Score [0.9282858] \n",
      "\n",
      "Scale ->  0 | Confidence Score [0.73362296] \n",
      "\n",
      "Scale ->  0 | Confidence Score [0.7207645] \n",
      "\n",
      "Scale ->  0 | Confidence Score [0.88174659] \n",
      "\n",
      "Scale ->  0 | Confidence Score [0.73179305] \n",
      "\n",
      "Scale ->  0 | Confidence Score [0.55945784] \n",
      "\n"
     ]
    },
    {
     "name": "stderr",
     "output_type": "stream",
     "text": [
      "\n",
      "\n",
      "t:  28%|██████████████████▉                                                 | 70/251 [03:05<08:15,  2.74s/it, now=None]\u001b[A\u001b[A"
     ]
    },
    {
     "name": "stdout",
     "output_type": "stream",
     "text": [
      "okkkk\n",
      "Scale ->  0 | Confidence Score [1.10237292] \n",
      "\n",
      "Scale ->  0 | Confidence Score [0.94544634] \n",
      "\n",
      "Scale ->  0 | Confidence Score [1.44982623] \n",
      "\n",
      "Scale ->  0 | Confidence Score [0.50689225] \n",
      "\n",
      "Scale ->  0 | Confidence Score [0.55886312] \n",
      "\n"
     ]
    },
    {
     "name": "stderr",
     "output_type": "stream",
     "text": [
      "\n",
      "\n",
      "t:  28%|███████████████████▏                                                | 71/251 [03:08<08:13,  2.74s/it, now=None]\u001b[A\u001b[A"
     ]
    },
    {
     "name": "stdout",
     "output_type": "stream",
     "text": [
      "okkkk\n",
      "Scale ->  0 | Confidence Score [1.22633591] \n",
      "\n",
      "Scale ->  0 | Confidence Score [0.76996711] \n",
      "\n",
      "Scale ->  0 | Confidence Score [1.27285372] \n",
      "\n",
      "Scale ->  0 | Confidence Score [0.66206813] \n",
      "\n",
      "Scale ->  0 | Confidence Score [0.61825531] \n",
      "\n"
     ]
    },
    {
     "name": "stderr",
     "output_type": "stream",
     "text": [
      "\n",
      "\n",
      "t:  29%|███████████████████▌                                                | 72/251 [03:11<08:08,  2.73s/it, now=None]\u001b[A\u001b[A"
     ]
    },
    {
     "name": "stdout",
     "output_type": "stream",
     "text": [
      "okkkk\n",
      "Scale ->  0 | Confidence Score [1.19908784] \n",
      "\n",
      "Scale ->  0 | Confidence Score [0.82381015] \n",
      "\n",
      "Scale ->  0 | Confidence Score [1.39249245] \n",
      "\n",
      "Scale ->  0 | Confidence Score [0.56612489] \n",
      "\n",
      "Scale ->  0 | Confidence Score [0.57155829] \n",
      "\n"
     ]
    },
    {
     "name": "stderr",
     "output_type": "stream",
     "text": [
      "\n",
      "\n",
      "t:  29%|███████████████████▊                                                | 73/251 [03:14<08:05,  2.73s/it, now=None]\u001b[A\u001b[A"
     ]
    },
    {
     "name": "stdout",
     "output_type": "stream",
     "text": [
      "okkkk\n",
      "Scale ->  0 | Confidence Score [1.36466429] \n",
      "\n",
      "Scale ->  0 | Confidence Score [0.69241314] \n",
      "\n",
      "Scale ->  0 | Confidence Score [1.28778911] \n",
      "\n",
      "Scale ->  0 | Confidence Score [0.53410709] \n",
      "\n"
     ]
    },
    {
     "name": "stderr",
     "output_type": "stream",
     "text": [
      "\n",
      "\n",
      "t:  29%|████████████████████                                                | 74/251 [03:16<08:03,  2.73s/it, now=None]\u001b[A\u001b[A"
     ]
    },
    {
     "name": "stdout",
     "output_type": "stream",
     "text": [
      "okkkk\n",
      "Scale ->  0 | Confidence Score [0.82723315] \n",
      "\n",
      "Scale ->  0 | Confidence Score [0.82872052] \n",
      "\n",
      "Scale ->  0 | Confidence Score [0.56043259] \n",
      "\n",
      "Scale ->  0 | Confidence Score [0.51626444] \n",
      "\n",
      "Scale ->  0 | Confidence Score [1.13484326] \n",
      "\n",
      "Scale ->  0 | Confidence Score [0.57619834] \n",
      "\n",
      "Scale ->  0 | Confidence Score [0.70367388] \n",
      "\n"
     ]
    },
    {
     "name": "stderr",
     "output_type": "stream",
     "text": [
      "\n",
      "\n",
      "t:  30%|████████████████████▎                                               | 75/251 [03:19<08:00,  2.73s/it, now=None]\u001b[A\u001b[A"
     ]
    },
    {
     "name": "stdout",
     "output_type": "stream",
     "text": [
      "okkkk\n",
      "Scale ->  0 | Confidence Score [1.10793841] \n",
      "\n",
      "Scale ->  0 | Confidence Score [0.59189232] \n",
      "\n",
      "Scale ->  0 | Confidence Score [0.6297444] \n",
      "\n",
      "Scale ->  0 | Confidence Score [1.06201583] \n",
      "\n"
     ]
    },
    {
     "name": "stderr",
     "output_type": "stream",
     "text": [
      "\n",
      "\n",
      "t:  30%|████████████████████▌                                               | 76/251 [03:22<07:52,  2.70s/it, now=None]\u001b[A\u001b[A"
     ]
    },
    {
     "name": "stdout",
     "output_type": "stream",
     "text": [
      "okkkk\n",
      "Scale ->  0 | Confidence Score [0.96974313] \n",
      "\n",
      "Scale ->  0 | Confidence Score [0.59622489] \n",
      "\n",
      "Scale ->  0 | Confidence Score [0.55570083] \n",
      "\n",
      "Scale ->  0 | Confidence Score [0.57554058] \n",
      "\n",
      "Scale ->  0 | Confidence Score [1.43868447] \n",
      "\n"
     ]
    },
    {
     "name": "stderr",
     "output_type": "stream",
     "text": [
      "\n",
      "\n",
      "t:  31%|████████████████████▊                                               | 77/251 [03:24<07:50,  2.71s/it, now=None]\u001b[A\u001b[A"
     ]
    },
    {
     "name": "stdout",
     "output_type": "stream",
     "text": [
      "okkkk\n",
      "Scale ->  0 | Confidence Score [0.78792991] \n",
      "\n",
      "Scale ->  0 | Confidence Score [0.62718084] \n",
      "\n",
      "Scale ->  0 | Confidence Score [0.62670026] \n",
      "\n",
      "Scale ->  0 | Confidence Score [1.06359631] \n",
      "\n"
     ]
    },
    {
     "name": "stderr",
     "output_type": "stream",
     "text": [
      "\n",
      "\n",
      "t:  31%|█████████████████████▏                                              | 78/251 [03:27<07:48,  2.71s/it, now=None]\u001b[A\u001b[A"
     ]
    },
    {
     "name": "stdout",
     "output_type": "stream",
     "text": [
      "okkkk\n",
      "Scale ->  0 | Confidence Score [0.74701938] \n",
      "\n",
      "Scale ->  0 | Confidence Score [0.61236826] \n",
      "\n",
      "Scale ->  0 | Confidence Score [0.5610068] \n",
      "\n",
      "Scale ->  0 | Confidence Score [0.89677937] \n",
      "\n",
      "Scale ->  0 | Confidence Score [0.54219862] \n",
      "\n"
     ]
    },
    {
     "name": "stderr",
     "output_type": "stream",
     "text": [
      "\n",
      "\n",
      "t:  31%|█████████████████████▍                                              | 79/251 [03:30<07:47,  2.72s/it, now=None]\u001b[A\u001b[A"
     ]
    },
    {
     "name": "stdout",
     "output_type": "stream",
     "text": [
      "okkkk\n",
      "Scale ->  0 | Confidence Score [0.90876724] \n",
      "\n",
      "Scale ->  0 | Confidence Score [0.83057285] \n",
      "\n"
     ]
    },
    {
     "name": "stderr",
     "output_type": "stream",
     "text": [
      "\n",
      "\n",
      "t:  32%|█████████████████████▋                                              | 80/251 [03:33<07:44,  2.71s/it, now=None]\u001b[A\u001b[A"
     ]
    },
    {
     "name": "stdout",
     "output_type": "stream",
     "text": [
      "okkkk\n",
      "Scale ->  0 | Confidence Score [1.09122304] \n",
      "\n",
      "Scale ->  0 | Confidence Score [0.70225324] \n",
      "\n",
      "Scale ->  0 | Confidence Score [0.54652634] \n",
      "\n"
     ]
    },
    {
     "name": "stderr",
     "output_type": "stream",
     "text": [
      "\n",
      "\n",
      "t:  32%|█████████████████████▉                                              | 81/251 [03:35<07:42,  2.72s/it, now=None]\u001b[A\u001b[A"
     ]
    },
    {
     "name": "stdout",
     "output_type": "stream",
     "text": [
      "okkkk\n",
      "Scale ->  0 | Confidence Score [0.96644606] \n",
      "\n",
      "Scale ->  0 | Confidence Score [0.72483827] \n",
      "\n",
      "Scale ->  0 | Confidence Score [0.77415489] \n",
      "\n",
      "Scale ->  0 | Confidence Score [0.70312014] \n",
      "\n",
      "Scale ->  0 | Confidence Score [0.50547858] \n",
      "\n"
     ]
    },
    {
     "name": "stderr",
     "output_type": "stream",
     "text": [
      "\n",
      "\n",
      "t:  33%|██████████████████████▏                                             | 82/251 [03:38<07:35,  2.70s/it, now=None]\u001b[A\u001b[A"
     ]
    },
    {
     "name": "stdout",
     "output_type": "stream",
     "text": [
      "okkkk\n",
      "Scale ->  0 | Confidence Score [1.01764809] \n",
      "\n",
      "Scale ->  0 | Confidence Score [0.58504222] \n",
      "\n"
     ]
    },
    {
     "name": "stderr",
     "output_type": "stream",
     "text": [
      "\n",
      "\n",
      "t:  33%|██████████████████████▍                                             | 83/251 [03:41<07:43,  2.76s/it, now=None]\u001b[A\u001b[A"
     ]
    },
    {
     "name": "stdout",
     "output_type": "stream",
     "text": [
      "okkkk\n",
      "Scale ->  0 | Confidence Score [1.15971419] \n",
      "\n",
      "Scale ->  0 | Confidence Score [0.80983317] \n",
      "\n",
      "Scale ->  0 | Confidence Score [0.55445014] \n",
      "\n",
      "Scale ->  0 | Confidence Score [0.60877764] \n",
      "\n"
     ]
    },
    {
     "name": "stderr",
     "output_type": "stream",
     "text": [
      "\n",
      "\n",
      "t:  33%|██████████████████████▊                                             | 84/251 [03:44<07:37,  2.74s/it, now=None]\u001b[A\u001b[A"
     ]
    },
    {
     "name": "stdout",
     "output_type": "stream",
     "text": [
      "okkkk\n",
      "Scale ->  0 | Confidence Score [1.12256881] \n",
      "\n",
      "Scale ->  0 | Confidence Score [0.65109222] \n",
      "\n",
      "Scale ->  0 | Confidence Score [0.50059452] \n",
      "\n",
      "Scale ->  0 | Confidence Score [0.77547495] \n",
      "\n",
      "Scale ->  0 | Confidence Score [0.61308779] \n",
      "\n"
     ]
    },
    {
     "name": "stderr",
     "output_type": "stream",
     "text": [
      "\n",
      "\n",
      "t:  34%|███████████████████████                                             | 85/251 [03:46<07:33,  2.73s/it, now=None]\u001b[A\u001b[A"
     ]
    },
    {
     "name": "stdout",
     "output_type": "stream",
     "text": [
      "okkkk\n",
      "Scale ->  0 | Confidence Score [1.11532045] \n",
      "\n",
      "Scale ->  0 | Confidence Score [0.55962594] \n",
      "\n",
      "Scale ->  0 | Confidence Score [0.55474151] \n",
      "\n",
      "Scale ->  0 | Confidence Score [1.12080633] \n",
      "\n",
      "Scale ->  0 | Confidence Score [0.53878967] \n",
      "\n",
      "Scale ->  0 | Confidence Score [0.59841186] \n",
      "\n",
      "Scale ->  0 | Confidence Score [0.551222] \n",
      "\n"
     ]
    },
    {
     "name": "stderr",
     "output_type": "stream",
     "text": [
      "\n",
      "\n",
      "t:  34%|███████████████████████▎                                            | 86/251 [03:49<07:47,  2.83s/it, now=None]\u001b[A\u001b[A"
     ]
    },
    {
     "name": "stdout",
     "output_type": "stream",
     "text": [
      "okkkk\n",
      "Scale ->  0 | Confidence Score [0.85375387] \n",
      "\n",
      "Scale ->  0 | Confidence Score [0.59015787] \n",
      "\n",
      "Scale ->  0 | Confidence Score [0.95371689] \n",
      "\n"
     ]
    },
    {
     "name": "stderr",
     "output_type": "stream",
     "text": [
      "\n",
      "\n",
      "t:  35%|███████████████████████▌                                            | 87/251 [03:53<08:12,  3.00s/it, now=None]\u001b[A\u001b[A"
     ]
    },
    {
     "name": "stdout",
     "output_type": "stream",
     "text": [
      "okkkk\n",
      "Scale ->  0 | Confidence Score [0.96214432] \n",
      "\n",
      "Scale ->  0 | Confidence Score [0.55836898] \n",
      "\n"
     ]
    },
    {
     "name": "stderr",
     "output_type": "stream",
     "text": [
      "\n",
      "\n",
      "t:  35%|███████████████████████▊                                            | 88/251 [03:55<07:58,  2.94s/it, now=None]\u001b[A\u001b[A"
     ]
    },
    {
     "name": "stdout",
     "output_type": "stream",
     "text": [
      "okkkk\n",
      "Scale ->  0 | Confidence Score [0.68840275] \n",
      "\n",
      "Scale ->  0 | Confidence Score [0.84259884] \n",
      "\n",
      "Scale ->  0 | Confidence Score [0.6036896] \n",
      "\n"
     ]
    },
    {
     "name": "stderr",
     "output_type": "stream",
     "text": [
      "\n",
      "\n",
      "t:  35%|████████████████████████                                            | 89/251 [03:58<07:46,  2.88s/it, now=None]\u001b[A\u001b[A"
     ]
    },
    {
     "name": "stdout",
     "output_type": "stream",
     "text": [
      "okkkk\n",
      "Scale ->  0 | Confidence Score [0.62041367] \n",
      "\n",
      "Scale ->  0 | Confidence Score [0.93198339] \n",
      "\n",
      "Scale ->  0 | Confidence Score [0.62930914] \n",
      "\n"
     ]
    },
    {
     "name": "stderr",
     "output_type": "stream",
     "text": [
      "\n",
      "\n",
      "t:  36%|████████████████████████▍                                           | 90/251 [04:01<07:36,  2.84s/it, now=None]\u001b[A\u001b[A"
     ]
    },
    {
     "name": "stdout",
     "output_type": "stream",
     "text": [
      "okkkk\n",
      "Scale ->  0 | Confidence Score [0.58192983] \n",
      "\n",
      "Scale ->  0 | Confidence Score [0.67502312] \n",
      "\n"
     ]
    },
    {
     "name": "stderr",
     "output_type": "stream",
     "text": [
      "\n",
      "\n",
      "t:  36%|████████████████████████▋                                           | 91/251 [04:04<07:28,  2.80s/it, now=None]\u001b[A\u001b[A"
     ]
    },
    {
     "name": "stdout",
     "output_type": "stream",
     "text": [
      "okkkk\n",
      "Scale ->  0 | Confidence Score [0.65637535] \n",
      "\n",
      "Scale ->  0 | Confidence Score [0.55602116] \n",
      "\n"
     ]
    },
    {
     "name": "stderr",
     "output_type": "stream",
     "text": [
      "\n",
      "\n",
      "t:  37%|████████████████████████▉                                           | 92/251 [04:06<07:22,  2.78s/it, now=None]\u001b[A\u001b[A"
     ]
    },
    {
     "name": "stdout",
     "output_type": "stream",
     "text": [
      "okkkk\n",
      "Scale ->  0 | Confidence Score [0.56332116] \n",
      "\n",
      "Scale ->  0 | Confidence Score [0.58749285] \n",
      "\n"
     ]
    },
    {
     "name": "stderr",
     "output_type": "stream",
     "text": [
      "\n",
      "\n",
      "t:  37%|█████████████████████████▏                                          | 93/251 [04:09<07:15,  2.76s/it, now=None]\u001b[A\u001b[A"
     ]
    },
    {
     "name": "stdout",
     "output_type": "stream",
     "text": [
      "okkkk\n",
      "Scale ->  0 | Confidence Score [0.63709453] \n",
      "\n",
      "Scale ->  0 | Confidence Score [0.5818492] \n",
      "\n",
      "Scale ->  0 | Confidence Score [0.51573029] \n",
      "\n"
     ]
    },
    {
     "name": "stderr",
     "output_type": "stream",
     "text": [
      "\n",
      "\n",
      "t:  37%|█████████████████████████▍                                          | 94/251 [04:12<07:08,  2.73s/it, now=None]\u001b[A\u001b[A"
     ]
    },
    {
     "name": "stdout",
     "output_type": "stream",
     "text": [
      "okkkk\n",
      "Scale ->  0 | Confidence Score [0.85189166] \n",
      "\n",
      "Scale ->  0 | Confidence Score [0.53053723] \n",
      "\n"
     ]
    },
    {
     "name": "stderr",
     "output_type": "stream",
     "text": [
      "\n",
      "\n",
      "t:  38%|█████████████████████████▋                                          | 95/251 [04:15<07:04,  2.72s/it, now=None]\u001b[A\u001b[A"
     ]
    },
    {
     "name": "stdout",
     "output_type": "stream",
     "text": [
      "okkkk\n",
      "Scale ->  0 | Confidence Score [0.73874127] \n",
      "\n",
      "Scale ->  0 | Confidence Score [0.72469216] \n",
      "\n",
      "Scale ->  0 | Confidence Score [0.69724863] \n",
      "\n"
     ]
    },
    {
     "name": "stderr",
     "output_type": "stream",
     "text": [
      "\n",
      "\n",
      "t:  38%|██████████████████████████                                          | 96/251 [04:17<07:00,  2.71s/it, now=None]\u001b[A\u001b[A"
     ]
    },
    {
     "name": "stdout",
     "output_type": "stream",
     "text": [
      "okkkk\n",
      "Scale ->  0 | Confidence Score [0.77302917] \n",
      "\n",
      "Scale ->  0 | Confidence Score [0.56643654] \n",
      "\n",
      "Scale ->  0 | Confidence Score [0.58867312] \n",
      "\n"
     ]
    },
    {
     "name": "stderr",
     "output_type": "stream",
     "text": [
      "\n",
      "\n",
      "t:  39%|██████████████████████████▎                                         | 97/251 [04:20<06:56,  2.71s/it, now=None]\u001b[A\u001b[A"
     ]
    },
    {
     "name": "stdout",
     "output_type": "stream",
     "text": [
      "okkkk\n",
      "Scale ->  0 | Confidence Score [0.77582042] \n",
      "\n",
      "Scale ->  0 | Confidence Score [0.61848225] \n",
      "\n",
      "Scale ->  0 | Confidence Score [0.50336528] \n",
      "\n"
     ]
    },
    {
     "name": "stderr",
     "output_type": "stream",
     "text": [
      "\n",
      "\n",
      "t:  39%|██████████████████████████▌                                         | 98/251 [04:22<06:33,  2.57s/it, now=None]\u001b[A\u001b[A"
     ]
    },
    {
     "name": "stdout",
     "output_type": "stream",
     "text": [
      "okkkk\n",
      "Scale ->  0 | Confidence Score [0.81420406] \n",
      "\n"
     ]
    },
    {
     "name": "stderr",
     "output_type": "stream",
     "text": [
      "\n",
      "\n",
      "t:  39%|██████████████████████████▊                                         | 99/251 [04:26<07:18,  2.88s/it, now=None]\u001b[A\u001b[A"
     ]
    },
    {
     "name": "stdout",
     "output_type": "stream",
     "text": [
      "okkkk\n",
      "Scale ->  0 | Confidence Score [0.74409153] \n",
      "\n",
      "Scale ->  0 | Confidence Score [0.63662598] \n",
      "\n",
      "Scale ->  0 | Confidence Score [0.52783231] \n",
      "\n"
     ]
    },
    {
     "name": "stderr",
     "output_type": "stream",
     "text": [
      "\n",
      "\n",
      "t:  40%|██████████████████████████▋                                        | 100/251 [04:29<07:32,  3.00s/it, now=None]\u001b[A\u001b[A"
     ]
    },
    {
     "name": "stdout",
     "output_type": "stream",
     "text": [
      "okkkk\n",
      "Scale ->  0 | Confidence Score [0.54771055] \n",
      "\n",
      "Scale ->  0 | Confidence Score [0.8638286] \n",
      "\n"
     ]
    },
    {
     "name": "stderr",
     "output_type": "stream",
     "text": [
      "\n",
      "\n",
      "t:  40%|██████████████████████████▉                                        | 101/251 [04:32<07:17,  2.91s/it, now=None]\u001b[A\u001b[A"
     ]
    },
    {
     "name": "stdout",
     "output_type": "stream",
     "text": [
      "okkkk\n",
      "Scale ->  0 | Confidence Score [0.62607138] \n",
      "\n",
      "Scale ->  0 | Confidence Score [0.5103196] \n",
      "\n"
     ]
    },
    {
     "name": "stderr",
     "output_type": "stream",
     "text": [
      "\n",
      "\n",
      "t:  41%|███████████████████████████▏                                       | 102/251 [04:34<07:04,  2.85s/it, now=None]\u001b[A\u001b[A"
     ]
    },
    {
     "name": "stdout",
     "output_type": "stream",
     "text": [
      "okkkk\n",
      "Scale ->  0 | Confidence Score [0.62494559] \n",
      "\n",
      "Scale ->  0 | Confidence Score [0.59069434] \n",
      "\n",
      "Scale ->  0 | Confidence Score [0.71704586] \n",
      "\n"
     ]
    },
    {
     "name": "stderr",
     "output_type": "stream",
     "text": [
      "\n",
      "\n",
      "t:  41%|███████████████████████████▍                                       | 103/251 [04:37<06:55,  2.80s/it, now=None]\u001b[A\u001b[A"
     ]
    },
    {
     "name": "stdout",
     "output_type": "stream",
     "text": [
      "okkkk\n",
      "Scale ->  0 | Confidence Score [0.94088592] \n",
      "\n",
      "Scale ->  0 | Confidence Score [0.77981255] \n",
      "\n",
      "Scale ->  0 | Confidence Score [0.67063638] \n",
      "\n"
     ]
    },
    {
     "name": "stderr",
     "output_type": "stream",
     "text": [
      "\n",
      "\n",
      "t:  41%|███████████████████████████▊                                       | 104/251 [04:40<06:52,  2.80s/it, now=None]\u001b[A\u001b[A"
     ]
    },
    {
     "name": "stdout",
     "output_type": "stream",
     "text": [
      "okkkk\n",
      "Scale ->  0 | Confidence Score [0.7334469] \n",
      "\n",
      "Scale ->  0 | Confidence Score [0.60008967] \n",
      "\n",
      "Scale ->  0 | Confidence Score [0.84728601] \n",
      "\n"
     ]
    },
    {
     "name": "stderr",
     "output_type": "stream",
     "text": [
      "\n",
      "\n",
      "t:  42%|████████████████████████████                                       | 105/251 [04:43<06:47,  2.79s/it, now=None]\u001b[A\u001b[A"
     ]
    },
    {
     "name": "stdout",
     "output_type": "stream",
     "text": [
      "okkkk\n",
      "Scale ->  0 | Confidence Score [1.00003623] \n",
      "\n",
      "Scale ->  0 | Confidence Score [0.62156786] \n",
      "\n",
      "Scale ->  0 | Confidence Score [0.72298547] \n",
      "\n"
     ]
    },
    {
     "name": "stderr",
     "output_type": "stream",
     "text": [
      "\n",
      "\n",
      "t:  42%|████████████████████████████▎                                      | 106/251 [04:45<06:40,  2.76s/it, now=None]\u001b[A\u001b[A"
     ]
    },
    {
     "name": "stdout",
     "output_type": "stream",
     "text": [
      "okkkk\n",
      "Scale ->  0 | Confidence Score [0.86932714] \n",
      "\n",
      "Scale ->  0 | Confidence Score [0.673484] \n",
      "\n"
     ]
    },
    {
     "name": "stderr",
     "output_type": "stream",
     "text": [
      "\n",
      "\n",
      "t:  43%|████████████████████████████▌                                      | 107/251 [04:48<06:34,  2.74s/it, now=None]\u001b[A\u001b[A"
     ]
    },
    {
     "name": "stdout",
     "output_type": "stream",
     "text": [
      "okkkk\n",
      "Scale ->  0 | Confidence Score [0.62520338] \n",
      "\n",
      "Scale ->  0 | Confidence Score [0.62643989] \n",
      "\n"
     ]
    },
    {
     "name": "stderr",
     "output_type": "stream",
     "text": [
      "\n",
      "\n",
      "t:  43%|████████████████████████████▊                                      | 108/251 [04:51<06:29,  2.73s/it, now=None]\u001b[A\u001b[A"
     ]
    },
    {
     "name": "stdout",
     "output_type": "stream",
     "text": [
      "okkkk\n",
      "Scale ->  0 | Confidence Score [0.86888504] \n",
      "\n",
      "Scale ->  0 | Confidence Score [0.5779226] \n",
      "\n",
      "Scale ->  0 | Confidence Score [0.79882467] \n",
      "\n"
     ]
    },
    {
     "name": "stderr",
     "output_type": "stream",
     "text": [
      "\n",
      "\n",
      "t:  43%|█████████████████████████████                                      | 109/251 [04:54<06:27,  2.73s/it, now=None]\u001b[A\u001b[A"
     ]
    },
    {
     "name": "stdout",
     "output_type": "stream",
     "text": [
      "okkkk\n",
      "Scale ->  0 | Confidence Score [0.72253818] \n",
      "\n",
      "Scale ->  0 | Confidence Score [0.52701001] \n",
      "\n",
      "Scale ->  0 | Confidence Score [0.67398474] \n",
      "\n"
     ]
    },
    {
     "name": "stderr",
     "output_type": "stream",
     "text": [
      "\n",
      "\n",
      "t:  44%|█████████████████████████████▎                                     | 110/251 [04:56<06:22,  2.71s/it, now=None]\u001b[A\u001b[A"
     ]
    },
    {
     "name": "stdout",
     "output_type": "stream",
     "text": [
      "okkkk\n",
      "Scale ->  0 | Confidence Score [0.69431795] \n",
      "\n",
      "Scale ->  0 | Confidence Score [0.53308829] \n",
      "\n",
      "Scale ->  0 | Confidence Score [0.64964745] \n",
      "\n",
      "Scale ->  0 | Confidence Score [0.76729068] \n",
      "\n"
     ]
    },
    {
     "name": "stderr",
     "output_type": "stream",
     "text": [
      "\n",
      "\n",
      "t:  44%|█████████████████████████████▋                                     | 111/251 [04:59<06:19,  2.71s/it, now=None]\u001b[A\u001b[A"
     ]
    },
    {
     "name": "stdout",
     "output_type": "stream",
     "text": [
      "okkkk\n",
      "Scale ->  0 | Confidence Score [0.73454009] \n",
      "\n",
      "Scale ->  0 | Confidence Score [0.54406514] \n",
      "\n",
      "Scale ->  0 | Confidence Score [0.65135145] \n",
      "\n",
      "Scale ->  0 | Confidence Score [0.55124431] \n",
      "\n"
     ]
    },
    {
     "name": "stderr",
     "output_type": "stream",
     "text": [
      "\n",
      "\n",
      "t:  45%|█████████████████████████████▉                                     | 112/251 [05:02<06:17,  2.72s/it, now=None]\u001b[A\u001b[A"
     ]
    },
    {
     "name": "stdout",
     "output_type": "stream",
     "text": [
      "okkkk\n",
      "Scale ->  0 | Confidence Score [0.7238162] \n",
      "\n",
      "Scale ->  0 | Confidence Score [0.69212215] \n",
      "\n"
     ]
    },
    {
     "name": "stderr",
     "output_type": "stream",
     "text": [
      "\n",
      "\n",
      "t:  45%|██████████████████████████████▏                                    | 113/251 [05:04<06:14,  2.72s/it, now=None]\u001b[A\u001b[A"
     ]
    },
    {
     "name": "stdout",
     "output_type": "stream",
     "text": [
      "okkkk\n",
      "Scale ->  0 | Confidence Score [0.90504969] \n",
      "\n",
      "Scale ->  0 | Confidence Score [0.54682703] \n",
      "\n",
      "Scale ->  0 | Confidence Score [0.74125505] \n",
      "\n"
     ]
    },
    {
     "name": "stderr",
     "output_type": "stream",
     "text": [
      "\n",
      "\n",
      "t:  45%|██████████████████████████████▍                                    | 114/251 [05:07<06:09,  2.70s/it, now=None]\u001b[A\u001b[A"
     ]
    },
    {
     "name": "stdout",
     "output_type": "stream",
     "text": [
      "okkkk\n",
      "Scale ->  0 | Confidence Score [0.54378922] \n",
      "\n"
     ]
    },
    {
     "name": "stderr",
     "output_type": "stream",
     "text": [
      "\n",
      "\n",
      "t:  46%|██████████████████████████████▋                                    | 115/251 [05:10<06:07,  2.70s/it, now=None]\u001b[A\u001b[A"
     ]
    },
    {
     "name": "stdout",
     "output_type": "stream",
     "text": [
      "okkkk\n"
     ]
    },
    {
     "name": "stderr",
     "output_type": "stream",
     "text": [
      "\n",
      "\n",
      "t:  46%|██████████████████████████████▉                                    | 116/251 [05:12<06:04,  2.70s/it, now=None]\u001b[A\u001b[A"
     ]
    },
    {
     "name": "stdout",
     "output_type": "stream",
     "text": [
      "okkkk\n",
      "Scale ->  0 | Confidence Score [0.58149303] \n",
      "\n",
      "Scale ->  0 | Confidence Score [0.5026135] \n",
      "\n"
     ]
    },
    {
     "name": "stderr",
     "output_type": "stream",
     "text": [
      "\n",
      "\n",
      "t:  47%|███████████████████████████████▏                                   | 117/251 [05:16<06:34,  2.94s/it, now=None]\u001b[A\u001b[A"
     ]
    },
    {
     "name": "stdout",
     "output_type": "stream",
     "text": [
      "okkkk\n",
      "Scale ->  0 | Confidence Score [0.64912774] \n",
      "\n"
     ]
    },
    {
     "name": "stderr",
     "output_type": "stream",
     "text": [
      "\n",
      "\n",
      "t:  47%|███████████████████████████████▍                                   | 118/251 [05:19<06:33,  2.96s/it, now=None]\u001b[A\u001b[A"
     ]
    },
    {
     "name": "stdout",
     "output_type": "stream",
     "text": [
      "okkkk\n",
      "Scale ->  0 | Confidence Score [0.62110707] \n",
      "\n",
      "Scale ->  0 | Confidence Score [0.60111202] \n",
      "\n"
     ]
    },
    {
     "name": "stderr",
     "output_type": "stream",
     "text": [
      "\n",
      "\n",
      "t:  47%|███████████████████████████████▊                                   | 119/251 [05:22<06:22,  2.90s/it, now=None]\u001b[A\u001b[A"
     ]
    },
    {
     "name": "stdout",
     "output_type": "stream",
     "text": [
      "okkkk\n",
      "Scale ->  0 | Confidence Score [0.5185576] \n",
      "\n"
     ]
    },
    {
     "name": "stderr",
     "output_type": "stream",
     "text": [
      "\n",
      "\n",
      "t:  48%|████████████████████████████████                                   | 120/251 [05:24<06:10,  2.83s/it, now=None]\u001b[A\u001b[A"
     ]
    },
    {
     "name": "stdout",
     "output_type": "stream",
     "text": [
      "okkkk\n",
      "Scale ->  0 | Confidence Score [0.74722967] \n",
      "\n",
      "Scale ->  0 | Confidence Score [0.86013001] \n",
      "\n"
     ]
    },
    {
     "name": "stderr",
     "output_type": "stream",
     "text": [
      "\n",
      "\n",
      "t:  48%|████████████████████████████████▎                                  | 121/251 [05:27<06:03,  2.80s/it, now=None]\u001b[A\u001b[A"
     ]
    },
    {
     "name": "stdout",
     "output_type": "stream",
     "text": [
      "okkkk\n",
      "Scale ->  0 | Confidence Score [0.5458609] \n",
      "\n",
      "Scale ->  0 | Confidence Score [0.58283039] \n",
      "\n",
      "Scale ->  0 | Confidence Score [0.54916257] \n",
      "\n"
     ]
    },
    {
     "name": "stderr",
     "output_type": "stream",
     "text": [
      "\n",
      "\n",
      "t:  49%|████████████████████████████████▌                                  | 122/251 [05:30<05:58,  2.78s/it, now=None]\u001b[A\u001b[A"
     ]
    },
    {
     "name": "stdout",
     "output_type": "stream",
     "text": [
      "okkkk\n",
      "Scale ->  0 | Confidence Score [0.54031331] \n",
      "\n"
     ]
    },
    {
     "name": "stderr",
     "output_type": "stream",
     "text": [
      "\n",
      "\n",
      "t:  49%|████████████████████████████████▊                                  | 123/251 [05:32<05:53,  2.76s/it, now=None]\u001b[A\u001b[A"
     ]
    },
    {
     "name": "stdout",
     "output_type": "stream",
     "text": [
      "okkkk\n",
      "Scale ->  0 | Confidence Score [0.62557011] \n",
      "\n",
      "Scale ->  0 | Confidence Score [0.53057062] \n",
      "\n"
     ]
    },
    {
     "name": "stderr",
     "output_type": "stream",
     "text": [
      "\n",
      "\n",
      "t:  49%|█████████████████████████████████                                  | 124/251 [05:35<05:48,  2.74s/it, now=None]\u001b[A\u001b[A"
     ]
    },
    {
     "name": "stdout",
     "output_type": "stream",
     "text": [
      "okkkk\n",
      "Scale ->  0 | Confidence Score [0.95623475] \n",
      "\n",
      "Scale ->  0 | Confidence Score [0.55900467] \n",
      "\n",
      "Scale ->  0 | Confidence Score [0.60332888] \n",
      "\n"
     ]
    },
    {
     "name": "stderr",
     "output_type": "stream",
     "text": [
      "\n",
      "\n",
      "t:  50%|█████████████████████████████████▎                                 | 125/251 [05:38<05:44,  2.74s/it, now=None]\u001b[A\u001b[A"
     ]
    },
    {
     "name": "stdout",
     "output_type": "stream",
     "text": [
      "okkkk\n",
      "Scale ->  0 | Confidence Score [0.60805834] \n",
      "\n",
      "Scale ->  0 | Confidence Score [0.5623271] \n",
      "\n"
     ]
    },
    {
     "name": "stderr",
     "output_type": "stream",
     "text": [
      "\n",
      "\n",
      "t:  50%|█████████████████████████████████▋                                 | 126/251 [05:41<05:44,  2.75s/it, now=None]\u001b[A\u001b[A"
     ]
    },
    {
     "name": "stdout",
     "output_type": "stream",
     "text": [
      "okkkk\n",
      "Scale ->  0 | Confidence Score [0.75793597] \n",
      "\n",
      "Scale ->  0 | Confidence Score [0.57973636] \n",
      "\n"
     ]
    },
    {
     "name": "stderr",
     "output_type": "stream",
     "text": [
      "\n",
      "\n",
      "t:  51%|█████████████████████████████████▉                                 | 127/251 [05:43<05:39,  2.74s/it, now=None]\u001b[A\u001b[A"
     ]
    },
    {
     "name": "stdout",
     "output_type": "stream",
     "text": [
      "okkkk\n",
      "Scale ->  0 | Confidence Score [0.73129007] \n",
      "\n"
     ]
    },
    {
     "name": "stderr",
     "output_type": "stream",
     "text": [
      "\n",
      "\n",
      "t:  51%|██████████████████████████████████▏                                | 128/251 [05:46<05:34,  2.72s/it, now=None]\u001b[A\u001b[A"
     ]
    },
    {
     "name": "stdout",
     "output_type": "stream",
     "text": [
      "okkkk\n",
      "Scale ->  0 | Confidence Score [0.6698394] \n",
      "\n",
      "Scale ->  0 | Confidence Score [0.55572376] \n",
      "\n"
     ]
    },
    {
     "name": "stderr",
     "output_type": "stream",
     "text": [
      "\n",
      "\n",
      "t:  51%|██████████████████████████████████▍                                | 129/251 [05:49<05:31,  2.72s/it, now=None]\u001b[A\u001b[A"
     ]
    },
    {
     "name": "stdout",
     "output_type": "stream",
     "text": [
      "okkkk\n",
      "Scale ->  0 | Confidence Score [0.88113488] \n",
      "\n",
      "Scale ->  0 | Confidence Score [0.53716466] \n",
      "\n"
     ]
    },
    {
     "name": "stderr",
     "output_type": "stream",
     "text": [
      "\n",
      "\n",
      "t:  52%|██████████████████████████████████▋                                | 130/251 [05:51<05:24,  2.68s/it, now=None]\u001b[A\u001b[A"
     ]
    },
    {
     "name": "stdout",
     "output_type": "stream",
     "text": [
      "okkkk\n",
      "Scale ->  0 | Confidence Score [0.86087766] \n",
      "\n",
      "Scale ->  0 | Confidence Score [0.59506632] \n",
      "\n"
     ]
    },
    {
     "name": "stderr",
     "output_type": "stream",
     "text": [
      "\n",
      "\n",
      "t:  52%|██████████████████████████████████▉                                | 131/251 [05:54<05:15,  2.63s/it, now=None]\u001b[A\u001b[A"
     ]
    },
    {
     "name": "stdout",
     "output_type": "stream",
     "text": [
      "okkkk\n",
      "Scale ->  0 | Confidence Score [0.73936184] \n",
      "\n",
      "Scale ->  0 | Confidence Score [0.75346121] \n",
      "\n"
     ]
    },
    {
     "name": "stderr",
     "output_type": "stream",
     "text": [
      "\n",
      "\n",
      "t:  53%|███████████████████████████████████▏                               | 132/251 [05:57<05:11,  2.62s/it, now=None]\u001b[A\u001b[A"
     ]
    },
    {
     "name": "stdout",
     "output_type": "stream",
     "text": [
      "okkkk\n",
      "Scale ->  0 | Confidence Score [0.6570374] \n",
      "\n",
      "Scale ->  0 | Confidence Score [0.73357157] \n",
      "\n"
     ]
    },
    {
     "name": "stderr",
     "output_type": "stream",
     "text": [
      "\n",
      "\n",
      "t:  53%|███████████████████████████████████▌                               | 133/251 [05:59<05:11,  2.64s/it, now=None]\u001b[A\u001b[A"
     ]
    },
    {
     "name": "stdout",
     "output_type": "stream",
     "text": [
      "okkkk\n",
      "Scale ->  0 | Confidence Score [0.70000387] \n",
      "\n",
      "Scale ->  0 | Confidence Score [0.53704947] \n",
      "\n",
      "Scale ->  0 | Confidence Score [0.67407345] \n",
      "\n"
     ]
    },
    {
     "name": "stderr",
     "output_type": "stream",
     "text": [
      "\n",
      "\n",
      "t:  53%|███████████████████████████████████▊                               | 134/251 [06:02<05:06,  2.62s/it, now=None]\u001b[A\u001b[A"
     ]
    },
    {
     "name": "stdout",
     "output_type": "stream",
     "text": [
      "okkkk\n",
      "Scale ->  0 | Confidence Score [0.58153591] \n",
      "\n"
     ]
    },
    {
     "name": "stderr",
     "output_type": "stream",
     "text": [
      "\n",
      "\n",
      "t:  54%|████████████████████████████████████                               | 135/251 [06:04<05:02,  2.61s/it, now=None]\u001b[A\u001b[A"
     ]
    },
    {
     "name": "stdout",
     "output_type": "stream",
     "text": [
      "okkkk\n",
      "Scale ->  0 | Confidence Score [0.78590269] \n",
      "\n",
      "Scale ->  0 | Confidence Score [0.70184517] \n",
      "\n"
     ]
    },
    {
     "name": "stderr",
     "output_type": "stream",
     "text": [
      "\n",
      "\n",
      "t:  54%|████████████████████████████████████▎                              | 136/251 [06:07<04:59,  2.60s/it, now=None]\u001b[A\u001b[A"
     ]
    },
    {
     "name": "stdout",
     "output_type": "stream",
     "text": [
      "okkkk\n",
      "Scale ->  0 | Confidence Score [0.86029147] \n",
      "\n"
     ]
    },
    {
     "name": "stderr",
     "output_type": "stream",
     "text": [
      "\n",
      "\n",
      "t:  55%|████████████████████████████████████▌                              | 137/251 [06:10<04:58,  2.62s/it, now=None]\u001b[A\u001b[A"
     ]
    },
    {
     "name": "stdout",
     "output_type": "stream",
     "text": [
      "okkkk\n",
      "Scale ->  0 | Confidence Score [0.68662106] \n",
      "\n"
     ]
    },
    {
     "name": "stderr",
     "output_type": "stream",
     "text": [
      "\n",
      "\n",
      "t:  55%|████████████████████████████████████▊                              | 138/251 [06:12<04:56,  2.62s/it, now=None]\u001b[A\u001b[A"
     ]
    },
    {
     "name": "stdout",
     "output_type": "stream",
     "text": [
      "okkkk\n",
      "Scale ->  0 | Confidence Score [0.5718269] \n",
      "\n"
     ]
    },
    {
     "name": "stderr",
     "output_type": "stream",
     "text": [
      "\n",
      "\n",
      "t:  55%|█████████████████████████████████████                              | 139/251 [06:15<04:56,  2.65s/it, now=None]\u001b[A\u001b[A"
     ]
    },
    {
     "name": "stdout",
     "output_type": "stream",
     "text": [
      "okkkk\n",
      "Scale ->  0 | Confidence Score [0.54578242] \n",
      "\n",
      "Scale ->  0 | Confidence Score [0.59433422] \n",
      "\n"
     ]
    },
    {
     "name": "stderr",
     "output_type": "stream",
     "text": [
      "\n",
      "\n",
      "t:  56%|█████████████████████████████████████▎                             | 140/251 [06:18<04:55,  2.67s/it, now=None]\u001b[A\u001b[A"
     ]
    },
    {
     "name": "stdout",
     "output_type": "stream",
     "text": [
      "okkkk\n",
      "Scale ->  0 | Confidence Score [0.77273087] \n",
      "\n"
     ]
    },
    {
     "name": "stderr",
     "output_type": "stream",
     "text": [
      "\n",
      "\n",
      "t:  56%|█████████████████████████████████████▋                             | 141/251 [06:20<04:55,  2.68s/it, now=None]\u001b[A\u001b[A"
     ]
    },
    {
     "name": "stdout",
     "output_type": "stream",
     "text": [
      "okkkk\n",
      "Scale ->  0 | Confidence Score [0.61931093] \n",
      "\n"
     ]
    },
    {
     "name": "stderr",
     "output_type": "stream",
     "text": [
      "\n",
      "\n",
      "t:  57%|█████████████████████████████████████▉                             | 142/251 [06:23<04:52,  2.68s/it, now=None]\u001b[A\u001b[A"
     ]
    },
    {
     "name": "stdout",
     "output_type": "stream",
     "text": [
      "okkkk\n",
      "Scale ->  0 | Confidence Score [0.55614184] \n",
      "\n"
     ]
    },
    {
     "name": "stderr",
     "output_type": "stream",
     "text": [
      "\n",
      "\n",
      "t:  57%|██████████████████████████████████████▏                            | 143/251 [06:26<04:49,  2.68s/it, now=None]\u001b[A\u001b[A"
     ]
    },
    {
     "name": "stdout",
     "output_type": "stream",
     "text": [
      "okkkk\n",
      "Scale ->  0 | Confidence Score [0.74943941] \n",
      "\n",
      "Scale ->  0 | Confidence Score [0.56400624] \n",
      "\n",
      "Scale ->  0 | Confidence Score [0.66469607] \n",
      "\n"
     ]
    },
    {
     "name": "stderr",
     "output_type": "stream",
     "text": [
      "\n",
      "\n",
      "t:  57%|██████████████████████████████████████▍                            | 144/251 [06:28<04:47,  2.68s/it, now=None]\u001b[A\u001b[A"
     ]
    },
    {
     "name": "stdout",
     "output_type": "stream",
     "text": [
      "okkkk\n",
      "Scale ->  0 | Confidence Score [0.50753947] \n",
      "\n",
      "Scale ->  0 | Confidence Score [0.80513575] \n",
      "\n",
      "Scale ->  0 | Confidence Score [0.7300569] \n",
      "\n",
      "Scale ->  0 | Confidence Score [0.64260139] \n",
      "\n"
     ]
    },
    {
     "name": "stderr",
     "output_type": "stream",
     "text": [
      "\n",
      "\n",
      "t:  58%|██████████████████████████████████████▋                            | 145/251 [06:31<04:43,  2.68s/it, now=None]\u001b[A\u001b[A"
     ]
    },
    {
     "name": "stdout",
     "output_type": "stream",
     "text": [
      "okkkk\n",
      "Scale ->  0 | Confidence Score [0.51123343] \n",
      "\n"
     ]
    },
    {
     "name": "stderr",
     "output_type": "stream",
     "text": [
      "\n",
      "\n",
      "t:  58%|██████████████████████████████████████▉                            | 146/251 [06:34<04:40,  2.67s/it, now=None]\u001b[A\u001b[A"
     ]
    },
    {
     "name": "stdout",
     "output_type": "stream",
     "text": [
      "okkkk\n",
      "Scale ->  0 | Confidence Score [0.62005619] \n",
      "\n",
      "Scale ->  0 | Confidence Score [0.50510214] \n",
      "\n"
     ]
    },
    {
     "name": "stderr",
     "output_type": "stream",
     "text": [
      "\n",
      "\n",
      "t:  59%|███████████████████████████████████████▏                           | 147/251 [06:36<04:34,  2.64s/it, now=None]\u001b[A\u001b[A"
     ]
    },
    {
     "name": "stdout",
     "output_type": "stream",
     "text": [
      "okkkk\n",
      "Scale ->  0 | Confidence Score [0.5224315] \n",
      "\n",
      "Scale ->  0 | Confidence Score [0.63465467] \n",
      "\n",
      "Scale ->  0 | Confidence Score [0.5151902] \n",
      "\n",
      "Scale ->  0 | Confidence Score [0.68307017] \n",
      "\n",
      "Scale ->  0 | Confidence Score [0.75649515] \n",
      "\n"
     ]
    },
    {
     "name": "stderr",
     "output_type": "stream",
     "text": [
      "\n",
      "\n",
      "t:  59%|███████████████████████████████████████▌                           | 148/251 [06:39<04:33,  2.66s/it, now=None]\u001b[A\u001b[A"
     ]
    },
    {
     "name": "stdout",
     "output_type": "stream",
     "text": [
      "okkkk\n",
      "Scale ->  0 | Confidence Score [0.5759815] \n",
      "\n",
      "Scale ->  0 | Confidence Score [0.7875724] \n",
      "\n",
      "Scale ->  0 | Confidence Score [0.72404695] \n",
      "\n",
      "Scale ->  0 | Confidence Score [0.59912216] \n",
      "\n"
     ]
    },
    {
     "name": "stderr",
     "output_type": "stream",
     "text": [
      "\n",
      "\n",
      "t:  59%|███████████████████████████████████████▊                           | 149/251 [06:42<04:43,  2.78s/it, now=None]\u001b[A\u001b[A"
     ]
    },
    {
     "name": "stdout",
     "output_type": "stream",
     "text": [
      "okkkk\n",
      "Scale ->  0 | Confidence Score [0.58843693] \n",
      "\n",
      "Scale ->  0 | Confidence Score [0.60073959] \n",
      "\n",
      "Scale ->  0 | Confidence Score [0.71910751] \n",
      "\n",
      "Scale ->  0 | Confidence Score [0.60082144] \n",
      "\n",
      "Scale ->  0 | Confidence Score [0.56120082] \n",
      "\n",
      "Scale ->  0 | Confidence Score [0.53524594] \n",
      "\n",
      "Scale ->  0 | Confidence Score [0.57131361] \n",
      "\n"
     ]
    },
    {
     "name": "stderr",
     "output_type": "stream",
     "text": [
      "\n",
      "\n",
      "t:  60%|████████████████████████████████████████                           | 150/251 [06:45<04:35,  2.73s/it, now=None]\u001b[A\u001b[A"
     ]
    },
    {
     "name": "stdout",
     "output_type": "stream",
     "text": [
      "okkkk\n",
      "Scale ->  0 | Confidence Score [0.7765629] \n",
      "\n",
      "Scale ->  0 | Confidence Score [0.73768594] \n",
      "\n"
     ]
    },
    {
     "name": "stderr",
     "output_type": "stream",
     "text": [
      "\n",
      "\n",
      "t:  60%|████████████████████████████████████████▎                          | 151/251 [06:47<04:30,  2.71s/it, now=None]\u001b[A\u001b[A"
     ]
    },
    {
     "name": "stdout",
     "output_type": "stream",
     "text": [
      "okkkk\n",
      "Scale ->  0 | Confidence Score [0.54566931] \n",
      "\n",
      "Scale ->  0 | Confidence Score [0.60496747] \n",
      "\n",
      "Scale ->  0 | Confidence Score [0.59083412] \n",
      "\n"
     ]
    },
    {
     "name": "stderr",
     "output_type": "stream",
     "text": [
      "\n",
      "\n",
      "t:  61%|████████████████████████████████████████▌                          | 152/251 [06:50<04:27,  2.70s/it, now=None]\u001b[A\u001b[A"
     ]
    },
    {
     "name": "stdout",
     "output_type": "stream",
     "text": [
      "okkkk\n",
      "Scale ->  0 | Confidence Score [0.67720972] \n",
      "\n",
      "Scale ->  0 | Confidence Score [0.75251163] \n",
      "\n",
      "Scale ->  0 | Confidence Score [0.73579104] \n",
      "\n",
      "Scale ->  0 | Confidence Score [0.59618845] \n",
      "\n",
      "Scale ->  0 | Confidence Score [0.62107855] \n",
      "\n",
      "Scale ->  0 | Confidence Score [0.96988393] \n",
      "\n",
      "Scale ->  0 | Confidence Score [0.69881967] \n",
      "\n"
     ]
    },
    {
     "name": "stderr",
     "output_type": "stream",
     "text": [
      "\n",
      "\n",
      "t:  61%|████████████████████████████████████████▊                          | 153/251 [06:53<04:26,  2.72s/it, now=None]\u001b[A\u001b[A"
     ]
    },
    {
     "name": "stdout",
     "output_type": "stream",
     "text": [
      "okkkk\n",
      "Scale ->  0 | Confidence Score [0.60661438] \n",
      "\n",
      "Scale ->  0 | Confidence Score [0.81638136] \n",
      "\n",
      "Scale ->  0 | Confidence Score [0.53831161] \n",
      "\n",
      "Scale ->  0 | Confidence Score [0.91416986] \n",
      "\n"
     ]
    },
    {
     "name": "stderr",
     "output_type": "stream",
     "text": [
      "\n",
      "\n",
      "t:  61%|█████████████████████████████████████████                          | 154/251 [06:55<04:22,  2.70s/it, now=None]\u001b[A\u001b[A"
     ]
    },
    {
     "name": "stdout",
     "output_type": "stream",
     "text": [
      "okkkk\n",
      "Scale ->  0 | Confidence Score [1.09318289] \n",
      "\n",
      "Scale ->  0 | Confidence Score [0.95386955] \n",
      "\n",
      "Scale ->  0 | Confidence Score [0.50623933] \n",
      "\n"
     ]
    },
    {
     "name": "stderr",
     "output_type": "stream",
     "text": [
      "\n",
      "\n",
      "t:  62%|█████████████████████████████████████████▎                         | 155/251 [06:58<04:18,  2.69s/it, now=None]\u001b[A\u001b[A"
     ]
    },
    {
     "name": "stdout",
     "output_type": "stream",
     "text": [
      "okkkk\n",
      "Scale ->  0 | Confidence Score [1.05051001] \n",
      "\n",
      "Scale ->  0 | Confidence Score [0.83618758] \n",
      "\n",
      "Scale ->  0 | Confidence Score [0.89294957] \n",
      "\n",
      "Scale ->  0 | Confidence Score [0.66182541] \n",
      "\n"
     ]
    },
    {
     "name": "stderr",
     "output_type": "stream",
     "text": [
      "\n",
      "\n",
      "t:  62%|█████████████████████████████████████████▋                         | 156/251 [07:01<04:13,  2.67s/it, now=None]\u001b[A\u001b[A"
     ]
    },
    {
     "name": "stdout",
     "output_type": "stream",
     "text": [
      "okkkk\n",
      "Scale ->  0 | Confidence Score [0.57624605] \n",
      "\n",
      "Scale ->  0 | Confidence Score [0.79507386] \n",
      "\n",
      "Scale ->  0 | Confidence Score [0.59163736] \n",
      "\n",
      "Scale ->  0 | Confidence Score [0.82196414] \n",
      "\n"
     ]
    },
    {
     "name": "stderr",
     "output_type": "stream",
     "text": [
      "\n",
      "\n",
      "t:  63%|█████████████████████████████████████████▉                         | 157/251 [07:04<04:14,  2.71s/it, now=None]\u001b[A\u001b[A"
     ]
    },
    {
     "name": "stdout",
     "output_type": "stream",
     "text": [
      "okkkk\n",
      "Scale ->  0 | Confidence Score [0.94911284] \n",
      "\n",
      "Scale ->  0 | Confidence Score [0.5687445] \n",
      "\n",
      "Scale ->  0 | Confidence Score [0.98848103] \n",
      "\n",
      "Scale ->  0 | Confidence Score [0.680773] \n",
      "\n",
      "Scale ->  0 | Confidence Score [0.63604402] \n",
      "\n",
      "Scale ->  0 | Confidence Score [1.03526636] \n",
      "\n"
     ]
    },
    {
     "name": "stderr",
     "output_type": "stream",
     "text": [
      "\n",
      "\n",
      "t:  63%|██████████████████████████████████████████▏                        | 158/251 [07:06<04:10,  2.69s/it, now=None]\u001b[A\u001b[A"
     ]
    },
    {
     "name": "stdout",
     "output_type": "stream",
     "text": [
      "okkkk\n",
      "Scale ->  0 | Confidence Score [0.8443205] \n",
      "\n",
      "Scale ->  0 | Confidence Score [0.72986479] \n",
      "\n",
      "Scale ->  0 | Confidence Score [0.66525559] \n",
      "\n",
      "Scale ->  0 | Confidence Score [0.87227052] \n",
      "\n",
      "Scale ->  0 | Confidence Score [0.83412032] \n",
      "\n",
      "Scale ->  0 | Confidence Score [0.53749184] \n",
      "\n",
      "Scale ->  0 | Confidence Score [0.52737516] \n",
      "\n"
     ]
    },
    {
     "name": "stderr",
     "output_type": "stream",
     "text": [
      "\n",
      "\n",
      "t:  63%|██████████████████████████████████████████▍                        | 159/251 [07:09<04:07,  2.69s/it, now=None]\u001b[A\u001b[A"
     ]
    },
    {
     "name": "stdout",
     "output_type": "stream",
     "text": [
      "okkkk\n",
      "Scale ->  0 | Confidence Score [0.74668815] \n",
      "\n",
      "Scale ->  0 | Confidence Score [0.81094789] \n",
      "\n",
      "Scale ->  0 | Confidence Score [0.83932364] \n",
      "\n",
      "Scale ->  0 | Confidence Score [0.61219829] \n",
      "\n"
     ]
    },
    {
     "name": "stderr",
     "output_type": "stream",
     "text": [
      "\n",
      "\n",
      "t:  64%|██████████████████████████████████████████▋                        | 160/251 [07:12<04:04,  2.69s/it, now=None]\u001b[A\u001b[A"
     ]
    },
    {
     "name": "stdout",
     "output_type": "stream",
     "text": [
      "okkkk\n",
      "Scale ->  0 | Confidence Score [0.65053006] \n",
      "\n",
      "Scale ->  0 | Confidence Score [0.60675144] \n",
      "\n"
     ]
    },
    {
     "name": "stderr",
     "output_type": "stream",
     "text": [
      "\n",
      "\n",
      "t:  64%|██████████████████████████████████████████▉                        | 161/251 [07:14<04:02,  2.69s/it, now=None]\u001b[A\u001b[A"
     ]
    },
    {
     "name": "stdout",
     "output_type": "stream",
     "text": [
      "okkkk\n",
      "Scale ->  0 | Confidence Score [0.78520721] \n",
      "\n",
      "Scale ->  0 | Confidence Score [0.65974723] \n",
      "\n",
      "Scale ->  0 | Confidence Score [0.51876644] \n",
      "\n"
     ]
    },
    {
     "name": "stderr",
     "output_type": "stream",
     "text": [
      "\n",
      "\n",
      "t:  65%|███████████████████████████████████████████▏                       | 162/251 [07:17<03:58,  2.68s/it, now=None]\u001b[A\u001b[A"
     ]
    },
    {
     "name": "stdout",
     "output_type": "stream",
     "text": [
      "okkkk\n",
      "Scale ->  0 | Confidence Score [1.19730169] \n",
      "\n",
      "Scale ->  0 | Confidence Score [0.6458748] \n",
      "\n",
      "Scale ->  0 | Confidence Score [0.58403506] \n",
      "\n",
      "Scale ->  0 | Confidence Score [0.81959536] \n",
      "\n"
     ]
    },
    {
     "name": "stderr",
     "output_type": "stream",
     "text": [
      "\n",
      "\n",
      "t:  65%|███████████████████████████████████████████▌                       | 163/251 [07:20<03:57,  2.70s/it, now=None]\u001b[A\u001b[A"
     ]
    },
    {
     "name": "stdout",
     "output_type": "stream",
     "text": [
      "okkkk\n",
      "Scale ->  0 | Confidence Score [0.730328] \n",
      "\n",
      "Scale ->  0 | Confidence Score [0.5869577] \n",
      "\n",
      "Scale ->  0 | Confidence Score [0.56444199] \n",
      "\n"
     ]
    },
    {
     "name": "stderr",
     "output_type": "stream",
     "text": [
      "\n",
      "\n",
      "t:  65%|███████████████████████████████████████████▊                       | 164/251 [07:22<03:54,  2.70s/it, now=None]\u001b[A\u001b[A"
     ]
    },
    {
     "name": "stdout",
     "output_type": "stream",
     "text": [
      "okkkk\n",
      "Scale ->  0 | Confidence Score [0.75276475] \n",
      "\n",
      "Scale ->  0 | Confidence Score [0.59040515] \n",
      "\n",
      "Scale ->  0 | Confidence Score [0.75869473] \n",
      "\n",
      "Scale ->  0 | Confidence Score [0.52588675] \n",
      "\n"
     ]
    },
    {
     "name": "stderr",
     "output_type": "stream",
     "text": [
      "\n",
      "\n",
      "t:  66%|████████████████████████████████████████████                       | 165/251 [07:25<03:54,  2.72s/it, now=None]\u001b[A\u001b[A"
     ]
    },
    {
     "name": "stdout",
     "output_type": "stream",
     "text": [
      "okkkk\n",
      "Scale ->  0 | Confidence Score [0.5115232] \n",
      "\n",
      "Scale ->  0 | Confidence Score [0.8134827] \n",
      "\n"
     ]
    },
    {
     "name": "stderr",
     "output_type": "stream",
     "text": [
      "\n",
      "\n",
      "t:  66%|████████████████████████████████████████████▎                      | 166/251 [07:28<03:52,  2.73s/it, now=None]\u001b[A\u001b[A"
     ]
    },
    {
     "name": "stdout",
     "output_type": "stream",
     "text": [
      "okkkk\n",
      "Scale ->  0 | Confidence Score [0.57289733] \n",
      "\n",
      "Scale ->  0 | Confidence Score [0.60544922] \n",
      "\n",
      "Scale ->  0 | Confidence Score [0.65495751] \n",
      "\n"
     ]
    },
    {
     "name": "stderr",
     "output_type": "stream",
     "text": [
      "\n",
      "\n",
      "t:  67%|████████████████████████████████████████████▌                      | 167/251 [07:31<03:50,  2.74s/it, now=None]\u001b[A\u001b[A"
     ]
    },
    {
     "name": "stdout",
     "output_type": "stream",
     "text": [
      "okkkk\n",
      "Scale ->  0 | Confidence Score [0.53111136] \n",
      "\n",
      "Scale ->  0 | Confidence Score [1.01311774] \n",
      "\n"
     ]
    },
    {
     "name": "stderr",
     "output_type": "stream",
     "text": [
      "\n",
      "\n",
      "t:  67%|████████████████████████████████████████████▊                      | 168/251 [07:33<03:45,  2.71s/it, now=None]\u001b[A\u001b[A"
     ]
    },
    {
     "name": "stdout",
     "output_type": "stream",
     "text": [
      "okkkk\n",
      "Scale ->  0 | Confidence Score [0.60688461] \n",
      "\n",
      "Scale ->  0 | Confidence Score [0.8568174] \n",
      "\n"
     ]
    },
    {
     "name": "stderr",
     "output_type": "stream",
     "text": [
      "\n",
      "\n",
      "t:  67%|█████████████████████████████████████████████                      | 169/251 [07:36<03:38,  2.67s/it, now=None]\u001b[A\u001b[A"
     ]
    },
    {
     "name": "stdout",
     "output_type": "stream",
     "text": [
      "okkkk\n",
      "Scale ->  0 | Confidence Score [0.58180548] \n",
      "\n",
      "Scale ->  0 | Confidence Score [0.60868452] \n",
      "\n",
      "Scale ->  0 | Confidence Score [0.57724276] \n",
      "\n",
      "Scale ->  0 | Confidence Score [0.91921627] \n",
      "\n"
     ]
    },
    {
     "name": "stderr",
     "output_type": "stream",
     "text": [
      "\n",
      "\n",
      "t:  68%|█████████████████████████████████████████████▍                     | 170/251 [07:38<03:34,  2.65s/it, now=None]\u001b[A\u001b[A"
     ]
    },
    {
     "name": "stdout",
     "output_type": "stream",
     "text": [
      "okkkk\n",
      "Scale ->  0 | Confidence Score [0.66206708] \n",
      "\n",
      "Scale ->  0 | Confidence Score [0.83015589] \n",
      "\n"
     ]
    },
    {
     "name": "stderr",
     "output_type": "stream",
     "text": [
      "\n",
      "\n",
      "t:  68%|█████████████████████████████████████████████▋                     | 171/251 [07:41<03:33,  2.67s/it, now=None]\u001b[A\u001b[A"
     ]
    },
    {
     "name": "stdout",
     "output_type": "stream",
     "text": [
      "okkkk\n",
      "Scale ->  0 | Confidence Score [0.56487415] \n",
      "\n",
      "Scale ->  0 | Confidence Score [0.85025351] \n",
      "\n",
      "Scale ->  0 | Confidence Score [0.95868038] \n",
      "\n"
     ]
    },
    {
     "name": "stderr",
     "output_type": "stream",
     "text": [
      "\n",
      "\n",
      "t:  69%|█████████████████████████████████████████████▉                     | 172/251 [07:44<03:28,  2.64s/it, now=None]\u001b[A\u001b[A"
     ]
    },
    {
     "name": "stdout",
     "output_type": "stream",
     "text": [
      "okkkk\n",
      "Scale ->  0 | Confidence Score [1.05154602] \n",
      "\n",
      "Scale ->  0 | Confidence Score [0.64062317] \n",
      "\n"
     ]
    },
    {
     "name": "stderr",
     "output_type": "stream",
     "text": [
      "\n",
      "\n",
      "t:  69%|██████████████████████████████████████████████▏                    | 173/251 [07:46<03:28,  2.67s/it, now=None]\u001b[A\u001b[A"
     ]
    },
    {
     "name": "stdout",
     "output_type": "stream",
     "text": [
      "okkkk\n",
      "Scale ->  0 | Confidence Score [0.77372215] \n",
      "\n",
      "Scale ->  0 | Confidence Score [0.50164357] \n",
      "\n"
     ]
    },
    {
     "name": "stderr",
     "output_type": "stream",
     "text": [
      "\n",
      "\n",
      "t:  69%|██████████████████████████████████████████████▍                    | 174/251 [07:49<03:24,  2.66s/it, now=None]\u001b[A\u001b[A"
     ]
    },
    {
     "name": "stdout",
     "output_type": "stream",
     "text": [
      "okkkk\n",
      "Scale ->  0 | Confidence Score [0.57223788] \n",
      "\n",
      "Scale ->  0 | Confidence Score [0.73090892] \n",
      "\n",
      "Scale ->  0 | Confidence Score [0.71467572] \n",
      "\n"
     ]
    },
    {
     "name": "stderr",
     "output_type": "stream",
     "text": [
      "\n",
      "\n",
      "t:  70%|██████████████████████████████████████████████▋                    | 175/251 [07:52<03:19,  2.62s/it, now=None]\u001b[A\u001b[A"
     ]
    },
    {
     "name": "stdout",
     "output_type": "stream",
     "text": [
      "okkkk\n",
      "Scale ->  0 | Confidence Score [0.7053342] \n",
      "\n",
      "Scale ->  0 | Confidence Score [0.51400672] \n",
      "\n",
      "Scale ->  0 | Confidence Score [0.64448727] \n",
      "\n",
      "Scale ->  0 | Confidence Score [0.50863339] \n",
      "\n"
     ]
    },
    {
     "name": "stderr",
     "output_type": "stream",
     "text": [
      "\n",
      "\n",
      "t:  70%|██████████████████████████████████████████████▉                    | 176/251 [07:54<03:17,  2.63s/it, now=None]\u001b[A\u001b[A"
     ]
    },
    {
     "name": "stdout",
     "output_type": "stream",
     "text": [
      "okkkk\n",
      "Scale ->  0 | Confidence Score [0.90138733] \n",
      "\n",
      "Scale ->  0 | Confidence Score [0.58718154] \n",
      "\n"
     ]
    },
    {
     "name": "stderr",
     "output_type": "stream",
     "text": [
      "\n",
      "\n",
      "t:  71%|███████████████████████████████████████████████▏                   | 177/251 [07:57<03:17,  2.66s/it, now=None]\u001b[A\u001b[A"
     ]
    },
    {
     "name": "stdout",
     "output_type": "stream",
     "text": [
      "okkkk\n",
      "Scale ->  0 | Confidence Score [0.7129033] \n",
      "\n",
      "Scale ->  0 | Confidence Score [0.52135115] \n",
      "\n"
     ]
    },
    {
     "name": "stderr",
     "output_type": "stream",
     "text": [
      "\n",
      "\n",
      "t:  71%|███████████████████████████████████████████████▌                   | 178/251 [08:00<03:17,  2.70s/it, now=None]\u001b[A\u001b[A"
     ]
    },
    {
     "name": "stdout",
     "output_type": "stream",
     "text": [
      "okkkk\n",
      "Scale ->  0 | Confidence Score [1.08799746] \n",
      "\n",
      "Scale ->  0 | Confidence Score [0.65419466] \n",
      "\n",
      "Scale ->  0 | Confidence Score [0.52810276] \n",
      "\n",
      "Scale ->  0 | Confidence Score [0.68268658] \n",
      "\n",
      "Scale ->  0 | Confidence Score [0.54299223] \n",
      "\n"
     ]
    },
    {
     "name": "stderr",
     "output_type": "stream",
     "text": [
      "\n",
      "\n",
      "t:  71%|███████████████████████████████████████████████▊                   | 179/251 [08:03<03:18,  2.75s/it, now=None]\u001b[A\u001b[A"
     ]
    },
    {
     "name": "stdout",
     "output_type": "stream",
     "text": [
      "okkkk\n",
      "Scale ->  0 | Confidence Score [0.72210527] \n",
      "\n",
      "Scale ->  0 | Confidence Score [0.51479724] \n",
      "\n",
      "Scale ->  0 | Confidence Score [0.63137092] \n",
      "\n",
      "Scale ->  0 | Confidence Score [0.52875436] \n",
      "\n"
     ]
    },
    {
     "name": "stderr",
     "output_type": "stream",
     "text": [
      "\n",
      "\n",
      "t:  72%|████████████████████████████████████████████████                   | 180/251 [08:05<03:15,  2.75s/it, now=None]\u001b[A\u001b[A"
     ]
    },
    {
     "name": "stdout",
     "output_type": "stream",
     "text": [
      "okkkk\n",
      "Scale ->  0 | Confidence Score [0.52888475] \n",
      "\n",
      "Scale ->  0 | Confidence Score [0.54734467] \n",
      "\n",
      "Scale ->  0 | Confidence Score [0.54774553] \n",
      "\n",
      "Scale ->  0 | Confidence Score [0.58490643] \n",
      "\n",
      "Scale ->  0 | Confidence Score [0.7325666] \n",
      "\n"
     ]
    },
    {
     "name": "stderr",
     "output_type": "stream",
     "text": [
      "\n",
      "\n",
      "t:  72%|████████████████████████████████████████████████▎                  | 181/251 [08:08<03:13,  2.76s/it, now=None]\u001b[A\u001b[A"
     ]
    },
    {
     "name": "stdout",
     "output_type": "stream",
     "text": [
      "okkkk\n",
      "Scale ->  0 | Confidence Score [0.59524303] \n",
      "\n",
      "Scale ->  0 | Confidence Score [0.80745174] \n",
      "\n",
      "Scale ->  0 | Confidence Score [0.7669394] \n",
      "\n"
     ]
    },
    {
     "name": "stderr",
     "output_type": "stream",
     "text": [
      "\n",
      "\n",
      "t:  73%|████████████████████████████████████████████████▌                  | 182/251 [08:11<03:10,  2.76s/it, now=None]\u001b[A\u001b[A"
     ]
    },
    {
     "name": "stdout",
     "output_type": "stream",
     "text": [
      "okkkk\n",
      "Scale ->  0 | Confidence Score [0.65618467] \n",
      "\n",
      "Scale ->  0 | Confidence Score [0.58906606] \n",
      "\n"
     ]
    },
    {
     "name": "stderr",
     "output_type": "stream",
     "text": [
      "\n",
      "\n",
      "t:  73%|████████████████████████████████████████████████▊                  | 183/251 [08:14<03:07,  2.76s/it, now=None]\u001b[A\u001b[A"
     ]
    },
    {
     "name": "stdout",
     "output_type": "stream",
     "text": [
      "okkkk\n",
      "Scale ->  0 | Confidence Score [0.63750659] \n",
      "\n",
      "Scale ->  0 | Confidence Score [0.70002169] \n",
      "\n",
      "Scale ->  0 | Confidence Score [0.84819136] \n",
      "\n"
     ]
    },
    {
     "name": "stderr",
     "output_type": "stream",
     "text": [
      "\n",
      "\n",
      "t:  73%|█████████████████████████████████████████████████                  | 184/251 [08:16<03:03,  2.73s/it, now=None]\u001b[A\u001b[A"
     ]
    },
    {
     "name": "stdout",
     "output_type": "stream",
     "text": [
      "okkkk\n",
      "Scale ->  0 | Confidence Score [0.72140731] \n",
      "\n"
     ]
    },
    {
     "name": "stderr",
     "output_type": "stream",
     "text": [
      "\n",
      "\n",
      "t:  74%|█████████████████████████████████████████████████▍                 | 185/251 [08:19<03:01,  2.75s/it, now=None]\u001b[A\u001b[A"
     ]
    },
    {
     "name": "stdout",
     "output_type": "stream",
     "text": [
      "okkkk\n",
      "Scale ->  0 | Confidence Score [0.73446284] \n",
      "\n",
      "Scale ->  0 | Confidence Score [0.89634417] \n",
      "\n",
      "Scale ->  0 | Confidence Score [0.73710603] \n",
      "\n"
     ]
    },
    {
     "name": "stderr",
     "output_type": "stream",
     "text": [
      "\n",
      "\n",
      "t:  74%|█████████████████████████████████████████████████▋                 | 186/251 [08:22<02:54,  2.69s/it, now=None]\u001b[A\u001b[A"
     ]
    },
    {
     "name": "stdout",
     "output_type": "stream",
     "text": [
      "okkkk\n",
      "Scale ->  0 | Confidence Score [0.50492017] \n",
      "\n",
      "Scale ->  0 | Confidence Score [0.90504365] \n",
      "\n",
      "Scale ->  0 | Confidence Score [0.72151965] \n",
      "\n"
     ]
    },
    {
     "name": "stderr",
     "output_type": "stream",
     "text": [
      "\n",
      "\n",
      "t:  75%|█████████████████████████████████████████████████▉                 | 187/251 [08:24<02:49,  2.65s/it, now=None]\u001b[A\u001b[A"
     ]
    },
    {
     "name": "stdout",
     "output_type": "stream",
     "text": [
      "okkkk\n",
      "Scale ->  0 | Confidence Score [0.57616348] \n",
      "\n",
      "Scale ->  0 | Confidence Score [0.50974616] \n",
      "\n",
      "Scale ->  0 | Confidence Score [0.89210363] \n",
      "\n",
      "Scale ->  0 | Confidence Score [0.57763169] \n",
      "\n",
      "Scale ->  0 | Confidence Score [1.00560038] \n",
      "\n",
      "Scale ->  0 | Confidence Score [0.99296963] \n",
      "\n"
     ]
    },
    {
     "name": "stderr",
     "output_type": "stream",
     "text": [
      "\n",
      "\n",
      "t:  75%|██████████████████████████████████████████████████▏                | 188/251 [08:27<02:41,  2.57s/it, now=None]\u001b[A\u001b[A"
     ]
    },
    {
     "name": "stdout",
     "output_type": "stream",
     "text": [
      "okkkk\n",
      "Scale ->  0 | Confidence Score [0.60566347] \n",
      "\n",
      "Scale ->  0 | Confidence Score [0.63425462] \n",
      "\n",
      "Scale ->  0 | Confidence Score [0.69212238] \n",
      "\n",
      "Scale ->  0 | Confidence Score [0.50281528] \n",
      "\n",
      "Scale ->  0 | Confidence Score [1.01852537] \n",
      "\n",
      "Scale ->  0 | Confidence Score [1.02736403] \n",
      "\n"
     ]
    },
    {
     "name": "stderr",
     "output_type": "stream",
     "text": [
      "\n",
      "\n",
      "t:  75%|██████████████████████████████████████████████████▍                | 189/251 [08:29<02:37,  2.55s/it, now=None]\u001b[A\u001b[A"
     ]
    },
    {
     "name": "stdout",
     "output_type": "stream",
     "text": [
      "okkkk\n",
      "Scale ->  0 | Confidence Score [0.60076487] \n",
      "\n",
      "Scale ->  0 | Confidence Score [0.50222549] \n",
      "\n",
      "Scale ->  0 | Confidence Score [1.0426875] \n",
      "\n",
      "Scale ->  0 | Confidence Score [0.86976975] \n",
      "\n"
     ]
    },
    {
     "name": "stderr",
     "output_type": "stream",
     "text": [
      "\n",
      "\n",
      "t:  76%|██████████████████████████████████████████████████▋                | 190/251 [08:32<02:40,  2.64s/it, now=None]\u001b[A\u001b[A"
     ]
    },
    {
     "name": "stdout",
     "output_type": "stream",
     "text": [
      "okkkk\n",
      "Scale ->  0 | Confidence Score [0.52423934] \n",
      "\n",
      "Scale ->  0 | Confidence Score [0.92880513] \n",
      "\n",
      "Scale ->  0 | Confidence Score [1.00503774] \n",
      "\n"
     ]
    },
    {
     "name": "stderr",
     "output_type": "stream",
     "text": [
      "\n",
      "\n",
      "t:  76%|██████████████████████████████████████████████████▉                | 191/251 [08:35<02:39,  2.66s/it, now=None]\u001b[A\u001b[A"
     ]
    },
    {
     "name": "stdout",
     "output_type": "stream",
     "text": [
      "okkkk\n",
      "Scale ->  0 | Confidence Score [0.65974209] \n",
      "\n",
      "Scale ->  0 | Confidence Score [0.58713976] \n",
      "\n",
      "Scale ->  0 | Confidence Score [0.55047633] \n",
      "\n"
     ]
    },
    {
     "name": "stderr",
     "output_type": "stream",
     "text": [
      "\n",
      "\n",
      "t:  76%|███████████████████████████████████████████████████▎               | 192/251 [08:37<02:37,  2.66s/it, now=None]\u001b[A\u001b[A"
     ]
    },
    {
     "name": "stdout",
     "output_type": "stream",
     "text": [
      "okkkk\n",
      "Scale ->  0 | Confidence Score [0.84699917] \n",
      "\n",
      "Scale ->  0 | Confidence Score [0.78708619] \n",
      "\n"
     ]
    },
    {
     "name": "stderr",
     "output_type": "stream",
     "text": [
      "\n",
      "\n",
      "t:  77%|███████████████████████████████████████████████████▌               | 193/251 [08:40<02:39,  2.75s/it, now=None]\u001b[A\u001b[A"
     ]
    },
    {
     "name": "stdout",
     "output_type": "stream",
     "text": [
      "okkkk\n",
      "Scale ->  0 | Confidence Score [0.68378928] \n",
      "\n",
      "Scale ->  0 | Confidence Score [0.72871554] \n",
      "\n"
     ]
    },
    {
     "name": "stderr",
     "output_type": "stream",
     "text": [
      "\n",
      "\n",
      "t:  77%|███████████████████████████████████████████████████▊               | 194/251 [08:43<02:36,  2.75s/it, now=None]\u001b[A\u001b[A"
     ]
    },
    {
     "name": "stdout",
     "output_type": "stream",
     "text": [
      "okkkk\n",
      "Scale ->  0 | Confidence Score [0.66687134] \n",
      "\n",
      "Scale ->  0 | Confidence Score [0.95742036] \n",
      "\n"
     ]
    },
    {
     "name": "stderr",
     "output_type": "stream",
     "text": [
      "\n",
      "\n",
      "t:  78%|████████████████████████████████████████████████████               | 195/251 [08:46<02:33,  2.75s/it, now=None]\u001b[A\u001b[A"
     ]
    },
    {
     "name": "stdout",
     "output_type": "stream",
     "text": [
      "okkkk\n",
      "Scale ->  0 | Confidence Score [0.79922917] \n",
      "\n",
      "Scale ->  0 | Confidence Score [0.78816691] \n",
      "\n"
     ]
    },
    {
     "name": "stderr",
     "output_type": "stream",
     "text": [
      "\n",
      "\n",
      "t:  78%|████████████████████████████████████████████████████▎              | 196/251 [08:49<02:33,  2.80s/it, now=None]\u001b[A\u001b[A"
     ]
    },
    {
     "name": "stdout",
     "output_type": "stream",
     "text": [
      "okkkk\n",
      "Scale ->  0 | Confidence Score [0.60816008] \n",
      "\n",
      "Scale ->  0 | Confidence Score [0.60553168] \n",
      "\n"
     ]
    },
    {
     "name": "stderr",
     "output_type": "stream",
     "text": [
      "\n",
      "\n",
      "t:  78%|████████████████████████████████████████████████████▌              | 197/251 [08:51<02:29,  2.77s/it, now=None]\u001b[A\u001b[A"
     ]
    },
    {
     "name": "stdout",
     "output_type": "stream",
     "text": [
      "okkkk\n",
      "Scale ->  0 | Confidence Score [0.77099725] \n",
      "\n",
      "Scale ->  0 | Confidence Score [0.98157531] \n",
      "\n",
      "Scale ->  0 | Confidence Score [0.67466964] \n",
      "\n"
     ]
    },
    {
     "name": "stderr",
     "output_type": "stream",
     "text": [
      "\n",
      "\n",
      "t:  79%|████████████████████████████████████████████████████▊              | 198/251 [08:54<02:24,  2.72s/it, now=None]\u001b[A\u001b[A"
     ]
    },
    {
     "name": "stdout",
     "output_type": "stream",
     "text": [
      "okkkk\n",
      "Scale ->  0 | Confidence Score [0.57497199] \n",
      "\n",
      "Scale ->  0 | Confidence Score [0.83316781] \n",
      "\n",
      "Scale ->  0 | Confidence Score [0.59933551] \n",
      "\n"
     ]
    },
    {
     "name": "stderr",
     "output_type": "stream",
     "text": [
      "\n",
      "\n",
      "t:  79%|█████████████████████████████████████████████████████              | 199/251 [08:57<02:23,  2.76s/it, now=None]\u001b[A\u001b[A"
     ]
    },
    {
     "name": "stdout",
     "output_type": "stream",
     "text": [
      "okkkk\n",
      "Scale ->  0 | Confidence Score [0.60876356] \n",
      "\n",
      "Scale ->  0 | Confidence Score [0.69416126] \n",
      "\n",
      "Scale ->  0 | Confidence Score [0.81867657] \n",
      "\n",
      "Scale ->  0 | Confidence Score [0.69273326] \n",
      "\n"
     ]
    },
    {
     "name": "stderr",
     "output_type": "stream",
     "text": [
      "\n",
      "\n",
      "t:  80%|█████████████████████████████████████████████████████▍             | 200/251 [09:00<02:18,  2.71s/it, now=None]\u001b[A\u001b[A"
     ]
    },
    {
     "name": "stdout",
     "output_type": "stream",
     "text": [
      "okkkk\n",
      "Scale ->  0 | Confidence Score [0.64753819] \n",
      "\n",
      "Scale ->  0 | Confidence Score [0.64353181] \n",
      "\n",
      "Scale ->  0 | Confidence Score [0.907112] \n",
      "\n",
      "Scale ->  0 | Confidence Score [0.68164465] \n",
      "\n"
     ]
    },
    {
     "name": "stderr",
     "output_type": "stream",
     "text": [
      "\n",
      "\n",
      "t:  80%|█████████████████████████████████████████████████████▋             | 201/251 [09:02<02:16,  2.73s/it, now=None]\u001b[A\u001b[A"
     ]
    },
    {
     "name": "stdout",
     "output_type": "stream",
     "text": [
      "okkkk\n",
      "Scale ->  0 | Confidence Score [0.53910206] \n",
      "\n",
      "Scale ->  0 | Confidence Score [0.8944117] \n",
      "\n",
      "Scale ->  0 | Confidence Score [0.70892508] \n",
      "\n"
     ]
    },
    {
     "name": "stderr",
     "output_type": "stream",
     "text": [
      "\n",
      "\n",
      "t:  80%|█████████████████████████████████████████████████████▉             | 202/251 [09:05<02:16,  2.78s/it, now=None]\u001b[A\u001b[A"
     ]
    },
    {
     "name": "stdout",
     "output_type": "stream",
     "text": [
      "okkkk\n",
      "Scale ->  0 | Confidence Score [0.62857031] \n",
      "\n",
      "Scale ->  0 | Confidence Score [0.82816105] \n",
      "\n",
      "Scale ->  0 | Confidence Score [0.82814542] \n",
      "\n"
     ]
    },
    {
     "name": "stderr",
     "output_type": "stream",
     "text": [
      "\n",
      "\n",
      "t:  81%|██████████████████████████████████████████████████████▏            | 203/251 [09:08<02:14,  2.80s/it, now=None]\u001b[A\u001b[A"
     ]
    },
    {
     "name": "stdout",
     "output_type": "stream",
     "text": [
      "okkkk\n",
      "Scale ->  0 | Confidence Score [0.81181237] \n",
      "\n",
      "Scale ->  0 | Confidence Score [0.87335583] \n",
      "\n",
      "Scale ->  0 | Confidence Score [0.8192063] \n",
      "\n"
     ]
    },
    {
     "name": "stderr",
     "output_type": "stream",
     "text": [
      "\n",
      "\n",
      "t:  81%|██████████████████████████████████████████████████████▍            | 204/251 [09:11<02:13,  2.83s/it, now=None]\u001b[A\u001b[A"
     ]
    },
    {
     "name": "stdout",
     "output_type": "stream",
     "text": [
      "okkkk\n",
      "Scale ->  0 | Confidence Score [0.60739796] \n",
      "\n",
      "Scale ->  0 | Confidence Score [0.84254492] \n",
      "\n",
      "Scale ->  0 | Confidence Score [0.89320967] \n",
      "\n"
     ]
    },
    {
     "name": "stderr",
     "output_type": "stream",
     "text": [
      "\n",
      "\n",
      "t:  82%|██████████████████████████████████████████████████████▋            | 205/251 [09:14<02:09,  2.82s/it, now=None]\u001b[A\u001b[A"
     ]
    },
    {
     "name": "stdout",
     "output_type": "stream",
     "text": [
      "okkkk\n",
      "Scale ->  0 | Confidence Score [0.60495368] \n",
      "\n",
      "Scale ->  0 | Confidence Score [1.0079263] \n",
      "\n",
      "Scale ->  0 | Confidence Score [0.55399267] \n",
      "\n"
     ]
    },
    {
     "name": "stderr",
     "output_type": "stream",
     "text": [
      "\n",
      "\n",
      "t:  82%|██████████████████████████████████████████████████████▉            | 206/251 [09:17<02:06,  2.82s/it, now=None]\u001b[A\u001b[A"
     ]
    },
    {
     "name": "stdout",
     "output_type": "stream",
     "text": [
      "okkkk\n",
      "Scale ->  0 | Confidence Score [0.76560651] \n",
      "\n",
      "Scale ->  0 | Confidence Score [0.8939607] \n",
      "\n",
      "Scale ->  0 | Confidence Score [0.80678735] \n",
      "\n"
     ]
    },
    {
     "name": "stderr",
     "output_type": "stream",
     "text": [
      "\n",
      "\n",
      "t:  82%|███████████████████████████████████████████████████████▎           | 207/251 [09:19<02:04,  2.82s/it, now=None]\u001b[A\u001b[A"
     ]
    },
    {
     "name": "stdout",
     "output_type": "stream",
     "text": [
      "okkkk\n",
      "Scale ->  0 | Confidence Score [0.53907303] \n",
      "\n",
      "Scale ->  0 | Confidence Score [0.71195505] \n",
      "\n",
      "Scale ->  0 | Confidence Score [0.82893477] \n",
      "\n"
     ]
    },
    {
     "name": "stderr",
     "output_type": "stream",
     "text": [
      "\n",
      "\n",
      "t:  83%|███████████████████████████████████████████████████████▌           | 208/251 [09:22<02:03,  2.88s/it, now=None]\u001b[A\u001b[A"
     ]
    },
    {
     "name": "stdout",
     "output_type": "stream",
     "text": [
      "okkkk\n",
      "Scale ->  0 | Confidence Score [0.58705441] \n",
      "\n",
      "Scale ->  0 | Confidence Score [0.76845591] \n",
      "\n",
      "Scale ->  0 | Confidence Score [0.74068079] \n",
      "\n"
     ]
    },
    {
     "name": "stderr",
     "output_type": "stream",
     "text": [
      "\n",
      "\n",
      "t:  83%|███████████████████████████████████████████████████████▊           | 209/251 [09:25<01:59,  2.85s/it, now=None]\u001b[A\u001b[A"
     ]
    },
    {
     "name": "stdout",
     "output_type": "stream",
     "text": [
      "okkkk\n",
      "Scale ->  0 | Confidence Score [0.51030994] \n",
      "\n",
      "Scale ->  0 | Confidence Score [0.93145743] \n",
      "\n",
      "Scale ->  0 | Confidence Score [0.76755214] \n",
      "\n"
     ]
    },
    {
     "name": "stderr",
     "output_type": "stream",
     "text": [
      "\n",
      "\n",
      "t:  84%|████████████████████████████████████████████████████████           | 210/251 [09:28<01:55,  2.81s/it, now=None]\u001b[A\u001b[A"
     ]
    },
    {
     "name": "stdout",
     "output_type": "stream",
     "text": [
      "okkkk\n",
      "Scale ->  0 | Confidence Score [0.61372618] \n",
      "\n",
      "Scale ->  0 | Confidence Score [0.90143588] \n",
      "\n",
      "Scale ->  0 | Confidence Score [1.00879926] \n",
      "\n"
     ]
    },
    {
     "name": "stderr",
     "output_type": "stream",
     "text": [
      "\n",
      "\n",
      "t:  84%|████████████████████████████████████████████████████████▎          | 211/251 [09:31<01:51,  2.78s/it, now=None]\u001b[A\u001b[A"
     ]
    },
    {
     "name": "stdout",
     "output_type": "stream",
     "text": [
      "okkkk\n",
      "Scale ->  0 | Confidence Score [0.58131662] \n",
      "\n",
      "Scale ->  0 | Confidence Score [1.09798632] \n",
      "\n",
      "Scale ->  0 | Confidence Score [0.95578767] \n",
      "\n"
     ]
    },
    {
     "name": "stderr",
     "output_type": "stream",
     "text": [
      "\n",
      "\n",
      "t:  84%|████████████████████████████████████████████████████████▌          | 212/251 [09:33<01:47,  2.75s/it, now=None]\u001b[A\u001b[A"
     ]
    },
    {
     "name": "stdout",
     "output_type": "stream",
     "text": [
      "okkkk\n",
      "Scale ->  0 | Confidence Score [0.9779145] \n",
      "\n",
      "Scale ->  0 | Confidence Score [1.01322629] \n",
      "\n"
     ]
    },
    {
     "name": "stderr",
     "output_type": "stream",
     "text": [
      "\n",
      "\n",
      "t:  85%|████████████████████████████████████████████████████████▊          | 213/251 [09:36<01:44,  2.74s/it, now=None]\u001b[A\u001b[A"
     ]
    },
    {
     "name": "stdout",
     "output_type": "stream",
     "text": [
      "okkkk\n",
      "Scale ->  0 | Confidence Score [0.99445205] \n",
      "\n",
      "Scale ->  0 | Confidence Score [1.27531045] \n",
      "\n"
     ]
    },
    {
     "name": "stderr",
     "output_type": "stream",
     "text": [
      "\n",
      "\n",
      "t:  85%|█████████████████████████████████████████████████████████          | 214/251 [09:39<01:41,  2.74s/it, now=None]\u001b[A\u001b[A"
     ]
    },
    {
     "name": "stdout",
     "output_type": "stream",
     "text": [
      "okkkk\n",
      "Scale ->  0 | Confidence Score [0.77855312] \n",
      "\n",
      "Scale ->  0 | Confidence Score [0.8439003] \n",
      "\n"
     ]
    },
    {
     "name": "stderr",
     "output_type": "stream",
     "text": [
      "\n",
      "\n",
      "t:  86%|█████████████████████████████████████████████████████████▍         | 215/251 [09:42<01:38,  2.74s/it, now=None]\u001b[A\u001b[A"
     ]
    },
    {
     "name": "stdout",
     "output_type": "stream",
     "text": [
      "okkkk\n",
      "Scale ->  0 | Confidence Score [0.93022857] \n",
      "\n",
      "Scale ->  0 | Confidence Score [0.88335762] \n",
      "\n"
     ]
    },
    {
     "name": "stderr",
     "output_type": "stream",
     "text": [
      "\n",
      "\n",
      "t:  86%|█████████████████████████████████████████████████████████▋         | 216/251 [09:44<01:35,  2.73s/it, now=None]\u001b[A\u001b[A"
     ]
    },
    {
     "name": "stdout",
     "output_type": "stream",
     "text": [
      "okkkk\n",
      "Scale ->  0 | Confidence Score [0.61066651] \n",
      "\n",
      "Scale ->  0 | Confidence Score [1.0730913] \n",
      "\n"
     ]
    },
    {
     "name": "stderr",
     "output_type": "stream",
     "text": [
      "\n",
      "\n",
      "t:  86%|█████████████████████████████████████████████████████████▉         | 217/251 [09:47<01:32,  2.72s/it, now=None]\u001b[A\u001b[A"
     ]
    },
    {
     "name": "stdout",
     "output_type": "stream",
     "text": [
      "okkkk\n",
      "Scale ->  0 | Confidence Score [0.64023537] \n",
      "\n",
      "Scale ->  0 | Confidence Score [0.82479733] \n",
      "\n",
      "Scale ->  0 | Confidence Score [0.95522757] \n",
      "\n"
     ]
    },
    {
     "name": "stderr",
     "output_type": "stream",
     "text": [
      "\n",
      "\n",
      "t:  87%|██████████████████████████████████████████████████████████▏        | 218/251 [09:50<01:29,  2.72s/it, now=None]\u001b[A\u001b[A"
     ]
    },
    {
     "name": "stdout",
     "output_type": "stream",
     "text": [
      "okkkk\n",
      "Scale ->  0 | Confidence Score [0.84068917] \n",
      "\n",
      "Scale ->  0 | Confidence Score [0.80438598] \n",
      "\n"
     ]
    },
    {
     "name": "stderr",
     "output_type": "stream",
     "text": [
      "\n",
      "\n",
      "t:  87%|██████████████████████████████████████████████████████████▍        | 219/251 [09:52<01:27,  2.72s/it, now=None]\u001b[A\u001b[A"
     ]
    },
    {
     "name": "stdout",
     "output_type": "stream",
     "text": [
      "okkkk\n",
      "Scale ->  0 | Confidence Score [0.70975312] \n",
      "\n",
      "Scale ->  0 | Confidence Score [0.72230845] \n",
      "\n",
      "Scale ->  0 | Confidence Score [0.7261196] \n",
      "\n",
      "Scale ->  0 | Confidence Score [0.80835047] \n",
      "\n"
     ]
    },
    {
     "name": "stderr",
     "output_type": "stream",
     "text": [
      "\n",
      "\n",
      "t:  88%|██████████████████████████████████████████████████████████▋        | 220/251 [09:55<01:24,  2.73s/it, now=None]\u001b[A\u001b[A"
     ]
    },
    {
     "name": "stdout",
     "output_type": "stream",
     "text": [
      "okkkk\n",
      "Scale ->  0 | Confidence Score [0.71110433] \n",
      "\n",
      "Scale ->  0 | Confidence Score [0.53765103] \n",
      "\n",
      "Scale ->  0 | Confidence Score [0.90085368] \n",
      "\n",
      "Scale ->  0 | Confidence Score [0.87919023] \n",
      "\n"
     ]
    },
    {
     "name": "stderr",
     "output_type": "stream",
     "text": [
      "\n",
      "\n",
      "t:  88%|██████████████████████████████████████████████████████████▉        | 221/251 [09:58<01:22,  2.75s/it, now=None]\u001b[A\u001b[A"
     ]
    },
    {
     "name": "stdout",
     "output_type": "stream",
     "text": [
      "okkkk\n",
      "Scale ->  0 | Confidence Score [0.70098661] \n",
      "\n",
      "Scale ->  0 | Confidence Score [0.90339494] \n",
      "\n"
     ]
    },
    {
     "name": "stderr",
     "output_type": "stream",
     "text": [
      "\n",
      "\n",
      "t:  88%|███████████████████████████████████████████████████████████▎       | 222/251 [10:01<01:19,  2.75s/it, now=None]\u001b[A\u001b[A"
     ]
    },
    {
     "name": "stdout",
     "output_type": "stream",
     "text": [
      "okkkk\n",
      "Scale ->  0 | Confidence Score [0.70697857] \n",
      "\n",
      "Scale ->  0 | Confidence Score [0.88943109] \n",
      "\n"
     ]
    },
    {
     "name": "stderr",
     "output_type": "stream",
     "text": [
      "\n",
      "\n",
      "t:  89%|███████████████████████████████████████████████████████████▌       | 223/251 [10:03<01:16,  2.73s/it, now=None]\u001b[A\u001b[A"
     ]
    },
    {
     "name": "stdout",
     "output_type": "stream",
     "text": [
      "okkkk\n",
      "Scale ->  0 | Confidence Score [0.75258798] \n",
      "\n",
      "Scale ->  0 | Confidence Score [1.04134943] \n",
      "\n"
     ]
    },
    {
     "name": "stderr",
     "output_type": "stream",
     "text": [
      "\n",
      "\n",
      "t:  89%|███████████████████████████████████████████████████████████▊       | 224/251 [10:06<01:14,  2.77s/it, now=None]\u001b[A\u001b[A"
     ]
    },
    {
     "name": "stdout",
     "output_type": "stream",
     "text": [
      "okkkk\n",
      "Scale ->  0 | Confidence Score [0.87430455] \n",
      "\n"
     ]
    },
    {
     "name": "stderr",
     "output_type": "stream",
     "text": [
      "\n",
      "\n",
      "t:  90%|████████████████████████████████████████████████████████████       | 225/251 [10:09<01:11,  2.74s/it, now=None]\u001b[A\u001b[A"
     ]
    },
    {
     "name": "stdout",
     "output_type": "stream",
     "text": [
      "okkkk\n",
      "Scale ->  0 | Confidence Score [0.65815715] \n",
      "\n",
      "Scale ->  0 | Confidence Score [0.73246535] \n",
      "\n"
     ]
    },
    {
     "name": "stderr",
     "output_type": "stream",
     "text": [
      "\n",
      "\n",
      "t:  90%|████████████████████████████████████████████████████████████▎      | 226/251 [10:11<01:07,  2.71s/it, now=None]\u001b[A\u001b[A"
     ]
    },
    {
     "name": "stdout",
     "output_type": "stream",
     "text": [
      "okkkk\n",
      "Scale ->  0 | Confidence Score [0.75962282] \n",
      "\n"
     ]
    },
    {
     "name": "stderr",
     "output_type": "stream",
     "text": [
      "\n",
      "\n",
      "t:  90%|████████████████████████████████████████████████████████████▌      | 227/251 [10:14<01:04,  2.71s/it, now=None]\u001b[A\u001b[A"
     ]
    },
    {
     "name": "stdout",
     "output_type": "stream",
     "text": [
      "okkkk\n",
      "Scale ->  0 | Confidence Score [0.50032416] \n",
      "\n",
      "Scale ->  0 | Confidence Score [0.63217968] \n",
      "\n"
     ]
    },
    {
     "name": "stderr",
     "output_type": "stream",
     "text": [
      "\n",
      "\n",
      "t:  91%|████████████████████████████████████████████████████████████▊      | 228/251 [10:17<01:02,  2.70s/it, now=None]\u001b[A\u001b[A"
     ]
    },
    {
     "name": "stdout",
     "output_type": "stream",
     "text": [
      "okkkk\n",
      "Scale ->  0 | Confidence Score [0.5585959] \n",
      "\n"
     ]
    },
    {
     "name": "stderr",
     "output_type": "stream",
     "text": [
      "\n",
      "\n",
      "t:  91%|█████████████████████████████████████████████████████████████▏     | 229/251 [10:20<00:59,  2.69s/it, now=None]\u001b[A\u001b[A"
     ]
    },
    {
     "name": "stdout",
     "output_type": "stream",
     "text": [
      "okkkk\n",
      "Scale ->  0 | Confidence Score [0.54659371] \n",
      "\n"
     ]
    },
    {
     "name": "stderr",
     "output_type": "stream",
     "text": [
      "\n",
      "\n",
      "t:  92%|█████████████████████████████████████████████████████████████▍     | 230/251 [10:22<00:57,  2.72s/it, now=None]\u001b[A\u001b[A"
     ]
    },
    {
     "name": "stdout",
     "output_type": "stream",
     "text": [
      "okkkk\n",
      "Scale ->  0 | Confidence Score [0.52667359] \n",
      "\n",
      "Scale ->  0 | Confidence Score [0.82215409] \n",
      "\n"
     ]
    },
    {
     "name": "stderr",
     "output_type": "stream",
     "text": [
      "\n",
      "\n",
      "t:  92%|█████████████████████████████████████████████████████████████▋     | 231/251 [10:25<00:54,  2.72s/it, now=None]\u001b[A\u001b[A"
     ]
    },
    {
     "name": "stdout",
     "output_type": "stream",
     "text": [
      "okkkk\n",
      "Scale ->  0 | Confidence Score [0.83279106] \n",
      "\n"
     ]
    },
    {
     "name": "stderr",
     "output_type": "stream",
     "text": [
      "\n",
      "\n",
      "t:  92%|█████████████████████████████████████████████████████████████▉     | 232/251 [10:28<00:50,  2.68s/it, now=None]\u001b[A\u001b[A"
     ]
    },
    {
     "name": "stdout",
     "output_type": "stream",
     "text": [
      "okkkk\n",
      "Scale ->  0 | Confidence Score [0.54726318] \n",
      "\n"
     ]
    },
    {
     "name": "stderr",
     "output_type": "stream",
     "text": [
      "\n",
      "\n",
      "t:  93%|██████████████████████████████████████████████████████████████▏    | 233/251 [10:30<00:47,  2.61s/it, now=None]\u001b[A\u001b[A"
     ]
    },
    {
     "name": "stdout",
     "output_type": "stream",
     "text": [
      "okkkk\n",
      "Scale ->  0 | Confidence Score [0.63132749] \n",
      "\n",
      "Scale ->  0 | Confidence Score [0.96466642] \n",
      "\n"
     ]
    },
    {
     "name": "stderr",
     "output_type": "stream",
     "text": [
      "\n",
      "\n",
      "t:  93%|██████████████████████████████████████████████████████████████▍    | 234/251 [10:33<00:44,  2.63s/it, now=None]\u001b[A\u001b[A"
     ]
    },
    {
     "name": "stdout",
     "output_type": "stream",
     "text": [
      "okkkk\n",
      "Scale ->  0 | Confidence Score [0.69931564] \n",
      "\n"
     ]
    },
    {
     "name": "stderr",
     "output_type": "stream",
     "text": [
      "\n",
      "\n",
      "t:  94%|██████████████████████████████████████████████████████████████▋    | 235/251 [10:35<00:42,  2.65s/it, now=None]\u001b[A\u001b[A"
     ]
    },
    {
     "name": "stdout",
     "output_type": "stream",
     "text": [
      "okkkk\n",
      "Scale ->  0 | Confidence Score [0.73101381] \n",
      "\n"
     ]
    },
    {
     "name": "stderr",
     "output_type": "stream",
     "text": [
      "\n",
      "\n",
      "t:  94%|██████████████████████████████████████████████████████████████▉    | 236/251 [10:38<00:39,  2.62s/it, now=None]\u001b[A\u001b[A"
     ]
    },
    {
     "name": "stdout",
     "output_type": "stream",
     "text": [
      "okkkk\n",
      "Scale ->  0 | Confidence Score [0.79472646] \n",
      "\n"
     ]
    },
    {
     "name": "stderr",
     "output_type": "stream",
     "text": [
      "\n",
      "\n",
      "t:  94%|███████████████████████████████████████████████████████████████▎   | 237/251 [10:41<00:37,  2.67s/it, now=None]\u001b[A\u001b[A"
     ]
    },
    {
     "name": "stdout",
     "output_type": "stream",
     "text": [
      "okkkk\n",
      "Scale ->  0 | Confidence Score [0.78173777] \n",
      "\n"
     ]
    },
    {
     "name": "stderr",
     "output_type": "stream",
     "text": [
      "\n",
      "\n",
      "t:  95%|███████████████████████████████████████████████████████████████▌   | 238/251 [10:44<00:34,  2.68s/it, now=None]\u001b[A\u001b[A"
     ]
    },
    {
     "name": "stdout",
     "output_type": "stream",
     "text": [
      "okkkk\n",
      "Scale ->  0 | Confidence Score [0.62017816] \n",
      "\n"
     ]
    },
    {
     "name": "stderr",
     "output_type": "stream",
     "text": [
      "\n",
      "\n",
      "t:  95%|███████████████████████████████████████████████████████████████▊   | 239/251 [10:46<00:32,  2.68s/it, now=None]\u001b[A\u001b[A"
     ]
    },
    {
     "name": "stdout",
     "output_type": "stream",
     "text": [
      "okkkk\n",
      "Scale ->  0 | Confidence Score [0.60780004] \n",
      "\n"
     ]
    },
    {
     "name": "stderr",
     "output_type": "stream",
     "text": [
      "\n",
      "\n",
      "t:  96%|████████████████████████████████████████████████████████████████   | 240/251 [10:49<00:29,  2.70s/it, now=None]\u001b[A\u001b[A"
     ]
    },
    {
     "name": "stdout",
     "output_type": "stream",
     "text": [
      "okkkk\n",
      "Scale ->  0 | Confidence Score [0.54059891] \n",
      "\n"
     ]
    },
    {
     "name": "stderr",
     "output_type": "stream",
     "text": [
      "\n",
      "\n",
      "t:  96%|████████████████████████████████████████████████████████████████▎  | 241/251 [10:52<00:26,  2.67s/it, now=None]\u001b[A\u001b[A"
     ]
    },
    {
     "name": "stdout",
     "output_type": "stream",
     "text": [
      "okkkk\n",
      "Scale ->  0 | Confidence Score [0.65072785] \n",
      "\n"
     ]
    },
    {
     "name": "stderr",
     "output_type": "stream",
     "text": [
      "\n",
      "\n",
      "t:  96%|████████████████████████████████████████████████████████████████▌  | 242/251 [10:54<00:23,  2.63s/it, now=None]\u001b[A\u001b[A"
     ]
    },
    {
     "name": "stdout",
     "output_type": "stream",
     "text": [
      "okkkk\n",
      "Scale ->  0 | Confidence Score [1.03683811] \n",
      "\n"
     ]
    },
    {
     "name": "stderr",
     "output_type": "stream",
     "text": [
      "\n",
      "\n",
      "t:  97%|████████████████████████████████████████████████████████████████▊  | 243/251 [10:57<00:21,  2.64s/it, now=None]\u001b[A\u001b[A"
     ]
    },
    {
     "name": "stdout",
     "output_type": "stream",
     "text": [
      "okkkk\n",
      "Scale ->  0 | Confidence Score [1.10626949] \n",
      "\n"
     ]
    },
    {
     "name": "stderr",
     "output_type": "stream",
     "text": [
      "\n",
      "\n",
      "t:  97%|█████████████████████████████████████████████████████████████████▏ | 244/251 [10:59<00:18,  2.68s/it, now=None]\u001b[A\u001b[A"
     ]
    },
    {
     "name": "stdout",
     "output_type": "stream",
     "text": [
      "okkkk\n",
      "Scale ->  0 | Confidence Score [1.01925223] \n",
      "\n"
     ]
    },
    {
     "name": "stderr",
     "output_type": "stream",
     "text": [
      "\n",
      "\n",
      "t:  98%|█████████████████████████████████████████████████████████████████▍ | 245/251 [11:02<00:15,  2.66s/it, now=None]\u001b[A\u001b[A"
     ]
    },
    {
     "name": "stdout",
     "output_type": "stream",
     "text": [
      "okkkk\n",
      "Scale ->  0 | Confidence Score [0.96589883] \n",
      "\n"
     ]
    },
    {
     "name": "stderr",
     "output_type": "stream",
     "text": [
      "\n",
      "\n",
      "t:  98%|█████████████████████████████████████████████████████████████████▋ | 246/251 [11:05<00:13,  2.62s/it, now=None]\u001b[A\u001b[A"
     ]
    },
    {
     "name": "stdout",
     "output_type": "stream",
     "text": [
      "okkkk\n",
      "Scale ->  0 | Confidence Score [0.66599617] \n",
      "\n"
     ]
    },
    {
     "name": "stderr",
     "output_type": "stream",
     "text": [
      "\n",
      "\n",
      "t:  98%|█████████████████████████████████████████████████████████████████▉ | 247/251 [11:07<00:10,  2.65s/it, now=None]\u001b[A\u001b[A"
     ]
    },
    {
     "name": "stdout",
     "output_type": "stream",
     "text": [
      "okkkk\n",
      "Scale ->  0 | Confidence Score [0.62083679] \n",
      "\n"
     ]
    },
    {
     "name": "stderr",
     "output_type": "stream",
     "text": [
      "\n",
      "\n",
      "t:  99%|██████████████████████████████████████████████████████████████████▏| 248/251 [11:10<00:07,  2.63s/it, now=None]\u001b[A\u001b[A"
     ]
    },
    {
     "name": "stdout",
     "output_type": "stream",
     "text": [
      "okkkk\n",
      "Scale ->  0 | Confidence Score [0.50422116] \n",
      "\n",
      "Scale ->  0 | Confidence Score [0.66686966] \n",
      "\n"
     ]
    },
    {
     "name": "stderr",
     "output_type": "stream",
     "text": [
      "\n",
      "\n",
      "t:  99%|██████████████████████████████████████████████████████████████████▍| 249/251 [11:13<00:05,  2.66s/it, now=None]\u001b[A\u001b[A"
     ]
    },
    {
     "name": "stdout",
     "output_type": "stream",
     "text": [
      "okkkk\n"
     ]
    },
    {
     "name": "stderr",
     "output_type": "stream",
     "text": [
      "\n",
      "\n",
      "t: 100%|██████████████████████████████████████████████████████████████████▋| 250/251 [11:15<00:02,  2.70s/it, now=None]\u001b[A\u001b[A"
     ]
    },
    {
     "name": "stdout",
     "output_type": "stream",
     "text": [
      "okkkk\n"
     ]
    },
    {
     "name": "stderr",
     "output_type": "stream",
     "text": [
      "\n",
      "\n",
      "t: 100%|███████████████████████████████████████████████████████████████████| 251/251 [11:18<00:00,  2.66s/it, now=None]\u001b[A\u001b[A"
     ]
    },
    {
     "name": "stdout",
     "output_type": "stream",
     "text": [
      "okkkk\n"
     ]
    },
    {
     "name": "stderr",
     "output_type": "stream",
     "text": [
      "\n",
      "\n",
      "                                                                                                                       \u001b[A\u001b[A"
     ]
    },
    {
     "name": "stdout",
     "output_type": "stream",
     "text": [
      "okkkk\n"
     ]
    },
    {
     "name": "stderr",
     "output_type": "stream",
     "text": [
      "                                                                                                                       \n",
      "\u001b[A                                                                                                                    \n",
      "\n",
      "\n",
      "t:   1%|▋                                                              | 13/1260 [3:07:03<6:12:39, 17.93s/it, now=None]\n",
      "t:   0%|▏                                                               | 4/1260 [2:51:20<1:43:03,  4.92s/it, now=None]\u001b[A\n",
      "\n",
      "\n",
      "                                                                                                                       \u001b[A\u001b[A\u001b[A\n",
      "\u001b[A                                                                                                                    \n",
      "\n",
      "\n",
      "t:   1%|▋                                                              | 13/1260 [3:07:03<6:12:39, 17.93s/it, now=None]\n",
      "t:   0%|▏                                                               | 4/1260 [2:51:20<1:43:03,  4.92s/it, now=None]\u001b[A\n",
      "\n",
      "\n",
      "t:  11%|██████▊                                                         | 134/1260 [2:05:58<41:07,  2.19s/it, now=None]\u001b[A\u001b[A\u001b[A"
     ]
    },
    {
     "name": "stdout",
     "output_type": "stream",
     "text": [
      "Moviepy - Done !\n",
      "Moviepy - video ready result.mp4\n",
      "Wall time: 11min 21s\n"
     ]
    }
   ],
   "source": [
    "\n",
    "\n",
    "import imageio\n",
    "#imageio.plugins.ffmpeg.download()\n",
    "from moviepy.editor import VideoFileClip\n",
    "from IPython.display import HTML\n",
    "output = 'result.mp4'\n",
    "clip = VideoFileClip(\"challenge.mp4\")\n",
    "video_clip = clip.fl_image(process_image)\n",
    "%time video_clip.write_videofile(output, audio=False)"
   ]
  },
  {
   "cell_type": "code",
   "execution_count": null,
   "id": "22bd2fd3",
   "metadata": {},
   "outputs": [],
   "source": []
  }
 ],
 "metadata": {
  "kernelspec": {
   "display_name": "Python 3",
   "language": "python",
   "name": "python3"
  },
  "language_info": {
   "codemirror_mode": {
    "name": "ipython",
    "version": 3
   },
   "file_extension": ".py",
   "mimetype": "text/x-python",
   "name": "python",
   "nbconvert_exporter": "python",
   "pygments_lexer": "ipython3",
   "version": "3.8.8"
  }
 },
 "nbformat": 4,
 "nbformat_minor": 5
}
