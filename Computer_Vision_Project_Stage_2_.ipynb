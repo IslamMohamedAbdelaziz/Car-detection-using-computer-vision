{
 "cells": [
  {
   "cell_type": "markdown",
   "id": "87fd53b5",
   "metadata": {},
   "source": [
    "# Load the model"
   ]
  },
  {
   "cell_type": "code",
   "execution_count": 1,
   "id": "81267ce8",
   "metadata": {},
   "outputs": [
    {
     "name": "stdout",
     "output_type": "stream",
     "text": [
      "LinearSVC()\n"
     ]
    }
   ],
   "source": [
    "import sklearn.externals as extjoblib\n",
    "import joblib\n",
    "\n",
    "# Upload the saved svm model:\n",
    "model = joblib.load('LinearSVC.npy')\n",
    "print(model)"
   ]
  },
  {
   "cell_type": "code",
   "execution_count": 13,
   "id": "b1911172",
   "metadata": {},
   "outputs": [],
   "source": [
    "\n",
    "def image_resize(image, width = None, height = None, inter = cv2.INTER_AREA):\n",
    "    # initialize the dimensions of the image to be resized and\n",
    "    # grab the image size\n",
    "    dim = None\n",
    "    (h, w) = image.shape[:2]\n",
    "\n",
    "    # if both the width and height are None, then return the\n",
    "    # original image\n",
    "    if width is None and height is None:\n",
    "        return image\n",
    "\n",
    "    # check to see if the width is None\n",
    "    if width is None:\n",
    "        # calculate the ratio of the height and construct the\n",
    "        # dimensions\n",
    "        r = height / float(h)\n",
    "        dim = (int(w * r), height)\n",
    "\n",
    "    # otherwise, the height is None\n",
    "    else:\n",
    "        # calculate the ratio of the width and construct the\n",
    "        # dimensions\n",
    "        r = width / float(w)\n",
    "        dim = (width, int(h * r))\n",
    "\n",
    "    # resize the image\n",
    "    resized = cv2.resize(image, dim, interpolation = inter)\n",
    "\n",
    "    # return the resized image\n",
    "    return resized"
   ]
  },
  {
   "cell_type": "code",
   "execution_count": 11,
   "id": "ebc4dd17",
   "metadata": {
    "scrolled": true
   },
   "outputs": [],
   "source": [
    "\n",
    "\n",
    "from skimage.feature import hog\n",
    "from skimage.transform import pyramid_gaussian\n",
    "from skimage import color\n",
    "import matplotlib.pyplot as plt\n",
    "from imutils.object_detection import non_max_suppression\n",
    "import imutils\n",
    "import numpy as np\n",
    "import cv2\n",
    "import os\n",
    "import glob\n",
    "from skimage import exposure\n",
    "from sklearn.preprocessing import StandardScaler\n",
    "\n",
    "\n",
    "#Define HOG Parameters\n",
    "# change them if necessary to orientations = 8, pixels per cell = (16,16), cells per block to (1,1) for weaker HOG\n",
    "orientations = 9 \n",
    "pixels_per_cell = (8, 8)\n",
    "cells_per_block =(2, 2)\n",
    "threshold = .3\n",
    "\n",
    "# define the sliding window:\n",
    "def sliding_window(image, stepSize, windowSize):# image is the input, step size is the no.of pixels needed to skip and windowSize is the size of the actual window\n",
    "    # slide a window across the image\n",
    "    for y in range(0, image.shape[0], stepSize):# this line and the line below actually defines the sliding part and loops over the x and y coordinates\n",
    "        for x in range(0, image.shape[1], stepSize):\n",
    "            # yield the current window\n",
    "            yield (x, y, image[y: y + windowSize[1], x:x + windowSize[0]])\n",
    "#%%\n",
    "# Upload the saved svm model:\n",
    "#model = joblib.load('Inser\\Path\\of_the_trained\\SVM-model\\here')\n",
    "\n",
    "# Test the trained classifier on an image below!\n",
    "global last_sc\n",
    "global counter \n",
    "global last_rects\n",
    "counter = 0\n",
    "def process_image(img):\n",
    "    global last_sc\n",
    "    global counter\n",
    "    global last_rects\n",
    "    counter += 1 \n",
    "    gen_new_detc = 1\n",
    "    \n",
    "    if counter % 5 != 1 :\n",
    "        img= imutils.resize(img, width=600,height=600) \n",
    "        sc = last_sc \n",
    "        rects = last_rects\n",
    "        gen_new_detc = 0\n",
    "        print(counter)  \n",
    "    \n",
    "    if gen_new_detc :\n",
    "        \n",
    "        print('enter')\n",
    "   # image = china[150:220, 130:250]\n",
    "#     img = StandardScaler(with_mean=0, with_std=1).fit_transform(img)\n",
    "    #img = img / 255.0\n",
    "        scale = 0\n",
    "        detections = []\n",
    "        # read the image you want to detect the object in:\n",
    "        #img= cv2.imread(\"image0068.png\")\n",
    "        #img= cv2.imread(\"car_.png\")\n",
    "        #img= cv2.imread(\"straight_lines1.jpg\")\n",
    "        #img= cv2.imread(\"test1.jpg\")\n",
    "        #img=image_resize(img, width = int(img.shape[1]*0.4), height = int(img.shape[0]*0.4))\n",
    "\n",
    "        # img= imutils.resize(img, width=int(img.shape[1]*0.15),height=int(img.shape[0]*0.15))\n",
    "        img= imutils.resize(img, width=600,height=600) \n",
    "        # Try it with image resized if the image is too big  #**************************(32,32)\n",
    "        #img= cv2.resize(64,64) # can change the size to default by commenting this code out our put in a random number\n",
    "\n",
    "        # defining the size of the sliding window (has to be, same as the size of the image in the training data)\n",
    "        (winW, winH)= (64,64)   #**************************(32,32)\n",
    "        windowSize=(winW,winH)\n",
    "        downscale=1.85\n",
    "        # Apply sliding window:\n",
    "        for resized in pyramid_gaussian(img, downscale=1.85): # loop over each layer of the image that you take!\n",
    "            # loop over the sliding window for each layer of the pyramid\n",
    "    #         if(scale==0):\n",
    "    #             scale +=1\n",
    "    #             continue\n",
    "\n",
    "            for (x,y,window) in sliding_window(resized, stepSize=6, windowSize=(winW,winH)):\n",
    "\n",
    "                # if the window does not meet our desired window size, ignore it!\n",
    "\n",
    "                if window.shape[0] < winH or window.shape[1] < winW: # ensure the sliding window has met the minimum size requirement\n",
    "                    continue\n",
    "\n",
    "                if (y < resized.shape[0] / 1.9) or (x  < resized.shape[1] / 2) :\n",
    "                    continue\n",
    "\n",
    "                #window=color.rgb2gray(window)\n",
    "\n",
    "                fds = hog(window, orientations, pixels_per_cell, cells_per_block, block_norm='L2')  # extract HOG features from the window captured      \n",
    "                fds = fds.reshape(1, -1) # re shape the image to make a silouhette of hog\n",
    "\n",
    "                hog_image_rescaled = exposure.rescale_intensity(fds, in_range=(0, 0.02))\n",
    "                pred = model.predict(fds) # use the SVM model to make a prediction on the HOG features extracted from the window\n",
    "\n",
    "               # window=color.gray2rgb(window)\n",
    "                if pred == 'vehicles':\n",
    "    #                 print(pred)\n",
    "    #                 print(model.decision_function(fds))\n",
    "                    if model.decision_function(fds) > 0.5 :  # set a threshold value for the SVM prediction i.e. only firm the predictions above probability of 0.6\n",
    "    #                     print(\"Detection:: Location -> ({}, {})\".format(x, y))\n",
    "                        print(\"Scale ->  {} | Confidence Score {} \\n\".format(scale,model.decision_function(fds)))\n",
    "\n",
    "                        detections.append((int(x * (downscale**scale)), int(y * (downscale**scale)), model.decision_function(fds),\n",
    "                                           int(windowSize[0]*(downscale**scale)), # create a list of all the predictions found\n",
    "                                              int(windowSize[1]*(downscale**scale))))\n",
    "            \n",
    "            scale+=1\n",
    "            if(scale==1):\n",
    "                break\n",
    "\n",
    "       # clone = resized.copy()\n",
    "    #     for (x_tl, y_tl, _, w, h) in detections:\n",
    "    #         print(\"edffffffffd\")\n",
    "    #         cv2.rectangle(img, (x_tl, y_tl), (x_tl + w, y_tl + h), (0, 0, 255), thickness = 1)\n",
    "        rects = np.array([[x, y, x + w, y + h] for (x, y, _, w, h) in detections]) # do nms on the detected bounding boxes\n",
    "        sc = [score[0] for (x, y, score, w, h) in detections]\n",
    "    #     print(\"detection confidence score: \", sc)\n",
    "        sc = np.array(sc)\n",
    "    pick = non_max_suppression(rects, probs = sc, overlapThresh = 0.3)\n",
    "    last_sc = sc\n",
    "    last_rects = rects\n",
    "    # the peice of code above creates a raw bounding box prior to using NMS\n",
    "    # the code below creates a bounding box after using nms on the detections\n",
    "    # you can choose which one you want to visualise, as you deem fit... simply use the following function:\n",
    "    # cv2.imshow in this right place (since python is procedural it will go through the code line by line).\n",
    "\n",
    "    for (xA, yA, xB, yB) in pick:\n",
    "        cv2.rectangle(img, (xA, yA), (xB, yB), (0,255,0), 2)\n",
    "    #cv2.imshow(\"Raw Detections after NMS\", img)\n",
    "   # img= cv2.cvtColor(img, cv2.COLOR_BGR2RGB)\n",
    "#     plt.imshow(img)\n",
    "#     plt.show()\n",
    "    print('okkkk')\n",
    "    return img\n",
    "\n",
    "    #### Save the images below\n",
    "    # k = cv2.waitKey(0) & 0xFF \n",
    "    # if k == 27:             #wait for ESC key to exit\n",
    "    #     cv2.destroyAllWindows()\n",
    "    # elif k == ord('s'):\n",
    "    #     cv2.imwrite('Path\\to_the_directory\\of_saved_image.png',img)\n",
    "    #     cv2.destroyAllWindows()\n",
    "    \n",
    "# img= cv2.imread(\"test1.jpg\")\n",
    "# process_image(img)    \n",
    "   "
   ]
  },
  {
   "cell_type": "code",
   "execution_count": 12,
   "id": "43fc10de",
   "metadata": {},
   "outputs": [
    {
     "name": "stdout",
     "output_type": "stream",
     "text": [
      "enter\n",
      "Scale ->  0 | Confidence Score [0.87838787] \n",
      "\n",
      "Scale ->  0 | Confidence Score [0.53198993] \n",
      "\n",
      "Scale ->  0 | Confidence Score [0.5895566] \n",
      "\n",
      "Scale ->  0 | Confidence Score [0.69904973] \n",
      "\n"
     ]
    },
    {
     "name": "stderr",
     "output_type": "stream",
     "text": [
      "\r",
      "t:   0%|                                                                             | 0/251 [00:00<?, ?it/s, now=None]"
     ]
    },
    {
     "name": "stdout",
     "output_type": "stream",
     "text": [
      "okkkk\n",
      "Moviepy - Building video resul2.mp4.\n",
      "Moviepy - Writing video resul2.mp4\n",
      "\n",
      "2\n",
      "okkkk\n",
      "3\n",
      "okkkk\n",
      "4\n",
      "okkkk\n",
      "5\n",
      "okkkk\n",
      "enter\n",
      "Scale ->  0 | Confidence Score [1.1119709] \n",
      "\n",
      "Scale ->  0 | Confidence Score [0.70234234] \n",
      "\n",
      "Scale ->  0 | Confidence Score [0.54715355] \n",
      "\n",
      "Scale ->  0 | Confidence Score [1.17073353] \n",
      "\n",
      "Scale ->  0 | Confidence Score [0.95097108] \n",
      "\n",
      "Scale ->  0 | Confidence Score [0.547618] \n",
      "\n"
     ]
    },
    {
     "name": "stderr",
     "output_type": "stream",
     "text": [
      "\r",
      "t:   2%|█▋                                                                   | 6/251 [00:01<00:43,  5.60it/s, now=None]"
     ]
    },
    {
     "name": "stdout",
     "output_type": "stream",
     "text": [
      "okkkk\n",
      "7\n",
      "okkkk\n",
      "8\n",
      "okkkk\n",
      "9\n",
      "okkkk\n",
      "10\n",
      "okkkk\n",
      "enter\n",
      "Scale ->  0 | Confidence Score [0.80585731] \n",
      "\n",
      "Scale ->  0 | Confidence Score [0.58135247] \n",
      "\n",
      "Scale ->  0 | Confidence Score [0.93060444] \n",
      "\n",
      "Scale ->  0 | Confidence Score [0.71122504] \n",
      "\n"
     ]
    },
    {
     "name": "stderr",
     "output_type": "stream",
     "text": [
      "\r",
      "t:   4%|██▉                                                                 | 11/251 [00:02<00:47,  5.04it/s, now=None]"
     ]
    },
    {
     "name": "stdout",
     "output_type": "stream",
     "text": [
      "okkkk\n",
      "12\n",
      "okkkk\n",
      "13\n",
      "okkkk\n",
      "14\n",
      "okkkk\n",
      "15\n",
      "okkkk\n",
      "enter\n",
      "Scale ->  0 | Confidence Score [0.70057549] \n",
      "\n",
      "Scale ->  0 | Confidence Score [1.37059959] \n",
      "\n",
      "Scale ->  0 | Confidence Score [0.82093884] \n",
      "\n"
     ]
    },
    {
     "name": "stderr",
     "output_type": "stream",
     "text": [
      "\r",
      "t:   6%|████▎                                                               | 16/251 [00:03<00:47,  4.96it/s, now=None]"
     ]
    },
    {
     "name": "stdout",
     "output_type": "stream",
     "text": [
      "okkkk\n",
      "17\n",
      "okkkk\n",
      "18\n",
      "okkkk\n",
      "19\n",
      "okkkk\n",
      "20\n",
      "okkkk\n",
      "enter\n",
      "Scale ->  0 | Confidence Score [0.6152065] \n",
      "\n",
      "Scale ->  0 | Confidence Score [1.33114381] \n",
      "\n",
      "Scale ->  0 | Confidence Score [0.65143604] \n",
      "\n"
     ]
    },
    {
     "name": "stderr",
     "output_type": "stream",
     "text": [
      "\r",
      "t:   8%|█████▋                                                              | 21/251 [00:04<00:49,  4.65it/s, now=None]"
     ]
    },
    {
     "name": "stdout",
     "output_type": "stream",
     "text": [
      "okkkk\n",
      "22\n",
      "okkkk\n",
      "23\n",
      "okkkk\n",
      "24\n",
      "okkkk\n",
      "25\n",
      "okkkk\n",
      "enter\n",
      "Scale ->  0 | Confidence Score [1.38816629] \n",
      "\n",
      "Scale ->  0 | Confidence Score [0.54890772] \n",
      "\n",
      "Scale ->  0 | Confidence Score [0.54718976] \n",
      "\n"
     ]
    },
    {
     "name": "stderr",
     "output_type": "stream",
     "text": [
      "\r",
      "t:  10%|███████                                                             | 26/251 [00:05<00:48,  4.66it/s, now=None]"
     ]
    },
    {
     "name": "stdout",
     "output_type": "stream",
     "text": [
      "okkkk\n",
      "27\n",
      "okkkk\n",
      "28\n",
      "okkkk\n",
      "29\n",
      "okkkk\n",
      "30\n",
      "okkkk\n",
      "enter\n",
      "Scale ->  0 | Confidence Score [0.51609699] \n",
      "\n",
      "Scale ->  0 | Confidence Score [0.53441411] \n",
      "\n",
      "Scale ->  0 | Confidence Score [1.01896463] \n",
      "\n",
      "Scale ->  0 | Confidence Score [0.53990912] \n",
      "\n"
     ]
    },
    {
     "name": "stderr",
     "output_type": "stream",
     "text": [
      "\r",
      "t:  12%|████████▍                                                           | 31/251 [00:06<00:46,  4.72it/s, now=None]"
     ]
    },
    {
     "name": "stdout",
     "output_type": "stream",
     "text": [
      "okkkk\n",
      "32\n",
      "okkkk\n",
      "33\n",
      "okkkk\n",
      "34\n",
      "okkkk\n",
      "35\n",
      "okkkk\n",
      "enter\n",
      "Scale ->  0 | Confidence Score [0.54511782] \n",
      "\n",
      "Scale ->  0 | Confidence Score [0.53040946] \n",
      "\n",
      "Scale ->  0 | Confidence Score [0.85823394] \n",
      "\n",
      "Scale ->  0 | Confidence Score [0.76867588] \n",
      "\n"
     ]
    },
    {
     "name": "stderr",
     "output_type": "stream",
     "text": [
      "\r",
      "t:  14%|█████████▊                                                          | 36/251 [00:07<00:45,  4.74it/s, now=None]"
     ]
    },
    {
     "name": "stdout",
     "output_type": "stream",
     "text": [
      "okkkk\n",
      "37\n",
      "okkkk\n",
      "38\n",
      "okkkk\n",
      "39\n",
      "okkkk\n",
      "40\n",
      "okkkk\n",
      "enter\n",
      "Scale ->  0 | Confidence Score [0.59829844] \n",
      "\n",
      "Scale ->  0 | Confidence Score [1.11737568] \n",
      "\n",
      "Scale ->  0 | Confidence Score [0.60678543] \n",
      "\n"
     ]
    },
    {
     "name": "stderr",
     "output_type": "stream",
     "text": [
      "\r",
      "t:  16%|███████████                                                         | 41/251 [00:08<00:44,  4.67it/s, now=None]"
     ]
    },
    {
     "name": "stdout",
     "output_type": "stream",
     "text": [
      "okkkk\n",
      "42\n",
      "okkkk\n",
      "43\n",
      "okkkk\n",
      "44\n",
      "okkkk\n",
      "45\n",
      "okkkk\n",
      "enter\n",
      "Scale ->  0 | Confidence Score [0.59542429] \n",
      "\n",
      "Scale ->  0 | Confidence Score [0.53980055] \n",
      "\n",
      "Scale ->  0 | Confidence Score [1.0807628] \n",
      "\n",
      "Scale ->  0 | Confidence Score [0.58224149] \n",
      "\n"
     ]
    },
    {
     "name": "stderr",
     "output_type": "stream",
     "text": [
      "\r",
      "t:  18%|████████████▍                                                       | 46/251 [00:09<00:43,  4.69it/s, now=None]"
     ]
    },
    {
     "name": "stdout",
     "output_type": "stream",
     "text": [
      "okkkk\n",
      "47\n",
      "okkkk\n",
      "48\n",
      "okkkk\n",
      "49\n",
      "okkkk\n",
      "50\n",
      "okkkk\n",
      "enter\n",
      "Scale ->  0 | Confidence Score [0.75941749] \n",
      "\n",
      "Scale ->  0 | Confidence Score [0.53726334] \n",
      "\n",
      "Scale ->  0 | Confidence Score [0.60150857] \n",
      "\n",
      "Scale ->  0 | Confidence Score [1.38357881] \n",
      "\n",
      "Scale ->  0 | Confidence Score [0.52795338] \n",
      "\n"
     ]
    },
    {
     "name": "stderr",
     "output_type": "stream",
     "text": [
      "\r",
      "t:  20%|█████████████▊                                                      | 51/251 [00:10<00:42,  4.71it/s, now=None]"
     ]
    },
    {
     "name": "stdout",
     "output_type": "stream",
     "text": [
      "okkkk\n",
      "52\n",
      "okkkk\n",
      "53\n",
      "okkkk\n",
      "54\n",
      "okkkk\n",
      "55\n",
      "okkkk\n",
      "enter\n",
      "Scale ->  0 | Confidence Score [0.6754507] \n",
      "\n",
      "Scale ->  0 | Confidence Score [0.52315697] \n",
      "\n",
      "Scale ->  0 | Confidence Score [1.59953854] \n",
      "\n",
      "Scale ->  0 | Confidence Score [0.64009239] \n",
      "\n"
     ]
    },
    {
     "name": "stderr",
     "output_type": "stream",
     "text": [
      "\r",
      "t:  22%|███████████████▏                                                    | 56/251 [00:11<00:41,  4.72it/s, now=None]"
     ]
    },
    {
     "name": "stdout",
     "output_type": "stream",
     "text": [
      "okkkk\n",
      "57\n",
      "okkkk\n",
      "58\n",
      "okkkk\n",
      "59\n",
      "okkkk\n",
      "60\n",
      "okkkk\n",
      "enter\n",
      "Scale ->  0 | Confidence Score [0.98567968] \n",
      "\n",
      "Scale ->  0 | Confidence Score [0.590019] \n",
      "\n",
      "Scale ->  0 | Confidence Score [1.00297462] \n",
      "\n",
      "Scale ->  0 | Confidence Score [1.59373231] \n",
      "\n"
     ]
    },
    {
     "name": "stderr",
     "output_type": "stream",
     "text": [
      "\r",
      "t:  24%|████████████████▌                                                   | 61/251 [00:12<00:39,  4.76it/s, now=None]"
     ]
    },
    {
     "name": "stdout",
     "output_type": "stream",
     "text": [
      "okkkk\n",
      "62\n",
      "okkkk\n",
      "63\n",
      "okkkk\n",
      "64\n",
      "okkkk\n",
      "65\n",
      "okkkk\n",
      "enter\n",
      "Scale ->  0 | Confidence Score [0.90988676] \n",
      "\n",
      "Scale ->  0 | Confidence Score [0.71204454] \n",
      "\n",
      "Scale ->  0 | Confidence Score [0.54225652] \n",
      "\n",
      "Scale ->  0 | Confidence Score [1.25356867] \n",
      "\n"
     ]
    },
    {
     "name": "stderr",
     "output_type": "stream",
     "text": [
      "\r",
      "t:  26%|█████████████████▉                                                  | 66/251 [00:13<00:38,  4.75it/s, now=None]"
     ]
    },
    {
     "name": "stdout",
     "output_type": "stream",
     "text": [
      "okkkk\n",
      "67\n",
      "okkkk\n",
      "68\n",
      "okkkk\n",
      "69\n",
      "okkkk\n",
      "70\n",
      "okkkk\n",
      "enter\n",
      "Scale ->  0 | Confidence Score [1.10295499] \n",
      "\n",
      "Scale ->  0 | Confidence Score [0.92974441] \n",
      "\n",
      "Scale ->  0 | Confidence Score [1.45222136] \n",
      "\n",
      "Scale ->  0 | Confidence Score [0.50488342] \n",
      "\n",
      "Scale ->  0 | Confidence Score [0.58360973] \n",
      "\n"
     ]
    },
    {
     "name": "stderr",
     "output_type": "stream",
     "text": [
      "\r",
      "t:  28%|███████████████████▏                                                | 71/251 [00:14<00:37,  4.76it/s, now=None]"
     ]
    },
    {
     "name": "stdout",
     "output_type": "stream",
     "text": [
      "okkkk\n",
      "72\n",
      "okkkk\n",
      "73\n",
      "okkkk\n",
      "74\n",
      "okkkk\n",
      "75\n",
      "okkkk\n",
      "enter\n",
      "Scale ->  0 | Confidence Score [1.10203766] \n",
      "\n",
      "Scale ->  0 | Confidence Score [0.59937115] \n",
      "\n",
      "Scale ->  0 | Confidence Score [0.61632181] \n",
      "\n",
      "Scale ->  0 | Confidence Score [1.0647454] \n",
      "\n"
     ]
    },
    {
     "name": "stderr",
     "output_type": "stream",
     "text": [
      "\r",
      "t:  30%|████████████████████▌                                               | 76/251 [00:15<00:36,  4.80it/s, now=None]"
     ]
    },
    {
     "name": "stdout",
     "output_type": "stream",
     "text": [
      "okkkk\n",
      "77\n",
      "okkkk\n",
      "78\n",
      "okkkk\n",
      "79\n",
      "okkkk\n",
      "80\n",
      "okkkk\n",
      "enter\n",
      "Scale ->  0 | Confidence Score [1.09324456] \n",
      "\n",
      "Scale ->  0 | Confidence Score [0.72276675] \n",
      "\n",
      "Scale ->  0 | Confidence Score [0.56720425] \n",
      "\n"
     ]
    },
    {
     "name": "stderr",
     "output_type": "stream",
     "text": [
      "\r",
      "t:  32%|█████████████████████▉                                              | 81/251 [00:16<00:35,  4.80it/s, now=None]"
     ]
    },
    {
     "name": "stdout",
     "output_type": "stream",
     "text": [
      "okkkk\n",
      "82\n",
      "okkkk\n",
      "83\n",
      "okkkk\n",
      "84\n",
      "okkkk\n",
      "85\n",
      "okkkk\n",
      "enter\n",
      "Scale ->  0 | Confidence Score [1.11062593] \n",
      "\n",
      "Scale ->  0 | Confidence Score [0.55445467] \n",
      "\n",
      "Scale ->  0 | Confidence Score [0.54043057] \n",
      "\n",
      "Scale ->  0 | Confidence Score [1.11475066] \n",
      "\n",
      "Scale ->  0 | Confidence Score [0.54967202] \n",
      "\n",
      "Scale ->  0 | Confidence Score [0.59392716] \n",
      "\n",
      "Scale ->  0 | Confidence Score [0.57773978] \n",
      "\n"
     ]
    },
    {
     "name": "stderr",
     "output_type": "stream",
     "text": [
      "\r",
      "t:  34%|███████████████████████▎                                            | 86/251 [00:18<00:34,  4.77it/s, now=None]"
     ]
    },
    {
     "name": "stdout",
     "output_type": "stream",
     "text": [
      "okkkk\n",
      "87\n",
      "okkkk\n",
      "88\n",
      "okkkk\n",
      "89\n",
      "okkkk\n",
      "90\n",
      "okkkk\n",
      "enter\n",
      "Scale ->  0 | Confidence Score [0.58038179] \n",
      "\n",
      "Scale ->  0 | Confidence Score [0.67121536] \n",
      "\n"
     ]
    },
    {
     "name": "stderr",
     "output_type": "stream",
     "text": [
      "\r",
      "t:  36%|████████████████████████▋                                           | 91/251 [00:19<00:33,  4.81it/s, now=None]"
     ]
    },
    {
     "name": "stdout",
     "output_type": "stream",
     "text": [
      "okkkk\n",
      "92\n",
      "okkkk\n",
      "93\n",
      "okkkk\n",
      "94\n",
      "okkkk\n",
      "95\n",
      "okkkk\n",
      "enter\n",
      "Scale ->  0 | Confidence Score [0.7361391] \n",
      "\n",
      "Scale ->  0 | Confidence Score [0.72944109] \n",
      "\n",
      "Scale ->  0 | Confidence Score [0.72032922] \n",
      "\n"
     ]
    },
    {
     "name": "stderr",
     "output_type": "stream",
     "text": [
      "\r",
      "t:  38%|██████████████████████████                                          | 96/251 [00:20<00:32,  4.82it/s, now=None]"
     ]
    },
    {
     "name": "stdout",
     "output_type": "stream",
     "text": [
      "okkkk\n",
      "97\n",
      "okkkk\n",
      "98\n",
      "okkkk\n",
      "99\n",
      "okkkk\n",
      "100\n",
      "okkkk\n",
      "enter\n",
      "Scale ->  0 | Confidence Score [0.5401605] \n",
      "\n",
      "Scale ->  0 | Confidence Score [0.85687211] \n",
      "\n"
     ]
    },
    {
     "name": "stderr",
     "output_type": "stream",
     "text": [
      "\r",
      "t:  40%|██████████████████████████▉                                        | 101/251 [00:21<00:31,  4.77it/s, now=None]"
     ]
    },
    {
     "name": "stdout",
     "output_type": "stream",
     "text": [
      "okkkk\n",
      "102\n",
      "okkkk\n",
      "103\n",
      "okkkk\n",
      "104\n",
      "okkkk\n",
      "105\n",
      "okkkk\n",
      "enter\n",
      "Scale ->  0 | Confidence Score [0.97623874] \n",
      "\n",
      "Scale ->  0 | Confidence Score [0.62018489] \n",
      "\n",
      "Scale ->  0 | Confidence Score [0.71758656] \n",
      "\n"
     ]
    },
    {
     "name": "stderr",
     "output_type": "stream",
     "text": [
      "\r",
      "t:  42%|████████████████████████████▎                                      | 106/251 [00:22<00:30,  4.76it/s, now=None]"
     ]
    },
    {
     "name": "stdout",
     "output_type": "stream",
     "text": [
      "okkkk\n",
      "107\n",
      "okkkk\n",
      "108\n",
      "okkkk\n",
      "109\n",
      "okkkk\n",
      "110\n",
      "okkkk\n",
      "enter\n",
      "Scale ->  0 | Confidence Score [0.65739589] \n",
      "\n",
      "Scale ->  0 | Confidence Score [0.53313146] \n",
      "\n",
      "Scale ->  0 | Confidence Score [0.63066118] \n",
      "\n",
      "Scale ->  0 | Confidence Score [0.76904919] \n",
      "\n"
     ]
    },
    {
     "name": "stderr",
     "output_type": "stream",
     "text": [
      "\r",
      "t:  44%|█████████████████████████████▋                                     | 111/251 [00:23<00:29,  4.81it/s, now=None]"
     ]
    },
    {
     "name": "stdout",
     "output_type": "stream",
     "text": [
      "okkkk\n",
      "112\n",
      "okkkk\n",
      "113\n",
      "okkkk\n",
      "114\n",
      "okkkk\n",
      "115\n",
      "okkkk\n",
      "enter\n"
     ]
    },
    {
     "name": "stderr",
     "output_type": "stream",
     "text": [
      "\r",
      "t:  46%|██████████████████████████████▉                                    | 116/251 [00:24<00:28,  4.81it/s, now=None]"
     ]
    },
    {
     "name": "stdout",
     "output_type": "stream",
     "text": [
      "okkkk\n",
      "117\n",
      "okkkk\n",
      "118\n",
      "okkkk\n",
      "119\n",
      "okkkk\n",
      "120\n",
      "okkkk\n",
      "enter\n",
      "Scale ->  0 | Confidence Score [0.71722127] \n",
      "\n",
      "Scale ->  0 | Confidence Score [0.85543959] \n",
      "\n"
     ]
    },
    {
     "name": "stderr",
     "output_type": "stream",
     "text": [
      "\r",
      "t:  48%|████████████████████████████████▎                                  | 121/251 [00:25<00:26,  4.82it/s, now=None]"
     ]
    },
    {
     "name": "stdout",
     "output_type": "stream",
     "text": [
      "okkkk\n",
      "122\n",
      "okkkk\n",
      "123\n",
      "okkkk\n",
      "124\n",
      "okkkk\n",
      "125\n",
      "okkkk\n",
      "enter\n",
      "Scale ->  0 | Confidence Score [0.59257195] \n",
      "\n",
      "Scale ->  0 | Confidence Score [0.57329292] \n",
      "\n"
     ]
    },
    {
     "name": "stderr",
     "output_type": "stream",
     "text": [
      "\r",
      "t:  50%|█████████████████████████████████▋                                 | 126/251 [00:26<00:25,  4.85it/s, now=None]"
     ]
    },
    {
     "name": "stdout",
     "output_type": "stream",
     "text": [
      "okkkk\n",
      "127\n",
      "okkkk\n",
      "128\n",
      "okkkk\n",
      "129\n",
      "okkkk\n",
      "130\n",
      "okkkk\n",
      "enter\n",
      "Scale ->  0 | Confidence Score [0.84744419] \n",
      "\n",
      "Scale ->  0 | Confidence Score [0.62639072] \n",
      "\n"
     ]
    },
    {
     "name": "stderr",
     "output_type": "stream",
     "text": [
      "\r",
      "t:  52%|██████████████████████████████████▉                                | 131/251 [00:27<00:24,  4.80it/s, now=None]"
     ]
    },
    {
     "name": "stdout",
     "output_type": "stream",
     "text": [
      "okkkk\n",
      "132\n",
      "okkkk\n",
      "133\n",
      "okkkk\n",
      "134\n",
      "okkkk\n",
      "135\n",
      "okkkk\n",
      "enter\n",
      "Scale ->  0 | Confidence Score [0.77960407] \n",
      "\n",
      "Scale ->  0 | Confidence Score [0.69895664] \n",
      "\n"
     ]
    },
    {
     "name": "stderr",
     "output_type": "stream",
     "text": [
      "\r",
      "t:  54%|████████████████████████████████████▎                              | 136/251 [00:28<00:23,  4.79it/s, now=None]"
     ]
    },
    {
     "name": "stdout",
     "output_type": "stream",
     "text": [
      "okkkk\n",
      "137\n",
      "okkkk\n",
      "138\n",
      "okkkk\n",
      "139\n",
      "okkkk\n",
      "140\n",
      "okkkk\n",
      "enter\n",
      "Scale ->  0 | Confidence Score [0.80789143] \n",
      "\n"
     ]
    },
    {
     "name": "stderr",
     "output_type": "stream",
     "text": [
      "\r",
      "t:  56%|█████████████████████████████████████▋                             | 141/251 [00:29<00:23,  4.72it/s, now=None]"
     ]
    },
    {
     "name": "stdout",
     "output_type": "stream",
     "text": [
      "okkkk\n",
      "142\n",
      "okkkk\n",
      "143\n",
      "okkkk\n",
      "144\n",
      "okkkk\n",
      "145\n",
      "okkkk\n",
      "enter\n",
      "Scale ->  0 | Confidence Score [0.51757066] \n",
      "\n"
     ]
    },
    {
     "name": "stderr",
     "output_type": "stream",
     "text": [
      "\r",
      "t:  58%|██████████████████████████████████████▉                            | 146/251 [00:30<00:22,  4.75it/s, now=None]"
     ]
    },
    {
     "name": "stdout",
     "output_type": "stream",
     "text": [
      "okkkk\n",
      "147\n",
      "okkkk\n",
      "148\n",
      "okkkk\n",
      "149\n",
      "okkkk\n",
      "150\n",
      "okkkk\n",
      "enter\n",
      "Scale ->  0 | Confidence Score [0.80155177] \n",
      "\n",
      "Scale ->  0 | Confidence Score [0.74714541] \n",
      "\n"
     ]
    },
    {
     "name": "stderr",
     "output_type": "stream",
     "text": [
      "\r",
      "t:  60%|████████████████████████████████████████▎                          | 151/251 [00:31<00:21,  4.71it/s, now=None]"
     ]
    },
    {
     "name": "stdout",
     "output_type": "stream",
     "text": [
      "okkkk\n",
      "152\n",
      "okkkk\n",
      "153\n",
      "okkkk\n",
      "154\n",
      "okkkk\n",
      "155\n",
      "okkkk\n",
      "enter\n",
      "Scale ->  0 | Confidence Score [1.0367158] \n",
      "\n",
      "Scale ->  0 | Confidence Score [0.88065879] \n",
      "\n",
      "Scale ->  0 | Confidence Score [0.9125622] \n",
      "\n",
      "Scale ->  0 | Confidence Score [0.69671865] \n",
      "\n"
     ]
    },
    {
     "name": "stderr",
     "output_type": "stream",
     "text": [
      "\r",
      "t:  62%|█████████████████████████████████████████▋                         | 156/251 [00:32<00:20,  4.66it/s, now=None]"
     ]
    },
    {
     "name": "stdout",
     "output_type": "stream",
     "text": [
      "okkkk\n",
      "157\n",
      "okkkk\n",
      "158\n",
      "okkkk\n",
      "159\n",
      "okkkk\n",
      "160\n",
      "okkkk\n",
      "enter\n",
      "Scale ->  0 | Confidence Score [0.6337482] \n",
      "\n",
      "Scale ->  0 | Confidence Score [0.50046226] \n",
      "\n",
      "Scale ->  0 | Confidence Score [0.61472624] \n",
      "\n"
     ]
    },
    {
     "name": "stderr",
     "output_type": "stream",
     "text": [
      "\r",
      "t:  64%|██████████████████████████████████████████▉                        | 161/251 [00:33<00:19,  4.64it/s, now=None]"
     ]
    },
    {
     "name": "stdout",
     "output_type": "stream",
     "text": [
      "okkkk\n",
      "162\n",
      "okkkk\n",
      "163\n",
      "okkkk\n",
      "164\n",
      "okkkk\n",
      "165\n",
      "okkkk\n",
      "enter\n",
      "Scale ->  0 | Confidence Score [0.50149448] \n",
      "\n",
      "Scale ->  0 | Confidence Score [0.83935558] \n",
      "\n"
     ]
    },
    {
     "name": "stderr",
     "output_type": "stream",
     "text": [
      "\r",
      "t:  66%|████████████████████████████████████████████▎                      | 166/251 [00:34<00:18,  4.65it/s, now=None]"
     ]
    },
    {
     "name": "stdout",
     "output_type": "stream",
     "text": [
      "okkkk\n",
      "167\n",
      "okkkk\n",
      "168\n",
      "okkkk\n",
      "169\n",
      "okkkk\n",
      "170\n",
      "okkkk\n",
      "enter\n",
      "Scale ->  0 | Confidence Score [0.68277792] \n",
      "\n",
      "Scale ->  0 | Confidence Score [0.86041049] \n",
      "\n"
     ]
    },
    {
     "name": "stderr",
     "output_type": "stream",
     "text": [
      "\r",
      "t:  68%|█████████████████████████████████████████████▋                     | 171/251 [00:36<00:17,  4.56it/s, now=None]"
     ]
    },
    {
     "name": "stdout",
     "output_type": "stream",
     "text": [
      "okkkk\n",
      "172\n",
      "okkkk\n",
      "173\n",
      "okkkk\n",
      "174\n",
      "okkkk\n",
      "175\n",
      "okkkk\n",
      "enter\n",
      "Scale ->  0 | Confidence Score [0.69722902] \n",
      "\n",
      "Scale ->  0 | Confidence Score [0.51493947] \n",
      "\n",
      "Scale ->  0 | Confidence Score [0.66197605] \n",
      "\n",
      "Scale ->  0 | Confidence Score [0.5447916] \n",
      "\n"
     ]
    },
    {
     "name": "stderr",
     "output_type": "stream",
     "text": [
      "\r",
      "t:  70%|██████████████████████████████████████████████▉                    | 176/251 [00:37<00:16,  4.48it/s, now=None]"
     ]
    },
    {
     "name": "stdout",
     "output_type": "stream",
     "text": [
      "okkkk\n",
      "177\n",
      "okkkk\n",
      "178\n",
      "okkkk\n",
      "179\n",
      "okkkk\n",
      "180\n",
      "okkkk\n",
      "enter\n",
      "Scale ->  0 | Confidence Score [0.511231] \n",
      "\n",
      "Scale ->  0 | Confidence Score [0.54521727] \n",
      "\n",
      "Scale ->  0 | Confidence Score [0.55397461] \n",
      "\n",
      "Scale ->  0 | Confidence Score [0.60659586] \n",
      "\n",
      "Scale ->  0 | Confidence Score [0.75270149] \n",
      "\n"
     ]
    },
    {
     "name": "stderr",
     "output_type": "stream",
     "text": [
      "\r",
      "t:  72%|████████████████████████████████████████████████▎                  | 181/251 [00:38<00:15,  4.50it/s, now=None]"
     ]
    },
    {
     "name": "stdout",
     "output_type": "stream",
     "text": [
      "okkkk\n",
      "182\n",
      "okkkk\n",
      "183\n",
      "okkkk\n",
      "184\n",
      "okkkk\n",
      "185\n",
      "okkkk\n",
      "enter\n",
      "Scale ->  0 | Confidence Score [0.75048849] \n",
      "\n",
      "Scale ->  0 | Confidence Score [0.92119924] \n",
      "\n",
      "Scale ->  0 | Confidence Score [0.76555942] \n",
      "\n"
     ]
    },
    {
     "name": "stderr",
     "output_type": "stream",
     "text": [
      "\r",
      "t:  74%|█████████████████████████████████████████████████▋                 | 186/251 [00:39<00:14,  4.56it/s, now=None]"
     ]
    },
    {
     "name": "stdout",
     "output_type": "stream",
     "text": [
      "okkkk\n",
      "187\n",
      "okkkk\n",
      "188\n",
      "okkkk\n",
      "189\n",
      "okkkk\n",
      "190\n",
      "okkkk\n",
      "enter\n",
      "Scale ->  0 | Confidence Score [0.50696543] \n",
      "\n",
      "Scale ->  0 | Confidence Score [0.52221639] \n",
      "\n",
      "Scale ->  0 | Confidence Score [0.94731458] \n",
      "\n",
      "Scale ->  0 | Confidence Score [1.02150428] \n",
      "\n"
     ]
    },
    {
     "name": "stderr",
     "output_type": "stream",
     "text": [
      "\r",
      "t:  76%|██████████████████████████████████████████████████▉                | 191/251 [00:40<00:13,  4.59it/s, now=None]"
     ]
    },
    {
     "name": "stdout",
     "output_type": "stream",
     "text": [
      "okkkk\n",
      "192\n",
      "okkkk\n",
      "193\n",
      "okkkk\n",
      "194\n",
      "okkkk\n",
      "195\n",
      "okkkk\n",
      "enter\n",
      "Scale ->  0 | Confidence Score [0.81622651] \n",
      "\n",
      "Scale ->  0 | Confidence Score [0.79341728] \n",
      "\n"
     ]
    },
    {
     "name": "stderr",
     "output_type": "stream",
     "text": [
      "\r",
      "t:  78%|████████████████████████████████████████████████████▎              | 196/251 [00:41<00:12,  4.51it/s, now=None]"
     ]
    },
    {
     "name": "stdout",
     "output_type": "stream",
     "text": [
      "okkkk\n",
      "197\n",
      "okkkk\n",
      "198\n",
      "okkkk\n",
      "199\n",
      "okkkk\n",
      "200\n",
      "okkkk\n",
      "enter\n",
      "Scale ->  0 | Confidence Score [0.63658393] \n",
      "\n",
      "Scale ->  0 | Confidence Score [0.66861254] \n",
      "\n",
      "Scale ->  0 | Confidence Score [0.92453482] \n",
      "\n",
      "Scale ->  0 | Confidence Score [0.7112448] \n",
      "\n"
     ]
    },
    {
     "name": "stderr",
     "output_type": "stream",
     "text": [
      "\r",
      "t:  80%|█████████████████████████████████████████████████████▋             | 201/251 [00:42<00:10,  4.58it/s, now=None]"
     ]
    },
    {
     "name": "stdout",
     "output_type": "stream",
     "text": [
      "okkkk\n",
      "202\n",
      "okkkk\n",
      "203\n",
      "okkkk\n",
      "204\n",
      "okkkk\n",
      "205\n",
      "okkkk\n",
      "enter\n",
      "Scale ->  0 | Confidence Score [0.61944635] \n",
      "\n",
      "Scale ->  0 | Confidence Score [1.01346011] \n",
      "\n",
      "Scale ->  0 | Confidence Score [0.56571277] \n",
      "\n"
     ]
    },
    {
     "name": "stderr",
     "output_type": "stream",
     "text": [
      "\r",
      "t:  82%|██████████████████████████████████████████████████████▉            | 206/251 [00:43<00:09,  4.62it/s, now=None]"
     ]
    },
    {
     "name": "stdout",
     "output_type": "stream",
     "text": [
      "okkkk\n",
      "207\n",
      "okkkk\n",
      "208\n",
      "okkkk\n",
      "209\n",
      "okkkk\n",
      "210\n",
      "okkkk\n",
      "enter\n",
      "Scale ->  0 | Confidence Score [0.63249243] \n",
      "\n",
      "Scale ->  0 | Confidence Score [0.91435524] \n",
      "\n",
      "Scale ->  0 | Confidence Score [1.01505217] \n",
      "\n"
     ]
    },
    {
     "name": "stderr",
     "output_type": "stream",
     "text": [
      "\r",
      "t:  84%|████████████████████████████████████████████████████████▎          | 211/251 [00:44<00:08,  4.63it/s, now=None]"
     ]
    },
    {
     "name": "stdout",
     "output_type": "stream",
     "text": [
      "okkkk\n",
      "212\n",
      "okkkk\n",
      "213\n",
      "okkkk\n",
      "214\n",
      "okkkk\n",
      "215\n",
      "okkkk\n",
      "enter\n",
      "Scale ->  0 | Confidence Score [0.95289994] \n",
      "\n",
      "Scale ->  0 | Confidence Score [0.89140277] \n",
      "\n"
     ]
    },
    {
     "name": "stderr",
     "output_type": "stream",
     "text": [
      "\r",
      "t:  86%|█████████████████████████████████████████████████████████▋         | 216/251 [00:45<00:07,  4.68it/s, now=None]"
     ]
    },
    {
     "name": "stdout",
     "output_type": "stream",
     "text": [
      "okkkk\n",
      "217\n",
      "okkkk\n",
      "218\n",
      "okkkk\n",
      "219\n",
      "okkkk\n",
      "220\n",
      "okkkk\n",
      "enter\n",
      "Scale ->  0 | Confidence Score [0.71219654] \n",
      "\n",
      "Scale ->  0 | Confidence Score [0.55109612] \n",
      "\n",
      "Scale ->  0 | Confidence Score [0.91055683] \n",
      "\n",
      "Scale ->  0 | Confidence Score [0.88888068] \n",
      "\n"
     ]
    },
    {
     "name": "stderr",
     "output_type": "stream",
     "text": [
      "\r",
      "t:  88%|██████████████████████████████████████████████████████████▉        | 221/251 [00:46<00:06,  4.73it/s, now=None]"
     ]
    },
    {
     "name": "stdout",
     "output_type": "stream",
     "text": [
      "okkkk\n",
      "222\n",
      "okkkk\n",
      "223\n",
      "okkkk\n",
      "224\n",
      "okkkk\n",
      "225\n",
      "okkkk\n",
      "enter\n",
      "Scale ->  0 | Confidence Score [0.67397732] \n",
      "\n",
      "Scale ->  0 | Confidence Score [0.75392954] \n",
      "\n"
     ]
    },
    {
     "name": "stderr",
     "output_type": "stream",
     "text": [
      "\r",
      "t:  90%|████████████████████████████████████████████████████████████▎      | 226/251 [00:47<00:05,  4.73it/s, now=None]"
     ]
    },
    {
     "name": "stdout",
     "output_type": "stream",
     "text": [
      "okkkk\n",
      "227\n",
      "okkkk\n",
      "228\n",
      "okkkk\n",
      "229\n",
      "okkkk\n",
      "230\n",
      "okkkk\n",
      "enter\n",
      "Scale ->  0 | Confidence Score [0.52836503] \n",
      "\n",
      "Scale ->  0 | Confidence Score [0.83874243] \n",
      "\n"
     ]
    },
    {
     "name": "stderr",
     "output_type": "stream",
     "text": [
      "\r",
      "t:  92%|█████████████████████████████████████████████████████████████▋     | 231/251 [00:48<00:04,  4.75it/s, now=None]"
     ]
    },
    {
     "name": "stdout",
     "output_type": "stream",
     "text": [
      "okkkk\n",
      "232\n",
      "okkkk\n",
      "233\n",
      "okkkk\n",
      "234\n",
      "okkkk\n",
      "235\n",
      "okkkk\n",
      "enter\n",
      "Scale ->  0 | Confidence Score [0.50568429] \n",
      "\n",
      "Scale ->  0 | Confidence Score [0.74900164] \n",
      "\n"
     ]
    },
    {
     "name": "stderr",
     "output_type": "stream",
     "text": [
      "\r",
      "t:  94%|██████████████████████████████████████████████████████████████▉    | 236/251 [00:50<00:03,  4.74it/s, now=None]"
     ]
    },
    {
     "name": "stdout",
     "output_type": "stream",
     "text": [
      "okkkk\n",
      "237\n",
      "okkkk\n",
      "238\n",
      "okkkk\n",
      "239\n",
      "okkkk\n",
      "240\n",
      "okkkk\n",
      "enter\n",
      "Scale ->  0 | Confidence Score [0.54594581] \n",
      "\n"
     ]
    },
    {
     "name": "stderr",
     "output_type": "stream",
     "text": [
      "\r",
      "t:  96%|████████████████████████████████████████████████████████████████▎  | 241/251 [00:51<00:02,  4.72it/s, now=None]"
     ]
    },
    {
     "name": "stdout",
     "output_type": "stream",
     "text": [
      "okkkk\n",
      "242\n",
      "okkkk\n",
      "243\n",
      "okkkk\n",
      "244\n",
      "okkkk\n",
      "245\n",
      "okkkk\n",
      "enter\n",
      "Scale ->  0 | Confidence Score [0.96178989] \n",
      "\n"
     ]
    },
    {
     "name": "stderr",
     "output_type": "stream",
     "text": [
      "\r",
      "t:  98%|█████████████████████████████████████████████████████████████████▋ | 246/251 [00:52<00:01,  4.72it/s, now=None]"
     ]
    },
    {
     "name": "stdout",
     "output_type": "stream",
     "text": [
      "okkkk\n",
      "247\n",
      "okkkk\n",
      "248\n",
      "okkkk\n",
      "249\n",
      "okkkk\n",
      "250\n",
      "okkkk\n",
      "enter\n"
     ]
    },
    {
     "name": "stderr",
     "output_type": "stream",
     "text": [
      "                                                                                                                       "
     ]
    },
    {
     "name": "stdout",
     "output_type": "stream",
     "text": [
      "okkkk\n",
      "252\n",
      "okkkk\n"
     ]
    },
    {
     "name": "stderr",
     "output_type": "stream",
     "text": [
      "\r"
     ]
    },
    {
     "name": "stdout",
     "output_type": "stream",
     "text": [
      "Moviepy - Done !\n",
      "Moviepy - video ready resul2.mp4\n",
      "Wall time: 53.4 s\n"
     ]
    }
   ],
   "source": [
    "\n",
    "\n",
    "import imageio\n",
    "#imageio.plugins.ffmpeg.download()\n",
    "from moviepy.editor import VideoFileClip\n",
    "from IPython.display import HTML\n",
    "output = 'resul2.mp4'\n",
    "clip = VideoFileClip(\"challenge.mp4\")\n",
    "video_clip = clip.fl_image(process_image)\n",
    "%time video_clip.write_videofile(output, audio=False)"
   ]
  },
  {
   "cell_type": "code",
   "execution_count": null,
   "id": "c3956883",
   "metadata": {},
   "outputs": [],
   "source": []
  }
 ],
 "metadata": {
  "kernelspec": {
   "display_name": "Python 3",
   "language": "python",
   "name": "python3"
  },
  "language_info": {
   "codemirror_mode": {
    "name": "ipython",
    "version": 3
   },
   "file_extension": ".py",
   "mimetype": "text/x-python",
   "name": "python",
   "nbconvert_exporter": "python",
   "pygments_lexer": "ipython3",
   "version": "3.8.8"
  }
 },
 "nbformat": 4,
 "nbformat_minor": 5
}
