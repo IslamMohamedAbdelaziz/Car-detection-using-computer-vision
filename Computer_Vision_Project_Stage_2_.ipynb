{
 "cells": [
  {
   "cell_type": "markdown",
   "id": "87fd53b5",
   "metadata": {},
   "source": [
    "# Load the model"
   ]
  },
  {
   "cell_type": "code",
   "execution_count": 1,
   "id": "81267ce8",
   "metadata": {},
   "outputs": [
    {
     "name": "stdout",
     "output_type": "stream",
     "text": [
      "LinearSVC()\n"
     ]
    }
   ],
   "source": [
    "import sklearn.externals as extjoblib\n",
    "import joblib\n",
    "\n",
    "# Upload the saved svm model:\n",
    "model = joblib.load('LinearSVC.npy')\n",
    "print(model)"
   ]
  },
  {
   "cell_type": "code",
   "execution_count": 2,
   "id": "b1911172",
   "metadata": {},
   "outputs": [],
   "source": [
    "import cv2\n",
    "def image_resize(image, width = None, height = None, inter = cv2.INTER_AREA):\n",
    "    # initialize the dimensions of the image to be resized and\n",
    "    # grab the image size\n",
    "    dim = None\n",
    "    (h, w) = image.shape[:2]\n",
    "\n",
    "    # if both the width and height are None, then return the\n",
    "    # original image\n",
    "    if width is None and height is None:\n",
    "        return image\n",
    "\n",
    "    # check to see if the width is None\n",
    "    if width is None:\n",
    "        # calculate the ratio of the height and construct the\n",
    "        # dimensions\n",
    "        r = height / float(h)\n",
    "        dim = (int(w * r), height)\n",
    "\n",
    "    # otherwise, the height is None\n",
    "    else:\n",
    "        # calculate the ratio of the width and construct the\n",
    "        # dimensions\n",
    "        r = width / float(w)\n",
    "        dim = (width, int(h * r))\n",
    "\n",
    "    # resize the image\n",
    "    resized = cv2.resize(image, dim, interpolation = inter)\n",
    "\n",
    "    # return the resized image\n",
    "    return resized"
   ]
  },
  {
   "cell_type": "code",
   "execution_count": 3,
   "id": "ebc4dd17",
   "metadata": {
    "scrolled": true
   },
   "outputs": [],
   "source": [
    "\n",
    "\n",
    "from skimage.feature import hog\n",
    "from skimage.transform import pyramid_gaussian\n",
    "from skimage import color\n",
    "import matplotlib.pyplot as plt\n",
    "from imutils.object_detection import non_max_suppression\n",
    "import imutils\n",
    "import numpy as np\n",
    "import cv2\n",
    "import os\n",
    "import glob\n",
    "from skimage import exposure\n",
    "from sklearn.preprocessing import StandardScaler\n",
    "\n",
    "\n",
    "#Define HOG Parameters\n",
    "# change them if necessary to orientations = 8, pixels per cell = (16,16), cells per block to (1,1) for weaker HOG\n",
    "orientations = 9 \n",
    "pixels_per_cell = (8, 8)\n",
    "cells_per_block =(2, 2)\n",
    "threshold = .3\n",
    "\n",
    "# define the sliding window:\n",
    "def sliding_window(image, stepSize, windowSize):# image is the input, step size is the no.of pixels needed to skip and windowSize is the size of the actual window\n",
    "    # slide a window across the image\n",
    "    for y in range(0, image.shape[0], stepSize):# this line and the line below actually defines the sliding part and loops over the x and y coordinates\n",
    "        for x in range(0, image.shape[1], stepSize):\n",
    "            # yield the current window\n",
    "            yield (x, y, image[y: y + windowSize[1], x:x + windowSize[0]])\n",
    "#%%\n",
    "# Upload the saved svm model:\n",
    "#model = joblib.load('Inser\\Path\\of_the_trained\\SVM-model\\here')\n",
    "\n",
    "# Test the trained classifier on an image below!\n",
    "global last_sc\n",
    "global counter \n",
    "global last_rects\n",
    "counter = 0\n",
    "global empty_frame_counter\n",
    "empty_frame_counter = 0\n",
    "def process_image(img):\n",
    "    global last_sc\n",
    "    global counter\n",
    "    global last_rects\n",
    "    global empty_frame_counter\n",
    "    counter += 1 \n",
    "    gen_new_detc = 1\n",
    "    if counter % 5 != 1 :\n",
    "        img= imutils.resize(img, width=600,height=600) \n",
    "        sc = last_sc \n",
    "        rects = last_rects\n",
    "        gen_new_detc = 0\n",
    "        print(counter)  \n",
    "    \n",
    "    if gen_new_detc :\n",
    "        \n",
    "        print('enter')\n",
    "   # image = china[150:220, 130:250]\n",
    "#     img = StandardScaler(with_mean=0, with_std=1).fit_transform(img)\n",
    "    #img = img / 255.0\n",
    "        scale = 0\n",
    "        detections = []\n",
    "        # read the image you want to detect the object in:\n",
    "        #img= cv2.imread(\"image0068.png\")\n",
    "        #img= cv2.imread(\"car_.png\")\n",
    "        #img= cv2.imread(\"straight_lines1.jpg\")\n",
    "        #img= cv2.imread(\"test1.jpg\")\n",
    "        #img=image_resize(img, width = int(img.shape[1]*0.4), height = int(img.shape[0]*0.4))\n",
    "\n",
    "        # img= imutils.resize(img, width=int(img.shape[1]*0.15),height=int(img.shape[0]*0.15))\n",
    "        img= imutils.resize(img, width=600,height=600) \n",
    "        # Try it with image resized if the image is too big  #**************************(32,32)\n",
    "        #img= cv2.resize(64,64) # can change the size to default by commenting this code out our put in a random number\n",
    "\n",
    "        # defining the size of the sliding window (has to be, same as the size of the image in the training data)\n",
    "        (winW, winH)= (64,64)   #**************************(32,32)\n",
    "        windowSize=(winW,winH)\n",
    "        downscale=1.85\n",
    "        # Apply sliding window:\n",
    "        for resized in pyramid_gaussian(img, downscale=1.85): # loop over each layer of the image that you take!\n",
    "            # loop over the sliding window for each layer of the pyramid\n",
    "    #         if(scale==0):\n",
    "    #             scale +=1\n",
    "    #             continue\n",
    "\n",
    "            for (x,y,window) in sliding_window(resized, stepSize=6, windowSize=(winW,winH)):\n",
    "\n",
    "                # if the window does not meet our desired window size, ignore it!\n",
    "\n",
    "                if window.shape[0] < winH or window.shape[1] < winW: # ensure the sliding window has met the minimum size requirement\n",
    "                    continue\n",
    "\n",
    "                if (y < resized.shape[0] / 1.9) or (x  < resized.shape[1]* 0.6) or (y > resized.shape[0] * 0.7):\n",
    "                    continue\n",
    "\n",
    "                #window=color.rgb2gray(window)\n",
    "\n",
    "                fds = hog(window, orientations, pixels_per_cell, cells_per_block, block_norm='L2')  # extract HOG features from the window captured      \n",
    "                fds = fds.reshape(1, -1) # re shape the image to make a silouhette of hog\n",
    "\n",
    "                hog_image_rescaled = exposure.rescale_intensity(fds, in_range=(0, 0.02))\n",
    "                pred = model.predict(fds) # use the SVM model to make a prediction on the HOG features extracted from the window\n",
    "\n",
    "               # window=color.gray2rgb(window)\n",
    "                if pred == 'vehicles':\n",
    "    #                 print(pred)\n",
    "    #                 print(model.decision_function(fds))\n",
    "                    if model.decision_function(fds) > 0.4 :  # set a threshold value for the SVM prediction i.e. only firm the predictions above probability of 0.6\n",
    "    #                     print(\"Detection:: Location -> ({}, {})\".format(x, y))\n",
    "                        print(\"Scale ->  {} | Confidence Score {} \\n\".format(scale,model.decision_function(fds)))\n",
    "\n",
    "                        detections.append((int(x * (downscale**scale)), int(y * (downscale**scale)), model.decision_function(fds),\n",
    "                                           int(windowSize[0]*(downscale**scale)), # create a list of all the predictions found\n",
    "                                              int(windowSize[1]*(downscale**scale))))\n",
    "            \n",
    "            scale+=1\n",
    "            if(scale==2):\n",
    "                break\n",
    "\n",
    "       # clone = resized.copy()\n",
    "    #     for (x_tl, y_tl, _, w, h) in detections:\n",
    "    #         print(\"edffffffffd\")\n",
    "    #         cv2.rectangle(img, (x_tl, y_tl), (x_tl + w, y_tl + h), (0, 0, 255), thickness = 1)\n",
    "        rects = np.array([[x, y, x + w, y + h] for (x, y, _, w, h) in detections]) # do nms on the detected bounding boxes\n",
    "        sc = [score[0] for (x, y, score, w, h) in detections]\n",
    "    #     print(\"detection confidence score: \", sc)\n",
    "        sc = np.array(sc)\n",
    "        if not rects.any() and last_rects.any():\n",
    "            empty_frame_counter +=1\n",
    "            if  empty_frame_counter < 15:\n",
    "                sc = last_sc \n",
    "                rects = last_rects\n",
    "            else:\n",
    "                empty_frame_counter = 0  \n",
    "            \n",
    "    pick = non_max_suppression(rects, probs = sc, overlapThresh = 0.3)\n",
    "    last_sc = sc\n",
    "    last_rects = rects\n",
    "    # the peice of code above creates a raw bounding box prior to using NMS\n",
    "    # the code below creates a bounding box after using nms on the detections\n",
    "    # you can choose which one you want to visualise, as you deem fit... simply use the following function:\n",
    "    # cv2.imshow in this right place (since python is procedural it will go through the code line by line).\n",
    "    draw = []\n",
    "    if len(pick) != 0:    \n",
    "        flag=0\n",
    "#         draw.append(pick[0])\n",
    "    \n",
    "        for (xA, yA, xB, yB) in pick:\n",
    "            for (mA, nA, mB, nB) in draw:\n",
    "                if (xA >= mA and yA >= nA and xB <= mB and yB <=nB)or(xA <= mA and yA <= nA and xB >= mB and yB >=nB) :\n",
    "                    flag=1\n",
    "                    break\n",
    "            if flag == 0 :\n",
    "                draw.append([xA, yA, xB, yB])\n",
    "            flag=0\n",
    "\n",
    "\n",
    " \n",
    "\n",
    "        for (xA, yA, xB, yB) in draw:\n",
    "            cv2.rectangle(img, (xA, yA), (xB, yB), (0,255,0), 2)\n",
    "        \n",
    "   # if not pick:\n",
    "        \n",
    "    #cv2.imshow(\"Raw Detections after NMS\", img)\n",
    "   # img= cv2.cvtColor(img, cv2.COLOR_BGR2RGB)\n",
    "#     plt.imshow(img)\n",
    "#     plt.show()\n",
    "    print('okkkk')\n",
    "    return img\n",
    "\n",
    "    #### Save the images below\n",
    "    # k = cv2.waitKey(0) & 0xFF \n",
    "    # if k == 27:             #wait for ESC key to exit\n",
    "    #     cv2.destroyAllWindows()\n",
    "    # elif k == ord('s'):\n",
    "    #     cv2.imwrite('Path\\to_the_directory\\of_saved_image.png',img)\n",
    "    #     cv2.destroyAllWindows()\n",
    "    \n",
    "# img= cv2.imread(\"test1.jpg\")\n",
    "# process_image(img)    \n",
    "   "
   ]
  },
  {
   "cell_type": "code",
   "execution_count": 4,
   "id": "43fc10de",
   "metadata": {},
   "outputs": [
    {
     "name": "stdout",
     "output_type": "stream",
     "text": [
      "enter\n"
     ]
    },
    {
     "name": "stderr",
     "output_type": "stream",
     "text": [
      "\r",
      "t:   0%|                                                                            | 0/1260 [00:00<?, ?it/s, now=None]"
     ]
    },
    {
     "name": "stdout",
     "output_type": "stream",
     "text": [
      "okkkk\n",
      "Moviepy - Building video resul3.mp4.\n",
      "Moviepy - Writing video resul3.mp4\n",
      "\n",
      "2\n",
      "okkkk\n",
      "3\n",
      "okkkk\n",
      "4\n",
      "okkkk\n",
      "5\n",
      "okkkk\n",
      "enter\n"
     ]
    },
    {
     "name": "stderr",
     "output_type": "stream",
     "text": [
      "\r",
      "t:   0%|▎                                                                   | 6/1260 [00:00<02:12,  9.44it/s, now=None]"
     ]
    },
    {
     "name": "stdout",
     "output_type": "stream",
     "text": [
      "okkkk\n",
      "7\n",
      "okkkk\n",
      "8\n",
      "okkkk\n",
      "9\n",
      "okkkk\n",
      "10\n",
      "okkkk\n",
      "enter\n"
     ]
    },
    {
     "name": "stderr",
     "output_type": "stream",
     "text": [
      "\r",
      "t:   1%|▌                                                                  | 11/1260 [00:01<02:20,  8.87it/s, now=None]"
     ]
    },
    {
     "name": "stdout",
     "output_type": "stream",
     "text": [
      "okkkk\n",
      "12\n",
      "okkkk\n",
      "13\n",
      "okkkk\n",
      "14\n",
      "okkkk\n",
      "15\n",
      "okkkk\n",
      "enter\n"
     ]
    },
    {
     "name": "stderr",
     "output_type": "stream",
     "text": [
      "\r",
      "t:   1%|▊                                                                  | 16/1260 [00:01<02:23,  8.67it/s, now=None]"
     ]
    },
    {
     "name": "stdout",
     "output_type": "stream",
     "text": [
      "okkkk\n",
      "17\n",
      "okkkk\n",
      "18\n",
      "okkkk\n",
      "19\n",
      "okkkk\n",
      "20\n",
      "okkkk\n",
      "enter\n"
     ]
    },
    {
     "name": "stderr",
     "output_type": "stream",
     "text": [
      "\r",
      "t:   2%|█                                                                  | 21/1260 [00:02<02:24,  8.58it/s, now=None]"
     ]
    },
    {
     "name": "stdout",
     "output_type": "stream",
     "text": [
      "okkkk\n",
      "22\n",
      "okkkk\n",
      "23\n",
      "okkkk\n",
      "24\n",
      "okkkk\n",
      "25\n",
      "okkkk\n",
      "enter\n"
     ]
    },
    {
     "name": "stderr",
     "output_type": "stream",
     "text": [
      "\r",
      "t:   2%|█▍                                                                 | 26/1260 [00:02<02:23,  8.58it/s, now=None]"
     ]
    },
    {
     "name": "stdout",
     "output_type": "stream",
     "text": [
      "okkkk\n",
      "27\n",
      "okkkk\n",
      "28\n",
      "okkkk\n",
      "29\n",
      "okkkk\n",
      "30\n",
      "okkkk\n",
      "enter\n"
     ]
    },
    {
     "name": "stderr",
     "output_type": "stream",
     "text": [
      "\r",
      "t:   2%|█▋                                                                 | 31/1260 [00:03<02:28,  8.25it/s, now=None]"
     ]
    },
    {
     "name": "stdout",
     "output_type": "stream",
     "text": [
      "okkkk\n",
      "32\n",
      "okkkk\n",
      "33\n",
      "okkkk\n",
      "34\n",
      "okkkk\n",
      "35\n",
      "okkkk\n",
      "enter\n"
     ]
    },
    {
     "name": "stderr",
     "output_type": "stream",
     "text": [
      "\r",
      "t:   3%|█▉                                                                 | 36/1260 [00:04<02:31,  8.06it/s, now=None]"
     ]
    },
    {
     "name": "stdout",
     "output_type": "stream",
     "text": [
      "okkkk\n",
      "37\n",
      "okkkk\n",
      "38\n",
      "okkkk\n",
      "39\n",
      "okkkk\n",
      "40\n",
      "okkkk\n",
      "enter\n"
     ]
    },
    {
     "name": "stderr",
     "output_type": "stream",
     "text": [
      "\r",
      "t:   3%|██▏                                                                | 41/1260 [00:04<02:34,  7.88it/s, now=None]"
     ]
    },
    {
     "name": "stdout",
     "output_type": "stream",
     "text": [
      "okkkk\n",
      "42\n",
      "okkkk\n",
      "43\n",
      "okkkk\n",
      "44\n",
      "okkkk\n",
      "45\n",
      "okkkk\n",
      "enter\n"
     ]
    },
    {
     "name": "stderr",
     "output_type": "stream",
     "text": [
      "\r",
      "t:   4%|██▍                                                                | 46/1260 [00:05<02:32,  7.95it/s, now=None]"
     ]
    },
    {
     "name": "stdout",
     "output_type": "stream",
     "text": [
      "okkkk\n",
      "47\n",
      "okkkk\n",
      "48\n",
      "okkkk\n",
      "49\n",
      "okkkk\n",
      "50\n",
      "okkkk\n",
      "enter\n"
     ]
    },
    {
     "name": "stderr",
     "output_type": "stream",
     "text": [
      "\r",
      "t:   4%|██▋                                                                | 51/1260 [00:06<02:29,  8.11it/s, now=None]"
     ]
    },
    {
     "name": "stdout",
     "output_type": "stream",
     "text": [
      "okkkk\n",
      "52\n",
      "okkkk\n",
      "53\n",
      "okkkk\n",
      "54\n",
      "okkkk\n",
      "55\n",
      "okkkk\n",
      "enter\n"
     ]
    },
    {
     "name": "stderr",
     "output_type": "stream",
     "text": [
      "\r",
      "t:   4%|██▉                                                                | 56/1260 [00:06<02:29,  8.06it/s, now=None]"
     ]
    },
    {
     "name": "stdout",
     "output_type": "stream",
     "text": [
      "okkkk\n",
      "57\n",
      "okkkk\n",
      "58\n",
      "okkkk\n",
      "59\n",
      "okkkk\n",
      "60\n",
      "okkkk\n",
      "enter\n"
     ]
    },
    {
     "name": "stderr",
     "output_type": "stream",
     "text": [
      "\r",
      "t:   5%|███▏                                                               | 61/1260 [00:07<02:27,  8.14it/s, now=None]"
     ]
    },
    {
     "name": "stdout",
     "output_type": "stream",
     "text": [
      "okkkk\n",
      "62\n",
      "okkkk\n",
      "63\n",
      "okkkk\n",
      "64\n",
      "okkkk\n",
      "65\n",
      "okkkk\n",
      "enter\n"
     ]
    },
    {
     "name": "stderr",
     "output_type": "stream",
     "text": [
      "\r",
      "t:   5%|███▌                                                               | 66/1260 [00:07<02:24,  8.27it/s, now=None]"
     ]
    },
    {
     "name": "stdout",
     "output_type": "stream",
     "text": [
      "okkkk\n",
      "67\n",
      "okkkk\n",
      "68\n",
      "okkkk\n",
      "69\n",
      "okkkk\n",
      "70\n",
      "okkkk\n",
      "enter\n"
     ]
    },
    {
     "name": "stderr",
     "output_type": "stream",
     "text": [
      "\r",
      "t:   6%|███▊                                                               | 71/1260 [00:08<02:22,  8.34it/s, now=None]"
     ]
    },
    {
     "name": "stdout",
     "output_type": "stream",
     "text": [
      "okkkk\n",
      "72\n",
      "okkkk\n",
      "73\n",
      "okkkk\n",
      "74\n",
      "okkkk\n",
      "75\n",
      "okkkk\n",
      "enter\n"
     ]
    },
    {
     "name": "stderr",
     "output_type": "stream",
     "text": [
      "\r",
      "t:   6%|████                                                               | 76/1260 [00:09<02:20,  8.42it/s, now=None]"
     ]
    },
    {
     "name": "stdout",
     "output_type": "stream",
     "text": [
      "okkkk\n",
      "77\n",
      "okkkk\n",
      "78\n",
      "okkkk\n",
      "79\n",
      "okkkk\n",
      "80\n",
      "okkkk\n",
      "enter\n"
     ]
    },
    {
     "name": "stderr",
     "output_type": "stream",
     "text": [
      "\r",
      "t:   6%|████▎                                                              | 81/1260 [00:09<02:19,  8.48it/s, now=None]"
     ]
    },
    {
     "name": "stdout",
     "output_type": "stream",
     "text": [
      "okkkk\n",
      "82\n",
      "okkkk\n",
      "83\n",
      "okkkk\n",
      "84\n",
      "okkkk\n",
      "85\n",
      "okkkk\n",
      "enter\n"
     ]
    },
    {
     "name": "stderr",
     "output_type": "stream",
     "text": [
      "\r",
      "t:   7%|████▌                                                              | 86/1260 [00:10<02:19,  8.40it/s, now=None]"
     ]
    },
    {
     "name": "stdout",
     "output_type": "stream",
     "text": [
      "okkkk\n",
      "87\n",
      "okkkk\n",
      "88\n",
      "okkkk\n",
      "89\n",
      "okkkk\n",
      "90\n",
      "okkkk\n",
      "enter\n"
     ]
    },
    {
     "name": "stderr",
     "output_type": "stream",
     "text": [
      "\r",
      "t:   7%|████▊                                                              | 91/1260 [00:10<02:18,  8.44it/s, now=None]"
     ]
    },
    {
     "name": "stdout",
     "output_type": "stream",
     "text": [
      "okkkk\n",
      "92\n",
      "okkkk\n",
      "93\n",
      "okkkk\n",
      "94\n",
      "okkkk\n",
      "95\n",
      "okkkk\n",
      "enter\n"
     ]
    },
    {
     "name": "stderr",
     "output_type": "stream",
     "text": [
      "\r",
      "t:   8%|█████                                                              | 96/1260 [00:11<02:17,  8.46it/s, now=None]"
     ]
    },
    {
     "name": "stdout",
     "output_type": "stream",
     "text": [
      "okkkk\n",
      "97\n",
      "okkkk\n",
      "98\n",
      "okkkk\n",
      "99\n",
      "okkkk\n",
      "100\n",
      "okkkk\n",
      "enter\n"
     ]
    },
    {
     "name": "stderr",
     "output_type": "stream",
     "text": [
      "\r",
      "t:   8%|█████▎                                                            | 101/1260 [00:12<02:16,  8.48it/s, now=None]"
     ]
    },
    {
     "name": "stdout",
     "output_type": "stream",
     "text": [
      "okkkk\n",
      "102\n",
      "okkkk\n",
      "103\n",
      "okkkk\n",
      "104\n",
      "okkkk\n",
      "105\n",
      "okkkk\n",
      "enter\n"
     ]
    },
    {
     "name": "stderr",
     "output_type": "stream",
     "text": [
      "\r",
      "t:   8%|█████▌                                                            | 106/1260 [00:12<02:15,  8.52it/s, now=None]"
     ]
    },
    {
     "name": "stdout",
     "output_type": "stream",
     "text": [
      "okkkk\n",
      "107\n",
      "okkkk\n",
      "108\n",
      "okkkk\n",
      "109\n",
      "okkkk\n",
      "110\n",
      "okkkk\n",
      "enter\n"
     ]
    },
    {
     "name": "stderr",
     "output_type": "stream",
     "text": [
      "\r",
      "t:   9%|█████▊                                                            | 111/1260 [00:13<02:14,  8.55it/s, now=None]"
     ]
    },
    {
     "name": "stdout",
     "output_type": "stream",
     "text": [
      "okkkk\n",
      "112\n",
      "okkkk\n",
      "113\n",
      "okkkk\n",
      "114\n",
      "okkkk\n",
      "115\n",
      "okkkk\n",
      "enter\n"
     ]
    },
    {
     "name": "stderr",
     "output_type": "stream",
     "text": [
      "\r",
      "t:   9%|██████                                                            | 116/1260 [00:13<02:13,  8.57it/s, now=None]"
     ]
    },
    {
     "name": "stdout",
     "output_type": "stream",
     "text": [
      "okkkk\n",
      "117\n",
      "okkkk\n",
      "118\n",
      "okkkk\n",
      "119\n",
      "okkkk\n",
      "120\n",
      "okkkk\n",
      "enter\n"
     ]
    },
    {
     "name": "stderr",
     "output_type": "stream",
     "text": [
      "\r",
      "t:  10%|██████▎                                                           | 121/1260 [00:14<02:13,  8.55it/s, now=None]"
     ]
    },
    {
     "name": "stdout",
     "output_type": "stream",
     "text": [
      "okkkk\n",
      "122\n",
      "okkkk\n",
      "123\n",
      "okkkk\n",
      "124\n",
      "okkkk\n",
      "125\n",
      "okkkk\n",
      "enter\n"
     ]
    },
    {
     "name": "stderr",
     "output_type": "stream",
     "text": [
      "\r",
      "t:  10%|██████▌                                                           | 126/1260 [00:14<02:11,  8.60it/s, now=None]"
     ]
    },
    {
     "name": "stdout",
     "output_type": "stream",
     "text": [
      "okkkk\n",
      "127\n",
      "okkkk\n",
      "128\n",
      "okkkk\n",
      "129\n",
      "okkkk\n",
      "130\n",
      "okkkk\n",
      "enter\n"
     ]
    },
    {
     "name": "stderr",
     "output_type": "stream",
     "text": [
      "\r",
      "t:  10%|██████▊                                                           | 131/1260 [00:15<02:13,  8.47it/s, now=None]"
     ]
    },
    {
     "name": "stdout",
     "output_type": "stream",
     "text": [
      "okkkk\n",
      "132\n",
      "okkkk\n",
      "133\n",
      "okkkk\n",
      "134\n",
      "okkkk\n",
      "135\n",
      "okkkk\n",
      "enter\n"
     ]
    },
    {
     "name": "stderr",
     "output_type": "stream",
     "text": [
      "\r",
      "t:  11%|███████                                                           | 136/1260 [00:16<02:13,  8.44it/s, now=None]"
     ]
    },
    {
     "name": "stdout",
     "output_type": "stream",
     "text": [
      "okkkk\n",
      "137\n",
      "okkkk\n",
      "138\n",
      "okkkk\n",
      "139\n",
      "okkkk\n",
      "140\n",
      "okkkk\n",
      "enter\n"
     ]
    },
    {
     "name": "stderr",
     "output_type": "stream",
     "text": [
      "\r",
      "t:  11%|███████▍                                                          | 141/1260 [00:16<02:12,  8.46it/s, now=None]"
     ]
    },
    {
     "name": "stdout",
     "output_type": "stream",
     "text": [
      "okkkk\n",
      "142\n",
      "okkkk\n",
      "143\n",
      "okkkk\n",
      "144\n",
      "okkkk\n",
      "145\n",
      "okkkk\n",
      "enter\n"
     ]
    },
    {
     "name": "stderr",
     "output_type": "stream",
     "text": [
      "\r",
      "t:  12%|███████▋                                                          | 146/1260 [00:17<02:10,  8.52it/s, now=None]"
     ]
    },
    {
     "name": "stdout",
     "output_type": "stream",
     "text": [
      "okkkk\n",
      "147\n",
      "okkkk\n",
      "148\n",
      "okkkk\n",
      "149\n",
      "okkkk\n",
      "150\n",
      "okkkk\n",
      "enter\n"
     ]
    },
    {
     "name": "stderr",
     "output_type": "stream",
     "text": [
      "\r",
      "t:  12%|███████▉                                                          | 151/1260 [00:17<02:10,  8.53it/s, now=None]"
     ]
    },
    {
     "name": "stdout",
     "output_type": "stream",
     "text": [
      "okkkk\n",
      "152\n",
      "okkkk\n",
      "153\n",
      "okkkk\n",
      "154\n",
      "okkkk\n",
      "155\n",
      "okkkk\n",
      "enter\n"
     ]
    },
    {
     "name": "stderr",
     "output_type": "stream",
     "text": [
      "\r",
      "t:  12%|████████▏                                                         | 156/1260 [00:18<02:09,  8.53it/s, now=None]"
     ]
    },
    {
     "name": "stdout",
     "output_type": "stream",
     "text": [
      "okkkk\n",
      "157\n",
      "okkkk\n",
      "158\n",
      "okkkk\n",
      "159\n",
      "okkkk\n",
      "160\n",
      "okkkk\n",
      "enter\n",
      "Scale ->  0 | Confidence Score [1.00758209] \n",
      "\n",
      "Scale ->  0 | Confidence Score [0.44633063] \n",
      "\n"
     ]
    },
    {
     "name": "stderr",
     "output_type": "stream",
     "text": [
      "\r",
      "t:  13%|████████▍                                                         | 161/1260 [00:19<02:08,  8.56it/s, now=None]"
     ]
    },
    {
     "name": "stdout",
     "output_type": "stream",
     "text": [
      "okkkk\n",
      "162\n",
      "okkkk\n",
      "163\n",
      "okkkk\n",
      "164\n",
      "okkkk\n",
      "165\n",
      "okkkk\n",
      "enter\n",
      "Scale ->  0 | Confidence Score [0.93794347] \n",
      "\n",
      "Scale ->  0 | Confidence Score [0.98369169] \n",
      "\n"
     ]
    },
    {
     "name": "stderr",
     "output_type": "stream",
     "text": [
      "\r",
      "t:  13%|████████▋                                                         | 166/1260 [00:19<02:07,  8.55it/s, now=None]"
     ]
    },
    {
     "name": "stdout",
     "output_type": "stream",
     "text": [
      "okkkk\n",
      "167\n",
      "okkkk\n",
      "168\n",
      "okkkk\n",
      "169\n",
      "okkkk\n",
      "170\n",
      "okkkk\n",
      "enter\n",
      "Scale ->  0 | Confidence Score [0.52701805] \n",
      "\n",
      "Scale ->  0 | Confidence Score [0.4645351] \n",
      "\n",
      "Scale ->  0 | Confidence Score [0.7511866] \n",
      "\n",
      "Scale ->  0 | Confidence Score [0.87792524] \n",
      "\n",
      "Scale ->  0 | Confidence Score [1.21101408] \n",
      "\n"
     ]
    },
    {
     "name": "stderr",
     "output_type": "stream",
     "text": [
      "\r",
      "t:  14%|████████▉                                                         | 171/1260 [00:20<02:06,  8.59it/s, now=None]"
     ]
    },
    {
     "name": "stdout",
     "output_type": "stream",
     "text": [
      "okkkk\n",
      "172\n",
      "okkkk\n",
      "173\n",
      "okkkk\n",
      "174\n",
      "okkkk\n",
      "175\n",
      "okkkk\n",
      "enter\n",
      "Scale ->  0 | Confidence Score [0.85622643] \n",
      "\n",
      "Scale ->  0 | Confidence Score [1.17764227] \n",
      "\n",
      "Scale ->  0 | Confidence Score [1.13543929] \n",
      "\n",
      "Scale ->  0 | Confidence Score [0.52636428] \n",
      "\n"
     ]
    },
    {
     "name": "stderr",
     "output_type": "stream",
     "text": [
      "\r",
      "t:  14%|█████████▏                                                        | 176/1260 [00:20<02:06,  8.59it/s, now=None]"
     ]
    },
    {
     "name": "stdout",
     "output_type": "stream",
     "text": [
      "okkkk\n",
      "177\n",
      "okkkk\n",
      "178\n",
      "okkkk\n",
      "179\n",
      "okkkk\n",
      "180\n",
      "okkkk\n",
      "enter\n",
      "Scale ->  0 | Confidence Score [0.52110134] \n",
      "\n",
      "Scale ->  0 | Confidence Score [0.80564641] \n",
      "\n",
      "Scale ->  0 | Confidence Score [0.49361708] \n",
      "\n",
      "Scale ->  0 | Confidence Score [0.40067974] \n",
      "\n",
      "Scale ->  0 | Confidence Score [0.60341557] \n",
      "\n",
      "Scale ->  0 | Confidence Score [0.84686727] \n",
      "\n",
      "Scale ->  0 | Confidence Score [1.04086117] \n",
      "\n"
     ]
    },
    {
     "name": "stderr",
     "output_type": "stream",
     "text": [
      "\r",
      "t:  14%|█████████▍                                                        | 181/1260 [00:21<02:06,  8.53it/s, now=None]"
     ]
    },
    {
     "name": "stdout",
     "output_type": "stream",
     "text": [
      "okkkk\n",
      "182\n",
      "okkkk\n",
      "183\n",
      "okkkk\n",
      "184\n",
      "okkkk\n",
      "185\n",
      "okkkk\n",
      "enter\n",
      "Scale ->  0 | Confidence Score [0.43557389] \n",
      "\n",
      "Scale ->  0 | Confidence Score [0.94408963] \n",
      "\n",
      "Scale ->  0 | Confidence Score [1.06961949] \n",
      "\n",
      "Scale ->  0 | Confidence Score [0.71208184] \n",
      "\n"
     ]
    },
    {
     "name": "stderr",
     "output_type": "stream",
     "text": [
      "\r",
      "t:  15%|█████████▋                                                        | 186/1260 [00:22<02:05,  8.57it/s, now=None]"
     ]
    },
    {
     "name": "stdout",
     "output_type": "stream",
     "text": [
      "okkkk\n",
      "187\n",
      "okkkk\n",
      "188\n",
      "okkkk\n",
      "189\n",
      "okkkk\n",
      "190\n",
      "okkkk\n",
      "enter\n",
      "Scale ->  0 | Confidence Score [0.64037761] \n",
      "\n",
      "Scale ->  0 | Confidence Score [1.01359625] \n",
      "\n",
      "Scale ->  0 | Confidence Score [1.31199662] \n",
      "\n",
      "Scale ->  0 | Confidence Score [0.99989964] \n",
      "\n"
     ]
    },
    {
     "name": "stderr",
     "output_type": "stream",
     "text": [
      "\r",
      "t:  15%|██████████                                                        | 191/1260 [00:22<02:05,  8.52it/s, now=None]"
     ]
    },
    {
     "name": "stdout",
     "output_type": "stream",
     "text": [
      "okkkk\n",
      "192\n",
      "okkkk\n",
      "193\n",
      "okkkk\n",
      "194\n",
      "okkkk\n",
      "195\n",
      "okkkk\n",
      "enter\n",
      "Scale ->  0 | Confidence Score [0.47151773] \n",
      "\n",
      "Scale ->  0 | Confidence Score [1.09945966] \n",
      "\n",
      "Scale ->  0 | Confidence Score [0.86399642] \n",
      "\n",
      "Scale ->  0 | Confidence Score [0.64142704] \n",
      "\n"
     ]
    },
    {
     "name": "stderr",
     "output_type": "stream",
     "text": [
      "\r",
      "t:  16%|██████████▎                                                       | 196/1260 [00:23<02:04,  8.56it/s, now=None]"
     ]
    },
    {
     "name": "stdout",
     "output_type": "stream",
     "text": [
      "okkkk\n",
      "197\n",
      "okkkk\n",
      "198\n",
      "okkkk\n",
      "199\n",
      "okkkk\n",
      "200\n",
      "okkkk\n",
      "enter\n",
      "Scale ->  0 | Confidence Score [0.49782043] \n",
      "\n",
      "Scale ->  0 | Confidence Score [0.80157472] \n",
      "\n"
     ]
    },
    {
     "name": "stderr",
     "output_type": "stream",
     "text": [
      "\r",
      "t:  16%|██████████▌                                                       | 201/1260 [00:23<02:03,  8.57it/s, now=None]"
     ]
    },
    {
     "name": "stdout",
     "output_type": "stream",
     "text": [
      "okkkk\n",
      "202\n",
      "okkkk\n",
      "203\n",
      "okkkk\n",
      "204\n",
      "okkkk\n",
      "205\n",
      "okkkk\n",
      "enter\n",
      "Scale ->  0 | Confidence Score [0.6736439] \n",
      "\n",
      "Scale ->  0 | Confidence Score [0.9678954] \n",
      "\n",
      "Scale ->  0 | Confidence Score [0.99211555] \n",
      "\n",
      "Scale ->  0 | Confidence Score [0.96343986] \n",
      "\n",
      "Scale ->  0 | Confidence Score [0.6016281] \n",
      "\n"
     ]
    },
    {
     "name": "stderr",
     "output_type": "stream",
     "text": [
      "\r",
      "t:  16%|██████████▊                                                       | 206/1260 [00:24<02:03,  8.53it/s, now=None]"
     ]
    },
    {
     "name": "stdout",
     "output_type": "stream",
     "text": [
      "okkkk\n",
      "207\n",
      "okkkk\n",
      "208\n",
      "okkkk\n",
      "209\n",
      "okkkk\n",
      "210\n",
      "okkkk\n",
      "enter\n",
      "Scale ->  0 | Confidence Score [0.76369099] \n",
      "\n",
      "Scale ->  0 | Confidence Score [0.43275297] \n",
      "\n",
      "Scale ->  0 | Confidence Score [0.69574877] \n",
      "\n"
     ]
    },
    {
     "name": "stderr",
     "output_type": "stream",
     "text": [
      "\r",
      "t:  17%|███████████                                                       | 211/1260 [00:24<02:02,  8.56it/s, now=None]"
     ]
    },
    {
     "name": "stdout",
     "output_type": "stream",
     "text": [
      "okkkk\n",
      "212\n",
      "okkkk\n",
      "213\n",
      "okkkk\n",
      "214\n",
      "okkkk\n",
      "215\n",
      "okkkk\n",
      "enter\n",
      "Scale ->  0 | Confidence Score [0.52128683] \n",
      "\n",
      "Scale ->  0 | Confidence Score [0.67541368] \n",
      "\n",
      "Scale ->  0 | Confidence Score [0.65304859] \n",
      "\n"
     ]
    },
    {
     "name": "stderr",
     "output_type": "stream",
     "text": [
      "\r",
      "t:  17%|███████████▎                                                      | 216/1260 [00:25<02:02,  8.53it/s, now=None]"
     ]
    },
    {
     "name": "stdout",
     "output_type": "stream",
     "text": [
      "okkkk\n",
      "217\n",
      "okkkk\n",
      "218\n",
      "okkkk\n",
      "219\n",
      "okkkk\n",
      "220\n",
      "okkkk\n",
      "enter\n",
      "Scale ->  0 | Confidence Score [0.63733599] \n",
      "\n",
      "Scale ->  0 | Confidence Score [0.44458957] \n",
      "\n",
      "Scale ->  0 | Confidence Score [0.71251484] \n",
      "\n",
      "Scale ->  0 | Confidence Score [0.46954271] \n",
      "\n"
     ]
    },
    {
     "name": "stderr",
     "output_type": "stream",
     "text": [
      "\r",
      "t:  18%|███████████▌                                                      | 221/1260 [00:26<02:01,  8.58it/s, now=None]"
     ]
    },
    {
     "name": "stdout",
     "output_type": "stream",
     "text": [
      "okkkk\n",
      "222\n",
      "okkkk\n",
      "223\n",
      "okkkk\n",
      "224\n",
      "okkkk\n",
      "225\n",
      "okkkk\n",
      "enter\n",
      "Scale ->  0 | Confidence Score [0.58020882] \n",
      "\n"
     ]
    },
    {
     "name": "stderr",
     "output_type": "stream",
     "text": [
      "\r",
      "t:  18%|███████████▊                                                      | 226/1260 [00:26<02:01,  8.53it/s, now=None]"
     ]
    },
    {
     "name": "stdout",
     "output_type": "stream",
     "text": [
      "okkkk\n",
      "227\n",
      "okkkk\n",
      "228\n",
      "okkkk\n",
      "229\n",
      "okkkk\n",
      "230\n",
      "okkkk\n",
      "enter\n",
      "Scale ->  0 | Confidence Score [0.50860601] \n",
      "\n",
      "Scale ->  0 | Confidence Score [0.79209684] \n",
      "\n"
     ]
    },
    {
     "name": "stderr",
     "output_type": "stream",
     "text": [
      "\r",
      "t:  18%|████████████                                                      | 231/1260 [00:27<02:01,  8.49it/s, now=None]"
     ]
    },
    {
     "name": "stdout",
     "output_type": "stream",
     "text": [
      "okkkk\n",
      "232\n",
      "okkkk\n",
      "233\n",
      "okkkk\n",
      "234\n",
      "okkkk\n",
      "235\n",
      "okkkk\n",
      "enter\n",
      "Scale ->  0 | Confidence Score [0.53565853] \n",
      "\n"
     ]
    },
    {
     "name": "stderr",
     "output_type": "stream",
     "text": [
      "\r",
      "t:  19%|████████████▎                                                     | 236/1260 [00:27<02:00,  8.47it/s, now=None]"
     ]
    },
    {
     "name": "stdout",
     "output_type": "stream",
     "text": [
      "okkkk\n",
      "237\n",
      "okkkk\n",
      "238\n",
      "okkkk\n",
      "239\n",
      "okkkk\n",
      "240\n",
      "okkkk\n",
      "enter\n",
      "Scale ->  0 | Confidence Score [0.41899329] \n",
      "\n",
      "Scale ->  0 | Confidence Score [0.63004163] \n",
      "\n"
     ]
    },
    {
     "name": "stderr",
     "output_type": "stream",
     "text": [
      "\r",
      "t:  19%|████████████▌                                                     | 241/1260 [00:28<02:00,  8.49it/s, now=None]"
     ]
    },
    {
     "name": "stdout",
     "output_type": "stream",
     "text": [
      "okkkk\n",
      "242\n",
      "okkkk\n",
      "243\n",
      "okkkk\n",
      "244\n",
      "okkkk\n",
      "245\n",
      "okkkk\n",
      "enter\n",
      "Scale ->  0 | Confidence Score [0.59744783] \n",
      "\n",
      "Scale ->  0 | Confidence Score [0.51053237] \n",
      "\n",
      "Scale ->  0 | Confidence Score [0.569823] \n",
      "\n",
      "Scale ->  0 | Confidence Score [0.44338189] \n",
      "\n"
     ]
    },
    {
     "name": "stderr",
     "output_type": "stream",
     "text": [
      "\r",
      "t:  20%|████████████▉                                                     | 246/1260 [00:29<01:58,  8.55it/s, now=None]"
     ]
    },
    {
     "name": "stdout",
     "output_type": "stream",
     "text": [
      "okkkk\n",
      "247\n",
      "okkkk\n",
      "248\n",
      "okkkk\n",
      "249\n",
      "okkkk\n",
      "250\n",
      "okkkk\n",
      "enter\n",
      "Scale ->  0 | Confidence Score [0.59758186] \n",
      "\n"
     ]
    },
    {
     "name": "stderr",
     "output_type": "stream",
     "text": [
      "\r",
      "t:  20%|█████████████▏                                                    | 251/1260 [00:29<01:59,  8.47it/s, now=None]"
     ]
    },
    {
     "name": "stdout",
     "output_type": "stream",
     "text": [
      "okkkk\n",
      "252\n",
      "okkkk\n",
      "253\n",
      "okkkk\n",
      "254\n",
      "okkkk\n",
      "255\n",
      "okkkk\n",
      "enter\n",
      "Scale ->  0 | Confidence Score [0.77360691] \n",
      "\n"
     ]
    },
    {
     "name": "stderr",
     "output_type": "stream",
     "text": [
      "\r",
      "t:  20%|█████████████▍                                                    | 256/1260 [00:30<01:57,  8.54it/s, now=None]"
     ]
    },
    {
     "name": "stdout",
     "output_type": "stream",
     "text": [
      "okkkk\n",
      "257\n",
      "okkkk\n",
      "258\n",
      "okkkk\n",
      "259\n",
      "okkkk\n",
      "260\n",
      "okkkk\n",
      "enter\n"
     ]
    },
    {
     "name": "stderr",
     "output_type": "stream",
     "text": [
      "\r",
      "t:  21%|█████████████▋                                                    | 261/1260 [00:30<01:57,  8.54it/s, now=None]"
     ]
    },
    {
     "name": "stdout",
     "output_type": "stream",
     "text": [
      "okkkk\n",
      "262\n",
      "okkkk\n",
      "263\n",
      "okkkk\n",
      "264\n",
      "okkkk\n",
      "265\n",
      "okkkk\n",
      "enter\n"
     ]
    },
    {
     "name": "stderr",
     "output_type": "stream",
     "text": [
      "\r",
      "t:  21%|█████████████▉                                                    | 266/1260 [00:31<01:56,  8.55it/s, now=None]"
     ]
    },
    {
     "name": "stdout",
     "output_type": "stream",
     "text": [
      "okkkk\n",
      "267\n",
      "okkkk\n",
      "268\n",
      "okkkk\n",
      "269\n",
      "okkkk\n",
      "270\n",
      "okkkk\n",
      "enter\n",
      "Scale ->  0 | Confidence Score [0.47933873] \n",
      "\n"
     ]
    },
    {
     "name": "stderr",
     "output_type": "stream",
     "text": [
      "\r",
      "t:  22%|██████████████▏                                                   | 271/1260 [00:32<01:56,  8.47it/s, now=None]"
     ]
    },
    {
     "name": "stdout",
     "output_type": "stream",
     "text": [
      "okkkk\n",
      "272\n",
      "okkkk\n",
      "273\n",
      "okkkk\n",
      "274\n",
      "okkkk\n",
      "275\n",
      "okkkk\n",
      "enter\n",
      "Scale ->  0 | Confidence Score [0.47630832] \n",
      "\n",
      "Scale ->  0 | Confidence Score [0.55066413] \n",
      "\n"
     ]
    },
    {
     "name": "stderr",
     "output_type": "stream",
     "text": [
      "\r",
      "t:  22%|██████████████▍                                                   | 276/1260 [00:32<01:57,  8.41it/s, now=None]"
     ]
    },
    {
     "name": "stdout",
     "output_type": "stream",
     "text": [
      "okkkk\n",
      "277\n",
      "okkkk\n",
      "278\n",
      "okkkk\n",
      "279\n",
      "okkkk\n",
      "280\n",
      "okkkk\n",
      "enter\n",
      "Scale ->  0 | Confidence Score [0.47690756] \n",
      "\n",
      "Scale ->  0 | Confidence Score [0.43887294] \n",
      "\n",
      "Scale ->  0 | Confidence Score [0.43713163] \n",
      "\n"
     ]
    },
    {
     "name": "stderr",
     "output_type": "stream",
     "text": [
      "\r",
      "t:  22%|██████████████▋                                                   | 281/1260 [00:33<01:55,  8.50it/s, now=None]"
     ]
    },
    {
     "name": "stdout",
     "output_type": "stream",
     "text": [
      "okkkk\n",
      "282\n",
      "okkkk\n",
      "283\n",
      "okkkk\n",
      "284\n",
      "okkkk\n",
      "285\n",
      "okkkk\n",
      "enter\n",
      "Scale ->  0 | Confidence Score [0.48673982] \n",
      "\n",
      "Scale ->  0 | Confidence Score [0.41539788] \n",
      "\n"
     ]
    },
    {
     "name": "stderr",
     "output_type": "stream",
     "text": [
      "\r",
      "t:  23%|██████████████▉                                                   | 286/1260 [00:33<01:54,  8.53it/s, now=None]"
     ]
    },
    {
     "name": "stdout",
     "output_type": "stream",
     "text": [
      "okkkk\n",
      "287\n",
      "okkkk\n",
      "288\n",
      "okkkk\n",
      "289\n",
      "okkkk\n",
      "290\n",
      "okkkk\n",
      "enter\n",
      "Scale ->  0 | Confidence Score [0.46532161] \n",
      "\n"
     ]
    },
    {
     "name": "stderr",
     "output_type": "stream",
     "text": [
      "\r",
      "t:  23%|███████████████▏                                                  | 291/1260 [00:34<01:53,  8.56it/s, now=None]"
     ]
    },
    {
     "name": "stdout",
     "output_type": "stream",
     "text": [
      "okkkk\n",
      "292\n",
      "okkkk\n",
      "293\n",
      "okkkk\n",
      "294\n",
      "okkkk\n",
      "295\n",
      "okkkk\n",
      "enter\n",
      "Scale ->  0 | Confidence Score [0.70031588] \n",
      "\n",
      "Scale ->  0 | Confidence Score [0.42989652] \n",
      "\n"
     ]
    },
    {
     "name": "stderr",
     "output_type": "stream",
     "text": [
      "\r",
      "t:  23%|███████████████▌                                                  | 296/1260 [00:34<01:52,  8.60it/s, now=None]"
     ]
    },
    {
     "name": "stdout",
     "output_type": "stream",
     "text": [
      "okkkk\n",
      "297\n",
      "okkkk\n",
      "298\n",
      "okkkk\n",
      "299\n",
      "okkkk\n",
      "300\n",
      "okkkk\n",
      "enter\n",
      "Scale ->  0 | Confidence Score [0.63726795] \n",
      "\n"
     ]
    },
    {
     "name": "stderr",
     "output_type": "stream",
     "text": [
      "\r",
      "t:  24%|███████████████▊                                                  | 301/1260 [00:35<01:52,  8.51it/s, now=None]"
     ]
    },
    {
     "name": "stdout",
     "output_type": "stream",
     "text": [
      "okkkk\n",
      "302\n",
      "okkkk\n",
      "303\n",
      "okkkk\n",
      "304\n",
      "okkkk\n",
      "305\n",
      "okkkk\n",
      "enter\n",
      "Scale ->  0 | Confidence Score [0.53054426] \n",
      "\n"
     ]
    },
    {
     "name": "stderr",
     "output_type": "stream",
     "text": [
      "\r",
      "t:  24%|████████████████                                                  | 306/1260 [00:36<01:51,  8.57it/s, now=None]"
     ]
    },
    {
     "name": "stdout",
     "output_type": "stream",
     "text": [
      "okkkk\n",
      "307\n",
      "okkkk\n",
      "308\n",
      "okkkk\n",
      "309\n",
      "okkkk\n",
      "310\n",
      "okkkk\n",
      "enter\n",
      "Scale ->  0 | Confidence Score [0.48898249] \n",
      "\n",
      "Scale ->  0 | Confidence Score [0.4589189] \n",
      "\n"
     ]
    },
    {
     "name": "stderr",
     "output_type": "stream",
     "text": [
      "\r",
      "t:  25%|████████████████▎                                                 | 311/1260 [00:36<01:50,  8.60it/s, now=None]"
     ]
    },
    {
     "name": "stdout",
     "output_type": "stream",
     "text": [
      "okkkk\n",
      "312\n",
      "okkkk\n",
      "313\n",
      "okkkk\n",
      "314\n",
      "okkkk\n",
      "315\n",
      "okkkk\n",
      "enter\n"
     ]
    },
    {
     "name": "stderr",
     "output_type": "stream",
     "text": [
      "\r",
      "t:  25%|████████████████▌                                                 | 316/1260 [00:37<01:49,  8.63it/s, now=None]"
     ]
    },
    {
     "name": "stdout",
     "output_type": "stream",
     "text": [
      "okkkk\n",
      "317\n",
      "okkkk\n",
      "318\n",
      "okkkk\n",
      "319\n",
      "okkkk\n",
      "320\n",
      "okkkk\n",
      "enter\n",
      "Scale ->  0 | Confidence Score [0.52370455] \n",
      "\n",
      "Scale ->  0 | Confidence Score [0.61272344] \n",
      "\n"
     ]
    },
    {
     "name": "stderr",
     "output_type": "stream",
     "text": [
      "\r",
      "t:  25%|████████████████▊                                                 | 321/1260 [00:37<01:49,  8.56it/s, now=None]"
     ]
    },
    {
     "name": "stdout",
     "output_type": "stream",
     "text": [
      "okkkk\n",
      "322\n",
      "okkkk\n",
      "323\n",
      "okkkk\n",
      "324\n",
      "okkkk\n",
      "325\n",
      "okkkk\n",
      "enter\n",
      "Scale ->  0 | Confidence Score [0.41821214] \n",
      "\n",
      "Scale ->  0 | Confidence Score [0.46613851] \n",
      "\n"
     ]
    },
    {
     "name": "stderr",
     "output_type": "stream",
     "text": [
      "\r",
      "t:  26%|█████████████████                                                 | 326/1260 [00:38<01:49,  8.55it/s, now=None]"
     ]
    },
    {
     "name": "stdout",
     "output_type": "stream",
     "text": [
      "okkkk\n",
      "327\n",
      "okkkk\n",
      "328\n",
      "okkkk\n",
      "329\n",
      "okkkk\n",
      "330\n",
      "okkkk\n",
      "enter\n",
      "Scale ->  0 | Confidence Score [0.49237944] \n",
      "\n"
     ]
    },
    {
     "name": "stderr",
     "output_type": "stream",
     "text": [
      "\r",
      "t:  26%|█████████████████▎                                                | 331/1260 [00:39<01:50,  8.38it/s, now=None]"
     ]
    },
    {
     "name": "stdout",
     "output_type": "stream",
     "text": [
      "okkkk\n",
      "332\n",
      "okkkk\n",
      "333\n",
      "okkkk\n",
      "334\n",
      "okkkk\n",
      "335\n",
      "okkkk\n",
      "enter\n",
      "Scale ->  0 | Confidence Score [0.54658813] \n",
      "\n"
     ]
    },
    {
     "name": "stderr",
     "output_type": "stream",
     "text": [
      "\r",
      "t:  27%|█████████████████▌                                                | 336/1260 [00:39<01:49,  8.41it/s, now=None]"
     ]
    },
    {
     "name": "stdout",
     "output_type": "stream",
     "text": [
      "okkkk\n",
      "337\n",
      "okkkk\n",
      "338\n",
      "okkkk\n",
      "339\n",
      "okkkk\n",
      "340\n",
      "okkkk\n",
      "enter\n"
     ]
    },
    {
     "name": "stderr",
     "output_type": "stream",
     "text": [
      "\r",
      "t:  27%|█████████████████▊                                                | 341/1260 [00:40<01:48,  8.47it/s, now=None]"
     ]
    },
    {
     "name": "stdout",
     "output_type": "stream",
     "text": [
      "okkkk\n",
      "342\n",
      "okkkk\n",
      "343\n",
      "okkkk\n",
      "344\n",
      "okkkk\n",
      "345\n",
      "okkkk\n",
      "enter\n"
     ]
    },
    {
     "name": "stderr",
     "output_type": "stream",
     "text": [
      "\r",
      "t:  27%|██████████████████                                                | 346/1260 [00:40<01:48,  8.45it/s, now=None]"
     ]
    },
    {
     "name": "stdout",
     "output_type": "stream",
     "text": [
      "okkkk\n",
      "347\n",
      "okkkk\n",
      "348\n",
      "okkkk\n",
      "349\n",
      "okkkk\n",
      "350\n",
      "okkkk\n",
      "enter\n"
     ]
    },
    {
     "name": "stderr",
     "output_type": "stream",
     "text": [
      "\r",
      "t:  28%|██████████████████▍                                               | 351/1260 [00:41<01:47,  8.46it/s, now=None]"
     ]
    },
    {
     "name": "stdout",
     "output_type": "stream",
     "text": [
      "okkkk\n",
      "352\n",
      "okkkk\n",
      "353\n",
      "okkkk\n",
      "354\n",
      "okkkk\n",
      "355\n",
      "okkkk\n",
      "enter\n",
      "Scale ->  0 | Confidence Score [0.55217184] \n",
      "\n"
     ]
    },
    {
     "name": "stderr",
     "output_type": "stream",
     "text": [
      "\r",
      "t:  28%|██████████████████▋                                               | 356/1260 [00:42<01:46,  8.46it/s, now=None]"
     ]
    },
    {
     "name": "stdout",
     "output_type": "stream",
     "text": [
      "okkkk\n",
      "357\n",
      "okkkk\n",
      "358\n",
      "okkkk\n",
      "359\n",
      "okkkk\n",
      "360\n",
      "okkkk\n",
      "enter\n"
     ]
    },
    {
     "name": "stderr",
     "output_type": "stream",
     "text": [
      "\r",
      "t:  29%|██████████████████▉                                               | 361/1260 [00:42<01:46,  8.42it/s, now=None]"
     ]
    },
    {
     "name": "stdout",
     "output_type": "stream",
     "text": [
      "okkkk\n",
      "362\n",
      "okkkk\n",
      "363\n",
      "okkkk\n",
      "364\n",
      "okkkk\n",
      "365\n",
      "okkkk\n",
      "enter\n",
      "Scale ->  0 | Confidence Score [0.58767452] \n",
      "\n"
     ]
    },
    {
     "name": "stderr",
     "output_type": "stream",
     "text": [
      "\r",
      "t:  29%|███████████████████▏                                              | 366/1260 [00:43<01:47,  8.34it/s, now=None]"
     ]
    },
    {
     "name": "stdout",
     "output_type": "stream",
     "text": [
      "okkkk\n",
      "367\n",
      "okkkk\n",
      "368\n",
      "okkkk\n",
      "369\n",
      "okkkk\n",
      "370\n",
      "okkkk\n",
      "enter\n",
      "Scale ->  0 | Confidence Score [0.58072417] \n",
      "\n"
     ]
    },
    {
     "name": "stderr",
     "output_type": "stream",
     "text": [
      "\r",
      "t:  29%|███████████████████▍                                              | 371/1260 [00:43<01:48,  8.23it/s, now=None]"
     ]
    },
    {
     "name": "stdout",
     "output_type": "stream",
     "text": [
      "okkkk\n",
      "372\n",
      "okkkk\n",
      "373\n",
      "okkkk\n",
      "374\n",
      "okkkk\n",
      "375\n",
      "okkkk\n",
      "enter\n"
     ]
    },
    {
     "name": "stderr",
     "output_type": "stream",
     "text": [
      "\r",
      "t:  30%|███████████████████▋                                              | 376/1260 [00:44<01:46,  8.34it/s, now=None]"
     ]
    },
    {
     "name": "stdout",
     "output_type": "stream",
     "text": [
      "okkkk\n",
      "377\n",
      "okkkk\n",
      "378\n",
      "okkkk\n",
      "379\n",
      "okkkk\n",
      "380\n",
      "okkkk\n",
      "enter\n"
     ]
    },
    {
     "name": "stderr",
     "output_type": "stream",
     "text": [
      "\r",
      "t:  30%|███████████████████▉                                              | 381/1260 [00:45<01:44,  8.40it/s, now=None]"
     ]
    },
    {
     "name": "stdout",
     "output_type": "stream",
     "text": [
      "okkkk\n",
      "382\n",
      "okkkk\n",
      "383\n",
      "okkkk\n",
      "384\n",
      "okkkk\n",
      "385\n",
      "okkkk\n",
      "enter\n"
     ]
    },
    {
     "name": "stderr",
     "output_type": "stream",
     "text": [
      "\r",
      "t:  31%|████████████████████▏                                             | 386/1260 [00:45<01:43,  8.43it/s, now=None]"
     ]
    },
    {
     "name": "stdout",
     "output_type": "stream",
     "text": [
      "okkkk\n",
      "387\n",
      "okkkk\n",
      "388\n",
      "okkkk\n",
      "389\n",
      "okkkk\n",
      "390\n",
      "okkkk\n",
      "enter\n",
      "Scale ->  0 | Confidence Score [0.57619458] \n",
      "\n"
     ]
    },
    {
     "name": "stderr",
     "output_type": "stream",
     "text": [
      "\r",
      "t:  31%|████████████████████▍                                             | 391/1260 [00:46<01:42,  8.46it/s, now=None]"
     ]
    },
    {
     "name": "stdout",
     "output_type": "stream",
     "text": [
      "okkkk\n",
      "392\n",
      "okkkk\n",
      "393\n",
      "okkkk\n",
      "394\n",
      "okkkk\n",
      "395\n",
      "okkkk\n",
      "enter\n",
      "Scale ->  0 | Confidence Score [0.58476084] \n",
      "\n"
     ]
    },
    {
     "name": "stderr",
     "output_type": "stream",
     "text": [
      "\r",
      "t:  31%|████████████████████▋                                             | 396/1260 [00:46<01:41,  8.52it/s, now=None]"
     ]
    },
    {
     "name": "stdout",
     "output_type": "stream",
     "text": [
      "okkkk\n",
      "397\n",
      "okkkk\n",
      "398\n",
      "okkkk\n",
      "399\n",
      "okkkk\n",
      "400\n",
      "okkkk\n",
      "enter\n",
      "Scale ->  0 | Confidence Score [0.52761223] \n",
      "\n"
     ]
    },
    {
     "name": "stderr",
     "output_type": "stream",
     "text": [
      "\r",
      "t:  32%|█████████████████████                                             | 401/1260 [00:47<01:40,  8.57it/s, now=None]"
     ]
    },
    {
     "name": "stdout",
     "output_type": "stream",
     "text": [
      "okkkk\n",
      "402\n",
      "okkkk\n",
      "403\n",
      "okkkk\n",
      "404\n",
      "okkkk\n",
      "405\n",
      "okkkk\n",
      "enter\n"
     ]
    },
    {
     "name": "stderr",
     "output_type": "stream",
     "text": [
      "\r",
      "t:  32%|█████████████████████▎                                            | 406/1260 [00:47<01:39,  8.60it/s, now=None]"
     ]
    },
    {
     "name": "stdout",
     "output_type": "stream",
     "text": [
      "okkkk\n",
      "407\n",
      "okkkk\n",
      "408\n",
      "okkkk\n",
      "409\n",
      "okkkk\n",
      "410\n",
      "okkkk\n",
      "enter\n"
     ]
    },
    {
     "name": "stderr",
     "output_type": "stream",
     "text": [
      "\r",
      "t:  33%|█████████████████████▌                                            | 411/1260 [00:48<01:39,  8.54it/s, now=None]"
     ]
    },
    {
     "name": "stdout",
     "output_type": "stream",
     "text": [
      "okkkk\n",
      "412\n",
      "okkkk\n",
      "413\n",
      "okkkk\n",
      "414\n",
      "okkkk\n",
      "415\n",
      "okkkk\n",
      "enter\n"
     ]
    },
    {
     "name": "stderr",
     "output_type": "stream",
     "text": [
      "\r",
      "t:  33%|█████████████████████▊                                            | 416/1260 [00:49<01:38,  8.58it/s, now=None]"
     ]
    },
    {
     "name": "stdout",
     "output_type": "stream",
     "text": [
      "okkkk\n",
      "417\n",
      "okkkk\n",
      "418\n",
      "okkkk\n",
      "419\n",
      "okkkk\n",
      "420\n",
      "okkkk\n",
      "enter\n"
     ]
    },
    {
     "name": "stderr",
     "output_type": "stream",
     "text": [
      "\r",
      "t:  33%|██████████████████████                                            | 421/1260 [00:49<01:37,  8.58it/s, now=None]"
     ]
    },
    {
     "name": "stdout",
     "output_type": "stream",
     "text": [
      "okkkk\n",
      "422\n",
      "okkkk\n",
      "423\n",
      "okkkk\n",
      "424\n",
      "okkkk\n",
      "425\n",
      "okkkk\n",
      "enter\n"
     ]
    },
    {
     "name": "stderr",
     "output_type": "stream",
     "text": [
      "\r",
      "t:  34%|██████████████████████▎                                           | 426/1260 [00:50<01:37,  8.58it/s, now=None]"
     ]
    },
    {
     "name": "stdout",
     "output_type": "stream",
     "text": [
      "okkkk\n",
      "427\n",
      "okkkk\n",
      "428\n",
      "okkkk\n",
      "429\n",
      "okkkk\n",
      "430\n",
      "okkkk\n",
      "enter\n"
     ]
    },
    {
     "name": "stderr",
     "output_type": "stream",
     "text": [
      "\r",
      "t:  34%|██████████████████████▌                                           | 431/1260 [00:50<01:36,  8.60it/s, now=None]"
     ]
    },
    {
     "name": "stdout",
     "output_type": "stream",
     "text": [
      "okkkk\n",
      "432\n",
      "okkkk\n",
      "433\n",
      "okkkk\n",
      "434\n",
      "okkkk\n",
      "435\n",
      "okkkk\n",
      "enter\n"
     ]
    },
    {
     "name": "stderr",
     "output_type": "stream",
     "text": [
      "\r",
      "t:  35%|██████████████████████▊                                           | 436/1260 [00:51<01:36,  8.51it/s, now=None]"
     ]
    },
    {
     "name": "stdout",
     "output_type": "stream",
     "text": [
      "okkkk\n",
      "437\n",
      "okkkk\n",
      "438\n",
      "okkkk\n",
      "439\n",
      "okkkk\n",
      "440\n",
      "okkkk\n",
      "enter\n"
     ]
    },
    {
     "name": "stderr",
     "output_type": "stream",
     "text": [
      "\r",
      "t:  35%|███████████████████████                                           | 441/1260 [00:52<01:36,  8.50it/s, now=None]"
     ]
    },
    {
     "name": "stdout",
     "output_type": "stream",
     "text": [
      "okkkk\n",
      "442\n",
      "okkkk\n",
      "443\n",
      "okkkk\n",
      "444\n",
      "okkkk\n",
      "445\n",
      "okkkk\n",
      "enter\n"
     ]
    },
    {
     "name": "stderr",
     "output_type": "stream",
     "text": [
      "\r",
      "t:  35%|███████████████████████▎                                          | 446/1260 [00:52<01:36,  8.47it/s, now=None]"
     ]
    },
    {
     "name": "stdout",
     "output_type": "stream",
     "text": [
      "okkkk\n",
      "447\n",
      "okkkk\n",
      "448\n",
      "okkkk\n",
      "449\n",
      "okkkk\n",
      "450\n",
      "okkkk\n",
      "enter\n"
     ]
    },
    {
     "name": "stderr",
     "output_type": "stream",
     "text": [
      "\r",
      "t:  36%|███████████████████████▌                                          | 451/1260 [00:53<01:34,  8.55it/s, now=None]"
     ]
    },
    {
     "name": "stdout",
     "output_type": "stream",
     "text": [
      "okkkk\n",
      "452\n",
      "okkkk\n",
      "453\n",
      "okkkk\n",
      "454\n",
      "okkkk\n",
      "455\n",
      "okkkk\n",
      "enter\n"
     ]
    },
    {
     "name": "stderr",
     "output_type": "stream",
     "text": [
      "\r",
      "t:  36%|███████████████████████▉                                          | 456/1260 [00:53<01:33,  8.56it/s, now=None]"
     ]
    },
    {
     "name": "stdout",
     "output_type": "stream",
     "text": [
      "okkkk\n",
      "457\n",
      "okkkk\n",
      "458\n",
      "okkkk\n",
      "459\n",
      "okkkk\n",
      "460\n",
      "okkkk\n",
      "enter\n"
     ]
    },
    {
     "name": "stderr",
     "output_type": "stream",
     "text": [
      "\r",
      "t:  37%|████████████████████████▏                                         | 461/1260 [00:54<01:33,  8.57it/s, now=None]"
     ]
    },
    {
     "name": "stdout",
     "output_type": "stream",
     "text": [
      "okkkk\n",
      "462\n",
      "okkkk\n",
      "463\n",
      "okkkk\n",
      "464\n",
      "okkkk\n",
      "465\n",
      "okkkk\n",
      "enter\n"
     ]
    },
    {
     "name": "stderr",
     "output_type": "stream",
     "text": [
      "\r",
      "t:  37%|████████████████████████▍                                         | 466/1260 [00:54<01:33,  8.53it/s, now=None]"
     ]
    },
    {
     "name": "stdout",
     "output_type": "stream",
     "text": [
      "okkkk\n",
      "467\n",
      "okkkk\n",
      "468\n",
      "okkkk\n",
      "469\n",
      "okkkk\n",
      "470\n",
      "okkkk\n",
      "enter\n"
     ]
    },
    {
     "name": "stderr",
     "output_type": "stream",
     "text": [
      "\r",
      "t:  37%|████████████████████████▋                                         | 471/1260 [00:55<01:32,  8.57it/s, now=None]"
     ]
    },
    {
     "name": "stdout",
     "output_type": "stream",
     "text": [
      "okkkk\n",
      "472\n",
      "okkkk\n",
      "473\n",
      "okkkk\n",
      "474\n",
      "okkkk\n",
      "475\n",
      "okkkk\n",
      "enter\n"
     ]
    },
    {
     "name": "stderr",
     "output_type": "stream",
     "text": [
      "\r",
      "t:  38%|████████████████████████▉                                         | 476/1260 [00:56<01:30,  8.63it/s, now=None]"
     ]
    },
    {
     "name": "stdout",
     "output_type": "stream",
     "text": [
      "okkkk\n",
      "477\n",
      "okkkk\n",
      "478\n",
      "okkkk\n",
      "479\n",
      "okkkk\n",
      "480\n",
      "okkkk\n",
      "enter\n",
      "Scale ->  0 | Confidence Score [0.43563946] \n",
      "\n"
     ]
    },
    {
     "name": "stderr",
     "output_type": "stream",
     "text": [
      "\r",
      "t:  38%|█████████████████████████▏                                        | 481/1260 [00:56<01:30,  8.65it/s, now=None]"
     ]
    },
    {
     "name": "stdout",
     "output_type": "stream",
     "text": [
      "okkkk\n",
      "482\n",
      "okkkk\n",
      "483\n",
      "okkkk\n",
      "484\n",
      "okkkk\n",
      "485\n",
      "okkkk\n",
      "enter\n"
     ]
    },
    {
     "name": "stderr",
     "output_type": "stream",
     "text": [
      "\r",
      "t:  39%|█████████████████████████▍                                        | 486/1260 [00:57<01:29,  8.63it/s, now=None]"
     ]
    },
    {
     "name": "stdout",
     "output_type": "stream",
     "text": [
      "okkkk\n",
      "487\n",
      "okkkk\n",
      "488\n",
      "okkkk\n",
      "489\n",
      "okkkk\n",
      "490\n",
      "okkkk\n",
      "enter\n"
     ]
    },
    {
     "name": "stderr",
     "output_type": "stream",
     "text": [
      "\r",
      "t:  39%|█████████████████████████▋                                        | 491/1260 [00:57<01:30,  8.51it/s, now=None]"
     ]
    },
    {
     "name": "stdout",
     "output_type": "stream",
     "text": [
      "okkkk\n",
      "492\n",
      "okkkk\n",
      "493\n",
      "okkkk\n",
      "494\n",
      "okkkk\n",
      "495\n",
      "okkkk\n",
      "enter\n"
     ]
    },
    {
     "name": "stderr",
     "output_type": "stream",
     "text": [
      "\r",
      "t:  39%|█████████████████████████▉                                        | 496/1260 [00:58<01:30,  8.48it/s, now=None]"
     ]
    },
    {
     "name": "stdout",
     "output_type": "stream",
     "text": [
      "okkkk\n",
      "497\n",
      "okkkk\n",
      "498\n",
      "okkkk\n",
      "499\n",
      "okkkk\n",
      "500\n",
      "okkkk\n",
      "enter\n"
     ]
    },
    {
     "name": "stderr",
     "output_type": "stream",
     "text": [
      "\r",
      "t:  40%|██████████████████████████▏                                       | 501/1260 [00:59<01:28,  8.54it/s, now=None]"
     ]
    },
    {
     "name": "stdout",
     "output_type": "stream",
     "text": [
      "okkkk\n",
      "502\n",
      "okkkk\n",
      "503\n",
      "okkkk\n",
      "504\n",
      "okkkk\n",
      "505\n",
      "okkkk\n",
      "enter\n"
     ]
    },
    {
     "name": "stderr",
     "output_type": "stream",
     "text": [
      "\r",
      "t:  40%|██████████████████████████▌                                       | 506/1260 [00:59<01:29,  8.44it/s, now=None]"
     ]
    },
    {
     "name": "stdout",
     "output_type": "stream",
     "text": [
      "okkkk\n",
      "507\n",
      "okkkk\n",
      "508\n",
      "okkkk\n",
      "509\n",
      "okkkk\n",
      "510\n",
      "okkkk\n",
      "enter\n"
     ]
    },
    {
     "name": "stderr",
     "output_type": "stream",
     "text": [
      "\r",
      "t:  41%|██████████████████████████▊                                       | 511/1260 [01:00<01:28,  8.48it/s, now=None]"
     ]
    },
    {
     "name": "stdout",
     "output_type": "stream",
     "text": [
      "okkkk\n",
      "512\n",
      "okkkk\n",
      "513\n",
      "okkkk\n",
      "514\n",
      "okkkk\n",
      "515\n",
      "okkkk\n",
      "enter\n"
     ]
    },
    {
     "name": "stderr",
     "output_type": "stream",
     "text": [
      "\r",
      "t:  41%|███████████████████████████                                       | 516/1260 [01:00<01:27,  8.55it/s, now=None]"
     ]
    },
    {
     "name": "stdout",
     "output_type": "stream",
     "text": [
      "okkkk\n",
      "517\n",
      "okkkk\n",
      "518\n",
      "okkkk\n",
      "519\n",
      "okkkk\n",
      "520\n",
      "okkkk\n",
      "enter\n"
     ]
    },
    {
     "name": "stderr",
     "output_type": "stream",
     "text": [
      "\r",
      "t:  41%|███████████████████████████▎                                      | 521/1260 [01:01<01:26,  8.55it/s, now=None]"
     ]
    },
    {
     "name": "stdout",
     "output_type": "stream",
     "text": [
      "okkkk\n",
      "522\n",
      "okkkk\n",
      "523\n",
      "okkkk\n",
      "524\n",
      "okkkk\n",
      "525\n",
      "okkkk\n",
      "enter\n"
     ]
    },
    {
     "name": "stderr",
     "output_type": "stream",
     "text": [
      "\r",
      "t:  42%|███████████████████████████▌                                      | 526/1260 [01:01<01:26,  8.51it/s, now=None]"
     ]
    },
    {
     "name": "stdout",
     "output_type": "stream",
     "text": [
      "okkkk\n",
      "527\n",
      "okkkk\n",
      "528\n",
      "okkkk\n",
      "529\n",
      "okkkk\n",
      "530\n",
      "okkkk\n",
      "enter\n"
     ]
    },
    {
     "name": "stderr",
     "output_type": "stream",
     "text": [
      "\r",
      "t:  42%|███████████████████████████▊                                      | 531/1260 [01:02<01:25,  8.57it/s, now=None]"
     ]
    },
    {
     "name": "stdout",
     "output_type": "stream",
     "text": [
      "okkkk\n",
      "532\n",
      "okkkk\n",
      "533\n",
      "okkkk\n",
      "534\n",
      "okkkk\n",
      "535\n",
      "okkkk\n",
      "enter\n"
     ]
    },
    {
     "name": "stderr",
     "output_type": "stream",
     "text": [
      "\r",
      "t:  43%|████████████████████████████                                      | 536/1260 [01:03<01:24,  8.55it/s, now=None]"
     ]
    },
    {
     "name": "stdout",
     "output_type": "stream",
     "text": [
      "okkkk\n",
      "537\n",
      "okkkk\n",
      "538\n",
      "okkkk\n",
      "539\n",
      "okkkk\n",
      "540\n",
      "okkkk\n",
      "enter\n"
     ]
    },
    {
     "name": "stderr",
     "output_type": "stream",
     "text": [
      "\r",
      "t:  43%|████████████████████████████▎                                     | 541/1260 [01:03<01:23,  8.60it/s, now=None]"
     ]
    },
    {
     "name": "stdout",
     "output_type": "stream",
     "text": [
      "okkkk\n",
      "542\n",
      "okkkk\n",
      "543\n",
      "okkkk\n",
      "544\n",
      "okkkk\n",
      "545\n",
      "okkkk\n",
      "enter\n"
     ]
    },
    {
     "name": "stderr",
     "output_type": "stream",
     "text": [
      "\r",
      "t:  43%|████████████████████████████▌                                     | 546/1260 [01:04<01:23,  8.54it/s, now=None]"
     ]
    },
    {
     "name": "stdout",
     "output_type": "stream",
     "text": [
      "okkkk\n",
      "547\n",
      "okkkk\n",
      "548\n",
      "okkkk\n",
      "549\n",
      "okkkk\n",
      "550\n",
      "okkkk\n",
      "enter\n"
     ]
    },
    {
     "name": "stderr",
     "output_type": "stream",
     "text": [
      "\r",
      "t:  44%|████████████████████████████▊                                     | 551/1260 [01:04<01:22,  8.59it/s, now=None]"
     ]
    },
    {
     "name": "stdout",
     "output_type": "stream",
     "text": [
      "okkkk\n",
      "552\n",
      "okkkk\n",
      "553\n",
      "okkkk\n",
      "554\n",
      "okkkk\n",
      "555\n",
      "okkkk\n",
      "enter\n"
     ]
    },
    {
     "name": "stderr",
     "output_type": "stream",
     "text": [
      "\r",
      "t:  44%|█████████████████████████████                                     | 556/1260 [01:05<01:21,  8.64it/s, now=None]"
     ]
    },
    {
     "name": "stdout",
     "output_type": "stream",
     "text": [
      "okkkk\n",
      "557\n",
      "okkkk\n",
      "558\n",
      "okkkk\n",
      "559\n",
      "okkkk\n",
      "560\n",
      "okkkk\n",
      "enter\n"
     ]
    },
    {
     "name": "stderr",
     "output_type": "stream",
     "text": [
      "\r",
      "t:  45%|█████████████████████████████▍                                    | 561/1260 [01:06<01:20,  8.68it/s, now=None]"
     ]
    },
    {
     "name": "stdout",
     "output_type": "stream",
     "text": [
      "okkkk\n",
      "562\n",
      "okkkk\n",
      "563\n",
      "okkkk\n",
      "564\n",
      "okkkk\n",
      "565\n",
      "okkkk\n",
      "enter\n"
     ]
    },
    {
     "name": "stderr",
     "output_type": "stream",
     "text": [
      "\r",
      "t:  45%|█████████████████████████████▋                                    | 566/1260 [01:06<01:21,  8.56it/s, now=None]"
     ]
    },
    {
     "name": "stdout",
     "output_type": "stream",
     "text": [
      "okkkk\n",
      "567\n",
      "okkkk\n",
      "568\n",
      "okkkk\n",
      "569\n",
      "okkkk\n",
      "570\n",
      "okkkk\n",
      "enter\n"
     ]
    },
    {
     "name": "stderr",
     "output_type": "stream",
     "text": [
      "\r",
      "t:  45%|█████████████████████████████▉                                    | 571/1260 [01:07<01:22,  8.37it/s, now=None]"
     ]
    },
    {
     "name": "stdout",
     "output_type": "stream",
     "text": [
      "okkkk\n",
      "572\n",
      "okkkk\n",
      "573\n",
      "okkkk\n",
      "574\n",
      "okkkk\n",
      "575\n",
      "okkkk\n",
      "enter\n"
     ]
    },
    {
     "name": "stderr",
     "output_type": "stream",
     "text": [
      "\r",
      "t:  46%|██████████████████████████████▏                                   | 576/1260 [01:07<01:20,  8.46it/s, now=None]"
     ]
    },
    {
     "name": "stdout",
     "output_type": "stream",
     "text": [
      "okkkk\n",
      "577\n",
      "okkkk\n",
      "578\n",
      "okkkk\n",
      "579\n",
      "okkkk\n",
      "580\n",
      "okkkk\n",
      "enter\n"
     ]
    },
    {
     "name": "stderr",
     "output_type": "stream",
     "text": [
      "\r",
      "t:  46%|██████████████████████████████▍                                   | 581/1260 [01:08<01:20,  8.42it/s, now=None]"
     ]
    },
    {
     "name": "stdout",
     "output_type": "stream",
     "text": [
      "okkkk\n",
      "582\n",
      "okkkk\n",
      "583\n",
      "okkkk\n",
      "584\n",
      "okkkk\n",
      "585\n",
      "okkkk\n",
      "enter\n"
     ]
    },
    {
     "name": "stderr",
     "output_type": "stream",
     "text": [
      "\r",
      "t:  47%|██████████████████████████████▋                                   | 586/1260 [01:09<01:19,  8.44it/s, now=None]"
     ]
    },
    {
     "name": "stdout",
     "output_type": "stream",
     "text": [
      "okkkk\n",
      "587\n",
      "okkkk\n",
      "588\n",
      "okkkk\n",
      "589\n",
      "okkkk\n",
      "590\n",
      "okkkk\n",
      "enter\n"
     ]
    },
    {
     "name": "stderr",
     "output_type": "stream",
     "text": [
      "\r",
      "t:  47%|██████████████████████████████▉                                   | 591/1260 [01:09<01:19,  8.45it/s, now=None]"
     ]
    },
    {
     "name": "stdout",
     "output_type": "stream",
     "text": [
      "okkkk\n",
      "592\n",
      "okkkk\n",
      "593\n",
      "okkkk\n",
      "594\n",
      "okkkk\n",
      "595\n",
      "okkkk\n",
      "enter\n"
     ]
    },
    {
     "name": "stderr",
     "output_type": "stream",
     "text": [
      "\r",
      "t:  47%|███████████████████████████████▏                                  | 596/1260 [01:10<01:18,  8.51it/s, now=None]"
     ]
    },
    {
     "name": "stdout",
     "output_type": "stream",
     "text": [
      "okkkk\n",
      "597\n",
      "okkkk\n",
      "598\n",
      "okkkk\n",
      "599\n",
      "okkkk\n",
      "600\n",
      "okkkk\n",
      "enter\n"
     ]
    },
    {
     "name": "stderr",
     "output_type": "stream",
     "text": [
      "\r",
      "t:  48%|███████████████████████████████▍                                  | 601/1260 [01:10<01:18,  8.39it/s, now=None]"
     ]
    },
    {
     "name": "stdout",
     "output_type": "stream",
     "text": [
      "okkkk\n",
      "602\n",
      "okkkk\n",
      "603\n",
      "okkkk\n",
      "604\n",
      "okkkk\n",
      "605\n",
      "okkkk\n",
      "enter\n"
     ]
    },
    {
     "name": "stderr",
     "output_type": "stream",
     "text": [
      "\r",
      "t:  48%|███████████████████████████████▋                                  | 606/1260 [01:11<01:17,  8.49it/s, now=None]"
     ]
    },
    {
     "name": "stdout",
     "output_type": "stream",
     "text": [
      "okkkk\n",
      "607\n",
      "okkkk\n",
      "608\n",
      "okkkk\n",
      "609\n",
      "okkkk\n",
      "610\n",
      "okkkk\n",
      "enter\n"
     ]
    },
    {
     "name": "stderr",
     "output_type": "stream",
     "text": [
      "\r",
      "t:  48%|████████████████████████████████                                  | 611/1260 [01:11<01:16,  8.52it/s, now=None]"
     ]
    },
    {
     "name": "stdout",
     "output_type": "stream",
     "text": [
      "okkkk\n",
      "612\n",
      "okkkk\n",
      "613\n",
      "okkkk\n",
      "614\n",
      "okkkk\n",
      "615\n",
      "okkkk\n",
      "enter\n"
     ]
    },
    {
     "name": "stderr",
     "output_type": "stream",
     "text": [
      "\r",
      "t:  49%|████████████████████████████████▎                                 | 616/1260 [01:12<01:15,  8.53it/s, now=None]"
     ]
    },
    {
     "name": "stdout",
     "output_type": "stream",
     "text": [
      "okkkk\n",
      "617\n",
      "okkkk\n",
      "618\n",
      "okkkk\n",
      "619\n",
      "okkkk\n",
      "620\n",
      "okkkk\n",
      "enter\n"
     ]
    },
    {
     "name": "stderr",
     "output_type": "stream",
     "text": [
      "\r",
      "t:  49%|████████████████████████████████▌                                 | 621/1260 [01:13<01:16,  8.34it/s, now=None]"
     ]
    },
    {
     "name": "stdout",
     "output_type": "stream",
     "text": [
      "okkkk\n",
      "622\n",
      "okkkk\n",
      "623\n",
      "okkkk\n",
      "624\n",
      "okkkk\n",
      "625\n",
      "okkkk\n",
      "enter\n"
     ]
    },
    {
     "name": "stderr",
     "output_type": "stream",
     "text": [
      "\r",
      "t:  50%|████████████████████████████████▊                                 | 626/1260 [01:13<01:15,  8.41it/s, now=None]"
     ]
    },
    {
     "name": "stdout",
     "output_type": "stream",
     "text": [
      "okkkk\n",
      "627\n",
      "okkkk\n",
      "628\n",
      "okkkk\n",
      "629\n",
      "okkkk\n",
      "630\n",
      "okkkk\n",
      "enter\n"
     ]
    },
    {
     "name": "stderr",
     "output_type": "stream",
     "text": [
      "\r",
      "t:  50%|█████████████████████████████████                                 | 631/1260 [01:14<01:14,  8.48it/s, now=None]"
     ]
    },
    {
     "name": "stdout",
     "output_type": "stream",
     "text": [
      "okkkk\n",
      "632\n",
      "okkkk\n",
      "633\n",
      "okkkk\n",
      "634\n",
      "okkkk\n",
      "635\n",
      "okkkk\n",
      "enter\n"
     ]
    },
    {
     "name": "stderr",
     "output_type": "stream",
     "text": [
      "\r",
      "t:  50%|█████████████████████████████████▎                                | 636/1260 [01:14<01:13,  8.55it/s, now=None]"
     ]
    },
    {
     "name": "stdout",
     "output_type": "stream",
     "text": [
      "okkkk\n",
      "637\n",
      "okkkk\n",
      "638\n",
      "okkkk\n",
      "639\n",
      "okkkk\n",
      "640\n",
      "okkkk\n",
      "enter\n"
     ]
    },
    {
     "name": "stderr",
     "output_type": "stream",
     "text": [
      "\r",
      "t:  51%|█████████████████████████████████▌                                | 641/1260 [01:15<01:12,  8.52it/s, now=None]"
     ]
    },
    {
     "name": "stdout",
     "output_type": "stream",
     "text": [
      "okkkk\n",
      "642\n",
      "okkkk\n",
      "643\n",
      "okkkk\n",
      "644\n",
      "okkkk\n",
      "645\n",
      "okkkk\n",
      "enter\n"
     ]
    },
    {
     "name": "stderr",
     "output_type": "stream",
     "text": [
      "\r",
      "t:  51%|█████████████████████████████████▊                                | 646/1260 [01:16<01:11,  8.58it/s, now=None]"
     ]
    },
    {
     "name": "stdout",
     "output_type": "stream",
     "text": [
      "okkkk\n",
      "647\n",
      "okkkk\n",
      "648\n",
      "okkkk\n",
      "649\n",
      "okkkk\n",
      "650\n",
      "okkkk\n",
      "enter\n"
     ]
    },
    {
     "name": "stderr",
     "output_type": "stream",
     "text": [
      "\r",
      "t:  52%|██████████████████████████████████                                | 651/1260 [01:16<01:10,  8.58it/s, now=None]"
     ]
    },
    {
     "name": "stdout",
     "output_type": "stream",
     "text": [
      "okkkk\n",
      "652\n",
      "okkkk\n",
      "653\n",
      "okkkk\n",
      "654\n",
      "okkkk\n",
      "655\n",
      "okkkk\n",
      "enter\n"
     ]
    },
    {
     "name": "stderr",
     "output_type": "stream",
     "text": [
      "\r",
      "t:  52%|██████████████████████████████████▎                               | 656/1260 [01:17<01:10,  8.52it/s, now=None]"
     ]
    },
    {
     "name": "stdout",
     "output_type": "stream",
     "text": [
      "okkkk\n",
      "657\n",
      "okkkk\n",
      "658\n",
      "okkkk\n",
      "659\n",
      "okkkk\n",
      "660\n",
      "okkkk\n",
      "enter\n"
     ]
    },
    {
     "name": "stderr",
     "output_type": "stream",
     "text": [
      "\r",
      "t:  52%|██████████████████████████████████▌                               | 661/1260 [01:17<01:10,  8.49it/s, now=None]"
     ]
    },
    {
     "name": "stdout",
     "output_type": "stream",
     "text": [
      "okkkk\n",
      "662\n",
      "okkkk\n",
      "663\n",
      "okkkk\n",
      "664\n",
      "okkkk\n",
      "665\n",
      "okkkk\n",
      "enter\n"
     ]
    },
    {
     "name": "stderr",
     "output_type": "stream",
     "text": [
      "\r",
      "t:  53%|██████████████████████████████████▉                               | 666/1260 [01:18<01:09,  8.51it/s, now=None]"
     ]
    },
    {
     "name": "stdout",
     "output_type": "stream",
     "text": [
      "okkkk\n",
      "667\n",
      "okkkk\n",
      "668\n",
      "okkkk\n",
      "669\n",
      "okkkk\n",
      "670\n",
      "okkkk\n",
      "enter\n"
     ]
    },
    {
     "name": "stderr",
     "output_type": "stream",
     "text": [
      "\r",
      "t:  53%|███████████████████████████████████▏                              | 671/1260 [01:19<01:08,  8.57it/s, now=None]"
     ]
    },
    {
     "name": "stdout",
     "output_type": "stream",
     "text": [
      "okkkk\n",
      "672\n",
      "okkkk\n",
      "673\n",
      "okkkk\n",
      "674\n",
      "okkkk\n",
      "675\n",
      "okkkk\n",
      "enter\n"
     ]
    },
    {
     "name": "stderr",
     "output_type": "stream",
     "text": [
      "\r",
      "t:  54%|███████████████████████████████████▍                              | 676/1260 [01:19<01:08,  8.55it/s, now=None]"
     ]
    },
    {
     "name": "stdout",
     "output_type": "stream",
     "text": [
      "okkkk\n",
      "677\n",
      "okkkk\n",
      "678\n",
      "okkkk\n",
      "679\n",
      "okkkk\n",
      "680\n",
      "okkkk\n",
      "enter\n"
     ]
    },
    {
     "name": "stderr",
     "output_type": "stream",
     "text": [
      "\r",
      "t:  54%|███████████████████████████████████▋                              | 681/1260 [01:20<01:07,  8.59it/s, now=None]"
     ]
    },
    {
     "name": "stdout",
     "output_type": "stream",
     "text": [
      "okkkk\n",
      "682\n",
      "okkkk\n",
      "683\n",
      "okkkk\n",
      "684\n",
      "okkkk\n",
      "685\n",
      "okkkk\n",
      "enter\n"
     ]
    },
    {
     "name": "stderr",
     "output_type": "stream",
     "text": [
      "\r",
      "t:  54%|███████████████████████████████████▉                              | 686/1260 [01:20<01:06,  8.63it/s, now=None]"
     ]
    },
    {
     "name": "stdout",
     "output_type": "stream",
     "text": [
      "okkkk\n",
      "687\n",
      "okkkk\n",
      "688\n",
      "okkkk\n",
      "689\n",
      "okkkk\n",
      "690\n",
      "okkkk\n",
      "enter\n"
     ]
    },
    {
     "name": "stderr",
     "output_type": "stream",
     "text": [
      "\r",
      "t:  55%|████████████████████████████████████▏                             | 691/1260 [01:21<01:06,  8.61it/s, now=None]"
     ]
    },
    {
     "name": "stdout",
     "output_type": "stream",
     "text": [
      "okkkk\n",
      "692\n",
      "okkkk\n",
      "693\n",
      "okkkk\n",
      "694\n",
      "okkkk\n",
      "695\n",
      "okkkk\n",
      "enter\n"
     ]
    },
    {
     "name": "stderr",
     "output_type": "stream",
     "text": [
      "\r",
      "t:  55%|████████████████████████████████████▍                             | 696/1260 [01:21<01:06,  8.53it/s, now=None]"
     ]
    },
    {
     "name": "stdout",
     "output_type": "stream",
     "text": [
      "okkkk\n",
      "697\n",
      "okkkk\n",
      "698\n",
      "okkkk\n",
      "699\n",
      "okkkk\n",
      "700\n",
      "okkkk\n",
      "enter\n"
     ]
    },
    {
     "name": "stderr",
     "output_type": "stream",
     "text": [
      "\r",
      "t:  56%|████████████████████████████████████▋                             | 701/1260 [01:22<01:05,  8.54it/s, now=None]"
     ]
    },
    {
     "name": "stdout",
     "output_type": "stream",
     "text": [
      "okkkk\n",
      "702\n",
      "okkkk\n",
      "703\n",
      "okkkk\n",
      "704\n",
      "okkkk\n",
      "705\n",
      "okkkk\n",
      "enter\n"
     ]
    },
    {
     "name": "stderr",
     "output_type": "stream",
     "text": [
      "\r",
      "t:  56%|████████████████████████████████████▉                             | 706/1260 [01:23<01:04,  8.61it/s, now=None]"
     ]
    },
    {
     "name": "stdout",
     "output_type": "stream",
     "text": [
      "okkkk\n",
      "707\n",
      "okkkk\n",
      "708\n",
      "okkkk\n",
      "709\n",
      "okkkk\n",
      "710\n",
      "okkkk\n",
      "enter\n"
     ]
    },
    {
     "name": "stderr",
     "output_type": "stream",
     "text": [
      "\r",
      "t:  56%|█████████████████████████████████████▏                            | 711/1260 [01:23<01:04,  8.53it/s, now=None]"
     ]
    },
    {
     "name": "stdout",
     "output_type": "stream",
     "text": [
      "okkkk\n",
      "712\n",
      "okkkk\n",
      "713\n",
      "okkkk\n",
      "714\n",
      "okkkk\n",
      "715\n",
      "okkkk\n",
      "enter\n"
     ]
    },
    {
     "name": "stderr",
     "output_type": "stream",
     "text": [
      "\r",
      "t:  57%|█████████████████████████████████████▌                            | 716/1260 [01:24<01:03,  8.58it/s, now=None]"
     ]
    },
    {
     "name": "stdout",
     "output_type": "stream",
     "text": [
      "okkkk\n",
      "717\n",
      "okkkk\n",
      "718\n",
      "okkkk\n",
      "719\n",
      "okkkk\n",
      "720\n",
      "okkkk\n",
      "enter\n"
     ]
    },
    {
     "name": "stderr",
     "output_type": "stream",
     "text": [
      "\r",
      "t:  57%|█████████████████████████████████████▊                            | 721/1260 [01:24<01:02,  8.60it/s, now=None]"
     ]
    },
    {
     "name": "stdout",
     "output_type": "stream",
     "text": [
      "Scale ->  0 | Confidence Score [0.40695398] \n",
      "\n",
      "okkkk\n",
      "722\n",
      "okkkk\n",
      "723\n",
      "okkkk\n",
      "724\n",
      "okkkk\n",
      "725\n",
      "okkkk\n",
      "enter\n"
     ]
    },
    {
     "name": "stderr",
     "output_type": "stream",
     "text": [
      "\r",
      "t:  58%|██████████████████████████████████████                            | 726/1260 [01:25<01:02,  8.60it/s, now=None]"
     ]
    },
    {
     "name": "stdout",
     "output_type": "stream",
     "text": [
      "okkkk\n",
      "727\n",
      "okkkk\n",
      "728\n",
      "okkkk\n",
      "729\n",
      "okkkk\n",
      "730\n",
      "okkkk\n",
      "enter\n"
     ]
    },
    {
     "name": "stderr",
     "output_type": "stream",
     "text": [
      "\r",
      "t:  58%|██████████████████████████████████████▎                           | 731/1260 [01:25<01:01,  8.63it/s, now=None]"
     ]
    },
    {
     "name": "stdout",
     "output_type": "stream",
     "text": [
      "okkkk\n",
      "732\n",
      "okkkk\n",
      "733\n",
      "okkkk\n",
      "734\n",
      "okkkk\n",
      "735\n",
      "okkkk\n",
      "enter\n"
     ]
    },
    {
     "name": "stderr",
     "output_type": "stream",
     "text": [
      "\r",
      "t:  58%|██████████████████████████████████████▌                           | 736/1260 [01:26<01:00,  8.65it/s, now=None]"
     ]
    },
    {
     "name": "stdout",
     "output_type": "stream",
     "text": [
      "Scale ->  0 | Confidence Score [0.42650926] \n",
      "\n",
      "okkkk\n",
      "737\n",
      "okkkk\n",
      "738\n",
      "okkkk\n",
      "739\n",
      "okkkk\n",
      "740\n",
      "okkkk\n",
      "enter\n"
     ]
    },
    {
     "name": "stderr",
     "output_type": "stream",
     "text": [
      "\r",
      "t:  59%|██████████████████████████████████████▊                           | 741/1260 [01:27<00:59,  8.67it/s, now=None]"
     ]
    },
    {
     "name": "stdout",
     "output_type": "stream",
     "text": [
      "okkkk\n",
      "742\n",
      "okkkk\n",
      "743\n",
      "okkkk\n",
      "744\n",
      "okkkk\n",
      "745\n",
      "okkkk\n",
      "enter\n"
     ]
    },
    {
     "name": "stderr",
     "output_type": "stream",
     "text": [
      "\r",
      "t:  59%|███████████████████████████████████████                           | 746/1260 [01:27<00:59,  8.69it/s, now=None]"
     ]
    },
    {
     "name": "stdout",
     "output_type": "stream",
     "text": [
      "okkkk\n",
      "747\n",
      "okkkk\n",
      "748\n",
      "okkkk\n",
      "749\n",
      "okkkk\n",
      "750\n",
      "okkkk\n",
      "enter\n",
      "Scale ->  0 | Confidence Score [0.54170405] \n",
      "\n",
      "Scale ->  0 | Confidence Score [0.41791425] \n",
      "\n",
      "Scale ->  0 | Confidence Score [0.66416661] \n",
      "\n"
     ]
    },
    {
     "name": "stderr",
     "output_type": "stream",
     "text": [
      "\r",
      "t:  60%|███████████████████████████████████████▎                          | 751/1260 [01:28<00:59,  8.61it/s, now=None]"
     ]
    },
    {
     "name": "stdout",
     "output_type": "stream",
     "text": [
      "okkkk\n",
      "752\n",
      "okkkk\n",
      "753\n",
      "okkkk\n",
      "754\n",
      "okkkk\n",
      "755\n",
      "okkkk\n",
      "enter\n",
      "Scale ->  0 | Confidence Score [0.49615855] \n",
      "\n",
      "Scale ->  0 | Confidence Score [0.43600387] \n",
      "\n",
      "Scale ->  0 | Confidence Score [0.43140086] \n",
      "\n"
     ]
    },
    {
     "name": "stderr",
     "output_type": "stream",
     "text": [
      "\r",
      "t:  60%|███████████████████████████████████████▌                          | 756/1260 [01:28<00:58,  8.63it/s, now=None]"
     ]
    },
    {
     "name": "stdout",
     "output_type": "stream",
     "text": [
      "Scale ->  1 | Confidence Score [0.40460893] \n",
      "\n",
      "okkkk\n",
      "757\n",
      "okkkk\n",
      "758\n",
      "okkkk\n",
      "759\n",
      "okkkk\n",
      "760\n",
      "okkkk\n",
      "enter\n",
      "Scale ->  0 | Confidence Score [0.57392526] \n",
      "\n",
      "Scale ->  0 | Confidence Score [0.53640721] \n",
      "\n",
      "Scale ->  0 | Confidence Score [0.65137956] \n",
      "\n",
      "Scale ->  0 | Confidence Score [0.80108521] \n",
      "\n"
     ]
    },
    {
     "name": "stderr",
     "output_type": "stream",
     "text": [
      "\r",
      "t:  60%|███████████████████████████████████████▊                          | 761/1260 [01:29<00:58,  8.56it/s, now=None]"
     ]
    },
    {
     "name": "stdout",
     "output_type": "stream",
     "text": [
      "okkkk\n",
      "762\n",
      "okkkk\n",
      "763\n",
      "okkkk\n",
      "764\n",
      "okkkk\n",
      "765\n",
      "okkkk\n",
      "enter\n",
      "Scale ->  0 | Confidence Score [0.57418932] \n",
      "\n",
      "Scale ->  0 | Confidence Score [0.63838117] \n",
      "\n",
      "Scale ->  0 | Confidence Score [0.66989291] \n",
      "\n",
      "Scale ->  0 | Confidence Score [0.40335007] \n",
      "\n",
      "Scale ->  0 | Confidence Score [0.88215142] \n",
      "\n",
      "Scale ->  0 | Confidence Score [0.40893334] \n",
      "\n"
     ]
    },
    {
     "name": "stderr",
     "output_type": "stream",
     "text": [
      "\r",
      "t:  61%|████████████████████████████████████████                          | 766/1260 [01:30<00:57,  8.59it/s, now=None]"
     ]
    },
    {
     "name": "stdout",
     "output_type": "stream",
     "text": [
      "Scale ->  1 | Confidence Score [0.41890393] \n",
      "\n",
      "okkkk\n",
      "767\n",
      "okkkk\n",
      "768\n",
      "okkkk\n",
      "769\n",
      "okkkk\n",
      "770\n",
      "okkkk\n",
      "enter\n",
      "Scale ->  0 | Confidence Score [0.45438587] \n",
      "\n",
      "Scale ->  0 | Confidence Score [0.44013748] \n",
      "\n",
      "Scale ->  0 | Confidence Score [0.5549976] \n",
      "\n",
      "Scale ->  0 | Confidence Score [0.7541066] \n",
      "\n",
      "Scale ->  0 | Confidence Score [1.12072673] \n",
      "\n"
     ]
    },
    {
     "name": "stderr",
     "output_type": "stream",
     "text": [
      "\r",
      "t:  61%|████████████████████████████████████████▍                         | 771/1260 [01:30<00:57,  8.57it/s, now=None]"
     ]
    },
    {
     "name": "stdout",
     "output_type": "stream",
     "text": [
      "okkkk\n",
      "772\n",
      "okkkk\n",
      "773\n",
      "okkkk\n",
      "774\n",
      "okkkk\n",
      "775\n",
      "okkkk\n",
      "enter\n",
      "Scale ->  0 | Confidence Score [0.40607987] \n",
      "\n",
      "Scale ->  0 | Confidence Score [0.883935] \n",
      "\n",
      "Scale ->  0 | Confidence Score [0.62188655] \n",
      "\n",
      "Scale ->  0 | Confidence Score [0.6436981] \n",
      "\n"
     ]
    },
    {
     "name": "stderr",
     "output_type": "stream",
     "text": [
      "\r",
      "t:  62%|████████████████████████████████████████▋                         | 776/1260 [01:31<00:56,  8.58it/s, now=None]"
     ]
    },
    {
     "name": "stdout",
     "output_type": "stream",
     "text": [
      "okkkk\n",
      "777\n",
      "okkkk\n",
      "778\n",
      "okkkk\n",
      "779\n",
      "okkkk\n",
      "780\n",
      "okkkk\n",
      "enter\n",
      "Scale ->  0 | Confidence Score [0.41942985] \n",
      "\n",
      "Scale ->  0 | Confidence Score [0.60232352] \n",
      "\n"
     ]
    },
    {
     "name": "stderr",
     "output_type": "stream",
     "text": [
      "\r",
      "t:  62%|████████████████████████████████████████▉                         | 781/1260 [01:31<00:56,  8.55it/s, now=None]"
     ]
    },
    {
     "name": "stdout",
     "output_type": "stream",
     "text": [
      "okkkk\n",
      "782\n",
      "okkkk\n",
      "783\n",
      "okkkk\n",
      "784\n",
      "okkkk\n",
      "785\n",
      "okkkk\n",
      "enter\n",
      "Scale ->  0 | Confidence Score [0.89736802] \n",
      "\n",
      "Scale ->  0 | Confidence Score [0.55365405] \n",
      "\n",
      "Scale ->  0 | Confidence Score [0.48400083] \n",
      "\n",
      "Scale ->  0 | Confidence Score [0.48031204] \n",
      "\n"
     ]
    },
    {
     "name": "stderr",
     "output_type": "stream",
     "text": [
      "\r",
      "t:  62%|█████████████████████████████████████████▏                        | 786/1260 [01:32<00:55,  8.57it/s, now=None]"
     ]
    },
    {
     "name": "stdout",
     "output_type": "stream",
     "text": [
      "okkkk\n",
      "787\n",
      "okkkk\n",
      "788\n",
      "okkkk\n",
      "789\n",
      "okkkk\n",
      "790\n",
      "okkkk\n",
      "enter\n",
      "Scale ->  0 | Confidence Score [0.41303888] \n",
      "\n",
      "Scale ->  0 | Confidence Score [0.55955855] \n",
      "\n",
      "Scale ->  0 | Confidence Score [0.62146462] \n",
      "\n",
      "Scale ->  0 | Confidence Score [0.50079002] \n",
      "\n"
     ]
    },
    {
     "name": "stderr",
     "output_type": "stream",
     "text": [
      "\r",
      "t:  63%|█████████████████████████████████████████▍                        | 791/1260 [01:32<00:54,  8.60it/s, now=None]"
     ]
    },
    {
     "name": "stdout",
     "output_type": "stream",
     "text": [
      "okkkk\n",
      "792\n",
      "okkkk\n",
      "793\n",
      "okkkk\n",
      "794\n",
      "okkkk\n",
      "795\n",
      "okkkk\n",
      "enter\n",
      "Scale ->  0 | Confidence Score [0.55716568] \n",
      "\n",
      "Scale ->  0 | Confidence Score [0.70091743] \n",
      "\n",
      "Scale ->  0 | Confidence Score [0.46805881] \n",
      "\n",
      "Scale ->  0 | Confidence Score [0.64873994] \n",
      "\n",
      "Scale ->  0 | Confidence Score [0.63621983] \n",
      "\n",
      "Scale ->  0 | Confidence Score [0.41052864] \n",
      "\n"
     ]
    },
    {
     "name": "stderr",
     "output_type": "stream",
     "text": [
      "\r",
      "t:  63%|█████████████████████████████████████████▋                        | 796/1260 [01:33<00:54,  8.55it/s, now=None]"
     ]
    },
    {
     "name": "stdout",
     "output_type": "stream",
     "text": [
      "okkkk\n",
      "797\n",
      "okkkk\n",
      "798\n",
      "okkkk\n",
      "799\n",
      "okkkk\n",
      "800\n",
      "okkkk\n",
      "enter\n",
      "Scale ->  0 | Confidence Score [0.58713259] \n",
      "\n",
      "Scale ->  0 | Confidence Score [0.54066222] \n",
      "\n",
      "Scale ->  0 | Confidence Score [0.40411707] \n",
      "\n",
      "Scale ->  0 | Confidence Score [0.61494999] \n",
      "\n",
      "Scale ->  0 | Confidence Score [0.61634824] \n",
      "\n",
      "Scale ->  0 | Confidence Score [0.74399411] \n",
      "\n"
     ]
    },
    {
     "name": "stderr",
     "output_type": "stream",
     "text": [
      "\r",
      "t:  64%|█████████████████████████████████████████▉                        | 801/1260 [01:34<00:53,  8.58it/s, now=None]"
     ]
    },
    {
     "name": "stdout",
     "output_type": "stream",
     "text": [
      "okkkk\n",
      "802\n",
      "okkkk\n",
      "803\n",
      "okkkk\n",
      "804\n",
      "okkkk\n",
      "805\n",
      "okkkk\n",
      "enter\n",
      "Scale ->  0 | Confidence Score [0.65925541] \n",
      "\n",
      "Scale ->  0 | Confidence Score [0.42025095] \n",
      "\n",
      "Scale ->  0 | Confidence Score [0.57021866] \n",
      "\n",
      "Scale ->  0 | Confidence Score [0.49326518] \n",
      "\n",
      "Scale ->  0 | Confidence Score [0.627675] \n",
      "\n",
      "Scale ->  0 | Confidence Score [0.6207548] \n",
      "\n"
     ]
    },
    {
     "name": "stderr",
     "output_type": "stream",
     "text": [
      "\r",
      "t:  64%|██████████████████████████████████████████▏                       | 806/1260 [01:34<00:53,  8.56it/s, now=None]"
     ]
    },
    {
     "name": "stdout",
     "output_type": "stream",
     "text": [
      "okkkk\n",
      "807\n",
      "okkkk\n",
      "808\n",
      "okkkk\n",
      "809\n",
      "okkkk\n",
      "810\n",
      "okkkk\n",
      "enter\n",
      "Scale ->  0 | Confidence Score [0.48086049] \n",
      "\n",
      "Scale ->  0 | Confidence Score [0.44905181] \n",
      "\n",
      "Scale ->  0 | Confidence Score [0.60852479] \n",
      "\n",
      "Scale ->  0 | Confidence Score [0.83877386] \n",
      "\n",
      "Scale ->  0 | Confidence Score [0.6862203] \n",
      "\n",
      "Scale ->  0 | Confidence Score [0.63175018] \n",
      "\n",
      "Scale ->  0 | Confidence Score [0.82518078] \n",
      "\n",
      "Scale ->  0 | Confidence Score [0.47294501] \n",
      "\n",
      "Scale ->  0 | Confidence Score [0.44124455] \n",
      "\n"
     ]
    },
    {
     "name": "stderr",
     "output_type": "stream",
     "text": [
      "\r",
      "t:  64%|██████████████████████████████████████████▍                       | 811/1260 [01:35<00:52,  8.58it/s, now=None]"
     ]
    },
    {
     "name": "stdout",
     "output_type": "stream",
     "text": [
      "okkkk\n",
      "812\n",
      "okkkk\n",
      "813\n",
      "okkkk\n",
      "814\n",
      "okkkk\n",
      "815\n",
      "okkkk\n",
      "enter\n",
      "Scale ->  0 | Confidence Score [0.46284195] \n",
      "\n",
      "Scale ->  0 | Confidence Score [0.93379482] \n",
      "\n",
      "Scale ->  0 | Confidence Score [0.48760345] \n",
      "\n",
      "Scale ->  0 | Confidence Score [1.16491567] \n",
      "\n",
      "Scale ->  0 | Confidence Score [0.65667775] \n",
      "\n",
      "Scale ->  0 | Confidence Score [0.44671256] \n",
      "\n",
      "Scale ->  0 | Confidence Score [0.42121729] \n",
      "\n",
      "Scale ->  0 | Confidence Score [0.56502236] \n",
      "\n"
     ]
    },
    {
     "name": "stderr",
     "output_type": "stream",
     "text": [
      "\r",
      "t:  65%|██████████████████████████████████████████▋                       | 816/1260 [01:35<00:51,  8.58it/s, now=None]"
     ]
    },
    {
     "name": "stdout",
     "output_type": "stream",
     "text": [
      "okkkk\n",
      "817\n",
      "okkkk\n",
      "818\n",
      "okkkk\n",
      "819\n",
      "okkkk\n",
      "820\n",
      "okkkk\n",
      "enter\n",
      "Scale ->  0 | Confidence Score [0.59362705] \n",
      "\n",
      "Scale ->  0 | Confidence Score [0.70050723] \n",
      "\n",
      "Scale ->  0 | Confidence Score [0.46524893] \n",
      "\n",
      "Scale ->  0 | Confidence Score [1.07603517] \n",
      "\n",
      "Scale ->  0 | Confidence Score [0.61926769] \n",
      "\n",
      "Scale ->  0 | Confidence Score [0.51951714] \n",
      "\n",
      "Scale ->  0 | Confidence Score [0.40725725] \n",
      "\n",
      "Scale ->  0 | Confidence Score [0.78798085] \n",
      "\n"
     ]
    },
    {
     "name": "stderr",
     "output_type": "stream",
     "text": [
      "\r",
      "t:  65%|███████████████████████████████████████████                       | 821/1260 [01:36<00:51,  8.50it/s, now=None]"
     ]
    },
    {
     "name": "stdout",
     "output_type": "stream",
     "text": [
      "okkkk\n",
      "822\n",
      "okkkk\n",
      "823\n",
      "okkkk\n",
      "824\n",
      "okkkk\n",
      "825\n",
      "okkkk\n",
      "enter\n",
      "Scale ->  0 | Confidence Score [0.44764837] \n",
      "\n",
      "Scale ->  0 | Confidence Score [0.7264271] \n",
      "\n",
      "Scale ->  0 | Confidence Score [0.47187921] \n",
      "\n",
      "Scale ->  0 | Confidence Score [0.62198933] \n",
      "\n",
      "Scale ->  0 | Confidence Score [0.50590919] \n",
      "\n",
      "Scale ->  0 | Confidence Score [0.4438523] \n",
      "\n",
      "Scale ->  0 | Confidence Score [0.53434932] \n",
      "\n",
      "Scale ->  0 | Confidence Score [0.54834042] \n",
      "\n",
      "Scale ->  0 | Confidence Score [0.52515556] \n",
      "\n",
      "Scale ->  0 | Confidence Score [0.53433512] \n",
      "\n"
     ]
    },
    {
     "name": "stderr",
     "output_type": "stream",
     "text": [
      "\r",
      "t:  66%|███████████████████████████████████████████▎                      | 826/1260 [01:37<00:50,  8.54it/s, now=None]"
     ]
    },
    {
     "name": "stdout",
     "output_type": "stream",
     "text": [
      "okkkk\n",
      "827\n",
      "okkkk\n",
      "828\n",
      "okkkk\n",
      "829\n",
      "okkkk\n",
      "830\n",
      "okkkk\n",
      "enter\n",
      "Scale ->  0 | Confidence Score [1.20179507] \n",
      "\n",
      "Scale ->  0 | Confidence Score [0.62455059] \n",
      "\n",
      "Scale ->  0 | Confidence Score [0.64541364] \n",
      "\n",
      "Scale ->  0 | Confidence Score [0.70779037] \n",
      "\n",
      "Scale ->  0 | Confidence Score [0.92135994] \n",
      "\n"
     ]
    },
    {
     "name": "stderr",
     "output_type": "stream",
     "text": [
      "\r",
      "t:  66%|███████████████████████████████████████████▌                      | 831/1260 [01:37<00:50,  8.48it/s, now=None]"
     ]
    },
    {
     "name": "stdout",
     "output_type": "stream",
     "text": [
      "okkkk\n",
      "832\n",
      "okkkk\n",
      "833\n",
      "okkkk\n",
      "834\n",
      "okkkk\n",
      "835\n",
      "okkkk\n",
      "enter\n",
      "Scale ->  0 | Confidence Score [0.7127836] \n",
      "\n",
      "Scale ->  0 | Confidence Score [0.46853902] \n",
      "\n",
      "Scale ->  0 | Confidence Score [0.80906294] \n",
      "\n",
      "Scale ->  0 | Confidence Score [0.4632092] \n",
      "\n",
      "Scale ->  0 | Confidence Score [0.5449701] \n",
      "\n",
      "Scale ->  0 | Confidence Score [0.42290028] \n",
      "\n",
      "Scale ->  0 | Confidence Score [0.4998114] \n",
      "\n",
      "Scale ->  0 | Confidence Score [0.4870537] \n",
      "\n"
     ]
    },
    {
     "name": "stderr",
     "output_type": "stream",
     "text": [
      "\r",
      "t:  66%|███████████████████████████████████████████▊                      | 836/1260 [01:38<00:49,  8.54it/s, now=None]"
     ]
    },
    {
     "name": "stdout",
     "output_type": "stream",
     "text": [
      "okkkk\n",
      "837\n",
      "okkkk\n",
      "838\n",
      "okkkk\n",
      "839\n",
      "okkkk\n",
      "840\n",
      "okkkk\n",
      "enter\n",
      "Scale ->  0 | Confidence Score [0.49218831] \n",
      "\n",
      "Scale ->  0 | Confidence Score [1.02599137] \n",
      "\n",
      "Scale ->  0 | Confidence Score [0.71183854] \n",
      "\n",
      "Scale ->  0 | Confidence Score [0.41606879] \n",
      "\n",
      "Scale ->  0 | Confidence Score [0.4836427] \n",
      "\n"
     ]
    },
    {
     "name": "stderr",
     "output_type": "stream",
     "text": [
      "\r",
      "t:  67%|████████████████████████████████████████████                      | 841/1260 [01:38<00:49,  8.50it/s, now=None]"
     ]
    },
    {
     "name": "stdout",
     "output_type": "stream",
     "text": [
      "okkkk\n",
      "842\n",
      "okkkk\n",
      "843\n",
      "okkkk\n",
      "844\n",
      "okkkk\n",
      "845\n",
      "okkkk\n",
      "enter\n",
      "Scale ->  0 | Confidence Score [0.61200224] \n",
      "\n",
      "Scale ->  0 | Confidence Score [0.54823008] \n",
      "\n",
      "Scale ->  0 | Confidence Score [0.41156097] \n",
      "\n",
      "Scale ->  0 | Confidence Score [0.70156562] \n",
      "\n",
      "Scale ->  0 | Confidence Score [0.72972024] \n",
      "\n",
      "Scale ->  0 | Confidence Score [0.78592314] \n",
      "\n",
      "Scale ->  0 | Confidence Score [0.53296759] \n",
      "\n",
      "Scale ->  0 | Confidence Score [0.48686364] \n",
      "\n",
      "Scale ->  0 | Confidence Score [0.72647413] \n",
      "\n"
     ]
    },
    {
     "name": "stderr",
     "output_type": "stream",
     "text": [
      "\r",
      "t:  67%|████████████████████████████████████████████▎                     | 846/1260 [01:39<00:48,  8.54it/s, now=None]"
     ]
    },
    {
     "name": "stdout",
     "output_type": "stream",
     "text": [
      "okkkk\n",
      "847\n",
      "okkkk\n",
      "848\n",
      "okkkk\n",
      "849\n",
      "okkkk\n",
      "850\n",
      "okkkk\n",
      "enter\n",
      "Scale ->  0 | Confidence Score [0.48750706] \n",
      "\n",
      "Scale ->  0 | Confidence Score [0.86663873] \n",
      "\n",
      "Scale ->  0 | Confidence Score [0.97092718] \n",
      "\n",
      "Scale ->  0 | Confidence Score [0.83827042] \n",
      "\n"
     ]
    },
    {
     "name": "stderr",
     "output_type": "stream",
     "text": [
      "\r",
      "t:  68%|████████████████████████████████████████████▌                     | 851/1260 [01:39<00:47,  8.58it/s, now=None]"
     ]
    },
    {
     "name": "stdout",
     "output_type": "stream",
     "text": [
      "okkkk\n",
      "852\n",
      "okkkk\n",
      "853\n",
      "okkkk\n",
      "854\n",
      "okkkk\n",
      "855\n",
      "okkkk\n",
      "enter\n",
      "Scale ->  0 | Confidence Score [0.74752314] \n",
      "\n",
      "Scale ->  0 | Confidence Score [1.17788153] \n",
      "\n",
      "Scale ->  0 | Confidence Score [1.02518148] \n",
      "\n",
      "Scale ->  0 | Confidence Score [0.55188806] \n",
      "\n",
      "Scale ->  0 | Confidence Score [0.40631794] \n",
      "\n",
      "Scale ->  0 | Confidence Score [1.12618125] \n",
      "\n",
      "Scale ->  0 | Confidence Score [1.00934801] \n",
      "\n"
     ]
    },
    {
     "name": "stderr",
     "output_type": "stream",
     "text": [
      "\r",
      "t:  68%|████████████████████████████████████████████▊                     | 856/1260 [01:40<00:47,  8.56it/s, now=None]"
     ]
    },
    {
     "name": "stdout",
     "output_type": "stream",
     "text": [
      "okkkk\n",
      "857\n",
      "okkkk\n",
      "858\n",
      "okkkk\n",
      "859\n",
      "okkkk\n",
      "860\n",
      "okkkk\n",
      "enter\n",
      "Scale ->  0 | Confidence Score [0.70374336] \n",
      "\n",
      "Scale ->  0 | Confidence Score [0.74713304] \n",
      "\n",
      "Scale ->  0 | Confidence Score [0.95140231] \n",
      "\n",
      "Scale ->  0 | Confidence Score [0.66802081] \n",
      "\n",
      "Scale ->  0 | Confidence Score [0.63660226] \n",
      "\n",
      "Scale ->  0 | Confidence Score [1.05964619] \n",
      "\n",
      "Scale ->  0 | Confidence Score [0.94226466] \n",
      "\n"
     ]
    },
    {
     "name": "stderr",
     "output_type": "stream",
     "text": [
      "\r",
      "t:  68%|█████████████████████████████████████████████                     | 861/1260 [01:41<00:46,  8.56it/s, now=None]"
     ]
    },
    {
     "name": "stdout",
     "output_type": "stream",
     "text": [
      "okkkk\n",
      "862\n",
      "okkkk\n",
      "863\n",
      "okkkk\n",
      "864\n",
      "okkkk\n",
      "865\n",
      "okkkk\n",
      "enter\n",
      "Scale ->  0 | Confidence Score [0.65562517] \n",
      "\n",
      "Scale ->  0 | Confidence Score [0.83999811] \n",
      "\n",
      "Scale ->  0 | Confidence Score [0.62459083] \n",
      "\n",
      "Scale ->  0 | Confidence Score [0.46280379] \n",
      "\n"
     ]
    },
    {
     "name": "stderr",
     "output_type": "stream",
     "text": [
      "\r",
      "t:  69%|█████████████████████████████████████████████▎                    | 866/1260 [01:41<00:45,  8.59it/s, now=None]"
     ]
    },
    {
     "name": "stdout",
     "output_type": "stream",
     "text": [
      "okkkk\n",
      "867\n",
      "okkkk\n",
      "868\n",
      "okkkk\n",
      "869\n",
      "okkkk\n",
      "870\n",
      "okkkk\n",
      "enter\n",
      "Scale ->  0 | Confidence Score [0.42968196] \n",
      "\n",
      "Scale ->  0 | Confidence Score [1.01885028] \n",
      "\n",
      "Scale ->  0 | Confidence Score [0.72215588] \n",
      "\n",
      "Scale ->  0 | Confidence Score [0.48120423] \n",
      "\n"
     ]
    },
    {
     "name": "stderr",
     "output_type": "stream",
     "text": [
      "\r",
      "t:  69%|█████████████████████████████████████████████▌                    | 871/1260 [01:42<00:45,  8.59it/s, now=None]"
     ]
    },
    {
     "name": "stdout",
     "output_type": "stream",
     "text": [
      "okkkk\n",
      "872\n",
      "okkkk\n",
      "873\n",
      "okkkk\n",
      "874\n",
      "okkkk\n",
      "875\n",
      "okkkk\n",
      "enter\n",
      "Scale ->  0 | Confidence Score [0.64398492] \n",
      "\n",
      "Scale ->  0 | Confidence Score [0.61026951] \n",
      "\n",
      "Scale ->  0 | Confidence Score [1.179788] \n",
      "\n",
      "Scale ->  0 | Confidence Score [0.56006209] \n",
      "\n",
      "Scale ->  0 | Confidence Score [0.41830241] \n",
      "\n",
      "Scale ->  0 | Confidence Score [0.53914153] \n",
      "\n"
     ]
    },
    {
     "name": "stderr",
     "output_type": "stream",
     "text": [
      "\r",
      "t:  70%|█████████████████████████████████████████████▉                    | 876/1260 [01:42<00:44,  8.60it/s, now=None]"
     ]
    },
    {
     "name": "stdout",
     "output_type": "stream",
     "text": [
      "okkkk\n",
      "877\n",
      "okkkk\n",
      "878\n",
      "okkkk\n",
      "879\n",
      "okkkk\n",
      "880\n",
      "okkkk\n",
      "enter\n",
      "Scale ->  0 | Confidence Score [0.93513695] \n",
      "\n",
      "Scale ->  0 | Confidence Score [0.64016277] \n",
      "\n",
      "Scale ->  0 | Confidence Score [1.2020166] \n",
      "\n",
      "Scale ->  0 | Confidence Score [0.4445558] \n",
      "\n"
     ]
    },
    {
     "name": "stderr",
     "output_type": "stream",
     "text": [
      "\r",
      "t:  70%|██████████████████████████████████████████████▏                   | 881/1260 [01:43<00:44,  8.61it/s, now=None]"
     ]
    },
    {
     "name": "stdout",
     "output_type": "stream",
     "text": [
      "okkkk\n",
      "882\n",
      "okkkk\n",
      "883\n",
      "okkkk\n",
      "884\n",
      "okkkk\n",
      "885\n",
      "okkkk\n",
      "enter\n",
      "Scale ->  0 | Confidence Score [0.82305649] \n",
      "\n",
      "Scale ->  0 | Confidence Score [0.65203797] \n",
      "\n",
      "Scale ->  0 | Confidence Score [0.45513885] \n",
      "\n",
      "Scale ->  0 | Confidence Score [0.40875867] \n",
      "\n",
      "Scale ->  0 | Confidence Score [1.25682561] \n",
      "\n",
      "Scale ->  0 | Confidence Score [0.81865358] \n",
      "\n",
      "Scale ->  0 | Confidence Score [0.42868379] \n",
      "\n"
     ]
    },
    {
     "name": "stderr",
     "output_type": "stream",
     "text": [
      "\r",
      "t:  70%|██████████████████████████████████████████████▍                   | 886/1260 [01:44<00:43,  8.63it/s, now=None]"
     ]
    },
    {
     "name": "stdout",
     "output_type": "stream",
     "text": [
      "okkkk\n",
      "887\n",
      "okkkk\n",
      "888\n",
      "okkkk\n",
      "889\n",
      "okkkk\n",
      "890\n",
      "okkkk\n",
      "enter\n",
      "Scale ->  0 | Confidence Score [0.93899267] \n",
      "\n",
      "Scale ->  0 | Confidence Score [0.53014904] \n",
      "\n",
      "Scale ->  0 | Confidence Score [0.92495206] \n",
      "\n",
      "Scale ->  0 | Confidence Score [0.43523102] \n",
      "\n",
      "Scale ->  0 | Confidence Score [0.50099488] \n",
      "\n",
      "Scale ->  0 | Confidence Score [0.50809423] \n",
      "\n"
     ]
    },
    {
     "name": "stderr",
     "output_type": "stream",
     "text": [
      "\r",
      "t:  71%|██████████████████████████████████████████████▋                   | 891/1260 [01:44<00:42,  8.63it/s, now=None]"
     ]
    },
    {
     "name": "stdout",
     "output_type": "stream",
     "text": [
      "okkkk\n",
      "892\n",
      "okkkk\n",
      "893\n",
      "okkkk\n",
      "894\n",
      "okkkk\n",
      "895\n",
      "okkkk\n",
      "enter\n",
      "Scale ->  0 | Confidence Score [1.07872955] \n",
      "\n",
      "Scale ->  0 | Confidence Score [0.76145261] \n",
      "\n",
      "Scale ->  0 | Confidence Score [1.12840605] \n",
      "\n",
      "Scale ->  0 | Confidence Score [0.93725004] \n",
      "\n",
      "Scale ->  0 | Confidence Score [0.50595996] \n",
      "\n",
      "Scale ->  0 | Confidence Score [0.52902567] \n",
      "\n",
      "Scale ->  0 | Confidence Score [0.45778061] \n",
      "\n"
     ]
    },
    {
     "name": "stderr",
     "output_type": "stream",
     "text": [
      "\r",
      "t:  71%|██████████████████████████████████████████████▉                   | 896/1260 [01:45<00:42,  8.64it/s, now=None]"
     ]
    },
    {
     "name": "stdout",
     "output_type": "stream",
     "text": [
      "okkkk\n",
      "897\n",
      "okkkk\n",
      "898\n",
      "okkkk\n",
      "899\n",
      "okkkk\n",
      "900\n",
      "okkkk\n",
      "enter\n",
      "Scale ->  0 | Confidence Score [0.81469863] \n",
      "\n",
      "Scale ->  0 | Confidence Score [0.47339732] \n",
      "\n",
      "Scale ->  0 | Confidence Score [1.01512377] \n",
      "\n",
      "Scale ->  0 | Confidence Score [0.66672933] \n",
      "\n"
     ]
    },
    {
     "name": "stderr",
     "output_type": "stream",
     "text": [
      "\r",
      "t:  72%|███████████████████████████████████████████████▏                  | 901/1260 [01:45<00:41,  8.65it/s, now=None]"
     ]
    },
    {
     "name": "stdout",
     "output_type": "stream",
     "text": [
      "okkkk\n",
      "902\n",
      "okkkk\n",
      "903\n",
      "okkkk\n",
      "904\n",
      "okkkk\n",
      "905\n",
      "okkkk\n",
      "enter\n",
      "Scale ->  0 | Confidence Score [0.68294332] \n",
      "\n",
      "Scale ->  0 | Confidence Score [0.43806763] \n",
      "\n",
      "Scale ->  0 | Confidence Score [1.44703155] \n",
      "\n",
      "Scale ->  0 | Confidence Score [0.86075023] \n",
      "\n"
     ]
    },
    {
     "name": "stderr",
     "output_type": "stream",
     "text": [
      "\r",
      "t:  72%|███████████████████████████████████████████████▍                  | 906/1260 [01:46<00:40,  8.67it/s, now=None]"
     ]
    },
    {
     "name": "stdout",
     "output_type": "stream",
     "text": [
      "okkkk\n",
      "907\n",
      "okkkk\n",
      "908\n",
      "okkkk\n",
      "909\n",
      "okkkk\n",
      "910\n",
      "okkkk\n",
      "enter\n",
      "Scale ->  0 | Confidence Score [0.46317854] \n",
      "\n",
      "Scale ->  0 | Confidence Score [0.44554984] \n",
      "\n",
      "Scale ->  0 | Confidence Score [0.67549402] \n",
      "\n",
      "Scale ->  0 | Confidence Score [1.44600044] \n",
      "\n",
      "Scale ->  0 | Confidence Score [0.71469458] \n",
      "\n"
     ]
    },
    {
     "name": "stderr",
     "output_type": "stream",
     "text": [
      "\r",
      "t:  72%|███████████████████████████████████████████████▋                  | 911/1260 [01:46<00:40,  8.59it/s, now=None]"
     ]
    },
    {
     "name": "stdout",
     "output_type": "stream",
     "text": [
      "okkkk\n",
      "912\n",
      "okkkk\n",
      "913\n",
      "okkkk\n",
      "914\n",
      "okkkk\n",
      "915\n",
      "okkkk\n",
      "enter\n",
      "Scale ->  0 | Confidence Score [0.43235638] \n",
      "\n",
      "Scale ->  0 | Confidence Score [0.43001708] \n",
      "\n",
      "Scale ->  0 | Confidence Score [0.48449113] \n",
      "\n",
      "Scale ->  0 | Confidence Score [1.21593312] \n",
      "\n",
      "Scale ->  0 | Confidence Score [0.46990906] \n",
      "\n",
      "Scale ->  0 | Confidence Score [0.60212796] \n",
      "\n"
     ]
    },
    {
     "name": "stderr",
     "output_type": "stream",
     "text": [
      "\r",
      "t:  73%|███████████████████████████████████████████████▉                  | 916/1260 [01:47<00:40,  8.60it/s, now=None]"
     ]
    },
    {
     "name": "stdout",
     "output_type": "stream",
     "text": [
      "okkkk\n",
      "917\n",
      "okkkk\n",
      "918\n",
      "okkkk\n",
      "919\n",
      "okkkk\n",
      "920\n",
      "okkkk\n",
      "enter\n",
      "Scale ->  0 | Confidence Score [0.60752873] \n",
      "\n",
      "Scale ->  0 | Confidence Score [0.71762838] \n",
      "\n",
      "Scale ->  0 | Confidence Score [0.43832855] \n",
      "\n",
      "Scale ->  0 | Confidence Score [1.18537765] \n",
      "\n",
      "Scale ->  0 | Confidence Score [0.70777078] \n",
      "\n"
     ]
    },
    {
     "name": "stderr",
     "output_type": "stream",
     "text": [
      "\r",
      "t:  73%|████████████████████████████████████████████████▏                 | 921/1260 [01:48<00:39,  8.62it/s, now=None]"
     ]
    },
    {
     "name": "stdout",
     "output_type": "stream",
     "text": [
      "okkkk\n",
      "922\n",
      "okkkk\n",
      "923\n",
      "okkkk\n",
      "924\n",
      "okkkk\n",
      "925\n",
      "okkkk\n",
      "enter\n",
      "Scale ->  0 | Confidence Score [0.56852133] \n",
      "\n",
      "Scale ->  0 | Confidence Score [0.6520949] \n",
      "\n",
      "Scale ->  0 | Confidence Score [0.41939166] \n",
      "\n",
      "Scale ->  0 | Confidence Score [0.88628594] \n",
      "\n",
      "Scale ->  0 | Confidence Score [0.82642174] \n",
      "\n"
     ]
    },
    {
     "name": "stderr",
     "output_type": "stream",
     "text": [
      "\r",
      "t:  73%|████████████████████████████████████████████████▌                 | 926/1260 [01:48<00:38,  8.62it/s, now=None]"
     ]
    },
    {
     "name": "stdout",
     "output_type": "stream",
     "text": [
      "okkkk\n",
      "927\n",
      "okkkk\n",
      "928\n",
      "okkkk\n",
      "929\n",
      "okkkk\n",
      "930\n",
      "okkkk\n",
      "enter\n",
      "Scale ->  0 | Confidence Score [0.43730874] \n",
      "\n",
      "Scale ->  0 | Confidence Score [0.48307327] \n",
      "\n",
      "Scale ->  0 | Confidence Score [0.4808746] \n",
      "\n",
      "Scale ->  0 | Confidence Score [0.57339923] \n",
      "\n",
      "Scale ->  0 | Confidence Score [1.24849139] \n",
      "\n",
      "Scale ->  0 | Confidence Score [0.61319157] \n",
      "\n"
     ]
    },
    {
     "name": "stderr",
     "output_type": "stream",
     "text": [
      "\r",
      "t:  74%|████████████████████████████████████████████████▊                 | 931/1260 [01:49<00:38,  8.58it/s, now=None]"
     ]
    },
    {
     "name": "stdout",
     "output_type": "stream",
     "text": [
      "okkkk\n",
      "932\n",
      "okkkk\n",
      "933\n",
      "okkkk\n",
      "934\n",
      "okkkk\n",
      "935\n",
      "okkkk\n",
      "enter\n",
      "Scale ->  0 | Confidence Score [0.63097497] \n",
      "\n",
      "Scale ->  0 | Confidence Score [0.60651496] \n",
      "\n",
      "Scale ->  0 | Confidence Score [0.64438686] \n",
      "\n",
      "Scale ->  0 | Confidence Score [0.51906326] \n",
      "\n",
      "Scale ->  0 | Confidence Score [1.25211349] \n",
      "\n",
      "Scale ->  0 | Confidence Score [0.62816024] \n",
      "\n",
      "Scale ->  0 | Confidence Score [0.45036272] \n",
      "\n",
      "Scale ->  0 | Confidence Score [0.60685552] \n",
      "\n"
     ]
    },
    {
     "name": "stderr",
     "output_type": "stream",
     "text": [
      "\r",
      "t:  74%|█████████████████████████████████████████████████                 | 936/1260 [01:49<00:38,  8.33it/s, now=None]"
     ]
    },
    {
     "name": "stdout",
     "output_type": "stream",
     "text": [
      "okkkk\n",
      "937\n",
      "okkkk\n",
      "938\n",
      "okkkk\n",
      "939\n",
      "okkkk\n",
      "940\n",
      "okkkk\n",
      "enter\n",
      "Scale ->  0 | Confidence Score [0.75083745] \n",
      "\n",
      "Scale ->  0 | Confidence Score [0.57107207] \n",
      "\n",
      "Scale ->  0 | Confidence Score [0.46272848] \n",
      "\n",
      "Scale ->  0 | Confidence Score [0.44887956] \n",
      "\n",
      "Scale ->  0 | Confidence Score [0.59034875] \n",
      "\n",
      "Scale ->  0 | Confidence Score [1.68263826] \n",
      "\n",
      "Scale ->  0 | Confidence Score [0.72744433] \n",
      "\n"
     ]
    },
    {
     "name": "stderr",
     "output_type": "stream",
     "text": [
      "\r",
      "t:  75%|█████████████████████████████████████████████████▎                | 941/1260 [01:50<00:38,  8.35it/s, now=None]"
     ]
    },
    {
     "name": "stdout",
     "output_type": "stream",
     "text": [
      "okkkk\n",
      "942\n",
      "okkkk\n",
      "943\n",
      "okkkk\n",
      "944\n",
      "okkkk\n",
      "945\n",
      "okkkk\n",
      "enter\n",
      "Scale ->  0 | Confidence Score [0.77469072] \n",
      "\n",
      "Scale ->  0 | Confidence Score [0.43339726] \n",
      "\n",
      "Scale ->  0 | Confidence Score [0.42801375] \n",
      "\n",
      "Scale ->  0 | Confidence Score [0.5664286] \n",
      "\n",
      "Scale ->  0 | Confidence Score [0.41340704] \n",
      "\n",
      "Scale ->  0 | Confidence Score [0.43682569] \n",
      "\n",
      "Scale ->  0 | Confidence Score [1.67470034] \n",
      "\n",
      "Scale ->  0 | Confidence Score [0.75985301] \n",
      "\n",
      "Scale ->  0 | Confidence Score [0.51498408] \n",
      "\n"
     ]
    },
    {
     "name": "stderr",
     "output_type": "stream",
     "text": [
      "\r",
      "t:  75%|█████████████████████████████████████████████████▌                | 946/1260 [01:51<00:37,  8.44it/s, now=None]"
     ]
    },
    {
     "name": "stdout",
     "output_type": "stream",
     "text": [
      "okkkk\n",
      "947\n",
      "okkkk\n",
      "948\n",
      "okkkk\n",
      "949\n",
      "okkkk\n",
      "950\n",
      "okkkk\n",
      "enter\n",
      "Scale ->  0 | Confidence Score [0.99758454] \n",
      "\n",
      "Scale ->  0 | Confidence Score [0.60068883] \n",
      "\n",
      "Scale ->  0 | Confidence Score [0.60909202] \n",
      "\n",
      "Scale ->  0 | Confidence Score [0.88012773] \n",
      "\n",
      "Scale ->  0 | Confidence Score [1.71189708] \n",
      "\n",
      "Scale ->  0 | Confidence Score [0.44584628] \n",
      "\n"
     ]
    },
    {
     "name": "stderr",
     "output_type": "stream",
     "text": [
      "\r",
      "t:  75%|█████████████████████████████████████████████████▊                | 951/1260 [01:51<00:36,  8.40it/s, now=None]"
     ]
    },
    {
     "name": "stdout",
     "output_type": "stream",
     "text": [
      "okkkk\n",
      "952\n",
      "okkkk\n",
      "953\n",
      "okkkk\n",
      "954\n",
      "okkkk\n",
      "955\n",
      "okkkk\n",
      "enter\n",
      "Scale ->  0 | Confidence Score [1.0605472] \n",
      "\n",
      "Scale ->  0 | Confidence Score [0.80536332] \n",
      "\n",
      "Scale ->  0 | Confidence Score [0.42742353] \n",
      "\n",
      "Scale ->  0 | Confidence Score [0.48419099] \n",
      "\n",
      "Scale ->  0 | Confidence Score [1.32105846] \n",
      "\n",
      "Scale ->  0 | Confidence Score [0.45057152] \n",
      "\n"
     ]
    },
    {
     "name": "stderr",
     "output_type": "stream",
     "text": [
      "\r",
      "t:  76%|██████████████████████████████████████████████████                | 956/1260 [01:52<00:35,  8.46it/s, now=None]"
     ]
    },
    {
     "name": "stdout",
     "output_type": "stream",
     "text": [
      "okkkk\n",
      "957\n",
      "okkkk\n",
      "958\n",
      "okkkk\n",
      "959\n",
      "okkkk\n",
      "960\n",
      "okkkk\n",
      "enter\n",
      "Scale ->  0 | Confidence Score [1.12900944] \n",
      "\n",
      "Scale ->  0 | Confidence Score [0.43548332] \n",
      "\n",
      "Scale ->  0 | Confidence Score [0.86280647] \n",
      "\n",
      "Scale ->  0 | Confidence Score [1.40520875] \n",
      "\n",
      "Scale ->  0 | Confidence Score [0.63745667] \n",
      "\n",
      "Scale ->  0 | Confidence Score [0.49997393] \n",
      "\n",
      "Scale ->  0 | Confidence Score [0.62173522] \n",
      "\n"
     ]
    },
    {
     "name": "stderr",
     "output_type": "stream",
     "text": [
      "\r",
      "t:  76%|██████████████████████████████████████████████████▎               | 961/1260 [01:52<00:35,  8.52it/s, now=None]"
     ]
    },
    {
     "name": "stdout",
     "output_type": "stream",
     "text": [
      "okkkk\n",
      "962\n",
      "okkkk\n",
      "963\n",
      "okkkk\n",
      "964\n",
      "okkkk\n",
      "965\n",
      "okkkk\n",
      "enter\n",
      "Scale ->  0 | Confidence Score [1.11437705] \n",
      "\n",
      "Scale ->  0 | Confidence Score [0.48359571] \n",
      "\n",
      "Scale ->  0 | Confidence Score [0.59148194] \n",
      "\n",
      "Scale ->  0 | Confidence Score [0.63522119] \n",
      "\n",
      "Scale ->  0 | Confidence Score [1.29184437] \n",
      "\n",
      "Scale ->  0 | Confidence Score [0.54709264] \n",
      "\n"
     ]
    },
    {
     "name": "stderr",
     "output_type": "stream",
     "text": [
      "\r",
      "t:  77%|██████████████████████████████████████████████████▌               | 966/1260 [01:53<00:34,  8.55it/s, now=None]"
     ]
    },
    {
     "name": "stdout",
     "output_type": "stream",
     "text": [
      "okkkk\n",
      "967\n",
      "okkkk\n",
      "968\n",
      "okkkk\n",
      "969\n",
      "okkkk\n",
      "970\n",
      "okkkk\n",
      "enter\n",
      "Scale ->  0 | Confidence Score [1.16985855] \n",
      "\n",
      "Scale ->  0 | Confidence Score [0.50709005] \n",
      "\n",
      "Scale ->  0 | Confidence Score [0.69695598] \n",
      "\n",
      "Scale ->  0 | Confidence Score [0.52173477] \n",
      "\n"
     ]
    },
    {
     "name": "stderr",
     "output_type": "stream",
     "text": [
      "\r",
      "t:  77%|██████████████████████████████████████████████████▊               | 971/1260 [01:54<00:34,  8.48it/s, now=None]"
     ]
    },
    {
     "name": "stdout",
     "output_type": "stream",
     "text": [
      "okkkk\n",
      "972\n",
      "okkkk\n",
      "973\n",
      "okkkk\n",
      "974\n",
      "okkkk\n",
      "975\n",
      "okkkk\n",
      "enter\n",
      "Scale ->  0 | Confidence Score [1.1562183] \n",
      "\n",
      "Scale ->  0 | Confidence Score [0.62845313] \n",
      "\n",
      "Scale ->  0 | Confidence Score [0.53659271] \n",
      "\n",
      "Scale ->  0 | Confidence Score [0.88696875] \n",
      "\n",
      "Scale ->  0 | Confidence Score [0.55056056] \n",
      "\n",
      "Scale ->  0 | Confidence Score [0.74957121] \n",
      "\n"
     ]
    },
    {
     "name": "stderr",
     "output_type": "stream",
     "text": [
      "\r",
      "t:  77%|███████████████████████████████████████████████████               | 976/1260 [01:54<00:33,  8.50it/s, now=None]"
     ]
    },
    {
     "name": "stdout",
     "output_type": "stream",
     "text": [
      "okkkk\n",
      "977\n",
      "okkkk\n",
      "978\n",
      "okkkk\n",
      "979\n",
      "okkkk\n",
      "980\n",
      "okkkk\n",
      "enter\n",
      "Scale ->  0 | Confidence Score [0.62666289] \n",
      "\n",
      "Scale ->  0 | Confidence Score [0.43436111] \n",
      "\n",
      "Scale ->  0 | Confidence Score [0.86730076] \n",
      "\n",
      "Scale ->  0 | Confidence Score [0.48274481] \n",
      "\n"
     ]
    },
    {
     "name": "stderr",
     "output_type": "stream",
     "text": [
      "\r",
      "t:  78%|███████████████████████████████████████████████████▍              | 981/1260 [01:55<00:32,  8.53it/s, now=None]"
     ]
    },
    {
     "name": "stdout",
     "output_type": "stream",
     "text": [
      "okkkk\n",
      "982\n",
      "okkkk\n",
      "983\n",
      "okkkk\n",
      "984\n",
      "okkkk\n",
      "985\n",
      "okkkk\n",
      "enter\n",
      "Scale ->  0 | Confidence Score [0.73001389] \n",
      "\n",
      "Scale ->  0 | Confidence Score [0.50753375] \n",
      "\n",
      "Scale ->  0 | Confidence Score [0.41208521] \n",
      "\n",
      "Scale ->  0 | Confidence Score [0.56975789] \n",
      "\n",
      "Scale ->  0 | Confidence Score [0.51607623] \n",
      "\n"
     ]
    },
    {
     "name": "stderr",
     "output_type": "stream",
     "text": [
      "\r",
      "t:  78%|███████████████████████████████████████████████████▋              | 986/1260 [01:55<00:31,  8.57it/s, now=None]"
     ]
    },
    {
     "name": "stdout",
     "output_type": "stream",
     "text": [
      "okkkk\n",
      "987\n",
      "okkkk\n",
      "988\n",
      "okkkk\n",
      "989\n",
      "okkkk\n",
      "990\n",
      "okkkk\n",
      "enter\n",
      "Scale ->  0 | Confidence Score [0.46135889] \n",
      "\n",
      "Scale ->  0 | Confidence Score [0.45493749] \n",
      "\n",
      "Scale ->  0 | Confidence Score [0.72299673] \n",
      "\n",
      "Scale ->  0 | Confidence Score [0.56678798] \n",
      "\n"
     ]
    },
    {
     "name": "stderr",
     "output_type": "stream",
     "text": [
      "\r",
      "t:  79%|███████████████████████████████████████████████████▉              | 991/1260 [01:56<00:31,  8.51it/s, now=None]"
     ]
    },
    {
     "name": "stdout",
     "output_type": "stream",
     "text": [
      "okkkk\n",
      "992\n",
      "okkkk\n",
      "993\n",
      "okkkk\n",
      "994\n",
      "okkkk\n",
      "995\n",
      "okkkk\n",
      "enter\n",
      "Scale ->  0 | Confidence Score [0.81551444] \n",
      "\n",
      "Scale ->  0 | Confidence Score [0.44674472] \n",
      "\n",
      "Scale ->  0 | Confidence Score [0.51989103] \n",
      "\n",
      "Scale ->  0 | Confidence Score [0.46603687] \n",
      "\n"
     ]
    },
    {
     "name": "stderr",
     "output_type": "stream",
     "text": [
      "\r",
      "t:  79%|████████████████████████████████████████████████████▏             | 996/1260 [01:56<00:30,  8.56it/s, now=None]"
     ]
    },
    {
     "name": "stdout",
     "output_type": "stream",
     "text": [
      "okkkk\n",
      "997\n",
      "okkkk\n",
      "998\n",
      "okkkk\n",
      "999\n",
      "okkkk\n",
      "1000\n",
      "okkkk\n",
      "enter\n",
      "Scale ->  0 | Confidence Score [0.74667629] \n",
      "\n",
      "Scale ->  0 | Confidence Score [0.55937566] \n",
      "\n",
      "Scale ->  0 | Confidence Score [0.71383914] \n",
      "\n",
      "Scale ->  0 | Confidence Score [0.82382401] \n",
      "\n"
     ]
    },
    {
     "name": "stderr",
     "output_type": "stream",
     "text": [
      "\r",
      "t:  79%|███████████████████████████████████████████████████▋             | 1001/1260 [01:57<00:30,  8.61it/s, now=None]"
     ]
    },
    {
     "name": "stdout",
     "output_type": "stream",
     "text": [
      "okkkk\n",
      "1002\n",
      "okkkk\n",
      "1003\n",
      "okkkk\n",
      "1004\n",
      "okkkk\n",
      "1005\n",
      "okkkk\n",
      "enter\n",
      "Scale ->  0 | Confidence Score [0.51347516] \n",
      "\n",
      "Scale ->  0 | Confidence Score [0.43396445] \n",
      "\n"
     ]
    },
    {
     "name": "stderr",
     "output_type": "stream",
     "text": [
      "\r",
      "t:  80%|███████████████████████████████████████████████████▉             | 1006/1260 [01:58<00:29,  8.64it/s, now=None]"
     ]
    },
    {
     "name": "stdout",
     "output_type": "stream",
     "text": [
      "okkkk\n",
      "1007\n",
      "okkkk\n",
      "1008\n",
      "okkkk\n",
      "1009\n",
      "okkkk\n",
      "1010\n",
      "okkkk\n",
      "enter\n",
      "Scale ->  0 | Confidence Score [0.5233958] \n",
      "\n",
      "Scale ->  0 | Confidence Score [0.46875195] \n",
      "\n"
     ]
    },
    {
     "name": "stderr",
     "output_type": "stream",
     "text": [
      "\r",
      "t:  80%|████████████████████████████████████████████████████▏            | 1011/1260 [01:58<00:28,  8.64it/s, now=None]"
     ]
    },
    {
     "name": "stdout",
     "output_type": "stream",
     "text": [
      "okkkk\n",
      "1012\n",
      "okkkk\n",
      "1013\n",
      "okkkk\n",
      "1014\n",
      "okkkk\n",
      "1015\n",
      "okkkk\n",
      "enter\n",
      "Scale ->  0 | Confidence Score [0.67863911] \n",
      "\n",
      "Scale ->  0 | Confidence Score [0.53679786] \n",
      "\n"
     ]
    },
    {
     "name": "stderr",
     "output_type": "stream",
     "text": [
      "\r",
      "t:  81%|████████████████████████████████████████████████████▍            | 1016/1260 [01:59<00:28,  8.65it/s, now=None]"
     ]
    },
    {
     "name": "stdout",
     "output_type": "stream",
     "text": [
      "okkkk\n",
      "1017\n",
      "okkkk\n",
      "1018\n",
      "okkkk\n",
      "1019\n",
      "okkkk\n",
      "1020\n",
      "okkkk\n",
      "enter\n",
      "Scale ->  0 | Confidence Score [0.92231024] \n",
      "\n",
      "Scale ->  0 | Confidence Score [0.57749351] \n",
      "\n",
      "Scale ->  0 | Confidence Score [0.83899392] \n",
      "\n"
     ]
    },
    {
     "name": "stderr",
     "output_type": "stream",
     "text": [
      "\r",
      "t:  81%|████████████████████████████████████████████████████▋            | 1021/1260 [01:59<00:27,  8.65it/s, now=None]"
     ]
    },
    {
     "name": "stdout",
     "output_type": "stream",
     "text": [
      "okkkk\n",
      "1022\n",
      "okkkk\n",
      "1023\n",
      "okkkk\n",
      "1024\n",
      "okkkk\n",
      "1025\n",
      "okkkk\n",
      "enter\n",
      "Scale ->  0 | Confidence Score [0.85070053] \n",
      "\n",
      "Scale ->  0 | Confidence Score [0.58334812] \n",
      "\n"
     ]
    },
    {
     "name": "stderr",
     "output_type": "stream",
     "text": [
      "\r",
      "t:  81%|████████████████████████████████████████████████████▉            | 1026/1260 [02:00<00:27,  8.66it/s, now=None]"
     ]
    },
    {
     "name": "stdout",
     "output_type": "stream",
     "text": [
      "okkkk\n",
      "1027\n",
      "okkkk\n",
      "1028\n",
      "okkkk\n",
      "1029\n",
      "okkkk\n",
      "1030\n",
      "okkkk\n",
      "enter\n",
      "Scale ->  0 | Confidence Score [0.53674207] \n",
      "\n",
      "Scale ->  0 | Confidence Score [0.86865737] \n",
      "\n",
      "Scale ->  0 | Confidence Score [0.42558722] \n",
      "\n"
     ]
    },
    {
     "name": "stderr",
     "output_type": "stream",
     "text": [
      "\r",
      "t:  82%|█████████████████████████████████████████████████████▏           | 1031/1260 [02:00<00:26,  8.65it/s, now=None]"
     ]
    },
    {
     "name": "stdout",
     "output_type": "stream",
     "text": [
      "okkkk\n",
      "1032\n",
      "okkkk\n",
      "1033\n",
      "okkkk\n",
      "1034\n",
      "okkkk\n",
      "1035\n",
      "okkkk\n",
      "enter\n",
      "Scale ->  0 | Confidence Score [0.50863259] \n",
      "\n",
      "Scale ->  0 | Confidence Score [0.57798866] \n",
      "\n",
      "Scale ->  0 | Confidence Score [0.46468223] \n",
      "\n",
      "Scale ->  0 | Confidence Score [0.4284475] \n",
      "\n",
      "Scale ->  0 | Confidence Score [0.63209694] \n",
      "\n"
     ]
    },
    {
     "name": "stderr",
     "output_type": "stream",
     "text": [
      "\r",
      "t:  82%|█████████████████████████████████████████████████████▍           | 1036/1260 [02:01<00:26,  8.56it/s, now=None]"
     ]
    },
    {
     "name": "stdout",
     "output_type": "stream",
     "text": [
      "okkkk\n",
      "1037\n",
      "okkkk\n",
      "1038\n",
      "okkkk\n",
      "1039\n",
      "okkkk\n",
      "1040\n",
      "okkkk\n",
      "enter\n",
      "Scale ->  0 | Confidence Score [0.75966091] \n",
      "\n",
      "Scale ->  0 | Confidence Score [0.69888682] \n",
      "\n"
     ]
    },
    {
     "name": "stderr",
     "output_type": "stream",
     "text": [
      "\r",
      "t:  83%|█████████████████████████████████████████████████████▋           | 1041/1260 [02:02<00:25,  8.50it/s, now=None]"
     ]
    },
    {
     "name": "stdout",
     "output_type": "stream",
     "text": [
      "okkkk\n",
      "1042\n",
      "okkkk\n",
      "1043\n",
      "okkkk\n",
      "1044\n",
      "okkkk\n",
      "1045\n",
      "okkkk\n",
      "enter\n",
      "Scale ->  0 | Confidence Score [0.89672282] \n",
      "\n",
      "Scale ->  0 | Confidence Score [1.05562207] \n",
      "\n",
      "Scale ->  0 | Confidence Score [0.44001676] \n",
      "\n",
      "Scale ->  0 | Confidence Score [0.46078] \n",
      "\n",
      "Scale ->  0 | Confidence Score [0.50485718] \n",
      "\n",
      "Scale ->  0 | Confidence Score [0.75133999] \n",
      "\n"
     ]
    },
    {
     "name": "stderr",
     "output_type": "stream",
     "text": [
      "\r",
      "t:  83%|█████████████████████████████████████████████████████▉           | 1046/1260 [02:02<00:25,  8.42it/s, now=None]"
     ]
    },
    {
     "name": "stdout",
     "output_type": "stream",
     "text": [
      "okkkk\n",
      "1047\n",
      "okkkk\n",
      "1048\n",
      "okkkk\n",
      "1049\n",
      "okkkk\n",
      "1050\n",
      "okkkk\n",
      "enter\n",
      "Scale ->  0 | Confidence Score [0.69384624] \n",
      "\n",
      "Scale ->  0 | Confidence Score [0.7210006] \n",
      "\n",
      "Scale ->  0 | Confidence Score [0.68184281] \n",
      "\n",
      "Scale ->  0 | Confidence Score [0.50586906] \n",
      "\n",
      "Scale ->  0 | Confidence Score [0.73622034] \n",
      "\n",
      "Scale ->  0 | Confidence Score [0.4265887] \n",
      "\n"
     ]
    },
    {
     "name": "stderr",
     "output_type": "stream",
     "text": [
      "\r",
      "t:  83%|██████████████████████████████████████████████████████▏          | 1051/1260 [02:03<00:24,  8.37it/s, now=None]"
     ]
    },
    {
     "name": "stdout",
     "output_type": "stream",
     "text": [
      "okkkk\n",
      "1052\n",
      "okkkk\n",
      "1053\n",
      "okkkk\n",
      "1054\n",
      "okkkk\n",
      "1055\n",
      "okkkk\n",
      "enter\n",
      "Scale ->  0 | Confidence Score [0.41267886] \n",
      "\n",
      "Scale ->  0 | Confidence Score [0.52331826] \n",
      "\n",
      "Scale ->  0 | Confidence Score [0.78668007] \n",
      "\n",
      "Scale ->  0 | Confidence Score [0.41784122] \n",
      "\n"
     ]
    },
    {
     "name": "stderr",
     "output_type": "stream",
     "text": [
      "\r",
      "t:  84%|██████████████████████████████████████████████████████▍          | 1056/1260 [02:03<00:24,  8.40it/s, now=None]"
     ]
    },
    {
     "name": "stdout",
     "output_type": "stream",
     "text": [
      "okkkk\n",
      "1057\n",
      "okkkk\n",
      "1058\n",
      "okkkk\n",
      "1059\n",
      "okkkk\n",
      "1060\n",
      "okkkk\n",
      "enter\n",
      "Scale ->  0 | Confidence Score [0.6253286] \n",
      "\n",
      "Scale ->  0 | Confidence Score [0.91596739] \n",
      "\n",
      "Scale ->  0 | Confidence Score [0.59417568] \n",
      "\n"
     ]
    },
    {
     "name": "stderr",
     "output_type": "stream",
     "text": [
      "\r",
      "t:  84%|██████████████████████████████████████████████████████▋          | 1061/1260 [02:04<00:23,  8.33it/s, now=None]"
     ]
    },
    {
     "name": "stdout",
     "output_type": "stream",
     "text": [
      "okkkk\n",
      "1062\n",
      "okkkk\n",
      "1063\n",
      "okkkk\n",
      "1064\n",
      "okkkk\n",
      "1065\n",
      "okkkk\n",
      "enter\n",
      "Scale ->  0 | Confidence Score [0.72146728] \n",
      "\n",
      "Scale ->  0 | Confidence Score [0.59133927] \n",
      "\n",
      "Scale ->  0 | Confidence Score [0.48107844] \n",
      "\n",
      "Scale ->  0 | Confidence Score [0.55824686] \n",
      "\n",
      "Scale ->  0 | Confidence Score [0.44453022] \n",
      "\n"
     ]
    },
    {
     "name": "stderr",
     "output_type": "stream",
     "text": [
      "\r",
      "t:  85%|██████████████████████████████████████████████████████▉          | 1066/1260 [02:05<00:23,  8.25it/s, now=None]"
     ]
    },
    {
     "name": "stdout",
     "output_type": "stream",
     "text": [
      "okkkk\n",
      "1067\n",
      "okkkk\n",
      "1068\n",
      "okkkk\n",
      "1069\n",
      "okkkk\n",
      "1070\n",
      "okkkk\n",
      "enter\n",
      "Scale ->  0 | Confidence Score [0.5807294] \n",
      "\n",
      "Scale ->  0 | Confidence Score [0.4030426] \n",
      "\n",
      "Scale ->  0 | Confidence Score [0.73296242] \n",
      "\n",
      "Scale ->  0 | Confidence Score [0.67195871] \n",
      "\n"
     ]
    },
    {
     "name": "stderr",
     "output_type": "stream",
     "text": [
      "\r",
      "t:  85%|███████████████████████████████████████████████████████▎         | 1071/1260 [02:05<00:24,  7.72it/s, now=None]"
     ]
    },
    {
     "name": "stdout",
     "output_type": "stream",
     "text": [
      "okkkk\n",
      "1072\n",
      "okkkk\n",
      "1073\n",
      "okkkk\n",
      "1074\n",
      "okkkk\n",
      "1075\n",
      "okkkk\n",
      "enter\n",
      "Scale ->  0 | Confidence Score [0.44725163] \n",
      "\n",
      "Scale ->  0 | Confidence Score [0.4200869] \n",
      "\n",
      "Scale ->  0 | Confidence Score [0.57966225] \n",
      "\n",
      "Scale ->  0 | Confidence Score [0.41097144] \n",
      "\n",
      "Scale ->  0 | Confidence Score [0.90494908] \n",
      "\n",
      "Scale ->  0 | Confidence Score [0.78452416] \n",
      "\n"
     ]
    },
    {
     "name": "stderr",
     "output_type": "stream",
     "text": [
      "\r",
      "t:  85%|███████████████████████████████████████████████████████▌         | 1076/1260 [02:06<00:23,  7.85it/s, now=None]"
     ]
    },
    {
     "name": "stdout",
     "output_type": "stream",
     "text": [
      "okkkk\n",
      "1077\n",
      "okkkk\n",
      "1078\n",
      "okkkk\n",
      "1079\n",
      "okkkk\n",
      "1080\n",
      "okkkk\n",
      "enter\n",
      "Scale ->  0 | Confidence Score [0.41933472] \n",
      "\n",
      "Scale ->  0 | Confidence Score [0.46401593] \n",
      "\n",
      "Scale ->  0 | Confidence Score [0.74490368] \n",
      "\n",
      "Scale ->  0 | Confidence Score [0.93116135] \n",
      "\n"
     ]
    },
    {
     "name": "stderr",
     "output_type": "stream",
     "text": [
      "\r",
      "t:  86%|███████████████████████████████████████████████████████▊         | 1081/1260 [02:07<00:22,  7.98it/s, now=None]"
     ]
    },
    {
     "name": "stdout",
     "output_type": "stream",
     "text": [
      "okkkk\n",
      "1082\n",
      "okkkk\n",
      "1083\n",
      "okkkk\n",
      "1084\n",
      "okkkk\n",
      "1085\n",
      "okkkk\n",
      "enter\n",
      "Scale ->  0 | Confidence Score [0.88191191] \n",
      "\n",
      "Scale ->  0 | Confidence Score [0.9113736] \n",
      "\n",
      "Scale ->  0 | Confidence Score [0.40562664] \n",
      "\n"
     ]
    },
    {
     "name": "stderr",
     "output_type": "stream",
     "text": [
      "\r",
      "t:  86%|████████████████████████████████████████████████████████         | 1086/1260 [02:07<00:21,  8.14it/s, now=None]"
     ]
    },
    {
     "name": "stdout",
     "output_type": "stream",
     "text": [
      "okkkk\n",
      "1087\n",
      "okkkk\n",
      "1088\n",
      "okkkk\n",
      "1089\n",
      "okkkk\n",
      "1090\n",
      "okkkk\n",
      "enter\n",
      "Scale ->  0 | Confidence Score [0.59297468] \n",
      "\n",
      "Scale ->  0 | Confidence Score [0.47196183] \n",
      "\n",
      "Scale ->  0 | Confidence Score [0.71668258] \n",
      "\n",
      "Scale ->  0 | Confidence Score [0.9181155] \n",
      "\n",
      "Scale ->  0 | Confidence Score [0.70144524] \n",
      "\n"
     ]
    },
    {
     "name": "stderr",
     "output_type": "stream",
     "text": [
      "\r",
      "t:  87%|████████████████████████████████████████████████████████▎        | 1091/1260 [02:08<00:20,  8.22it/s, now=None]"
     ]
    },
    {
     "name": "stdout",
     "output_type": "stream",
     "text": [
      "okkkk\n",
      "1092\n",
      "okkkk\n",
      "1093\n",
      "okkkk\n",
      "1094\n",
      "okkkk\n",
      "1095\n",
      "okkkk\n",
      "enter\n",
      "Scale ->  0 | Confidence Score [0.60150779] \n",
      "\n",
      "Scale ->  0 | Confidence Score [0.92868468] \n",
      "\n",
      "Scale ->  0 | Confidence Score [0.59523137] \n",
      "\n"
     ]
    },
    {
     "name": "stderr",
     "output_type": "stream",
     "text": [
      "\r",
      "t:  87%|████████████████████████████████████████████████████████▌        | 1096/1260 [02:08<00:19,  8.21it/s, now=None]"
     ]
    },
    {
     "name": "stdout",
     "output_type": "stream",
     "text": [
      "okkkk\n",
      "1097\n",
      "okkkk\n",
      "1098\n",
      "okkkk\n",
      "1099\n",
      "okkkk\n",
      "1100\n",
      "okkkk\n",
      "enter\n",
      "Scale ->  0 | Confidence Score [0.75943565] \n",
      "\n",
      "Scale ->  0 | Confidence Score [0.69028622] \n",
      "\n",
      "Scale ->  0 | Confidence Score [0.84552556] \n",
      "\n"
     ]
    },
    {
     "name": "stderr",
     "output_type": "stream",
     "text": [
      "\r",
      "t:  87%|████████████████████████████████████████████████████████▊        | 1101/1260 [02:09<00:19,  8.29it/s, now=None]"
     ]
    },
    {
     "name": "stdout",
     "output_type": "stream",
     "text": [
      "okkkk\n",
      "1102\n",
      "okkkk\n",
      "1103\n",
      "okkkk\n",
      "1104\n",
      "okkkk\n",
      "1105\n",
      "okkkk\n",
      "enter\n",
      "Scale ->  0 | Confidence Score [0.47683735] \n",
      "\n",
      "Scale ->  0 | Confidence Score [0.86088619] \n",
      "\n",
      "Scale ->  0 | Confidence Score [0.98133977] \n",
      "\n"
     ]
    },
    {
     "name": "stderr",
     "output_type": "stream",
     "text": [
      "\r",
      "t:  88%|█████████████████████████████████████████████████████████        | 1106/1260 [02:10<00:18,  8.36it/s, now=None]"
     ]
    },
    {
     "name": "stdout",
     "output_type": "stream",
     "text": [
      "okkkk\n",
      "1107\n",
      "okkkk\n",
      "1108\n",
      "okkkk\n",
      "1109\n",
      "okkkk\n",
      "1110\n",
      "okkkk\n",
      "enter\n",
      "Scale ->  0 | Confidence Score [0.68495192] \n",
      "\n",
      "Scale ->  0 | Confidence Score [0.45679256] \n",
      "\n",
      "Scale ->  0 | Confidence Score [0.73258528] \n",
      "\n",
      "Scale ->  0 | Confidence Score [0.70000124] \n",
      "\n"
     ]
    },
    {
     "name": "stderr",
     "output_type": "stream",
     "text": [
      "\r",
      "t:  88%|█████████████████████████████████████████████████████████▎       | 1111/1260 [02:10<00:17,  8.41it/s, now=None]"
     ]
    },
    {
     "name": "stdout",
     "output_type": "stream",
     "text": [
      "okkkk\n",
      "1112\n",
      "okkkk\n",
      "1113\n",
      "okkkk\n",
      "1114\n",
      "okkkk\n",
      "1115\n",
      "okkkk\n",
      "enter\n",
      "Scale ->  0 | Confidence Score [0.63871962] \n",
      "\n",
      "Scale ->  0 | Confidence Score [0.71223682] \n",
      "\n"
     ]
    },
    {
     "name": "stderr",
     "output_type": "stream",
     "text": [
      "\r",
      "t:  89%|█████████████████████████████████████████████████████████▌       | 1116/1260 [02:11<00:17,  8.47it/s, now=None]"
     ]
    },
    {
     "name": "stdout",
     "output_type": "stream",
     "text": [
      "okkkk\n",
      "1117\n",
      "okkkk\n",
      "1118\n",
      "okkkk\n",
      "1119\n",
      "okkkk\n",
      "1120\n",
      "okkkk\n",
      "enter\n",
      "Scale ->  0 | Confidence Score [0.6355153] \n",
      "\n",
      "Scale ->  0 | Confidence Score [0.96443686] \n",
      "\n",
      "Scale ->  0 | Confidence Score [0.42232402] \n",
      "\n"
     ]
    },
    {
     "name": "stderr",
     "output_type": "stream",
     "text": [
      "\r",
      "t:  89%|█████████████████████████████████████████████████████████▊       | 1121/1260 [02:11<00:16,  8.52it/s, now=None]"
     ]
    },
    {
     "name": "stdout",
     "output_type": "stream",
     "text": [
      "okkkk\n",
      "1122\n",
      "okkkk\n",
      "1123\n",
      "okkkk\n",
      "1124\n",
      "okkkk\n",
      "1125\n",
      "okkkk\n",
      "enter\n",
      "Scale ->  0 | Confidence Score [0.5055429] \n",
      "\n",
      "Scale ->  0 | Confidence Score [0.8044619] \n",
      "\n"
     ]
    },
    {
     "name": "stderr",
     "output_type": "stream",
     "text": [
      "\r",
      "t:  89%|██████████████████████████████████████████████████████████       | 1126/1260 [02:12<00:15,  8.56it/s, now=None]"
     ]
    },
    {
     "name": "stdout",
     "output_type": "stream",
     "text": [
      "okkkk\n",
      "1127\n",
      "okkkk\n",
      "1128\n",
      "okkkk\n",
      "1129\n",
      "okkkk\n",
      "1130\n",
      "okkkk\n",
      "enter\n",
      "Scale ->  0 | Confidence Score [0.71813014] \n",
      "\n"
     ]
    },
    {
     "name": "stderr",
     "output_type": "stream",
     "text": [
      "\r",
      "t:  90%|██████████████████████████████████████████████████████████▎      | 1131/1260 [02:13<00:15,  8.49it/s, now=None]"
     ]
    },
    {
     "name": "stdout",
     "output_type": "stream",
     "text": [
      "okkkk\n",
      "1132\n",
      "okkkk\n",
      "1133\n",
      "okkkk\n",
      "1134\n",
      "okkkk\n",
      "1135\n",
      "okkkk\n",
      "enter\n",
      "Scale ->  0 | Confidence Score [0.91061715] \n",
      "\n"
     ]
    },
    {
     "name": "stderr",
     "output_type": "stream",
     "text": [
      "\r",
      "t:  90%|██████████████████████████████████████████████████████████▌      | 1136/1260 [02:13<00:14,  8.40it/s, now=None]"
     ]
    },
    {
     "name": "stdout",
     "output_type": "stream",
     "text": [
      "okkkk\n",
      "1137\n",
      "okkkk\n",
      "1138\n",
      "okkkk\n",
      "1139\n",
      "okkkk\n",
      "1140\n",
      "okkkk\n",
      "enter\n"
     ]
    },
    {
     "name": "stderr",
     "output_type": "stream",
     "text": [
      "\r",
      "t:  91%|██████████████████████████████████████████████████████████▊      | 1141/1260 [02:14<00:14,  8.39it/s, now=None]"
     ]
    },
    {
     "name": "stdout",
     "output_type": "stream",
     "text": [
      "okkkk\n",
      "1142\n",
      "okkkk\n",
      "1143\n",
      "okkkk\n",
      "1144\n",
      "okkkk\n",
      "1145\n",
      "okkkk\n",
      "enter\n"
     ]
    },
    {
     "name": "stderr",
     "output_type": "stream",
     "text": [
      "\r",
      "t:  91%|███████████████████████████████████████████████████████████      | 1146/1260 [02:14<00:13,  8.31it/s, now=None]"
     ]
    },
    {
     "name": "stdout",
     "output_type": "stream",
     "text": [
      "okkkk\n",
      "1147\n",
      "okkkk\n",
      "1148\n",
      "okkkk\n",
      "1149\n",
      "okkkk\n",
      "1150\n",
      "okkkk\n",
      "enter\n"
     ]
    },
    {
     "name": "stderr",
     "output_type": "stream",
     "text": [
      "\r",
      "t:  91%|███████████████████████████████████████████████████████████▍     | 1151/1260 [02:15<00:13,  8.30it/s, now=None]"
     ]
    },
    {
     "name": "stdout",
     "output_type": "stream",
     "text": [
      "okkkk\n",
      "1152\n",
      "okkkk\n",
      "1153\n",
      "okkkk\n",
      "1154\n",
      "okkkk\n",
      "1155\n",
      "okkkk\n",
      "enter\n"
     ]
    },
    {
     "name": "stderr",
     "output_type": "stream",
     "text": [
      "\r",
      "t:  92%|███████████████████████████████████████████████████████████▋     | 1156/1260 [02:16<00:12,  8.39it/s, now=None]"
     ]
    },
    {
     "name": "stdout",
     "output_type": "stream",
     "text": [
      "okkkk\n",
      "1157\n",
      "okkkk\n",
      "1158\n",
      "okkkk\n",
      "1159\n",
      "okkkk\n",
      "1160\n",
      "okkkk\n",
      "enter\n"
     ]
    },
    {
     "name": "stderr",
     "output_type": "stream",
     "text": [
      "\r",
      "t:  92%|███████████████████████████████████████████████████████████▉     | 1161/1260 [02:16<00:11,  8.36it/s, now=None]"
     ]
    },
    {
     "name": "stdout",
     "output_type": "stream",
     "text": [
      "okkkk\n",
      "1162\n",
      "okkkk\n",
      "1163\n",
      "okkkk\n",
      "1164\n",
      "okkkk\n",
      "1165\n",
      "okkkk\n",
      "enter\n"
     ]
    },
    {
     "name": "stderr",
     "output_type": "stream",
     "text": [
      "\r",
      "t:  93%|████████████████████████████████████████████████████████████▏    | 1166/1260 [02:17<00:11,  8.42it/s, now=None]"
     ]
    },
    {
     "name": "stdout",
     "output_type": "stream",
     "text": [
      "okkkk\n",
      "1167\n",
      "okkkk\n",
      "1168\n",
      "okkkk\n",
      "1169\n",
      "okkkk\n",
      "1170\n",
      "okkkk\n",
      "enter\n"
     ]
    },
    {
     "name": "stderr",
     "output_type": "stream",
     "text": [
      "\r",
      "t:  93%|████████████████████████████████████████████████████████████▍    | 1171/1260 [02:17<00:10,  8.48it/s, now=None]"
     ]
    },
    {
     "name": "stdout",
     "output_type": "stream",
     "text": [
      "okkkk\n",
      "1172\n",
      "okkkk\n",
      "1173\n",
      "okkkk\n",
      "1174\n",
      "okkkk\n",
      "1175\n",
      "okkkk\n",
      "enter\n"
     ]
    },
    {
     "name": "stderr",
     "output_type": "stream",
     "text": [
      "\r",
      "t:  93%|████████████████████████████████████████████████████████████▋    | 1176/1260 [02:18<00:09,  8.49it/s, now=None]"
     ]
    },
    {
     "name": "stdout",
     "output_type": "stream",
     "text": [
      "okkkk\n",
      "1177\n",
      "okkkk\n",
      "1178\n",
      "okkkk\n",
      "1179\n",
      "okkkk\n",
      "1180\n",
      "okkkk\n",
      "enter\n"
     ]
    },
    {
     "name": "stderr",
     "output_type": "stream",
     "text": [
      "\r",
      "t:  94%|████████████████████████████████████████████████████████████▉    | 1181/1260 [02:19<00:09,  8.52it/s, now=None]"
     ]
    },
    {
     "name": "stdout",
     "output_type": "stream",
     "text": [
      "okkkk\n",
      "1182\n",
      "okkkk\n",
      "1183\n",
      "okkkk\n",
      "1184\n",
      "okkkk\n",
      "1185\n",
      "okkkk\n",
      "enter\n"
     ]
    },
    {
     "name": "stderr",
     "output_type": "stream",
     "text": [
      "\r",
      "t:  94%|█████████████████████████████████████████████████████████████▏   | 1186/1260 [02:19<00:08,  8.52it/s, now=None]"
     ]
    },
    {
     "name": "stdout",
     "output_type": "stream",
     "text": [
      "okkkk\n",
      "1187\n",
      "okkkk\n",
      "1188\n",
      "okkkk\n",
      "1189\n",
      "okkkk\n",
      "1190\n",
      "okkkk\n",
      "enter\n"
     ]
    },
    {
     "name": "stderr",
     "output_type": "stream",
     "text": [
      "\r",
      "t:  95%|█████████████████████████████████████████████████████████████▍   | 1191/1260 [02:20<00:08,  8.55it/s, now=None]"
     ]
    },
    {
     "name": "stdout",
     "output_type": "stream",
     "text": [
      "okkkk\n",
      "1192\n",
      "okkkk\n",
      "1193\n",
      "okkkk\n",
      "1194\n",
      "okkkk\n",
      "1195\n",
      "okkkk\n",
      "enter\n"
     ]
    },
    {
     "name": "stderr",
     "output_type": "stream",
     "text": [
      "\r",
      "t:  95%|█████████████████████████████████████████████████████████████▋   | 1196/1260 [02:20<00:07,  8.59it/s, now=None]"
     ]
    },
    {
     "name": "stdout",
     "output_type": "stream",
     "text": [
      "okkkk\n",
      "1197\n",
      "okkkk\n",
      "1198\n",
      "okkkk\n",
      "1199\n",
      "okkkk\n",
      "1200\n",
      "okkkk\n",
      "enter\n"
     ]
    },
    {
     "name": "stderr",
     "output_type": "stream",
     "text": [
      "\r",
      "t:  95%|█████████████████████████████████████████████████████████████▉   | 1201/1260 [02:21<00:07,  8.41it/s, now=None]"
     ]
    },
    {
     "name": "stdout",
     "output_type": "stream",
     "text": [
      "okkkk\n",
      "1202\n",
      "okkkk\n",
      "1203\n",
      "okkkk\n",
      "1204\n",
      "okkkk\n",
      "1205\n",
      "okkkk\n",
      "enter\n"
     ]
    },
    {
     "name": "stderr",
     "output_type": "stream",
     "text": [
      "\r",
      "t:  96%|██████████████████████████████████████████████████████████████▏  | 1206/1260 [02:22<00:06,  8.09it/s, now=None]"
     ]
    },
    {
     "name": "stdout",
     "output_type": "stream",
     "text": [
      "okkkk\n",
      "1207\n",
      "okkkk\n",
      "1208\n",
      "okkkk\n",
      "1209\n",
      "okkkk\n",
      "1210\n",
      "okkkk\n",
      "enter\n"
     ]
    },
    {
     "name": "stderr",
     "output_type": "stream",
     "text": [
      "\r",
      "t:  96%|██████████████████████████████████████████████████████████████▍  | 1211/1260 [02:22<00:06,  7.92it/s, now=None]"
     ]
    },
    {
     "name": "stdout",
     "output_type": "stream",
     "text": [
      "okkkk\n",
      "1212\n",
      "okkkk\n",
      "1213\n",
      "okkkk\n",
      "1214\n",
      "okkkk\n",
      "1215\n",
      "okkkk\n",
      "enter\n"
     ]
    },
    {
     "name": "stderr",
     "output_type": "stream",
     "text": [
      "\r",
      "t:  97%|██████████████████████████████████████████████████████████████▋  | 1216/1260 [02:23<00:05,  7.68it/s, now=None]"
     ]
    },
    {
     "name": "stdout",
     "output_type": "stream",
     "text": [
      "okkkk\n",
      "1217\n",
      "okkkk\n",
      "1218\n",
      "okkkk\n",
      "1219\n",
      "okkkk\n",
      "1220\n",
      "okkkk\n",
      "enter\n"
     ]
    },
    {
     "name": "stderr",
     "output_type": "stream",
     "text": [
      "\r",
      "t:  97%|██████████████████████████████████████████████████████████████▉  | 1221/1260 [02:24<00:05,  7.67it/s, now=None]"
     ]
    },
    {
     "name": "stdout",
     "output_type": "stream",
     "text": [
      "okkkk\n",
      "1222\n",
      "okkkk\n",
      "1223\n",
      "okkkk\n",
      "1224\n",
      "okkkk\n",
      "1225\n",
      "okkkk\n",
      "enter\n"
     ]
    },
    {
     "name": "stderr",
     "output_type": "stream",
     "text": [
      "\r",
      "t:  97%|███████████████████████████████████████████████████████████████▏ | 1226/1260 [02:24<00:04,  7.57it/s, now=None]"
     ]
    },
    {
     "name": "stdout",
     "output_type": "stream",
     "text": [
      "okkkk\n",
      "1227\n",
      "okkkk\n",
      "1228\n",
      "okkkk\n",
      "1229\n",
      "okkkk\n",
      "1230\n",
      "okkkk\n",
      "enter\n"
     ]
    },
    {
     "name": "stderr",
     "output_type": "stream",
     "text": [
      "\r",
      "t:  98%|███████████████████████████████████████████████████████████████▌ | 1231/1260 [02:25<00:03,  7.74it/s, now=None]"
     ]
    },
    {
     "name": "stdout",
     "output_type": "stream",
     "text": [
      "okkkk\n",
      "1232\n",
      "okkkk\n",
      "1233\n",
      "okkkk\n",
      "1234\n",
      "okkkk\n",
      "1235\n",
      "okkkk\n",
      "enter\n"
     ]
    },
    {
     "name": "stderr",
     "output_type": "stream",
     "text": [
      "\r",
      "t:  98%|███████████████████████████████████████████████████████████████▊ | 1236/1260 [02:25<00:03,  7.93it/s, now=None]"
     ]
    },
    {
     "name": "stdout",
     "output_type": "stream",
     "text": [
      "okkkk\n",
      "1237\n",
      "okkkk\n",
      "1238\n",
      "okkkk\n",
      "1239\n",
      "okkkk\n",
      "1240\n",
      "okkkk\n",
      "enter\n"
     ]
    },
    {
     "name": "stderr",
     "output_type": "stream",
     "text": [
      "\r",
      "t:  98%|████████████████████████████████████████████████████████████████ | 1241/1260 [02:26<00:02,  8.10it/s, now=None]"
     ]
    },
    {
     "name": "stdout",
     "output_type": "stream",
     "text": [
      "okkkk\n",
      "1242\n",
      "okkkk\n",
      "1243\n",
      "okkkk\n",
      "1244\n",
      "okkkk\n",
      "1245\n",
      "okkkk\n",
      "enter\n"
     ]
    },
    {
     "name": "stderr",
     "output_type": "stream",
     "text": [
      "\r",
      "t:  99%|████████████████████████████████████████████████████████████████▎| 1246/1260 [02:27<00:01,  8.19it/s, now=None]"
     ]
    },
    {
     "name": "stdout",
     "output_type": "stream",
     "text": [
      "okkkk\n",
      "1247\n",
      "okkkk\n",
      "1248\n",
      "okkkk\n",
      "1249\n",
      "okkkk\n",
      "1250\n",
      "okkkk\n",
      "enter\n"
     ]
    },
    {
     "name": "stderr",
     "output_type": "stream",
     "text": [
      "\r",
      "t:  99%|████████████████████████████████████████████████████████████████▌| 1251/1260 [02:27<00:01,  7.76it/s, now=None]"
     ]
    },
    {
     "name": "stdout",
     "output_type": "stream",
     "text": [
      "okkkk\n",
      "1252\n",
      "okkkk\n",
      "1253\n",
      "okkkk\n",
      "1254\n",
      "okkkk\n",
      "1255\n",
      "okkkk\n",
      "enter\n"
     ]
    },
    {
     "name": "stderr",
     "output_type": "stream",
     "text": [
      "\r",
      "t: 100%|████████████████████████████████████████████████████████████████▊| 1256/1260 [02:28<00:00,  7.92it/s, now=None]"
     ]
    },
    {
     "name": "stdout",
     "output_type": "stream",
     "text": [
      "okkkk\n",
      "1257\n",
      "okkkk\n",
      "1258\n",
      "okkkk\n",
      "1259\n",
      "okkkk\n",
      "1260\n",
      "okkkk\n",
      "enter\n"
     ]
    },
    {
     "name": "stderr",
     "output_type": "stream",
     "text": [
      "\r",
      "                                                                                                                       "
     ]
    },
    {
     "name": "stdout",
     "output_type": "stream",
     "text": [
      "okkkk\n"
     ]
    },
    {
     "name": "stderr",
     "output_type": "stream",
     "text": [
      "\r"
     ]
    },
    {
     "name": "stdout",
     "output_type": "stream",
     "text": [
      "Moviepy - Done !\n",
      "Moviepy - video ready resul3.mp4\n",
      "Wall time: 2min 29s\n"
     ]
    }
   ],
   "source": [
    "\n",
    "\n",
    "import imageio\n",
    "#imageio.plugins.ffmpeg.download()\n",
    "from moviepy.editor import VideoFileClip\n",
    "from IPython.display import HTML\n",
    "empty_frame_counter = 0\n",
    "last_sc = np.array([])\n",
    "last_rects = np.array([])\n",
    "output = 'resul3.mp4'\n",
    "clip = VideoFileClip(\"original.mp4\")\n",
    "video_clip = clip.fl_image(process_image)\n",
    "%time video_clip.write_videofile(output, audio=False)"
   ]
  },
  {
   "cell_type": "code",
   "execution_count": null,
   "id": "c3956883",
   "metadata": {},
   "outputs": [],
   "source": []
  },
  {
   "cell_type": "code",
   "execution_count": null,
   "id": "44869f43",
   "metadata": {},
   "outputs": [],
   "source": []
  }
 ],
 "metadata": {
  "kernelspec": {
   "display_name": "Python 3",
   "language": "python",
   "name": "python3"
  },
  "language_info": {
   "codemirror_mode": {
    "name": "ipython",
    "version": 3
   },
   "file_extension": ".py",
   "mimetype": "text/x-python",
   "name": "python",
   "nbconvert_exporter": "python",
   "pygments_lexer": "ipython3",
   "version": "3.8.8"
  }
 },
 "nbformat": 4,
 "nbformat_minor": 5
}
